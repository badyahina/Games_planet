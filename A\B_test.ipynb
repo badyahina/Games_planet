{
 "cells": [
  {
   "cell_type": "markdown",
   "metadata": {},
   "source": [
    "Вместе с отделом маркетинга мы подготовили список гипотез для увеличения выручки.\n",
    "Приоритизируйте гипотезы, запустите A/B-тест и проанализируйте результаты.\n",
    "Имеем 3 таблицы.\n",
    "1я с определением гипотез\n",
    "2я с информацией о заказах\n",
    "файл с группой А/Б теста и пользователях."
   ]
  },
  {
   "cell_type": "markdown",
   "metadata": {},
   "source": [
    "<span style=\"color:#2E8B57\"> \n",
    "    Часть 1. Приоритизация гипотез.\n",
    "В файле /datasets/hypothesis.csv 9 гипотез по увеличению выручки интернет-магазина с указанными параметрами Reach, Impact, Confidence, Effort.\n",
    "    \n",
    "Что будем делать:\n",
    "1. Применим фреймворк ICE для приоритизации гипотез. Отсортируем их по убыванию приоритета.\n",
    "2. Применим фреймворк RICE для приоритизации гипотез. Отсортируем их по убыванию приоритета.\n",
    "3. Укажим, как изменилась приоритизация гипотез при применении RICE вместо ICE. \n",
    "    \n",
    "Часть 2. Анализ A/B-теста\n",
    "    \n",
    "Провели A/B-тест и получили результаты, которые описаны в файлах /datasets/orders.csv и /datasets/visitors.csv.\n",
    "\n",
    "Проанализируем A/B-тест:\n",
    "    \n",
    "1. Построим график кумулятивной выручки по группам. Сделаем выводы и предположения.\n",
    "2. Построим график кумулятивного среднего чека по группам. Сделаем выводы и предположения.\n",
    "3. Построим график относительного изменения кумулятивного среднего чека группы B к группе A. Сделаем выводы и предположения.\n",
    "4. Построим график кумулятивного среднего количества заказов на посетителя по группам. Сделаем выводы и предположения.\n",
    "5. Построим график относительного изменения кумулятивного среднего количества заказов на посетителя группы B к группе A. Сделаем выводы и предположения.\n",
    "6. Построем точечный график количества заказов по пользователям. Сделаем выводы и предположения.\n",
    "7. Посчитаем 95-й и 99-й перцентили количества заказов на пользователя. Выберем границу для определения аномальных пользователей.\n",
    "8. Построим точечный график стоимостей заказов. Сделаем выводы и предположения.\n",
    "9. Посчитаим 95-й и 99-й перцентили стоимости заказов. Выберем границу для определения аномальных заказов.\n",
    "10. Посчитаем статистическую значимость различий в среднем количестве заказов на посетителя между группами по «сырым» данным. Сделаем выводы и предположения.\n",
    "11. Посчитаем статистическую значимость различий в среднем чеке заказа между группами по «сырым» данным. Сделаем выводы и предположения.\n",
    "12. Посчитаем статистическую значимость различий в среднем количестве заказов на посетителя между группами по «очищенным» данным. Сделаем выводы и предположения.\n",
    "13. Посчитаем статистическую значимость различий в среднем чеке заказа между группами по «очищенным» данным. Сделаем выводы и предположения.\n",
    "    \n",
    "Примим решение по результатам теста. </span>"
   ]
  },
  {
   "cell_type": "markdown",
   "metadata": {},
   "source": [
    "__Часть 1. Приоритизация гипотез.__"
   ]
  },
  {
   "cell_type": "markdown",
   "metadata": {},
   "source": [
    "Сначало преобразуем данные.\n"
   ]
  },
  {
   "cell_type": "code",
   "execution_count": 1,
   "metadata": {},
   "outputs": [
    {
     "data": {
      "text/html": [
       "<div>\n",
       "<style scoped>\n",
       "    .dataframe tbody tr th:only-of-type {\n",
       "        vertical-align: middle;\n",
       "    }\n",
       "\n",
       "    .dataframe tbody tr th {\n",
       "        vertical-align: top;\n",
       "    }\n",
       "\n",
       "    .dataframe thead th {\n",
       "        text-align: right;\n",
       "    }\n",
       "</style>\n",
       "<table border=\"1\" class=\"dataframe\">\n",
       "  <thead>\n",
       "    <tr style=\"text-align: right;\">\n",
       "      <th></th>\n",
       "      <th>hypothesis</th>\n",
       "      <th>reach</th>\n",
       "      <th>impact</th>\n",
       "      <th>confidence</th>\n",
       "      <th>efforts</th>\n",
       "    </tr>\n",
       "  </thead>\n",
       "  <tbody>\n",
       "    <tr>\n",
       "      <th>0</th>\n",
       "      <td>Добавить два новых канала привлечения трафика, что позволит привлекать на 30% больше пользователей</td>\n",
       "      <td>3</td>\n",
       "      <td>10</td>\n",
       "      <td>8</td>\n",
       "      <td>6</td>\n",
       "    </tr>\n",
       "    <tr>\n",
       "      <th>1</th>\n",
       "      <td>Запустить собственную службу доставки, что сократит срок доставки заказов</td>\n",
       "      <td>2</td>\n",
       "      <td>5</td>\n",
       "      <td>4</td>\n",
       "      <td>10</td>\n",
       "    </tr>\n",
       "    <tr>\n",
       "      <th>2</th>\n",
       "      <td>Добавить блоки рекомендаций товаров на сайт интернет магазина, чтобы повысить конверсию и средний чек заказа</td>\n",
       "      <td>8</td>\n",
       "      <td>3</td>\n",
       "      <td>7</td>\n",
       "      <td>3</td>\n",
       "    </tr>\n",
       "    <tr>\n",
       "      <th>3</th>\n",
       "      <td>Изменить структура категорий, что увеличит конверсию, т.к. пользователи быстрее найдут нужный товар</td>\n",
       "      <td>8</td>\n",
       "      <td>3</td>\n",
       "      <td>3</td>\n",
       "      <td>8</td>\n",
       "    </tr>\n",
       "    <tr>\n",
       "      <th>4</th>\n",
       "      <td>Изменить цвет фона главной страницы, чтобы увеличить вовлеченность пользователей</td>\n",
       "      <td>3</td>\n",
       "      <td>1</td>\n",
       "      <td>1</td>\n",
       "      <td>1</td>\n",
       "    </tr>\n",
       "    <tr>\n",
       "      <th>5</th>\n",
       "      <td>Добавить страницу отзывов клиентов о магазине, что позволит увеличить количество заказов</td>\n",
       "      <td>3</td>\n",
       "      <td>2</td>\n",
       "      <td>2</td>\n",
       "      <td>3</td>\n",
       "    </tr>\n",
       "    <tr>\n",
       "      <th>6</th>\n",
       "      <td>Показать на главной странице баннеры с актуальными акциями и распродажами, чтобы увеличить конверсию</td>\n",
       "      <td>5</td>\n",
       "      <td>3</td>\n",
       "      <td>8</td>\n",
       "      <td>3</td>\n",
       "    </tr>\n",
       "    <tr>\n",
       "      <th>7</th>\n",
       "      <td>Добавить форму подписки на все основные страницы, чтобы собрать базу клиентов для email-рассылок</td>\n",
       "      <td>10</td>\n",
       "      <td>7</td>\n",
       "      <td>8</td>\n",
       "      <td>5</td>\n",
       "    </tr>\n",
       "    <tr>\n",
       "      <th>8</th>\n",
       "      <td>Запустить акцию, дающую скидку на товар в день рождения</td>\n",
       "      <td>1</td>\n",
       "      <td>9</td>\n",
       "      <td>9</td>\n",
       "      <td>5</td>\n",
       "    </tr>\n",
       "  </tbody>\n",
       "</table>\n",
       "</div>"
      ],
      "text/plain": [
       "                                                                                                     hypothesis  \\\n",
       "0  Добавить два новых канала привлечения трафика, что позволит привлекать на 30% больше пользователей             \n",
       "1  Запустить собственную службу доставки, что сократит срок доставки заказов                                      \n",
       "2  Добавить блоки рекомендаций товаров на сайт интернет магазина, чтобы повысить конверсию и средний чек заказа   \n",
       "3  Изменить структура категорий, что увеличит конверсию, т.к. пользователи быстрее найдут нужный товар            \n",
       "4  Изменить цвет фона главной страницы, чтобы увеличить вовлеченность пользователей                               \n",
       "5  Добавить страницу отзывов клиентов о магазине, что позволит увеличить количество заказов                       \n",
       "6  Показать на главной странице баннеры с актуальными акциями и распродажами, чтобы увеличить конверсию           \n",
       "7  Добавить форму подписки на все основные страницы, чтобы собрать базу клиентов для email-рассылок               \n",
       "8  Запустить акцию, дающую скидку на товар в день рождения                                                        \n",
       "\n",
       "   reach  impact  confidence  efforts  \n",
       "0  3      10      8           6        \n",
       "1  2      5       4           10       \n",
       "2  8      3       7           3        \n",
       "3  8      3       3           8        \n",
       "4  3      1       1           1        \n",
       "5  3      2       2           3        \n",
       "6  5      3       8           3        \n",
       "7  10     7       8           5        \n",
       "8  1      9       9           5        "
      ]
     },
     "execution_count": 1,
     "metadata": {},
     "output_type": "execute_result"
    }
   ],
   "source": [
    "import pandas as pd\n",
    "\n",
    "data = pd.read_csv('/datasets/hypothesis.csv', sep=',')\n",
    "data.columns = [x.lower().replace(' ', '_') for x in data.columns]\n",
    "pd.options.display.max_colwidth = 1\n",
    "data\n"
   ]
  },
  {
   "cell_type": "markdown",
   "metadata": {},
   "source": [
    "Примените фреймворк ICE для приоритизации гипотез. Отсортируем их по убыванию приоритета."
   ]
  },
  {
   "cell_type": "code",
   "execution_count": 2,
   "metadata": {},
   "outputs": [
    {
     "data": {
      "text/html": [
       "<style  type=\"text/css\" >\n",
       "</style><table id=\"T_3a930_\" ><thead>    <tr>        <th class=\"blank level0\" ></th>        <th class=\"col_heading level0 col0\" >hypothesis</th>        <th class=\"col_heading level0 col1\" >ICE</th>    </tr></thead><tbody>\n",
       "                <tr>\n",
       "                        <th id=\"T_3a930_level0_row0\" class=\"row_heading level0 row0\" >8</th>\n",
       "                        <td id=\"T_3a930_row0_col0\" class=\"data row0 col0\" >Запустить акцию, дающую скидку на товар в день рождения</td>\n",
       "                        <td id=\"T_3a930_row0_col1\" class=\"data row0 col1\" >16.200</td>\n",
       "            </tr>\n",
       "            <tr>\n",
       "                        <th id=\"T_3a930_level0_row1\" class=\"row_heading level0 row1\" >0</th>\n",
       "                        <td id=\"T_3a930_row1_col0\" class=\"data row1 col0\" >Добавить два новых канала привлечения трафика, что позволит привлекать на 30% больше пользователей</td>\n",
       "                        <td id=\"T_3a930_row1_col1\" class=\"data row1 col1\" >13.333</td>\n",
       "            </tr>\n",
       "            <tr>\n",
       "                        <th id=\"T_3a930_level0_row2\" class=\"row_heading level0 row2\" >7</th>\n",
       "                        <td id=\"T_3a930_row2_col0\" class=\"data row2 col0\" >Добавить форму подписки на все основные страницы, чтобы собрать базу клиентов для email-рассылок</td>\n",
       "                        <td id=\"T_3a930_row2_col1\" class=\"data row2 col1\" >11.200</td>\n",
       "            </tr>\n",
       "            <tr>\n",
       "                        <th id=\"T_3a930_level0_row3\" class=\"row_heading level0 row3\" >6</th>\n",
       "                        <td id=\"T_3a930_row3_col0\" class=\"data row3 col0\" >Показать на главной странице баннеры с актуальными акциями и распродажами, чтобы увеличить конверсию</td>\n",
       "                        <td id=\"T_3a930_row3_col1\" class=\"data row3 col1\" >8.000</td>\n",
       "            </tr>\n",
       "            <tr>\n",
       "                        <th id=\"T_3a930_level0_row4\" class=\"row_heading level0 row4\" >2</th>\n",
       "                        <td id=\"T_3a930_row4_col0\" class=\"data row4 col0\" >Добавить блоки рекомендаций товаров на сайт интернет магазина, чтобы повысить конверсию и средний чек заказа</td>\n",
       "                        <td id=\"T_3a930_row4_col1\" class=\"data row4 col1\" >7.000</td>\n",
       "            </tr>\n",
       "            <tr>\n",
       "                        <th id=\"T_3a930_level0_row5\" class=\"row_heading level0 row5\" >1</th>\n",
       "                        <td id=\"T_3a930_row5_col0\" class=\"data row5 col0\" >Запустить собственную службу доставки, что сократит срок доставки заказов</td>\n",
       "                        <td id=\"T_3a930_row5_col1\" class=\"data row5 col1\" >2.000</td>\n",
       "            </tr>\n",
       "            <tr>\n",
       "                        <th id=\"T_3a930_level0_row6\" class=\"row_heading level0 row6\" >5</th>\n",
       "                        <td id=\"T_3a930_row6_col0\" class=\"data row6 col0\" >Добавить страницу отзывов клиентов о магазине, что позволит увеличить количество заказов</td>\n",
       "                        <td id=\"T_3a930_row6_col1\" class=\"data row6 col1\" >1.333</td>\n",
       "            </tr>\n",
       "            <tr>\n",
       "                        <th id=\"T_3a930_level0_row7\" class=\"row_heading level0 row7\" >3</th>\n",
       "                        <td id=\"T_3a930_row7_col0\" class=\"data row7 col0\" >Изменить структура категорий, что увеличит конверсию, т.к. пользователи быстрее найдут нужный товар</td>\n",
       "                        <td id=\"T_3a930_row7_col1\" class=\"data row7 col1\" >1.125</td>\n",
       "            </tr>\n",
       "            <tr>\n",
       "                        <th id=\"T_3a930_level0_row8\" class=\"row_heading level0 row8\" >4</th>\n",
       "                        <td id=\"T_3a930_row8_col0\" class=\"data row8 col0\" >Изменить цвет фона главной страницы, чтобы увеличить вовлеченность пользователей</td>\n",
       "                        <td id=\"T_3a930_row8_col1\" class=\"data row8 col1\" >1.000</td>\n",
       "            </tr>\n",
       "    </tbody></table>"
      ],
      "text/plain": [
       "<pandas.io.formats.style.Styler at 0x7f67782fca30>"
      ]
     },
     "execution_count": 2,
     "metadata": {},
     "output_type": "execute_result"
    }
   ],
   "source": [
    "\n",
    "data['ICE']=(data['impact']*data['confidence'])/data['efforts']\n",
    "data[['hypothesis', 'ICE']].sort_values(by='ICE', ascending=False).style.format('{:.3f}', subset='ICE')\n"
   ]
  },
  {
   "cell_type": "markdown",
   "metadata": {},
   "source": [
    "Примените фреймворк RICE для приоритизации гипотез. Отсортируем их по убыванию приоритета."
   ]
  },
  {
   "cell_type": "code",
   "execution_count": 3,
   "metadata": {},
   "outputs": [
    {
     "data": {
      "text/html": [
       "<div>\n",
       "<style scoped>\n",
       "    .dataframe tbody tr th:only-of-type {\n",
       "        vertical-align: middle;\n",
       "    }\n",
       "\n",
       "    .dataframe tbody tr th {\n",
       "        vertical-align: top;\n",
       "    }\n",
       "\n",
       "    .dataframe thead th {\n",
       "        text-align: right;\n",
       "    }\n",
       "</style>\n",
       "<table border=\"1\" class=\"dataframe\">\n",
       "  <thead>\n",
       "    <tr style=\"text-align: right;\">\n",
       "      <th></th>\n",
       "      <th>hypothesis</th>\n",
       "      <th>RICE</th>\n",
       "    </tr>\n",
       "  </thead>\n",
       "  <tbody>\n",
       "    <tr>\n",
       "      <th>7</th>\n",
       "      <td>Добавить форму подписки на все основные страницы, чтобы собрать базу клиентов для email-рассылок</td>\n",
       "      <td>112.0</td>\n",
       "    </tr>\n",
       "    <tr>\n",
       "      <th>2</th>\n",
       "      <td>Добавить блоки рекомендаций товаров на сайт интернет магазина, чтобы повысить конверсию и средний чек заказа</td>\n",
       "      <td>56.0</td>\n",
       "    </tr>\n",
       "    <tr>\n",
       "      <th>0</th>\n",
       "      <td>Добавить два новых канала привлечения трафика, что позволит привлекать на 30% больше пользователей</td>\n",
       "      <td>40.0</td>\n",
       "    </tr>\n",
       "    <tr>\n",
       "      <th>6</th>\n",
       "      <td>Показать на главной странице баннеры с актуальными акциями и распродажами, чтобы увеличить конверсию</td>\n",
       "      <td>40.0</td>\n",
       "    </tr>\n",
       "    <tr>\n",
       "      <th>8</th>\n",
       "      <td>Запустить акцию, дающую скидку на товар в день рождения</td>\n",
       "      <td>16.2</td>\n",
       "    </tr>\n",
       "    <tr>\n",
       "      <th>3</th>\n",
       "      <td>Изменить структура категорий, что увеличит конверсию, т.к. пользователи быстрее найдут нужный товар</td>\n",
       "      <td>9.0</td>\n",
       "    </tr>\n",
       "    <tr>\n",
       "      <th>1</th>\n",
       "      <td>Запустить собственную службу доставки, что сократит срок доставки заказов</td>\n",
       "      <td>4.0</td>\n",
       "    </tr>\n",
       "    <tr>\n",
       "      <th>5</th>\n",
       "      <td>Добавить страницу отзывов клиентов о магазине, что позволит увеличить количество заказов</td>\n",
       "      <td>4.0</td>\n",
       "    </tr>\n",
       "    <tr>\n",
       "      <th>4</th>\n",
       "      <td>Изменить цвет фона главной страницы, чтобы увеличить вовлеченность пользователей</td>\n",
       "      <td>3.0</td>\n",
       "    </tr>\n",
       "  </tbody>\n",
       "</table>\n",
       "</div>"
      ],
      "text/plain": [
       "                                                                                                     hypothesis  \\\n",
       "7  Добавить форму подписки на все основные страницы, чтобы собрать базу клиентов для email-рассылок               \n",
       "2  Добавить блоки рекомендаций товаров на сайт интернет магазина, чтобы повысить конверсию и средний чек заказа   \n",
       "0  Добавить два новых канала привлечения трафика, что позволит привлекать на 30% больше пользователей             \n",
       "6  Показать на главной странице баннеры с актуальными акциями и распродажами, чтобы увеличить конверсию           \n",
       "8  Запустить акцию, дающую скидку на товар в день рождения                                                        \n",
       "3  Изменить структура категорий, что увеличит конверсию, т.к. пользователи быстрее найдут нужный товар            \n",
       "1  Запустить собственную службу доставки, что сократит срок доставки заказов                                      \n",
       "5  Добавить страницу отзывов клиентов о магазине, что позволит увеличить количество заказов                       \n",
       "4  Изменить цвет фона главной страницы, чтобы увеличить вовлеченность пользователей                               \n",
       "\n",
       "    RICE  \n",
       "7  112.0  \n",
       "2  56.0   \n",
       "0  40.0   \n",
       "6  40.0   \n",
       "8  16.2   \n",
       "3  9.0    \n",
       "1  4.0    \n",
       "5  4.0    \n",
       "4  3.0    "
      ]
     },
     "metadata": {},
     "output_type": "display_data"
    }
   ],
   "source": [
    "data['RICE']=(data['impact']*data['confidence']*data['reach'])/data['efforts']\n",
    "display(data[['hypothesis', 'RICE']].sort_values(by='RICE', ascending=False))"
   ]
  },
  {
   "cell_type": "markdown",
   "metadata": {},
   "source": [
    "У 7 гипотезы самое большое колличество затронутых пользователей из-за чего в RICE находиться на первом месте, а у 8й самый большой еффект влияния, по этому в ICE на первом месте. "
   ]
  },
  {
   "cell_type": "markdown",
   "metadata": {},
   "source": [
    "__Часть 2. Анализ A/B-теста__"
   ]
  },
  {
   "cell_type": "markdown",
   "metadata": {},
   "source": [
    "Мы провели A/B-тест и получили результаты, которые описаны в файлах /datasets/orders.csv и /datasets/visitors.csv."
   ]
  },
  {
   "cell_type": "markdown",
   "metadata": {},
   "source": [
    "<span style=\"color:#2E8B57\"> Проведем преобразования данных"
   ]
  },
  {
   "cell_type": "code",
   "execution_count": 4,
   "metadata": {},
   "outputs": [],
   "source": [
    "import pandas as pd\n",
    "from scipy import stats as st\n",
    "import numpy as np\n",
    "import matplotlib.pyplot as plt\n",
    "import seaborn\n",
    "import matplotlib as mpl\n",
    "import seaborn as sns\n",
    "import datetime as dt\n",
    "from pandas.plotting import register_matplotlib_converters\n",
    "import warnings\n",
    "import scipy.stats as stats\n",
    "\n",
    "# конвертеры, которые позволяют использовать типы pandas в matplotlib  \n",
    "register_matplotlib_converters()\n",
    "\n",
    "orders = pd.read_csv('/datasets/orders.csv', sep=',')\n",
    "orders['date'] = orders['date'].map(\n",
    "    lambda x: dt.datetime.strptime(x, '%Y-%m-%d')\n",
    ")\n",
    "\n",
    "visitors = pd.read_csv('/datasets/visitors.csv', sep=',')\n",
    "visitors['date'] = visitors['date'].map(\n",
    "    lambda x: dt.datetime.strptime(x, '%Y-%m-%d')\n",
    ")"
   ]
  },
  {
   "cell_type": "code",
   "execution_count": 5,
   "metadata": {},
   "outputs": [
    {
     "data": {
      "text/html": [
       "<div>\n",
       "<style scoped>\n",
       "    .dataframe tbody tr th:only-of-type {\n",
       "        vertical-align: middle;\n",
       "    }\n",
       "\n",
       "    .dataframe tbody tr th {\n",
       "        vertical-align: top;\n",
       "    }\n",
       "\n",
       "    .dataframe thead th {\n",
       "        text-align: right;\n",
       "    }\n",
       "</style>\n",
       "<table border=\"1\" class=\"dataframe\">\n",
       "  <thead>\n",
       "    <tr style=\"text-align: right;\">\n",
       "      <th></th>\n",
       "      <th>transactionId</th>\n",
       "      <th>visitorId</th>\n",
       "      <th>date</th>\n",
       "      <th>revenue</th>\n",
       "      <th>group</th>\n",
       "    </tr>\n",
       "  </thead>\n",
       "  <tbody>\n",
       "    <tr>\n",
       "      <th>0</th>\n",
       "      <td>3667963787</td>\n",
       "      <td>3312258926</td>\n",
       "      <td>2019-08-15</td>\n",
       "      <td>1650</td>\n",
       "      <td>B</td>\n",
       "    </tr>\n",
       "    <tr>\n",
       "      <th>1</th>\n",
       "      <td>2804400009</td>\n",
       "      <td>3642806036</td>\n",
       "      <td>2019-08-15</td>\n",
       "      <td>730</td>\n",
       "      <td>B</td>\n",
       "    </tr>\n",
       "    <tr>\n",
       "      <th>2</th>\n",
       "      <td>2961555356</td>\n",
       "      <td>4069496402</td>\n",
       "      <td>2019-08-15</td>\n",
       "      <td>400</td>\n",
       "      <td>A</td>\n",
       "    </tr>\n",
       "    <tr>\n",
       "      <th>3</th>\n",
       "      <td>3797467345</td>\n",
       "      <td>1196621759</td>\n",
       "      <td>2019-08-15</td>\n",
       "      <td>9759</td>\n",
       "      <td>B</td>\n",
       "    </tr>\n",
       "    <tr>\n",
       "      <th>4</th>\n",
       "      <td>2282983706</td>\n",
       "      <td>2322279887</td>\n",
       "      <td>2019-08-15</td>\n",
       "      <td>2308</td>\n",
       "      <td>B</td>\n",
       "    </tr>\n",
       "  </tbody>\n",
       "</table>\n",
       "</div>"
      ],
      "text/plain": [
       "   transactionId   visitorId       date  revenue group\n",
       "0  3667963787     3312258926 2019-08-15  1650     B   \n",
       "1  2804400009     3642806036 2019-08-15  730      B   \n",
       "2  2961555356     4069496402 2019-08-15  400      A   \n",
       "3  3797467345     1196621759 2019-08-15  9759     B   \n",
       "4  2282983706     2322279887 2019-08-15  2308     B   "
      ]
     },
     "execution_count": 5,
     "metadata": {},
     "output_type": "execute_result"
    }
   ],
   "source": [
    "orders.head()"
   ]
  },
  {
   "cell_type": "code",
   "execution_count": 6,
   "metadata": {},
   "outputs": [
    {
     "data": {
      "text/html": [
       "<div>\n",
       "<style scoped>\n",
       "    .dataframe tbody tr th:only-of-type {\n",
       "        vertical-align: middle;\n",
       "    }\n",
       "\n",
       "    .dataframe tbody tr th {\n",
       "        vertical-align: top;\n",
       "    }\n",
       "\n",
       "    .dataframe thead th {\n",
       "        text-align: right;\n",
       "    }\n",
       "</style>\n",
       "<table border=\"1\" class=\"dataframe\">\n",
       "  <thead>\n",
       "    <tr style=\"text-align: right;\">\n",
       "      <th></th>\n",
       "      <th>visitorId</th>\n",
       "      <th>group</th>\n",
       "    </tr>\n",
       "  </thead>\n",
       "  <tbody>\n",
       "    <tr>\n",
       "      <th>0</th>\n",
       "      <td>5114589</td>\n",
       "      <td>1</td>\n",
       "    </tr>\n",
       "    <tr>\n",
       "      <th>1</th>\n",
       "      <td>6958315</td>\n",
       "      <td>1</td>\n",
       "    </tr>\n",
       "    <tr>\n",
       "      <th>2</th>\n",
       "      <td>8300375</td>\n",
       "      <td>2</td>\n",
       "    </tr>\n",
       "    <tr>\n",
       "      <th>3</th>\n",
       "      <td>11685486</td>\n",
       "      <td>1</td>\n",
       "    </tr>\n",
       "    <tr>\n",
       "      <th>4</th>\n",
       "      <td>39475350</td>\n",
       "      <td>1</td>\n",
       "    </tr>\n",
       "  </tbody>\n",
       "</table>\n",
       "</div>"
      ],
      "text/plain": [
       "   visitorId  group\n",
       "0  5114589    1    \n",
       "1  6958315    1    \n",
       "2  8300375    2    \n",
       "3  11685486   1    \n",
       "4  39475350   1    "
      ]
     },
     "metadata": {},
     "output_type": "display_data"
    },
    {
     "data": {
      "text/plain": [
       "'Число пользователей находящихся в двух группах:'"
      ]
     },
     "metadata": {},
     "output_type": "display_data"
    },
    {
     "data": {
      "text/plain": [
       "58"
      ]
     },
     "metadata": {},
     "output_type": "display_data"
    }
   ],
   "source": [
    "dubli_orders=orders.pivot_table(index='visitorId', values='group', aggfunc='nunique').reset_index()\n",
    "display(dubli_orders.head())\n",
    "display(\"Число пользователей находящихся в двух группах:\", dubli_orders.query('group == 2')['visitorId'].count())"
   ]
  },
  {
   "cell_type": "code",
   "execution_count": 7,
   "metadata": {},
   "outputs": [
    {
     "data": {
      "text/plain": [
       "transactionId    0\n",
       "visitorId        0\n",
       "date             0\n",
       "revenue          0\n",
       "group            0\n",
       "dtype: int64"
      ]
     },
     "metadata": {},
     "output_type": "display_data"
    }
   ],
   "source": [
    "display(orders.isna().sum())"
   ]
  },
  {
   "cell_type": "code",
   "execution_count": 8,
   "metadata": {},
   "outputs": [
    {
     "data": {
      "text/plain": [
       "0"
      ]
     },
     "metadata": {},
     "output_type": "display_data"
    },
    {
     "data": {
      "text/plain": [
       "166"
      ]
     },
     "metadata": {},
     "output_type": "display_data"
    }
   ],
   "source": [
    "display(orders['transactionId'].duplicated().sum())\n",
    "display(orders['visitorId'].duplicated().sum())"
   ]
  },
  {
   "cell_type": "code",
   "execution_count": 9,
   "metadata": {},
   "outputs": [],
   "source": [
    "datesGroups = orders[['date', 'group']].drop_duplicates()"
   ]
  },
  {
   "cell_type": "markdown",
   "metadata": {},
   "source": [
    "Удалили дубликаты"
   ]
  },
  {
   "cell_type": "code",
   "execution_count": 10,
   "metadata": {},
   "outputs": [
    {
     "data": {
      "text/html": [
       "<div>\n",
       "<style scoped>\n",
       "    .dataframe tbody tr th:only-of-type {\n",
       "        vertical-align: middle;\n",
       "    }\n",
       "\n",
       "    .dataframe tbody tr th {\n",
       "        vertical-align: top;\n",
       "    }\n",
       "\n",
       "    .dataframe thead th {\n",
       "        text-align: right;\n",
       "    }\n",
       "</style>\n",
       "<table border=\"1\" class=\"dataframe\">\n",
       "  <thead>\n",
       "    <tr style=\"text-align: right;\">\n",
       "      <th></th>\n",
       "      <th>transactionId</th>\n",
       "      <th>visitorId</th>\n",
       "      <th>date</th>\n",
       "      <th>revenue</th>\n",
       "      <th>group</th>\n",
       "    </tr>\n",
       "  </thead>\n",
       "  <tbody>\n",
       "    <tr>\n",
       "      <th>0</th>\n",
       "      <td>3667963787</td>\n",
       "      <td>3312258926</td>\n",
       "      <td>2019-08-15</td>\n",
       "      <td>1650</td>\n",
       "      <td>B</td>\n",
       "    </tr>\n",
       "    <tr>\n",
       "      <th>1</th>\n",
       "      <td>2804400009</td>\n",
       "      <td>3642806036</td>\n",
       "      <td>2019-08-15</td>\n",
       "      <td>730</td>\n",
       "      <td>B</td>\n",
       "    </tr>\n",
       "    <tr>\n",
       "      <th>2</th>\n",
       "      <td>2961555356</td>\n",
       "      <td>4069496402</td>\n",
       "      <td>2019-08-15</td>\n",
       "      <td>400</td>\n",
       "      <td>A</td>\n",
       "    </tr>\n",
       "    <tr>\n",
       "      <th>3</th>\n",
       "      <td>3797467345</td>\n",
       "      <td>1196621759</td>\n",
       "      <td>2019-08-15</td>\n",
       "      <td>9759</td>\n",
       "      <td>B</td>\n",
       "    </tr>\n",
       "    <tr>\n",
       "      <th>4</th>\n",
       "      <td>2282983706</td>\n",
       "      <td>2322279887</td>\n",
       "      <td>2019-08-15</td>\n",
       "      <td>2308</td>\n",
       "      <td>B</td>\n",
       "    </tr>\n",
       "  </tbody>\n",
       "</table>\n",
       "</div>"
      ],
      "text/plain": [
       "   transactionId   visitorId       date  revenue group\n",
       "0  3667963787     3312258926 2019-08-15  1650     B   \n",
       "1  2804400009     3642806036 2019-08-15  730      B   \n",
       "2  2961555356     4069496402 2019-08-15  400      A   \n",
       "3  3797467345     1196621759 2019-08-15  9759     B   \n",
       "4  2282983706     2322279887 2019-08-15  2308     B   "
      ]
     },
     "execution_count": 10,
     "metadata": {},
     "output_type": "execute_result"
    }
   ],
   "source": [
    "orders.head(5)"
   ]
  },
  {
   "cell_type": "markdown",
   "metadata": {},
   "source": [
    "1. Построим график кумулятивной выручки по группам."
   ]
  },
  {
   "cell_type": "code",
   "execution_count": 11,
   "metadata": {},
   "outputs": [],
   "source": [
    "#Группируем данные\n",
    "ordersAggregated = datesGroups.apply(\n",
    "    lambda x: orders[\n",
    "        np.logical_and(\n",
    "            orders['date'] <= x['date'], orders['group'] == x['group']\n",
    "        )\n",
    "    ].agg(\n",
    "        {\n",
    "            'date': 'max',\n",
    "            'group': 'max',\n",
    "            'transactionId': 'nunique',\n",
    "            'visitorId': 'nunique',\n",
    "            'revenue': 'sum',\n",
    "        }\n",
    "    ),\n",
    "    axis=1,\n",
    ").sort_values(by=['date', 'group'])\n",
    "\n",
    "visitorsAggregated = datesGroups.apply(\n",
    "    lambda x: visitors[\n",
    "        np.logical_and(\n",
    "            visitors['date'] <= x['date'], visitors['group'] == x['group']\n",
    "        )\n",
    "    ].agg({'date': 'max', 'group': 'max', 'visitors': 'sum'}),\n",
    "    axis=1,\n",
    ").sort_values(by=['date', 'group'])\n",
    "\n",
    "cumulativeData = ordersAggregated.merge(\n",
    "    visitorsAggregated, left_on=['date', 'group'], right_on=['date', 'group']\n",
    ")\n",
    "cumulativeData.columns = [\n",
    "    'date',\n",
    "    'group',\n",
    "    'orders',\n",
    "    'buyers',\n",
    "    'revenue',\n",
    "    'visitors',\n",
    "]\n",
    "\n",
    "\n",
    "# датафрейм с кумулятивным количеством заказов и кумулятивной выручкой по дням в группе А\n",
    "cumulativeRevenueA = cumulativeData[cumulativeData['group']=='A'][['date','revenue', 'orders']]\n",
    "\n",
    "# датафрейм с кумулятивным количеством заказов и кумулятивной выручкой по дням в группе B\n",
    "cumulativeRevenueB = cumulativeData[cumulativeData['group']=='B'][['date','revenue', 'orders']]\n"
   ]
  },
  {
   "cell_type": "code",
   "execution_count": 12,
   "metadata": {},
   "outputs": [
    {
     "data": {
      "text/html": [
       "<div>\n",
       "<style scoped>\n",
       "    .dataframe tbody tr th:only-of-type {\n",
       "        vertical-align: middle;\n",
       "    }\n",
       "\n",
       "    .dataframe tbody tr th {\n",
       "        vertical-align: top;\n",
       "    }\n",
       "\n",
       "    .dataframe thead th {\n",
       "        text-align: right;\n",
       "    }\n",
       "</style>\n",
       "<table border=\"1\" class=\"dataframe\">\n",
       "  <thead>\n",
       "    <tr style=\"text-align: right;\">\n",
       "      <th></th>\n",
       "      <th>date</th>\n",
       "      <th>group</th>\n",
       "      <th>orders</th>\n",
       "      <th>buyers</th>\n",
       "      <th>revenue</th>\n",
       "      <th>visitors</th>\n",
       "    </tr>\n",
       "  </thead>\n",
       "  <tbody>\n",
       "    <tr>\n",
       "      <th>0</th>\n",
       "      <td>2019-08-01</td>\n",
       "      <td>A</td>\n",
       "      <td>24</td>\n",
       "      <td>20</td>\n",
       "      <td>148579</td>\n",
       "      <td>719</td>\n",
       "    </tr>\n",
       "    <tr>\n",
       "      <th>1</th>\n",
       "      <td>2019-08-01</td>\n",
       "      <td>B</td>\n",
       "      <td>21</td>\n",
       "      <td>20</td>\n",
       "      <td>101217</td>\n",
       "      <td>713</td>\n",
       "    </tr>\n",
       "    <tr>\n",
       "      <th>2</th>\n",
       "      <td>2019-08-02</td>\n",
       "      <td>A</td>\n",
       "      <td>44</td>\n",
       "      <td>38</td>\n",
       "      <td>242401</td>\n",
       "      <td>1338</td>\n",
       "    </tr>\n",
       "    <tr>\n",
       "      <th>3</th>\n",
       "      <td>2019-08-02</td>\n",
       "      <td>B</td>\n",
       "      <td>45</td>\n",
       "      <td>43</td>\n",
       "      <td>266748</td>\n",
       "      <td>1294</td>\n",
       "    </tr>\n",
       "    <tr>\n",
       "      <th>4</th>\n",
       "      <td>2019-08-03</td>\n",
       "      <td>A</td>\n",
       "      <td>68</td>\n",
       "      <td>62</td>\n",
       "      <td>354874</td>\n",
       "      <td>1845</td>\n",
       "    </tr>\n",
       "    <tr>\n",
       "      <th>...</th>\n",
       "      <td>...</td>\n",
       "      <td>...</td>\n",
       "      <td>...</td>\n",
       "      <td>...</td>\n",
       "      <td>...</td>\n",
       "      <td>...</td>\n",
       "    </tr>\n",
       "    <tr>\n",
       "      <th>57</th>\n",
       "      <td>2019-08-29</td>\n",
       "      <td>B</td>\n",
       "      <td>596</td>\n",
       "      <td>544</td>\n",
       "      <td>5559398</td>\n",
       "      <td>17708</td>\n",
       "    </tr>\n",
       "    <tr>\n",
       "      <th>58</th>\n",
       "      <td>2019-08-30</td>\n",
       "      <td>A</td>\n",
       "      <td>545</td>\n",
       "      <td>493</td>\n",
       "      <td>4022970</td>\n",
       "      <td>18037</td>\n",
       "    </tr>\n",
       "    <tr>\n",
       "      <th>59</th>\n",
       "      <td>2019-08-30</td>\n",
       "      <td>B</td>\n",
       "      <td>620</td>\n",
       "      <td>567</td>\n",
       "      <td>5774631</td>\n",
       "      <td>18198</td>\n",
       "    </tr>\n",
       "    <tr>\n",
       "      <th>60</th>\n",
       "      <td>2019-08-31</td>\n",
       "      <td>A</td>\n",
       "      <td>557</td>\n",
       "      <td>503</td>\n",
       "      <td>4084803</td>\n",
       "      <td>18736</td>\n",
       "    </tr>\n",
       "    <tr>\n",
       "      <th>61</th>\n",
       "      <td>2019-08-31</td>\n",
       "      <td>B</td>\n",
       "      <td>640</td>\n",
       "      <td>586</td>\n",
       "      <td>5907760</td>\n",
       "      <td>18916</td>\n",
       "    </tr>\n",
       "  </tbody>\n",
       "</table>\n",
       "<p>62 rows × 6 columns</p>\n",
       "</div>"
      ],
      "text/plain": [
       "         date group  orders  buyers  revenue  visitors\n",
       "0  2019-08-01  A     24      20      148579   719     \n",
       "1  2019-08-01  B     21      20      101217   713     \n",
       "2  2019-08-02  A     44      38      242401   1338    \n",
       "3  2019-08-02  B     45      43      266748   1294    \n",
       "4  2019-08-03  A     68      62      354874   1845    \n",
       "..        ... ..     ..      ..         ...    ...    \n",
       "57 2019-08-29  B     596     544     5559398  17708   \n",
       "58 2019-08-30  A     545     493     4022970  18037   \n",
       "59 2019-08-30  B     620     567     5774631  18198   \n",
       "60 2019-08-31  A     557     503     4084803  18736   \n",
       "61 2019-08-31  B     640     586     5907760  18916   \n",
       "\n",
       "[62 rows x 6 columns]"
      ]
     },
     "execution_count": 12,
     "metadata": {},
     "output_type": "execute_result"
    }
   ],
   "source": [
    "cumulativeData\n"
   ]
  },
  {
   "cell_type": "code",
   "execution_count": 13,
   "metadata": {},
   "outputs": [
    {
     "data": {
      "image/png": "[encoded data removed]",
      "text/plain": [
       "<Figure size 720x360 with 1 Axes>"
      ]
     },
     "metadata": {
      "needs_background": "light"
     },
     "output_type": "display_data"
    }
   ],
   "source": [
    "plt.figure(figsize=(10, 5))\n",
    "# Строим график выручки группы А\n",
    "plt.plot(cumulativeRevenueA['date'], cumulativeRevenueA['revenue'], label='A')\n",
    "\n",
    "# Строим график выручки группы B\n",
    "plt.plot(cumulativeRevenueB['date'], cumulativeRevenueB['revenue'], label='B')\n",
    "plt.xticks(rotation = 45)\n",
    "plt.title('График кумулятивной выручки по группам.', fontsize=18)\n",
    "plt.ylabel('Выручка', fontsize=14)\n",
    "plt.xlabel('Дата', fontsize=14)\n",
    "plt.legend()\n",
    "       \n",
    "plt.show() "
   ]
  },
  {
   "cell_type": "markdown",
   "metadata": {},
   "source": [
    "Сегмент В почти всегда лидирует, только в середине теста сегменты встретелись, затем \"В\" вырвался в лидеры. Возможно влияют выбросы."
   ]
  },
  {
   "cell_type": "markdown",
   "metadata": {},
   "source": [
    "2. Построим график кумулятивного среднего чека по группам. "
   ]
  },
  {
   "cell_type": "code",
   "execution_count": 14,
   "metadata": {},
   "outputs": [
    {
     "data": {
      "image/png": "[encoded data removed]",
      "text/plain": [
       "<Figure size 720x360 with 1 Axes>"
      ]
     },
     "metadata": {
      "needs_background": "light"
     },
     "output_type": "display_data"
    }
   ],
   "source": [
    "\n",
    "plt.figure(figsize=(10, 5))\n",
    "plt.plot(cumulativeRevenueA['date'], cumulativeRevenueA['revenue']/cumulativeRevenueA['orders'], label='A')\n",
    "plt.plot(cumulativeRevenueB['date'], cumulativeRevenueB['revenue']/cumulativeRevenueB['orders'], label='B')\n",
    "plt.xticks(rotation = 45)\n",
    "plt.title('Камулятивный средний чек сегментов А и В', fontsize=18)\n",
    "plt.ylabel('Сумма', fontsize=14)\n",
    "plt.xlabel('Дата', fontsize=14)\n",
    "plt.legend()\n",
    "       \n",
    "plt.show() "
   ]
  },
  {
   "cell_type": "markdown",
   "metadata": {},
   "source": [
    "График колеблеться. Приниматьрешение пока рано. "
   ]
  },
  {
   "cell_type": "markdown",
   "metadata": {},
   "source": [
    "3. Построим график относительного изменения кумулятивного среднего чека группы B к группе A. "
   ]
  },
  {
   "cell_type": "code",
   "execution_count": 15,
   "metadata": {},
   "outputs": [
    {
     "data": {
      "image/png": "[encoded data removed]",
      "text/plain": [
       "<Figure size 864x360 with 1 Axes>"
      ]
     },
     "metadata": {
      "needs_background": "light"
     },
     "output_type": "display_data"
    }
   ],
   "source": [
    "\n",
    "# собираем данные в одном датафрейме\n",
    "mergedCumulativeRevenue = cumulativeRevenueA.merge(cumulativeRevenueB, left_on='date', right_on='date', how='left', suffixes=['A', 'B'])\n",
    "\n",
    "# cтроим отношение средних чеков\n",
    "plt.figure(figsize=(12, 5))\n",
    "plt.plot(mergedCumulativeRevenue['date'], (mergedCumulativeRevenue['revenueB']/mergedCumulativeRevenue['ordersB'])/(mergedCumulativeRevenue['revenueA']/mergedCumulativeRevenue['ordersA'])-1)\n",
    "\n",
    "# добавляем ось X\n",
    "\n",
    "plt.axhline(y=0, color='black', linestyle='--') \n",
    "plt.xticks(rotation = 45)\n",
    "plt.title('График относительного изменения кумулятивного среднего чека группы B к группе A.', fontsize=15)\n",
    "plt.ylabel('Сумма', fontsize=14)\n",
    "plt.xlabel('Дата', fontsize=14)\n",
    "     \n",
    "plt.show() "
   ]
  },
  {
   "cell_type": "markdown",
   "metadata": {},
   "source": [
    "Где график резко меняется, там скорее всего скрыты анамалии."
   ]
  },
  {
   "cell_type": "markdown",
   "metadata": {},
   "source": [
    "4. Постройте график кумулятивного среднего количества заказов на посетителя по группам. "
   ]
  },
  {
   "cell_type": "code",
   "execution_count": 16,
   "metadata": {},
   "outputs": [
    {
     "data": {
      "text/plain": [
       "(18109.0, 18137.0, 0.0, 0.05)"
      ]
     },
     "execution_count": 16,
     "metadata": {},
     "output_type": "execute_result"
    },
    {
     "data": {
      "image/png": "[encoded data removed]",
      "text/plain": [
       "<Figure size 864x360 with 1 Axes>"
      ]
     },
     "metadata": {
      "needs_background": "light"
     },
     "output_type": "display_data"
    }
   ],
   "source": [
    "\n",
    "cumulativeData['conversion'] = cumulativeData['orders']/cumulativeData['visitors']\n",
    "\n",
    "# отделяем данные по группе A\n",
    "cumulativeDataA = cumulativeData[cumulativeData['group']=='A']\n",
    "\n",
    "# отделяем данные по группе B\n",
    "cumulativeDataB = cumulativeData[cumulativeData['group']=='B']\n",
    "\n",
    "# строим графики\n",
    "plt.figure(figsize=(12, 5))\n",
    "plt.plot(cumulativeDataA['date'], cumulativeDataA['conversion'], label='A')\n",
    "plt.plot(cumulativeDataB['date'], cumulativeDataB['conversion'], label='B')\n",
    "plt.xticks(rotation = 45)\n",
    "plt.title('График кумулятивного среднего количества заказов на посетителя по группам.', fontsize=15)\n",
    "plt.ylabel('Среднее колличество заказов', fontsize=14)\n",
    "plt.xlabel('Дата', fontsize=14)\n",
    "plt.legend()\n",
    "# задаем масштаб осей\n",
    "plt.axis([dt.datetime(2019, 8, 1), dt.datetime(2019, 8, 29), 0, 0.05]) "
   ]
  },
  {
   "cell_type": "markdown",
   "metadata": {},
   "source": [
    "В начале был небольшое колебание и сегмент А имелбольшуюконверсию, но 5 агуста сегмент В заняллидирующую позицию и уже с нее не слез."
   ]
  },
  {
   "cell_type": "markdown",
   "metadata": {},
   "source": [
    "5. Построим график относительного изменения кумулятивного среднего количества заказов на посетителя группы B к группе A. "
   ]
  },
  {
   "cell_type": "code",
   "execution_count": 17,
   "metadata": {},
   "outputs": [
    {
     "data": {
      "text/plain": [
       "Text(0.5, 0, 'Дата')"
      ]
     },
     "execution_count": 17,
     "metadata": {},
     "output_type": "execute_result"
    },
    {
     "data": {
      "image/png": "[encoded data removed]",
      "text/plain": [
       "<Figure size 1440x720 with 1 Axes>"
      ]
     },
     "metadata": {
      "needs_background": "light"
     },
     "output_type": "display_data"
    }
   ],
   "source": [
    "mergedCumulativeConversions = cumulativeDataA[['date','conversion']].merge(cumulativeDataB[['date','conversion']], left_on='date', right_on='date', how='left', suffixes=['A', 'B'])\n",
    "\n",
    "plt.figure(figsize=(20, 10))\n",
    "plt.plot(mergedCumulativeConversions['date'], mergedCumulativeConversions['conversionB']/mergedCumulativeConversions['conversionA']-1, label=\"Относительный прирост конверсии группы B относительно группы A\")\n",
    "\n",
    "plt.axhline(y=0, color='black', linestyle='--')\n",
    "plt.axhline(y=0.2, color='grey', linestyle='--')\n",
    "plt.xticks(rotation = 45)\n",
    "plt.axis([\"2019-08-01\", '2019-08-29', -0.5, 0.5]) \n",
    "plt.legend()\n",
    "plt.title('График относительного изменения кумулятивного среднего количества заказов на посетителя группы B к группе A.', fontsize=15)\n",
    "plt.ylabel('Среднее количество заказов', fontsize=14)\n",
    "plt.xlabel('Дата', fontsize=14)"
   ]
  },
  {
   "cell_type": "markdown",
   "metadata": {},
   "source": [
    "В период с 13-19 августа 2019 года,прикрост сегмента В был выше на 20% затем опускался, но все же был вше сегмента А."
   ]
  },
  {
   "cell_type": "markdown",
   "metadata": {},
   "source": [
    "6. Построим точечный график количества заказов по пользователям. "
   ]
  },
  {
   "cell_type": "code",
   "execution_count": 18,
   "metadata": {},
   "outputs": [
    {
     "data": {
      "text/html": [
       "<div>\n",
       "<style scoped>\n",
       "    .dataframe tbody tr th:only-of-type {\n",
       "        vertical-align: middle;\n",
       "    }\n",
       "\n",
       "    .dataframe tbody tr th {\n",
       "        vertical-align: top;\n",
       "    }\n",
       "\n",
       "    .dataframe thead th {\n",
       "        text-align: right;\n",
       "    }\n",
       "</style>\n",
       "<table border=\"1\" class=\"dataframe\">\n",
       "  <thead>\n",
       "    <tr style=\"text-align: right;\">\n",
       "      <th></th>\n",
       "      <th>transactionId</th>\n",
       "      <th>visitorId</th>\n",
       "      <th>date</th>\n",
       "      <th>revenue</th>\n",
       "      <th>group</th>\n",
       "    </tr>\n",
       "  </thead>\n",
       "  <tbody>\n",
       "    <tr>\n",
       "      <th>0</th>\n",
       "      <td>3667963787</td>\n",
       "      <td>3312258926</td>\n",
       "      <td>2019-08-15</td>\n",
       "      <td>1650</td>\n",
       "      <td>B</td>\n",
       "    </tr>\n",
       "    <tr>\n",
       "      <th>1</th>\n",
       "      <td>2804400009</td>\n",
       "      <td>3642806036</td>\n",
       "      <td>2019-08-15</td>\n",
       "      <td>730</td>\n",
       "      <td>B</td>\n",
       "    </tr>\n",
       "    <tr>\n",
       "      <th>2</th>\n",
       "      <td>2961555356</td>\n",
       "      <td>4069496402</td>\n",
       "      <td>2019-08-15</td>\n",
       "      <td>400</td>\n",
       "      <td>A</td>\n",
       "    </tr>\n",
       "    <tr>\n",
       "      <th>3</th>\n",
       "      <td>3797467345</td>\n",
       "      <td>1196621759</td>\n",
       "      <td>2019-08-15</td>\n",
       "      <td>9759</td>\n",
       "      <td>B</td>\n",
       "    </tr>\n",
       "    <tr>\n",
       "      <th>4</th>\n",
       "      <td>2282983706</td>\n",
       "      <td>2322279887</td>\n",
       "      <td>2019-08-15</td>\n",
       "      <td>2308</td>\n",
       "      <td>B</td>\n",
       "    </tr>\n",
       "    <tr>\n",
       "      <th>...</th>\n",
       "      <td>...</td>\n",
       "      <td>...</td>\n",
       "      <td>...</td>\n",
       "      <td>...</td>\n",
       "      <td>...</td>\n",
       "    </tr>\n",
       "    <tr>\n",
       "      <th>1192</th>\n",
       "      <td>2662137336</td>\n",
       "      <td>3733762160</td>\n",
       "      <td>2019-08-14</td>\n",
       "      <td>6490</td>\n",
       "      <td>B</td>\n",
       "    </tr>\n",
       "    <tr>\n",
       "      <th>1193</th>\n",
       "      <td>2203539145</td>\n",
       "      <td>370388673</td>\n",
       "      <td>2019-08-14</td>\n",
       "      <td>3190</td>\n",
       "      <td>A</td>\n",
       "    </tr>\n",
       "    <tr>\n",
       "      <th>1194</th>\n",
       "      <td>1807773912</td>\n",
       "      <td>573423106</td>\n",
       "      <td>2019-08-14</td>\n",
       "      <td>10550</td>\n",
       "      <td>A</td>\n",
       "    </tr>\n",
       "    <tr>\n",
       "      <th>1195</th>\n",
       "      <td>1947021204</td>\n",
       "      <td>1614305549</td>\n",
       "      <td>2019-08-14</td>\n",
       "      <td>100</td>\n",
       "      <td>A</td>\n",
       "    </tr>\n",
       "    <tr>\n",
       "      <th>1196</th>\n",
       "      <td>3936777065</td>\n",
       "      <td>2108080724</td>\n",
       "      <td>2019-08-15</td>\n",
       "      <td>202740</td>\n",
       "      <td>B</td>\n",
       "    </tr>\n",
       "  </tbody>\n",
       "</table>\n",
       "<p>1197 rows × 5 columns</p>\n",
       "</div>"
      ],
      "text/plain": [
       "      transactionId   visitorId       date  revenue group\n",
       "0     3667963787     3312258926 2019-08-15  1650     B   \n",
       "1     2804400009     3642806036 2019-08-15  730      B   \n",
       "2     2961555356     4069496402 2019-08-15  400      A   \n",
       "3     3797467345     1196621759 2019-08-15  9759     B   \n",
       "4     2282983706     2322279887 2019-08-15  2308     B   \n",
       "...          ...            ...        ...   ...    ..   \n",
       "1192  2662137336     3733762160 2019-08-14  6490     B   \n",
       "1193  2203539145     370388673  2019-08-14  3190     A   \n",
       "1194  1807773912     573423106  2019-08-14  10550    A   \n",
       "1195  1947021204     1614305549 2019-08-14  100      A   \n",
       "1196  3936777065     2108080724 2019-08-15  202740   B   \n",
       "\n",
       "[1197 rows x 5 columns]"
      ]
     },
     "execution_count": 18,
     "metadata": {},
     "output_type": "execute_result"
    }
   ],
   "source": [
    "orders"
   ]
  },
  {
   "cell_type": "code",
   "execution_count": 19,
   "metadata": {},
   "outputs": [
    {
     "data": {
      "image/png": "[encoded data removed]",
      "text/plain": [
       "<Figure size 864x360 with 1 Axes>"
      ]
     },
     "metadata": {
      "needs_background": "light"
     },
     "output_type": "display_data"
    }
   ],
   "source": [
    "ordersByUsers = (\n",
    "    orders.groupby('visitorId', as_index=False)\n",
    "    .agg({'transactionId': 'nunique'})\n",
    ")\n",
    "ordersByUsers.columns = ['userId', 'orders']\n",
    "\n",
    "\n",
    "x_values = pd.Series(range(0,len(ordersByUsers)))\n",
    "plt.figure(figsize=(12, 5))\n",
    "plt.scatter(x_values, ordersByUsers['orders']) \n",
    "plt.title('Точечный график количества заказов по пользователям.', fontsize=15)\n",
    "plt.ylabel('Колличество заказов', fontsize=14)\n",
    "plt.xlabel('Пользователь ID', fontsize=14)\n",
    "x_values = pd.Series(range(0, len(ordersByUsers)))"
   ]
  },
  {
   "cell_type": "markdown",
   "metadata": {},
   "source": [
    "Большенство покупателей совершили 1 менее 2 покупки, другое количествопокупок это редкость.\n",
    "Чтобы разобраться необходимо посчитать выборочные перентили."
   ]
  },
  {
   "cell_type": "markdown",
   "metadata": {},
   "source": [
    "7. Посчитаем 95-й и 99-й перцентили количества заказов на пользователя. Выберем границу для определения аномальных пользователей."
   ]
  },
  {
   "cell_type": "code",
   "execution_count": 20,
   "metadata": {
    "scrolled": true
   },
   "outputs": [
    {
     "name": "stdout",
     "output_type": "stream",
     "text": [
      "[2. 4.]\n"
     ]
    }
   ],
   "source": [
    "\n",
    "print(np.percentile(ordersByUsers['orders'], [95, 99])) \n"
   ]
  },
  {
   "cell_type": "markdown",
   "metadata": {},
   "source": [
    "Не белее 5% сделали больше 2х покупок и не более 1% более 4х покупкок"
   ]
  },
  {
   "cell_type": "markdown",
   "metadata": {},
   "source": [
    "8. Построим точечный график стоимостей заказов."
   ]
  },
  {
   "cell_type": "code",
   "execution_count": 21,
   "metadata": {},
   "outputs": [
    {
     "data": {
      "text/plain": [
       "Text(0.5, 0, 'Пользователь ID')"
      ]
     },
     "execution_count": 21,
     "metadata": {},
     "output_type": "execute_result"
    },
    {
     "data": {
      "image/png": "[encoded data removed]",
      "text/plain": [
       "<Figure size 864x360 with 1 Axes>"
      ]
     },
     "metadata": {
      "needs_background": "light"
     },
     "output_type": "display_data"
    }
   ],
   "source": [
    "\n",
    "\n",
    "x_values = pd.Series(range(0, len(orders['revenue'])))\n",
    "\n",
    "plt.figure(figsize=(12, 5))\n",
    "plt.scatter(x_values, orders['revenue']) \n",
    "plt.title('Точечный график стоимостей заказов.', fontsize=15)\n",
    "plt.ylabel('Цена заказа', fontsize=14)\n",
    "plt.xlabel('Пользователь ID', fontsize=14)"
   ]
  },
  {
   "cell_type": "code",
   "execution_count": 22,
   "metadata": {},
   "outputs": [
    {
     "data": {
      "text/plain": [
       "584     50     \n",
       "1091    50     \n",
       "756     50     \n",
       "459     50     \n",
       "1013    60     \n",
       "        ..     \n",
       "744     86620  \n",
       "1136    92550  \n",
       "858     93940  \n",
       "1196    202740 \n",
       "425     1294500\n",
       "Name: revenue, Length: 1197, dtype: int64"
      ]
     },
     "execution_count": 22,
     "metadata": {},
     "output_type": "execute_result"
    }
   ],
   "source": [
    " orders['revenue'].sort_values()"
   ]
  },
  {
   "cell_type": "code",
   "execution_count": 23,
   "metadata": {},
   "outputs": [
    {
     "data": {
      "text/plain": [
       "(0.0, 93940.0)"
      ]
     },
     "execution_count": 23,
     "metadata": {},
     "output_type": "execute_result"
    },
    {
     "data": {
      "image/png": "[encoded data removed]",
      "text/plain": [
       "<Figure size 1080x720 with 1 Axes>"
      ]
     },
     "metadata": {
      "needs_background": "light"
     },
     "output_type": "display_data"
    }
   ],
   "source": [
    "# Без выбросов\n",
    "x_values = pd.Series(range(0, len(orders['revenue'])))\n",
    "\n",
    "plt.figure(figsize=(15, 10))\n",
    "plt.scatter(x_values, orders['revenue']) \n",
    "plt.title('Точечный график стоимостей заказов.', fontsize=15)\n",
    "plt.ylabel('Цена заказа', fontsize=14)\n",
    "plt.xlabel('Пользователь ID', fontsize=14)\n",
    "plt.ylim([0, 93940])"
   ]
  },
  {
   "cell_type": "markdown",
   "metadata": {},
   "source": [
    "По этому графику сразу видно что основная масса заказа до 25 000. Есть 2 явных выброса более 1,2 млн. и около 200 тыс. Какие-то ну очень дорогие покупки."
   ]
  },
  {
   "cell_type": "markdown",
   "metadata": {},
   "source": [
    "9. Посчитаем 95-й и 99-й перцентили стоимости заказов. Выберим границу для определения аномальных заказов."
   ]
  },
  {
   "cell_type": "code",
   "execution_count": 24,
   "metadata": {},
   "outputs": [
    {
     "name": "stdout",
     "output_type": "stream",
     "text": [
      "[28000.  58233.2]\n"
     ]
    }
   ],
   "source": [
    "print(np.percentile(orders['revenue'], [95, 99])) "
   ]
  },
  {
   "cell_type": "markdown",
   "metadata": {},
   "source": [
    "Не более 5% заказов чек дороже 28000 и не больше 1% заказов - дороже 58233,2"
   ]
  },
  {
   "cell_type": "markdown",
   "metadata": {},
   "source": [
    "10. Посчитаем статистическую значимость различий в среднем числе заказов на пользователя и среднем чеке между группами по «сырым» данным — без удаления аномальных пользователей.\n",
    "\n",
    "Сформулируем гипотезы. Нулевая: различий в в среднем числе заказов на пользователя и среднем чеке между группами - нет. Альтернативная: различия в среднем между группами есть."
   ]
  },
  {
   "cell_type": "markdown",
   "metadata": {},
   "source": [
    "Посчитаем статистическую значимость различий в среднем числе заказов на пользователя и среднем чеке между группами по «сырым» данным — без удаления аномальных пользователей."
   ]
  },
  {
   "cell_type": "markdown",
   "metadata": {},
   "source": [
    "<span style=\"color:#2E8B57\">  Объявим переменные sampleA и sampleB, в которых пользователям из разных групп будет соответствовать количество заказов. Тем, кто ничего не заказал, будут соответствовать нули. Это нужно, чтобы подготовить выборки к проверке критерием Манна-Уитни."
   ]
  },
  {
   "cell_type": "code",
   "execution_count": 25,
   "metadata": {},
   "outputs": [],
   "source": [
    "\n",
    "\n",
    "ordersByUsersA = (\n",
    "    orders[orders['group'] == 'A']\n",
    "    .groupby('visitorId', as_index=False)\n",
    "    .agg({'transactionId': pd.Series.nunique})\n",
    ")\n",
    "ordersByUsersA.columns = ['visitorId', 'orders']\n",
    "\n",
    "ordersByUsersB = (\n",
    "    orders[orders['group'] == 'B']\n",
    "    .groupby('visitorId', as_index=False)\n",
    "    .agg({'transactionId': pd.Series.nunique})\n",
    ")\n",
    "ordersByUsersB.columns = ['visitorId', 'orders']"
   ]
  },
  {
   "cell_type": "code",
   "execution_count": 26,
   "metadata": {},
   "outputs": [
    {
     "data": {
      "text/html": [
       "<div>\n",
       "<style scoped>\n",
       "    .dataframe tbody tr th:only-of-type {\n",
       "        vertical-align: middle;\n",
       "    }\n",
       "\n",
       "    .dataframe tbody tr th {\n",
       "        vertical-align: top;\n",
       "    }\n",
       "\n",
       "    .dataframe thead th {\n",
       "        text-align: right;\n",
       "    }\n",
       "</style>\n",
       "<table border=\"1\" class=\"dataframe\">\n",
       "  <thead>\n",
       "    <tr style=\"text-align: right;\">\n",
       "      <th></th>\n",
       "      <th>visitorId</th>\n",
       "      <th>orders</th>\n",
       "    </tr>\n",
       "  </thead>\n",
       "  <tbody>\n",
       "    <tr>\n",
       "      <th>0</th>\n",
       "      <td>8300375</td>\n",
       "      <td>1</td>\n",
       "    </tr>\n",
       "    <tr>\n",
       "      <th>1</th>\n",
       "      <td>11685486</td>\n",
       "      <td>1</td>\n",
       "    </tr>\n",
       "    <tr>\n",
       "      <th>2</th>\n",
       "      <td>54447517</td>\n",
       "      <td>1</td>\n",
       "    </tr>\n",
       "    <tr>\n",
       "      <th>3</th>\n",
       "      <td>66685450</td>\n",
       "      <td>1</td>\n",
       "    </tr>\n",
       "    <tr>\n",
       "      <th>4</th>\n",
       "      <td>78758296</td>\n",
       "      <td>1</td>\n",
       "    </tr>\n",
       "  </tbody>\n",
       "</table>\n",
       "</div>"
      ],
      "text/plain": [
       "   visitorId  orders\n",
       "0  8300375    1     \n",
       "1  11685486   1     \n",
       "2  54447517   1     \n",
       "3  66685450   1     \n",
       "4  78758296   1     "
      ]
     },
     "execution_count": 26,
     "metadata": {},
     "output_type": "execute_result"
    }
   ],
   "source": [
    "ordersByUsersA.head()"
   ]
  },
  {
   "cell_type": "code",
   "execution_count": 27,
   "metadata": {},
   "outputs": [],
   "source": [
    "\n",
    "\n",
    "sampleA = pd.concat(\n",
    "    [\n",
    "        ordersByUsersA['orders'],\n",
    "        pd.Series(\n",
    "            0,\n",
    "            index=np.arange(\n",
    "                (visitors[visitors['group']=='A']['visitors'].sum()) - len(ordersByUsersA['orders'])\n",
    "            ),\n",
    "            name='orders',\n",
    "        ),\n",
    "    ],\n",
    "    axis=0,\n",
    ")\n",
    "\n",
    "sampleB = pd.concat(\n",
    "    [\n",
    "        ordersByUsersB['orders'],\n",
    "        pd.Series(\n",
    "            0,\n",
    "            index=np.arange(\n",
    "                (visitors[visitors['group']=='B']['visitors'].sum()) - len(ordersByUsersB['orders'])\n",
    "            ),\n",
    "            name='orders',\n",
    "        ),\n",
    "    ],\n",
    "    axis=0,\n",
    ")\n",
    "\n"
   ]
  },
  {
   "cell_type": "code",
   "execution_count": 28,
   "metadata": {},
   "outputs": [
    {
     "name": "stdout",
     "output_type": "stream",
     "text": [
      "0.01679\n",
      "0.138\n"
     ]
    }
   ],
   "source": [
    "print(\"{0:.5f}\".format(stats.mannwhitneyu(sampleA, sampleB)[1]))\n",
    "\n",
    "print(\"{0:.3f}\".format(sampleB.mean() / sampleA.mean() - 1))"
   ]
  },
  {
   "cell_type": "markdown",
   "metadata": {},
   "source": [
    "P-value меньше чем 0,05 поэтому нулевую гипотезу отвергаем"
   ]
  },
  {
   "cell_type": "markdown",
   "metadata": {},
   "source": [
    "11. Теперь проверим статистическую значимость различий в среднем чеке между сегментами. Нулевая гипотеза: различий в среднем чеке между группами нет. Альтернативная гипотеза: различия в среднем чеке между группами есть. "
   ]
  },
  {
   "cell_type": "code",
   "execution_count": 29,
   "metadata": {},
   "outputs": [
    {
     "name": "stdout",
     "output_type": "stream",
     "text": [
      "0.729\n",
      "0.259\n"
     ]
    }
   ],
   "source": [
    "print('{0:.3f}'.format(stats.mannwhitneyu(orders[orders['group']=='A']['revenue'], orders[orders['group']=='B']['revenue'])[1]))\n",
    "print('{0:.3f}'.format(orders[orders['group']=='B']['revenue'].mean()/orders[orders['group']=='A']['revenue'].mean()-1)) \n"
   ]
  },
  {
   "cell_type": "markdown",
   "metadata": {},
   "source": [
    "P-value значительно больше 0.05. Значит, причин отвергать нулевую гипотезу и считать, что в среднем чеке есть различия, нет.  Оносительное различие чека 25,9%"
   ]
  },
  {
   "cell_type": "markdown",
   "metadata": {},
   "source": [
    "12. Напомним, что найденные в прошлых уроках 95-й и 99-й перцентили средних чеков равны 28 000 и 58 233 рублям. А 95-й и 99-й перцентили количества заказов на одного пользователя равны 2 и 4 заказа на пользователя.\n",
    "\n",
    "Примем за аномальных пользователей тех, кто совершил от 5 заказов или совершил заказ дороже 30 000 рублей. Так мы уберём 5% пользователей с наибольшим числом заказов и от 1% до 5% пользователей с дорогими заказами. Сделаем срезы пользователей с числом заказов больше 2 — usersWithManyOrders и пользователей, совершивших заказы дороже 30 000 — usersWithExpensiveOrders. Объединим их в таблице abnormalUsers. "
   ]
  },
  {
   "cell_type": "code",
   "execution_count": 30,
   "metadata": {
    "scrolled": true
   },
   "outputs": [
    {
     "name": "stdout",
     "output_type": "stream",
     "text": [
      "0.01334\n",
      "0.172\n"
     ]
    }
   ],
   "source": [
    "usersWithManyOrders = pd.concat(\n",
    "    [\n",
    "        ordersByUsersA[ordersByUsersA['orders'] > 2]['visitorId'],\n",
    "        ordersByUsersB[ordersByUsersB['orders'] > 2]['visitorId'],\n",
    "    ],\n",
    "    axis=0,\n",
    ")\n",
    "usersWithExpensiveOrders = orders[orders['revenue'] > 30000]['visitorId']\n",
    "abnormalUsers = (\n",
    "    pd.concat([usersWithManyOrders, usersWithExpensiveOrders], axis=0)\n",
    "    .drop_duplicates()\n",
    "    .sort_values()\n",
    ")\n",
    "sampleAFiltered = pd.concat(\n",
    "    [\n",
    "        ordersByUsersA[\n",
    "            np.logical_not(ordersByUsersA['visitorId'].isin(abnormalUsers))\n",
    "        ]['orders'],\n",
    "        pd.Series(\n",
    "            0,\n",
    "            index=np.arange(\n",
    "               (visitors[visitors['group']=='A']['visitors'].sum()) - len(ordersByUsersA['orders'])\n",
    "            ),\n",
    "            name='orders',\n",
    "        ),\n",
    "    ],\n",
    "    axis=0,\n",
    ")\n",
    "\n",
    "sampleBFiltered = pd.concat(\n",
    "    [\n",
    "        ordersByUsersB[\n",
    "            np.logical_not(ordersByUsersB['visitorId'].isin(abnormalUsers))\n",
    "        ]['orders'],\n",
    "        pd.Series(\n",
    "            0,\n",
    "            index=np.arange(\n",
    "               (visitors[visitors['group']=='B']['visitors'].sum()) - len(ordersByUsersB['orders'])\n",
    "            ),\n",
    "            name='orders',\n",
    "        ),\n",
    "    ],\n",
    "    axis=0,\n",
    ") \n",
    "#Применим статистический критерий Манна-Уитни к полученным выборкам:\n",
    "print('{0:.5f}'.format(stats.mannwhitneyu(sampleAFiltered, sampleBFiltered)[1]))\n",
    "print('{0:.3f}'.format(sampleBFiltered.mean()/sampleAFiltered.mean()-1)) \n"
   ]
  },
  {
   "cell_type": "markdown",
   "metadata": {},
   "source": [
    "<span style=\"color:#2E8B57\">  Нулевую гипотезу отвергаем. Различия стали больше."
   ]
  },
  {
   "cell_type": "markdown",
   "metadata": {},
   "source": [
    "13. Посчитаем статистическую значимость различия средних чеков после удаления аномальных пользователей."
   ]
  },
  {
   "cell_type": "code",
   "execution_count": 31,
   "metadata": {},
   "outputs": [
    {
     "name": "stdout",
     "output_type": "stream",
     "text": [
      "0.720\n",
      "-0.023\n"
     ]
    }
   ],
   "source": [
    "print(\n",
    "    '{0:.3f}'.format(\n",
    "        stats.mannwhitneyu(\n",
    "            orders[\n",
    "                np.logical_and(\n",
    "                    orders['group'] == 'A',\n",
    "                    np.logical_not(orders['visitorId'].isin(abnormalUsers)),\n",
    "                )\n",
    "            ]['revenue'],\n",
    "            orders[\n",
    "                np.logical_and(\n",
    "                    orders['group'] == 'B',\n",
    "                    np.logical_not(orders['visitorId'].isin(abnormalUsers)),\n",
    "                )\n",
    "            ]['revenue'],\n",
    "        )[1]\n",
    "    )\n",
    ")\n",
    "\n",
    "print(\n",
    "    \"{0:.3f}\".format(\n",
    "        orders[\n",
    "            np.logical_and(\n",
    "                orders['group'] == 'B',\n",
    "                np.logical_not(orders['visitorId'].isin(abnormalUsers)),\n",
    "            )\n",
    "        ]['revenue'].mean()\n",
    "        / orders[\n",
    "            np.logical_and(\n",
    "                orders['group'] == 'A',\n",
    "                np.logical_not(orders['visitorId'].isin(abnormalUsers)),\n",
    "            )\n",
    "        ]['revenue'].mean()\n",
    "        - 1\n",
    "    )\n",
    ")"
   ]
  },
  {
   "cell_type": "markdown",
   "metadata": {},
   "source": [
    "P-value незначительно уменьшился, но и разница между сегментами сократилась с 25,9% до 2,3% в пользу сегмента А.\n",
    "Сначит в сегменте В было много анамалий,которые сильно влияли на результат.\n",
    "\n",
    "Имеющиеся факты:\n",
    " - Нет статистически значимого различия по среднему количеству заказов между группами ни по «сырым», ни по данным после фильтрации аномалий;\n",
    " - Есть статистически значимые различия по среднему чеку между группами и по «сырым», и по данным после фильтрации аномалий, но после удаления анамалий дисперсия сильно снизилась, до отрицательного значения, а значит сегмент А стал выигрывать;\n",
    " - График различия конверсии между группами сообщает, что результаты группы B лучше группы A.\n",
    " \n",
    " \n",
    " \n",
    " По итогу проведенного теста, стало понятно, что испытания повлияли положительно, и покупать слали больше в сегменте В.\n"
   ]
  },
  {
   "cell_type": "markdown",
   "metadata": {},
   "source": [
    "\n",
    "    \n",
    "   **В первой части мы анализировали таблицу с гипотезами. У 7 гипотезы (Добавить форму подписки на все основные страницы, чтобы собрать базу клиентов для email-рассылок\t11.200) самое большое колличество затронутых пользователей из-за чего в RICE находиться на первом месте, а у 8й (Запустить акцию, дающую скидку на товар в день рождения) самый большой еффект влияния, по этому в ICE на первом месте.**\n",
    "    "
   ]
  },
  {
   "cell_type": "markdown",
   "metadata": {},
   "source": [
    "\n",
    "    \n",
    "    \n",
    "  **В целом по кумулятотивному среднему чуку, выручке по группам и колличеству заказов, среднему по заказам - выигрывает сегмент В.\n",
    "    Есть около 2% выбросов более 5 заказаот от одного покупателя и 2 сильных выбраса на более 200 000 и 1,3 млн руб., основное колличество заказов на сумму не более 30 000 руб. \n",
    "    по результатам анализа А/В теста число закзов по \"сырым\" данным, имеет разнизу между сегиентами в сторону Сегмента В, а средний чек не отличается. После того как мы откинули анОмальные показатели (это за более 2х закао от покупателя и на цену выше 30000), средний чек стал еще более схож между сегментами, но у сегмента В стал в среднем меньше, зато колличество заказов стало больше.  \n",
    "    Возможно была какая-то скидка))**\n",
    "    </span>"
   ]
  }
 ],
 "metadata": {
  "ExecuteTimeLog": [
   {
    "duration": 473,
    "start_time": "2022-12-19T13:25:42.718Z"
   },
   {
    "duration": 36,
    "start_time": "2022-12-19T13:31:53.991Z"
   },
   {
    "duration": 30,
    "start_time": "2022-12-19T13:32:42.884Z"
   },
   {
    "duration": 30,
    "start_time": "2022-12-19T13:32:53.405Z"
   },
   {
    "duration": 33,
    "start_time": "2022-12-19T13:33:28.996Z"
   },
   {
    "duration": 11,
    "start_time": "2022-12-19T13:33:57.400Z"
   },
   {
    "duration": 9,
    "start_time": "2022-12-19T13:35:00.463Z"
   },
   {
    "duration": 34,
    "start_time": "2022-12-19T13:38:22.817Z"
   },
   {
    "duration": 515,
    "start_time": "2022-12-23T15:17:56.541Z"
   },
   {
    "duration": 11,
    "start_time": "2022-12-23T15:17:57.058Z"
   },
   {
    "duration": 44,
    "start_time": "2022-12-23T15:17:57.070Z"
   },
   {
    "duration": 872,
    "start_time": "2022-12-23T15:17:57.116Z"
   },
   {
    "duration": 337,
    "start_time": "2022-12-23T15:26:57.617Z"
   },
   {
    "duration": 136,
    "start_time": "2022-12-23T15:27:32.046Z"
   },
   {
    "duration": 605,
    "start_time": "2022-12-23T15:32:45.147Z"
   },
   {
    "duration": 560,
    "start_time": "2022-12-23T15:34:32.048Z"
   },
   {
    "duration": 215,
    "start_time": "2022-12-23T15:40:10.814Z"
   },
   {
    "duration": 225,
    "start_time": "2022-12-23T15:41:22.310Z"
   },
   {
    "duration": 377,
    "start_time": "2022-12-23T15:50:49.019Z"
   },
   {
    "duration": 291,
    "start_time": "2022-12-23T15:51:19.352Z"
   },
   {
    "duration": 71,
    "start_time": "2022-12-23T15:54:45.765Z"
   },
   {
    "duration": 173,
    "start_time": "2022-12-23T15:55:00.070Z"
   },
   {
    "duration": 183,
    "start_time": "2022-12-23T15:59:23.216Z"
   },
   {
    "duration": 159,
    "start_time": "2022-12-23T15:59:38.224Z"
   },
   {
    "duration": 320,
    "start_time": "2022-12-23T16:03:40.824Z"
   },
   {
    "duration": 305,
    "start_time": "2022-12-23T16:04:12.154Z"
   },
   {
    "duration": 286,
    "start_time": "2022-12-23T16:04:31.184Z"
   },
   {
    "duration": 12,
    "start_time": "2022-12-23T16:12:48.647Z"
   },
   {
    "duration": 11,
    "start_time": "2022-12-23T16:13:36.682Z"
   },
   {
    "duration": 281,
    "start_time": "2022-12-23T16:14:25.812Z"
   },
   {
    "duration": 11,
    "start_time": "2022-12-23T16:17:06.682Z"
   },
   {
    "duration": 15,
    "start_time": "2022-12-23T16:18:02.372Z"
   },
   {
    "duration": 12,
    "start_time": "2022-12-23T16:18:48.342Z"
   },
   {
    "duration": 282,
    "start_time": "2022-12-23T16:19:02.251Z"
   },
   {
    "duration": 8,
    "start_time": "2022-12-23T16:19:20.749Z"
   },
   {
    "duration": 375,
    "start_time": "2022-12-23T16:26:23.100Z"
   },
   {
    "duration": 8,
    "start_time": "2022-12-23T16:26:29.727Z"
   },
   {
    "duration": 111,
    "start_time": "2022-12-23T16:27:49.320Z"
   },
   {
    "duration": 10,
    "start_time": "2022-12-23T16:27:54.297Z"
   },
   {
    "duration": 5,
    "start_time": "2022-12-23T16:32:29.785Z"
   },
   {
    "duration": 4,
    "start_time": "2022-12-23T16:32:39.561Z"
   },
   {
    "duration": 4,
    "start_time": "2022-12-23T16:32:44.351Z"
   },
   {
    "duration": 5,
    "start_time": "2022-12-23T16:33:01.888Z"
   },
   {
    "duration": 4,
    "start_time": "2022-12-23T16:33:10.361Z"
   },
   {
    "duration": 7,
    "start_time": "2022-12-23T16:34:32.735Z"
   },
   {
    "duration": 5,
    "start_time": "2022-12-23T16:34:49.636Z"
   },
   {
    "duration": 144,
    "start_time": "2022-12-23T16:39:17.832Z"
   },
   {
    "duration": 128,
    "start_time": "2022-12-23T16:40:23.005Z"
   },
   {
    "duration": 4,
    "start_time": "2022-12-23T16:42:46.769Z"
   },
   {
    "duration": 223,
    "start_time": "2022-12-23T16:52:22.863Z"
   },
   {
    "duration": 1452,
    "start_time": "2022-12-23T16:53:57.211Z"
   },
   {
    "duration": 1375,
    "start_time": "2022-12-23T16:55:23.713Z"
   },
   {
    "duration": 1428,
    "start_time": "2022-12-23T16:56:50.216Z"
   },
   {
    "duration": 332,
    "start_time": "2022-12-23T17:02:38.552Z"
   },
   {
    "duration": 474,
    "start_time": "2022-12-23T17:03:04.283Z"
   },
   {
    "duration": 10,
    "start_time": "2022-12-23T17:03:04.759Z"
   },
   {
    "duration": 8,
    "start_time": "2022-12-23T17:03:04.771Z"
   },
   {
    "duration": 898,
    "start_time": "2022-12-23T17:03:04.781Z"
   },
   {
    "duration": 209,
    "start_time": "2022-12-23T17:03:05.680Z"
   },
   {
    "duration": 274,
    "start_time": "2022-12-23T17:03:05.891Z"
   },
   {
    "duration": 260,
    "start_time": "2022-12-23T17:03:06.167Z"
   },
   {
    "duration": 323,
    "start_time": "2022-12-23T17:03:06.429Z"
   },
   {
    "duration": 15,
    "start_time": "2022-12-23T17:03:06.754Z"
   },
   {
    "duration": 133,
    "start_time": "2022-12-23T17:03:06.772Z"
   },
   {
    "duration": 5,
    "start_time": "2022-12-23T17:03:06.907Z"
   },
   {
    "duration": 165,
    "start_time": "2022-12-23T17:03:06.914Z"
   },
   {
    "duration": 5,
    "start_time": "2022-12-23T17:03:07.081Z"
   },
   {
    "duration": 459,
    "start_time": "2022-12-23T17:03:07.088Z"
   },
   {
    "duration": 338,
    "start_time": "2022-12-23T17:05:29.131Z"
   },
   {
    "duration": 373,
    "start_time": "2022-12-23T17:06:12.873Z"
   },
   {
    "duration": 858,
    "start_time": "2022-12-23T17:07:19.007Z"
   },
   {
    "duration": 506,
    "start_time": "2022-12-25T07:22:03.993Z"
   },
   {
    "duration": 9,
    "start_time": "2022-12-25T07:22:04.501Z"
   },
   {
    "duration": 8,
    "start_time": "2022-12-25T07:22:04.511Z"
   },
   {
    "duration": 1030,
    "start_time": "2022-12-25T07:22:04.521Z"
   },
   {
    "duration": 182,
    "start_time": "2022-12-25T07:22:05.553Z"
   },
   {
    "duration": 403,
    "start_time": "2022-12-25T07:22:05.737Z"
   },
   {
    "duration": 180,
    "start_time": "2022-12-25T07:22:06.142Z"
   },
   {
    "duration": 288,
    "start_time": "2022-12-25T07:22:06.324Z"
   },
   {
    "duration": 13,
    "start_time": "2022-12-25T07:22:06.621Z"
   },
   {
    "duration": 115,
    "start_time": "2022-12-25T07:22:06.636Z"
   },
   {
    "duration": 5,
    "start_time": "2022-12-25T07:22:06.753Z"
   },
   {
    "duration": 137,
    "start_time": "2022-12-25T07:22:06.759Z"
   },
   {
    "duration": 4,
    "start_time": "2022-12-25T07:22:06.897Z"
   },
   {
    "duration": 862,
    "start_time": "2022-12-25T07:22:06.903Z"
   },
   {
    "duration": 13,
    "start_time": "2022-12-25T07:24:42.078Z"
   },
   {
    "duration": 31,
    "start_time": "2022-12-25T07:35:49.379Z"
   },
   {
    "duration": 14,
    "start_time": "2022-12-25T07:50:58.167Z"
   },
   {
    "duration": 495,
    "start_time": "2022-12-25T09:52:52.040Z"
   },
   {
    "duration": 14,
    "start_time": "2022-12-25T09:52:52.538Z"
   },
   {
    "duration": 35,
    "start_time": "2022-12-25T09:52:52.554Z"
   },
   {
    "duration": 894,
    "start_time": "2022-12-25T09:52:52.593Z"
   },
   {
    "duration": 204,
    "start_time": "2022-12-25T09:52:53.489Z"
   },
   {
    "duration": 319,
    "start_time": "2022-12-25T09:52:53.695Z"
   },
   {
    "duration": 249,
    "start_time": "2022-12-25T09:52:54.016Z"
   },
   {
    "duration": 281,
    "start_time": "2022-12-25T09:52:54.267Z"
   },
   {
    "duration": 15,
    "start_time": "2022-12-25T09:52:54.550Z"
   },
   {
    "duration": 134,
    "start_time": "2022-12-25T09:52:54.567Z"
   },
   {
    "duration": 5,
    "start_time": "2022-12-25T09:52:54.703Z"
   },
   {
    "duration": 156,
    "start_time": "2022-12-25T09:52:54.709Z"
   },
   {
    "duration": 5,
    "start_time": "2022-12-25T09:52:54.867Z"
   },
   {
    "duration": 908,
    "start_time": "2022-12-25T09:52:54.874Z"
   },
   {
    "duration": 12,
    "start_time": "2022-12-25T09:52:55.784Z"
   },
   {
    "duration": 52,
    "start_time": "2022-12-25T09:52:55.798Z"
   },
   {
    "duration": 15,
    "start_time": "2022-12-25T09:52:55.852Z"
   },
   {
    "duration": 51,
    "start_time": "2022-12-26T09:26:50.158Z"
   },
   {
    "duration": 498,
    "start_time": "2022-12-26T09:26:56.650Z"
   },
   {
    "duration": 10,
    "start_time": "2022-12-26T09:26:57.150Z"
   },
   {
    "duration": 11,
    "start_time": "2022-12-26T09:26:57.161Z"
   },
   {
    "duration": 1115,
    "start_time": "2022-12-26T09:26:57.174Z"
   },
   {
    "duration": 232,
    "start_time": "2022-12-26T09:26:58.291Z"
   },
   {
    "duration": 435,
    "start_time": "2022-12-26T09:26:58.525Z"
   },
   {
    "duration": 187,
    "start_time": "2022-12-26T09:26:58.962Z"
   },
   {
    "duration": 316,
    "start_time": "2022-12-26T09:26:59.151Z"
   },
   {
    "duration": 14,
    "start_time": "2022-12-26T09:26:59.469Z"
   },
   {
    "duration": 134,
    "start_time": "2022-12-26T09:26:59.486Z"
   },
   {
    "duration": 4,
    "start_time": "2022-12-26T09:26:59.622Z"
   },
   {
    "duration": 158,
    "start_time": "2022-12-26T09:26:59.628Z"
   },
   {
    "duration": 5,
    "start_time": "2022-12-26T09:26:59.788Z"
   },
   {
    "duration": 922,
    "start_time": "2022-12-26T09:26:59.795Z"
   },
   {
    "duration": 17,
    "start_time": "2022-12-26T09:27:00.719Z"
   },
   {
    "duration": 77,
    "start_time": "2022-12-26T09:27:00.738Z"
   },
   {
    "duration": 14,
    "start_time": "2022-12-26T09:27:00.817Z"
   },
   {
    "duration": 50,
    "start_time": "2022-12-26T09:29:00.118Z"
   },
   {
    "duration": 1224,
    "start_time": "2022-12-26T09:30:00.414Z"
   },
   {
    "duration": 428,
    "start_time": "2022-12-26T09:30:08.672Z"
   },
   {
    "duration": 10,
    "start_time": "2022-12-26T09:30:09.103Z"
   },
   {
    "duration": 30,
    "start_time": "2022-12-26T09:30:09.115Z"
   },
   {
    "duration": 937,
    "start_time": "2022-12-26T09:30:09.148Z"
   },
   {
    "duration": 219,
    "start_time": "2022-12-26T09:30:10.086Z"
   },
   {
    "duration": 302,
    "start_time": "2022-12-26T09:30:10.335Z"
   },
   {
    "duration": 249,
    "start_time": "2022-12-26T09:30:10.640Z"
   },
   {
    "duration": 300,
    "start_time": "2022-12-26T09:30:10.890Z"
   },
   {
    "duration": 14,
    "start_time": "2022-12-26T09:30:11.192Z"
   },
   {
    "duration": 135,
    "start_time": "2022-12-26T09:30:11.208Z"
   },
   {
    "duration": 5,
    "start_time": "2022-12-26T09:30:11.345Z"
   },
   {
    "duration": 159,
    "start_time": "2022-12-26T09:30:11.352Z"
   },
   {
    "duration": 4,
    "start_time": "2022-12-26T09:30:11.513Z"
   },
   {
    "duration": 911,
    "start_time": "2022-12-26T09:30:11.519Z"
   },
   {
    "duration": 13,
    "start_time": "2022-12-26T09:30:12.432Z"
   },
   {
    "duration": 61,
    "start_time": "2022-12-26T09:30:12.447Z"
   },
   {
    "duration": 31,
    "start_time": "2022-12-26T09:30:12.510Z"
   },
   {
    "duration": 33,
    "start_time": "2022-12-26T09:30:49.945Z"
   },
   {
    "duration": 9,
    "start_time": "2022-12-26T09:31:38.746Z"
   },
   {
    "duration": 9,
    "start_time": "2022-12-26T09:31:46.446Z"
   },
   {
    "duration": 8,
    "start_time": "2022-12-26T09:31:48.294Z"
   },
   {
    "duration": 8,
    "start_time": "2022-12-26T09:31:58.344Z"
   },
   {
    "duration": 431,
    "start_time": "2022-12-26T09:32:06.970Z"
   },
   {
    "duration": 11,
    "start_time": "2022-12-26T09:32:07.403Z"
   },
   {
    "duration": 30,
    "start_time": "2022-12-26T09:32:07.416Z"
   },
   {
    "duration": 893,
    "start_time": "2022-12-26T09:32:07.449Z"
   },
   {
    "duration": 210,
    "start_time": "2022-12-26T09:32:08.344Z"
   },
   {
    "duration": 307,
    "start_time": "2022-12-26T09:32:08.556Z"
   },
   {
    "duration": 250,
    "start_time": "2022-12-26T09:32:08.865Z"
   },
   {
    "duration": 335,
    "start_time": "2022-12-26T09:32:09.117Z"
   },
   {
    "duration": 16,
    "start_time": "2022-12-26T09:32:09.454Z"
   },
   {
    "duration": 153,
    "start_time": "2022-12-26T09:32:09.473Z"
   },
   {
    "duration": 5,
    "start_time": "2022-12-26T09:32:09.634Z"
   },
   {
    "duration": 177,
    "start_time": "2022-12-26T09:32:09.641Z"
   },
   {
    "duration": 16,
    "start_time": "2022-12-26T09:32:09.820Z"
   },
   {
    "duration": 925,
    "start_time": "2022-12-26T09:32:09.838Z"
   },
   {
    "duration": 11,
    "start_time": "2022-12-26T09:32:10.765Z"
   },
   {
    "duration": 53,
    "start_time": "2022-12-26T09:32:10.778Z"
   },
   {
    "duration": 17,
    "start_time": "2022-12-26T09:32:10.834Z"
   },
   {
    "duration": 9,
    "start_time": "2022-12-27T07:38:34.188Z"
   },
   {
    "duration": 5,
    "start_time": "2022-12-27T07:38:41.397Z"
   },
   {
    "duration": 52,
    "start_time": "2022-12-27T07:38:48.191Z"
   },
   {
    "duration": 4,
    "start_time": "2022-12-27T07:40:10.383Z"
   },
   {
    "duration": 4,
    "start_time": "2022-12-27T07:40:20.178Z"
   },
   {
    "duration": 62,
    "start_time": "2022-12-27T07:40:26.759Z"
   },
   {
    "duration": 522,
    "start_time": "2022-12-27T07:40:41.053Z"
   },
   {
    "duration": 69,
    "start_time": "2022-12-27T07:40:41.577Z"
   },
   {
    "duration": 0,
    "start_time": "2022-12-27T07:40:41.649Z"
   },
   {
    "duration": 0,
    "start_time": "2022-12-27T07:40:41.651Z"
   },
   {
    "duration": 0,
    "start_time": "2022-12-27T07:40:41.653Z"
   },
   {
    "duration": 0,
    "start_time": "2022-12-27T07:40:41.655Z"
   },
   {
    "duration": 0,
    "start_time": "2022-12-27T07:40:41.656Z"
   },
   {
    "duration": 0,
    "start_time": "2022-12-27T07:40:41.657Z"
   },
   {
    "duration": 0,
    "start_time": "2022-12-27T07:40:41.659Z"
   },
   {
    "duration": 0,
    "start_time": "2022-12-27T07:40:41.660Z"
   },
   {
    "duration": 0,
    "start_time": "2022-12-27T07:40:41.661Z"
   },
   {
    "duration": 0,
    "start_time": "2022-12-27T07:40:41.664Z"
   },
   {
    "duration": 0,
    "start_time": "2022-12-27T07:40:41.665Z"
   },
   {
    "duration": 0,
    "start_time": "2022-12-27T07:40:41.666Z"
   },
   {
    "duration": 0,
    "start_time": "2022-12-27T07:40:41.668Z"
   },
   {
    "duration": 0,
    "start_time": "2022-12-27T07:40:41.669Z"
   },
   {
    "duration": 0,
    "start_time": "2022-12-27T07:40:41.670Z"
   },
   {
    "duration": 11,
    "start_time": "2022-12-27T07:41:19.921Z"
   },
   {
    "duration": 12,
    "start_time": "2022-12-27T07:41:37.087Z"
   },
   {
    "duration": 24,
    "start_time": "2022-12-27T07:52:07.428Z"
   },
   {
    "duration": 10,
    "start_time": "2022-12-27T08:03:29.906Z"
   },
   {
    "duration": 446,
    "start_time": "2022-12-27T08:06:13.013Z"
   },
   {
    "duration": 11,
    "start_time": "2022-12-27T08:06:56.449Z"
   },
   {
    "duration": 27,
    "start_time": "2022-12-27T08:26:37.543Z"
   },
   {
    "duration": 159,
    "start_time": "2022-12-27T08:27:20.640Z"
   },
   {
    "duration": 20,
    "start_time": "2022-12-27T08:27:21.785Z"
   },
   {
    "duration": 18,
    "start_time": "2022-12-27T08:27:44.153Z"
   },
   {
    "duration": 19,
    "start_time": "2022-12-27T08:27:55.688Z"
   },
   {
    "duration": 51,
    "start_time": "2022-12-27T08:28:17.575Z"
   },
   {
    "duration": 18,
    "start_time": "2022-12-27T08:28:29.369Z"
   },
   {
    "duration": 19,
    "start_time": "2022-12-27T08:28:57.480Z"
   },
   {
    "duration": 7,
    "start_time": "2022-12-27T09:44:02.443Z"
   },
   {
    "duration": 10,
    "start_time": "2022-12-27T09:45:13.431Z"
   },
   {
    "duration": 5,
    "start_time": "2022-12-27T09:45:54.761Z"
   },
   {
    "duration": 8,
    "start_time": "2022-12-27T09:46:18.031Z"
   },
   {
    "duration": 7,
    "start_time": "2022-12-27T09:46:46.679Z"
   },
   {
    "duration": 472,
    "start_time": "2022-12-27T09:46:55.800Z"
   },
   {
    "duration": 284,
    "start_time": "2022-12-27T09:46:56.274Z"
   },
   {
    "duration": 12,
    "start_time": "2022-12-27T09:46:56.560Z"
   },
   {
    "duration": 75,
    "start_time": "2022-12-27T09:46:56.574Z"
   },
   {
    "duration": 12,
    "start_time": "2022-12-27T09:46:56.650Z"
   },
   {
    "duration": 56,
    "start_time": "2022-12-27T09:46:56.664Z"
   },
   {
    "duration": 17,
    "start_time": "2022-12-27T09:46:56.722Z"
   },
   {
    "duration": 24,
    "start_time": "2022-12-27T09:46:56.741Z"
   },
   {
    "duration": 28,
    "start_time": "2022-12-27T09:46:56.768Z"
   },
   {
    "duration": 569,
    "start_time": "2022-12-27T09:46:56.800Z"
   },
   {
    "duration": 212,
    "start_time": "2022-12-27T09:46:57.371Z"
   },
   {
    "duration": 372,
    "start_time": "2022-12-27T09:46:57.585Z"
   },
   {
    "duration": 210,
    "start_time": "2022-12-27T09:46:57.960Z"
   },
   {
    "duration": 278,
    "start_time": "2022-12-27T09:46:58.172Z"
   },
   {
    "duration": 13,
    "start_time": "2022-12-27T09:46:58.452Z"
   },
   {
    "duration": 136,
    "start_time": "2022-12-27T09:46:58.467Z"
   },
   {
    "duration": 4,
    "start_time": "2022-12-27T09:46:58.605Z"
   },
   {
    "duration": 155,
    "start_time": "2022-12-27T09:46:58.610Z"
   },
   {
    "duration": 4,
    "start_time": "2022-12-27T09:46:58.767Z"
   },
   {
    "duration": 960,
    "start_time": "2022-12-27T09:46:58.773Z"
   },
   {
    "duration": 11,
    "start_time": "2022-12-27T09:46:59.735Z"
   },
   {
    "duration": 42,
    "start_time": "2022-12-27T09:46:59.748Z"
   },
   {
    "duration": 14,
    "start_time": "2022-12-27T09:46:59.792Z"
   },
   {
    "duration": 57,
    "start_time": "2022-12-27T09:54:16.514Z"
   },
   {
    "duration": 51,
    "start_time": "2022-12-27T09:54:29.932Z"
   },
   {
    "duration": 50,
    "start_time": "2022-12-27T09:54:39.355Z"
   },
   {
    "duration": 205,
    "start_time": "2022-12-27T09:54:45.217Z"
   },
   {
    "duration": 474,
    "start_time": "2022-12-27T09:55:56.569Z"
   },
   {
    "duration": 307,
    "start_time": "2022-12-27T09:55:57.044Z"
   },
   {
    "duration": 14,
    "start_time": "2022-12-27T09:55:57.352Z"
   },
   {
    "duration": 690,
    "start_time": "2022-12-27T09:55:57.369Z"
   },
   {
    "duration": 10,
    "start_time": "2022-12-27T09:55:58.061Z"
   },
   {
    "duration": 37,
    "start_time": "2022-12-27T09:55:58.072Z"
   },
   {
    "duration": 7,
    "start_time": "2022-12-27T09:55:58.111Z"
   },
   {
    "duration": 24,
    "start_time": "2022-12-27T09:55:58.120Z"
   },
   {
    "duration": 32,
    "start_time": "2022-12-27T09:55:58.146Z"
   },
   {
    "duration": 640,
    "start_time": "2022-12-27T09:55:58.182Z"
   },
   {
    "duration": 60,
    "start_time": "2022-12-27T09:55:58.824Z"
   },
   {
    "duration": 0,
    "start_time": "2022-12-27T09:55:58.886Z"
   },
   {
    "duration": 0,
    "start_time": "2022-12-27T09:55:58.888Z"
   },
   {
    "duration": 1,
    "start_time": "2022-12-27T09:55:58.889Z"
   },
   {
    "duration": 0,
    "start_time": "2022-12-27T09:55:58.891Z"
   },
   {
    "duration": 0,
    "start_time": "2022-12-27T09:55:58.893Z"
   },
   {
    "duration": 0,
    "start_time": "2022-12-27T09:55:58.895Z"
   },
   {
    "duration": 0,
    "start_time": "2022-12-27T09:55:58.896Z"
   },
   {
    "duration": 0,
    "start_time": "2022-12-27T09:55:58.898Z"
   },
   {
    "duration": 0,
    "start_time": "2022-12-27T09:55:58.900Z"
   },
   {
    "duration": 0,
    "start_time": "2022-12-27T09:55:58.901Z"
   },
   {
    "duration": 0,
    "start_time": "2022-12-27T09:55:58.902Z"
   },
   {
    "duration": 0,
    "start_time": "2022-12-27T09:55:58.904Z"
   },
   {
    "duration": 601,
    "start_time": "2022-12-27T09:57:14.174Z"
   },
   {
    "duration": 65,
    "start_time": "2022-12-27T10:01:35.751Z"
   },
   {
    "duration": 47,
    "start_time": "2022-12-27T10:04:22.149Z"
   },
   {
    "duration": 51,
    "start_time": "2022-12-27T10:04:27.643Z"
   },
   {
    "duration": 194,
    "start_time": "2022-12-27T10:05:07.022Z"
   },
   {
    "duration": 208,
    "start_time": "2022-12-27T10:05:14.367Z"
   },
   {
    "duration": 268,
    "start_time": "2022-12-27T10:05:36.262Z"
   },
   {
    "duration": 190,
    "start_time": "2022-12-27T10:05:51.974Z"
   },
   {
    "duration": 237,
    "start_time": "2022-12-27T10:06:52.931Z"
   },
   {
    "duration": 182,
    "start_time": "2022-12-27T10:07:05.861Z"
   },
   {
    "duration": 60,
    "start_time": "2022-12-27T10:09:43.152Z"
   },
   {
    "duration": 72,
    "start_time": "2022-12-27T10:09:49.435Z"
   },
   {
    "duration": 177,
    "start_time": "2022-12-27T10:10:01.958Z"
   },
   {
    "duration": 285,
    "start_time": "2022-12-27T10:10:07.044Z"
   },
   {
    "duration": 253,
    "start_time": "2022-12-27T10:15:59.935Z"
   },
   {
    "duration": 185,
    "start_time": "2022-12-27T10:16:05.974Z"
   },
   {
    "duration": 338,
    "start_time": "2022-12-27T10:16:24.360Z"
   },
   {
    "duration": 272,
    "start_time": "2022-12-27T10:16:30.272Z"
   },
   {
    "duration": 210,
    "start_time": "2022-12-27T10:17:28.939Z"
   },
   {
    "duration": 210,
    "start_time": "2022-12-27T10:17:37.510Z"
   },
   {
    "duration": 242,
    "start_time": "2022-12-27T10:17:46.004Z"
   },
   {
    "duration": 490,
    "start_time": "2022-12-27T10:18:02.425Z"
   },
   {
    "duration": 203,
    "start_time": "2022-12-27T10:18:09.279Z"
   },
   {
    "duration": 221,
    "start_time": "2022-12-27T10:18:21.309Z"
   },
   {
    "duration": 212,
    "start_time": "2022-12-27T10:19:13.157Z"
   },
   {
    "duration": 220,
    "start_time": "2022-12-27T10:19:22.911Z"
   },
   {
    "duration": 223,
    "start_time": "2022-12-27T10:19:30.236Z"
   },
   {
    "duration": 198,
    "start_time": "2022-12-27T10:24:39.797Z"
   },
   {
    "duration": 184,
    "start_time": "2022-12-27T10:25:18.990Z"
   },
   {
    "duration": 343,
    "start_time": "2022-12-27T10:25:28.873Z"
   },
   {
    "duration": 226,
    "start_time": "2022-12-27T10:28:19.797Z"
   },
   {
    "duration": 247,
    "start_time": "2022-12-27T10:28:36.838Z"
   },
   {
    "duration": 339,
    "start_time": "2022-12-27T10:28:40.446Z"
   },
   {
    "duration": 301,
    "start_time": "2022-12-27T10:28:53.107Z"
   },
   {
    "duration": 329,
    "start_time": "2022-12-27T10:29:44.967Z"
   },
   {
    "duration": 338,
    "start_time": "2022-12-27T10:29:54.537Z"
   },
   {
    "duration": 462,
    "start_time": "2022-12-27T10:30:02.152Z"
   },
   {
    "duration": 379,
    "start_time": "2022-12-27T10:30:15.156Z"
   },
   {
    "duration": 473,
    "start_time": "2022-12-27T10:30:29.317Z"
   },
   {
    "duration": 364,
    "start_time": "2022-12-27T10:30:38.045Z"
   },
   {
    "duration": 482,
    "start_time": "2022-12-27T10:30:42.511Z"
   },
   {
    "duration": 498,
    "start_time": "2022-12-27T10:30:51.593Z"
   },
   {
    "duration": 471,
    "start_time": "2022-12-27T10:30:55.479Z"
   },
   {
    "duration": 427,
    "start_time": "2022-12-27T10:31:21.363Z"
   },
   {
    "duration": 382,
    "start_time": "2022-12-27T10:31:26.680Z"
   },
   {
    "duration": 191,
    "start_time": "2022-12-27T10:31:55.599Z"
   },
   {
    "duration": 323,
    "start_time": "2022-12-27T10:32:28.263Z"
   },
   {
    "duration": 222,
    "start_time": "2022-12-27T10:33:08.416Z"
   },
   {
    "duration": 295,
    "start_time": "2022-12-27T10:33:53.662Z"
   },
   {
    "duration": 226,
    "start_time": "2022-12-27T10:34:14.975Z"
   },
   {
    "duration": 215,
    "start_time": "2022-12-27T10:34:27.474Z"
   },
   {
    "duration": 284,
    "start_time": "2022-12-27T10:34:38.680Z"
   },
   {
    "duration": 359,
    "start_time": "2022-12-27T10:36:11.104Z"
   },
   {
    "duration": 120,
    "start_time": "2022-12-27T10:36:27.041Z"
   },
   {
    "duration": 244,
    "start_time": "2022-12-27T10:36:57.498Z"
   },
   {
    "duration": 149,
    "start_time": "2022-12-27T10:37:59.650Z"
   },
   {
    "duration": 228,
    "start_time": "2022-12-27T10:38:45.366Z"
   },
   {
    "duration": 367,
    "start_time": "2022-12-27T10:38:48.858Z"
   },
   {
    "duration": 474,
    "start_time": "2022-12-27T10:39:03.935Z"
   },
   {
    "duration": 413,
    "start_time": "2022-12-27T10:39:04.411Z"
   },
   {
    "duration": 18,
    "start_time": "2022-12-27T10:39:04.827Z"
   },
   {
    "duration": 741,
    "start_time": "2022-12-27T10:39:04.848Z"
   },
   {
    "duration": 12,
    "start_time": "2022-12-27T10:39:05.592Z"
   },
   {
    "duration": 39,
    "start_time": "2022-12-27T10:39:05.606Z"
   },
   {
    "duration": 9,
    "start_time": "2022-12-27T10:39:05.647Z"
   },
   {
    "duration": 40,
    "start_time": "2022-12-27T10:39:05.657Z"
   },
   {
    "duration": 26,
    "start_time": "2022-12-27T10:39:05.699Z"
   },
   {
    "duration": 128,
    "start_time": "2022-12-27T10:39:05.728Z"
   },
   {
    "duration": 0,
    "start_time": "2022-12-27T10:39:05.858Z"
   },
   {
    "duration": 0,
    "start_time": "2022-12-27T10:39:05.859Z"
   },
   {
    "duration": 0,
    "start_time": "2022-12-27T10:39:05.860Z"
   },
   {
    "duration": 0,
    "start_time": "2022-12-27T10:39:05.862Z"
   },
   {
    "duration": 0,
    "start_time": "2022-12-27T10:39:05.863Z"
   },
   {
    "duration": 0,
    "start_time": "2022-12-27T10:39:05.864Z"
   },
   {
    "duration": 0,
    "start_time": "2022-12-27T10:39:05.865Z"
   },
   {
    "duration": 0,
    "start_time": "2022-12-27T10:39:05.867Z"
   },
   {
    "duration": 0,
    "start_time": "2022-12-27T10:39:05.868Z"
   },
   {
    "duration": 0,
    "start_time": "2022-12-27T10:39:05.869Z"
   },
   {
    "duration": 0,
    "start_time": "2022-12-27T10:39:05.870Z"
   },
   {
    "duration": 0,
    "start_time": "2022-12-27T10:39:05.872Z"
   },
   {
    "duration": 0,
    "start_time": "2022-12-27T10:39:05.873Z"
   },
   {
    "duration": 16,
    "start_time": "2022-12-27T10:40:18.455Z"
   },
   {
    "duration": 500,
    "start_time": "2022-12-27T10:40:24.217Z"
   },
   {
    "duration": 307,
    "start_time": "2022-12-27T10:40:24.719Z"
   },
   {
    "duration": 20,
    "start_time": "2022-12-27T10:40:25.028Z"
   },
   {
    "duration": 726,
    "start_time": "2022-12-27T10:40:25.051Z"
   },
   {
    "duration": 10,
    "start_time": "2022-12-27T10:40:25.780Z"
   },
   {
    "duration": 26,
    "start_time": "2022-12-27T10:40:25.792Z"
   },
   {
    "duration": 7,
    "start_time": "2022-12-27T10:40:25.820Z"
   },
   {
    "duration": 29,
    "start_time": "2022-12-27T10:40:25.829Z"
   },
   {
    "duration": 19,
    "start_time": "2022-12-27T10:40:25.860Z"
   },
   {
    "duration": 635,
    "start_time": "2022-12-27T10:40:25.880Z"
   },
   {
    "duration": 286,
    "start_time": "2022-12-27T10:40:26.517Z"
   },
   {
    "duration": 393,
    "start_time": "2022-12-27T10:40:26.806Z"
   },
   {
    "duration": 265,
    "start_time": "2022-12-27T10:40:27.201Z"
   },
   {
    "duration": 358,
    "start_time": "2022-12-27T10:40:27.469Z"
   },
   {
    "duration": 20,
    "start_time": "2022-12-27T10:40:27.835Z"
   },
   {
    "duration": 198,
    "start_time": "2022-12-27T10:40:27.858Z"
   },
   {
    "duration": 22,
    "start_time": "2022-12-27T10:40:28.058Z"
   },
   {
    "duration": 258,
    "start_time": "2022-12-27T10:40:28.082Z"
   },
   {
    "duration": 6,
    "start_time": "2022-12-27T10:40:28.342Z"
   },
   {
    "duration": 516,
    "start_time": "2022-12-27T10:40:28.350Z"
   },
   {
    "duration": 11,
    "start_time": "2022-12-27T10:40:28.868Z"
   },
   {
    "duration": 57,
    "start_time": "2022-12-27T10:40:28.881Z"
   },
   {
    "duration": 20,
    "start_time": "2022-12-27T10:40:28.940Z"
   },
   {
    "duration": 176,
    "start_time": "2022-12-27T10:41:06.525Z"
   },
   {
    "duration": 173,
    "start_time": "2022-12-27T10:41:50.673Z"
   },
   {
    "duration": 281,
    "start_time": "2022-12-27T10:46:27.698Z"
   },
   {
    "duration": 7,
    "start_time": "2022-12-27T10:46:56.544Z"
   },
   {
    "duration": 12,
    "start_time": "2022-12-27T10:47:25.617Z"
   },
   {
    "duration": 6,
    "start_time": "2022-12-27T10:48:23.660Z"
   },
   {
    "duration": 162,
    "start_time": "2022-12-27T10:48:44.250Z"
   },
   {
    "duration": 245,
    "start_time": "2022-12-27T10:48:52.440Z"
   },
   {
    "duration": 180,
    "start_time": "2022-12-27T10:48:58.288Z"
   },
   {
    "duration": 251,
    "start_time": "2022-12-27T10:49:02.354Z"
   },
   {
    "duration": 524,
    "start_time": "2022-12-27T10:59:41.740Z"
   },
   {
    "duration": 358,
    "start_time": "2022-12-27T10:59:42.266Z"
   },
   {
    "duration": 34,
    "start_time": "2022-12-27T10:59:42.626Z"
   },
   {
    "duration": 700,
    "start_time": "2022-12-27T10:59:42.662Z"
   },
   {
    "duration": 9,
    "start_time": "2022-12-27T10:59:43.365Z"
   },
   {
    "duration": 42,
    "start_time": "2022-12-27T10:59:43.375Z"
   },
   {
    "duration": 7,
    "start_time": "2022-12-27T10:59:43.419Z"
   },
   {
    "duration": 32,
    "start_time": "2022-12-27T10:59:43.428Z"
   },
   {
    "duration": 14,
    "start_time": "2022-12-27T10:59:43.462Z"
   },
   {
    "duration": 650,
    "start_time": "2022-12-27T10:59:43.478Z"
   },
   {
    "duration": 260,
    "start_time": "2022-12-27T10:59:44.129Z"
   },
   {
    "duration": 333,
    "start_time": "2022-12-27T10:59:44.391Z"
   },
   {
    "duration": 264,
    "start_time": "2022-12-27T10:59:44.726Z"
   },
   {
    "duration": 403,
    "start_time": "2022-12-27T10:59:44.993Z"
   },
   {
    "duration": 13,
    "start_time": "2022-12-27T10:59:45.398Z"
   },
   {
    "duration": 198,
    "start_time": "2022-12-27T10:59:45.413Z"
   },
   {
    "duration": 5,
    "start_time": "2022-12-27T10:59:45.613Z"
   },
   {
    "duration": 297,
    "start_time": "2022-12-27T10:59:45.620Z"
   },
   {
    "duration": 6,
    "start_time": "2022-12-27T10:59:45.920Z"
   },
   {
    "duration": 249,
    "start_time": "2022-12-27T10:59:45.936Z"
   },
   {
    "duration": 5,
    "start_time": "2022-12-27T10:59:46.186Z"
   },
   {
    "duration": 157,
    "start_time": "2022-12-27T10:59:46.194Z"
   },
   {
    "duration": 0,
    "start_time": "2022-12-27T10:59:46.353Z"
   },
   {
    "duration": 0,
    "start_time": "2022-12-27T10:59:46.355Z"
   },
   {
    "duration": 0,
    "start_time": "2022-12-27T10:59:46.356Z"
   },
   {
    "duration": 229,
    "start_time": "2022-12-27T11:02:21.449Z"
   },
   {
    "duration": 304,
    "start_time": "2022-12-27T11:02:23.949Z"
   },
   {
    "duration": 468,
    "start_time": "2022-12-27T12:10:45.337Z"
   },
   {
    "duration": 44,
    "start_time": "2022-12-27T12:11:29.725Z"
   },
   {
    "duration": 518,
    "start_time": "2022-12-27T12:17:39.755Z"
   },
   {
    "duration": 25,
    "start_time": "2022-12-27T12:17:40.275Z"
   },
   {
    "duration": 489,
    "start_time": "2022-12-27T12:20:27.112Z"
   },
   {
    "duration": 375,
    "start_time": "2022-12-27T12:20:27.604Z"
   },
   {
    "duration": 15,
    "start_time": "2022-12-27T12:20:27.981Z"
   },
   {
    "duration": 719,
    "start_time": "2022-12-27T12:20:27.998Z"
   },
   {
    "duration": 10,
    "start_time": "2022-12-27T12:20:28.720Z"
   },
   {
    "duration": 41,
    "start_time": "2022-12-27T12:20:28.731Z"
   },
   {
    "duration": 6,
    "start_time": "2022-12-27T12:20:28.774Z"
   },
   {
    "duration": 10,
    "start_time": "2022-12-27T12:20:28.781Z"
   },
   {
    "duration": 10,
    "start_time": "2022-12-27T12:20:28.793Z"
   },
   {
    "duration": 307,
    "start_time": "2022-12-27T12:20:28.805Z"
   },
   {
    "duration": 342,
    "start_time": "2022-12-27T12:20:29.114Z"
   },
   {
    "duration": 241,
    "start_time": "2022-12-27T12:20:29.458Z"
   },
   {
    "duration": 396,
    "start_time": "2022-12-27T12:20:29.701Z"
   },
   {
    "duration": 258,
    "start_time": "2022-12-27T12:20:30.100Z"
   },
   {
    "duration": 353,
    "start_time": "2022-12-27T12:20:30.360Z"
   },
   {
    "duration": 22,
    "start_time": "2022-12-27T12:20:30.715Z"
   },
   {
    "duration": 191,
    "start_time": "2022-12-27T12:20:30.739Z"
   },
   {
    "duration": 9,
    "start_time": "2022-12-27T12:20:30.935Z"
   },
   {
    "duration": 312,
    "start_time": "2022-12-27T12:20:30.946Z"
   },
   {
    "duration": 7,
    "start_time": "2022-12-27T12:20:31.260Z"
   },
   {
    "duration": 278,
    "start_time": "2022-12-27T12:20:31.269Z"
   },
   {
    "duration": 6,
    "start_time": "2022-12-27T12:20:31.552Z"
   },
   {
    "duration": 510,
    "start_time": "2022-12-27T12:20:31.560Z"
   },
   {
    "duration": 29,
    "start_time": "2022-12-27T12:20:32.075Z"
   },
   {
    "duration": 12,
    "start_time": "2022-12-27T12:20:32.106Z"
   },
   {
    "duration": 77,
    "start_time": "2022-12-27T12:20:32.135Z"
   },
   {
    "duration": 16,
    "start_time": "2022-12-27T12:20:32.214Z"
   },
   {
    "duration": 489,
    "start_time": "2022-12-28T11:44:14.281Z"
   },
   {
    "duration": 473,
    "start_time": "2022-12-28T11:44:14.772Z"
   },
   {
    "duration": 13,
    "start_time": "2022-12-28T11:44:15.247Z"
   },
   {
    "duration": 766,
    "start_time": "2022-12-28T11:44:15.261Z"
   },
   {
    "duration": 11,
    "start_time": "2022-12-28T11:44:16.030Z"
   },
   {
    "duration": 29,
    "start_time": "2022-12-28T11:44:16.043Z"
   },
   {
    "duration": 7,
    "start_time": "2022-12-28T11:44:16.075Z"
   },
   {
    "duration": 19,
    "start_time": "2022-12-28T11:44:16.085Z"
   },
   {
    "duration": 11,
    "start_time": "2022-12-28T11:44:16.106Z"
   },
   {
    "duration": 327,
    "start_time": "2022-12-28T11:44:16.120Z"
   },
   {
    "duration": 306,
    "start_time": "2022-12-28T11:44:16.449Z"
   },
   {
    "duration": 221,
    "start_time": "2022-12-28T11:44:16.757Z"
   },
   {
    "duration": 433,
    "start_time": "2022-12-28T11:44:16.980Z"
   },
   {
    "duration": 218,
    "start_time": "2022-12-28T11:44:17.416Z"
   },
   {
    "duration": 324,
    "start_time": "2022-12-28T11:44:17.636Z"
   },
   {
    "duration": 13,
    "start_time": "2022-12-28T11:44:17.961Z"
   },
   {
    "duration": 167,
    "start_time": "2022-12-28T11:44:17.976Z"
   },
   {
    "duration": 4,
    "start_time": "2022-12-28T11:44:18.145Z"
   },
   {
    "duration": 241,
    "start_time": "2022-12-28T11:44:18.151Z"
   },
   {
    "duration": 5,
    "start_time": "2022-12-28T11:44:18.396Z"
   },
   {
    "duration": 202,
    "start_time": "2022-12-28T11:44:18.403Z"
   },
   {
    "duration": 4,
    "start_time": "2022-12-28T11:44:18.607Z"
   },
   {
    "duration": 462,
    "start_time": "2022-12-28T11:44:18.613Z"
   },
   {
    "duration": 36,
    "start_time": "2022-12-28T11:44:19.078Z"
   },
   {
    "duration": 12,
    "start_time": "2022-12-28T11:44:19.115Z"
   },
   {
    "duration": 35,
    "start_time": "2022-12-28T11:44:19.129Z"
   },
   {
    "duration": 34,
    "start_time": "2022-12-28T11:44:19.166Z"
   },
   {
    "duration": 3,
    "start_time": "2022-12-28T11:44:19.202Z"
   },
   {
    "duration": 75,
    "start_time": "2022-12-28T16:30:40.356Z"
   },
   {
    "duration": 554,
    "start_time": "2022-12-28T16:30:47.616Z"
   },
   {
    "duration": 543,
    "start_time": "2022-12-28T16:30:48.173Z"
   },
   {
    "duration": 15,
    "start_time": "2022-12-28T16:30:48.718Z"
   },
   {
    "duration": 831,
    "start_time": "2022-12-28T16:30:48.736Z"
   },
   {
    "duration": 25,
    "start_time": "2022-12-28T16:30:49.569Z"
   },
   {
    "duration": 37,
    "start_time": "2022-12-28T16:30:49.597Z"
   },
   {
    "duration": 6,
    "start_time": "2022-12-28T16:30:49.635Z"
   },
   {
    "duration": 9,
    "start_time": "2022-12-28T16:30:49.643Z"
   },
   {
    "duration": 5,
    "start_time": "2022-12-28T16:30:49.654Z"
   },
   {
    "duration": 337,
    "start_time": "2022-12-28T16:30:49.662Z"
   },
   {
    "duration": 344,
    "start_time": "2022-12-28T16:30:50.001Z"
   },
   {
    "duration": 285,
    "start_time": "2022-12-28T16:30:50.346Z"
   },
   {
    "duration": 429,
    "start_time": "2022-12-28T16:30:50.633Z"
   },
   {
    "duration": 280,
    "start_time": "2022-12-28T16:30:51.064Z"
   },
   {
    "duration": 433,
    "start_time": "2022-12-28T16:30:51.346Z"
   },
   {
    "duration": 19,
    "start_time": "2022-12-28T16:30:51.782Z"
   },
   {
    "duration": 185,
    "start_time": "2022-12-28T16:30:51.803Z"
   },
   {
    "duration": 12,
    "start_time": "2022-12-28T16:30:51.995Z"
   },
   {
    "duration": 267,
    "start_time": "2022-12-28T16:30:52.015Z"
   },
   {
    "duration": 18,
    "start_time": "2022-12-28T16:30:52.289Z"
   },
   {
    "duration": 242,
    "start_time": "2022-12-28T16:30:52.310Z"
   },
   {
    "duration": 5,
    "start_time": "2022-12-28T16:30:52.554Z"
   },
   {
    "duration": 523,
    "start_time": "2022-12-28T16:30:52.560Z"
   },
   {
    "duration": 44,
    "start_time": "2022-12-28T16:30:53.085Z"
   },
   {
    "duration": 12,
    "start_time": "2022-12-28T16:30:53.131Z"
   },
   {
    "duration": 72,
    "start_time": "2022-12-28T16:30:53.145Z"
   },
   {
    "duration": 18,
    "start_time": "2022-12-28T16:30:53.219Z"
   },
   {
    "duration": 20,
    "start_time": "2022-12-28T16:30:53.240Z"
   },
   {
    "duration": 942,
    "start_time": "2022-12-28T16:58:42.901Z"
   },
   {
    "duration": 0,
    "start_time": "2022-12-28T16:58:43.844Z"
   },
   {
    "duration": 40,
    "start_time": "2022-12-28T16:59:02.850Z"
   },
   {
    "duration": 10,
    "start_time": "2022-12-28T16:59:03.387Z"
   },
   {
    "duration": 16,
    "start_time": "2022-12-28T16:59:03.998Z"
   },
   {
    "duration": 73,
    "start_time": "2022-12-28T16:59:05.806Z"
   },
   {
    "duration": 8,
    "start_time": "2022-12-28T16:59:06.151Z"
   },
   {
    "duration": 18,
    "start_time": "2022-12-28T16:59:06.456Z"
   },
   {
    "duration": 11,
    "start_time": "2022-12-28T16:59:07.272Z"
   },
   {
    "duration": 17,
    "start_time": "2022-12-28T16:59:07.576Z"
   },
   {
    "duration": 6,
    "start_time": "2022-12-28T16:59:07.994Z"
   },
   {
    "duration": 272,
    "start_time": "2022-12-28T16:59:09.157Z"
   },
   {
    "duration": 209,
    "start_time": "2022-12-28T16:59:11.231Z"
   },
   {
    "duration": 239,
    "start_time": "2022-12-28T16:59:14.826Z"
   },
   {
    "duration": 208,
    "start_time": "2022-12-28T16:59:25.596Z"
   },
   {
    "duration": 891,
    "start_time": "2022-12-28T17:00:14.716Z"
   },
   {
    "duration": 446,
    "start_time": "2022-12-28T17:00:39.866Z"
   },
   {
    "duration": 242,
    "start_time": "2022-12-28T17:00:40.314Z"
   },
   {
    "duration": 11,
    "start_time": "2022-12-28T17:00:40.557Z"
   },
   {
    "duration": 556,
    "start_time": "2022-12-28T17:00:40.582Z"
   },
   {
    "duration": 8,
    "start_time": "2022-12-28T17:00:41.140Z"
   },
   {
    "duration": 20,
    "start_time": "2022-12-28T17:00:41.150Z"
   },
   {
    "duration": 10,
    "start_time": "2022-12-28T17:00:41.172Z"
   },
   {
    "duration": 16,
    "start_time": "2022-12-28T17:00:41.186Z"
   },
   {
    "duration": 5,
    "start_time": "2022-12-28T17:00:41.204Z"
   },
   {
    "duration": 265,
    "start_time": "2022-12-28T17:00:41.211Z"
   },
   {
    "duration": 292,
    "start_time": "2022-12-28T17:00:41.477Z"
   },
   {
    "duration": 230,
    "start_time": "2022-12-28T17:00:41.771Z"
   },
   {
    "duration": 305,
    "start_time": "2022-12-28T17:00:42.004Z"
   },
   {
    "duration": 215,
    "start_time": "2022-12-28T17:00:42.311Z"
   },
   {
    "duration": 376,
    "start_time": "2022-12-28T17:00:42.528Z"
   },
   {
    "duration": 15,
    "start_time": "2022-12-28T17:00:42.906Z"
   },
   {
    "duration": 167,
    "start_time": "2022-12-28T17:00:42.923Z"
   },
   {
    "duration": 5,
    "start_time": "2022-12-28T17:00:43.092Z"
   },
   {
    "duration": 230,
    "start_time": "2022-12-28T17:00:43.099Z"
   },
   {
    "duration": 5,
    "start_time": "2022-12-28T17:00:43.331Z"
   },
   {
    "duration": 192,
    "start_time": "2022-12-28T17:00:43.338Z"
   },
   {
    "duration": 5,
    "start_time": "2022-12-28T17:00:43.532Z"
   },
   {
    "duration": 633,
    "start_time": "2022-12-28T17:00:43.539Z"
   },
   {
    "duration": 1121,
    "start_time": "2022-12-28T17:00:44.173Z"
   },
   {
    "duration": 0,
    "start_time": "2022-12-28T17:00:45.296Z"
   },
   {
    "duration": 0,
    "start_time": "2022-12-28T17:00:45.298Z"
   },
   {
    "duration": 0,
    "start_time": "2022-12-28T17:00:45.300Z"
   },
   {
    "duration": 0,
    "start_time": "2022-12-28T17:00:45.302Z"
   },
   {
    "duration": 40,
    "start_time": "2022-12-28T17:00:47.453Z"
   },
   {
    "duration": 10,
    "start_time": "2022-12-28T17:00:48.133Z"
   },
   {
    "duration": 12,
    "start_time": "2022-12-28T17:00:48.790Z"
   },
   {
    "duration": 88,
    "start_time": "2022-12-28T17:00:50.717Z"
   },
   {
    "duration": 8,
    "start_time": "2022-12-28T17:00:50.927Z"
   },
   {
    "duration": 20,
    "start_time": "2022-12-28T17:00:51.206Z"
   },
   {
    "duration": 6,
    "start_time": "2022-12-28T17:00:51.826Z"
   },
   {
    "duration": 7,
    "start_time": "2022-12-28T17:00:52.046Z"
   },
   {
    "duration": 6,
    "start_time": "2022-12-28T17:00:52.566Z"
   },
   {
    "duration": 306,
    "start_time": "2022-12-28T17:00:53.310Z"
   },
   {
    "duration": 235,
    "start_time": "2022-12-28T17:00:53.617Z"
   },
   {
    "duration": 251,
    "start_time": "2022-12-28T17:00:54.856Z"
   },
   {
    "duration": 289,
    "start_time": "2022-12-28T17:00:56.135Z"
   },
   {
    "duration": 207,
    "start_time": "2022-12-28T17:00:57.358Z"
   },
   {
    "duration": 354,
    "start_time": "2022-12-28T17:00:59.200Z"
   },
   {
    "duration": 13,
    "start_time": "2022-12-28T17:01:01.356Z"
   },
   {
    "duration": 142,
    "start_time": "2022-12-28T17:01:01.960Z"
   },
   {
    "duration": 4,
    "start_time": "2022-12-28T17:01:03.737Z"
   },
   {
    "duration": 151,
    "start_time": "2022-12-28T17:01:06.326Z"
   },
   {
    "duration": 6,
    "start_time": "2022-12-28T17:01:07.359Z"
   },
   {
    "duration": 184,
    "start_time": "2022-12-28T17:01:07.968Z"
   },
   {
    "duration": 4,
    "start_time": "2022-12-28T17:01:13.432Z"
   },
   {
    "duration": 1099,
    "start_time": "2022-12-28T17:01:21.201Z"
   },
   {
    "duration": 4026,
    "start_time": "2022-12-28T17:32:11.682Z"
   },
   {
    "duration": 9,
    "start_time": "2022-12-28T17:32:15.710Z"
   },
   {
    "duration": 423,
    "start_time": "2022-12-28T17:32:31.411Z"
   },
   {
    "duration": 315,
    "start_time": "2022-12-28T17:32:31.836Z"
   },
   {
    "duration": 13,
    "start_time": "2022-12-28T17:32:32.152Z"
   },
   {
    "duration": 572,
    "start_time": "2022-12-28T17:32:32.166Z"
   },
   {
    "duration": 11,
    "start_time": "2022-12-28T17:32:32.740Z"
   },
   {
    "duration": 20,
    "start_time": "2022-12-28T17:32:32.753Z"
   },
   {
    "duration": 16,
    "start_time": "2022-12-28T17:32:32.774Z"
   },
   {
    "duration": 10,
    "start_time": "2022-12-28T17:32:32.794Z"
   },
   {
    "duration": 8,
    "start_time": "2022-12-28T17:32:32.806Z"
   },
   {
    "duration": 314,
    "start_time": "2022-12-28T17:32:32.817Z"
   },
   {
    "duration": 292,
    "start_time": "2022-12-28T17:32:33.133Z"
   },
   {
    "duration": 217,
    "start_time": "2022-12-28T17:32:33.428Z"
   },
   {
    "duration": 372,
    "start_time": "2022-12-28T17:32:33.647Z"
   },
   {
    "duration": 237,
    "start_time": "2022-12-28T17:32:34.021Z"
   },
   {
    "duration": 399,
    "start_time": "2022-12-28T17:32:34.260Z"
   },
   {
    "duration": 21,
    "start_time": "2022-12-28T17:32:34.660Z"
   },
   {
    "duration": 223,
    "start_time": "2022-12-28T17:32:34.685Z"
   },
   {
    "duration": 7,
    "start_time": "2022-12-28T17:32:34.910Z"
   },
   {
    "duration": 298,
    "start_time": "2022-12-28T17:32:34.918Z"
   },
   {
    "duration": 5,
    "start_time": "2022-12-28T17:32:35.218Z"
   },
   {
    "duration": 217,
    "start_time": "2022-12-28T17:32:35.225Z"
   },
   {
    "duration": 4,
    "start_time": "2022-12-28T17:32:35.444Z"
   },
   {
    "duration": 647,
    "start_time": "2022-12-28T17:32:35.450Z"
   },
   {
    "duration": 2599,
    "start_time": "2022-12-28T17:32:36.098Z"
   },
   {
    "duration": 108,
    "start_time": "2022-12-28T17:32:38.699Z"
   },
   {
    "duration": 0,
    "start_time": "2022-12-28T17:32:38.809Z"
   },
   {
    "duration": 0,
    "start_time": "2022-12-28T17:32:38.810Z"
   },
   {
    "duration": 0,
    "start_time": "2022-12-28T17:32:38.811Z"
   },
   {
    "duration": 442,
    "start_time": "2022-12-28T17:34:21.744Z"
   },
   {
    "duration": 261,
    "start_time": "2022-12-28T17:34:22.195Z"
   },
   {
    "duration": 12,
    "start_time": "2022-12-28T17:34:22.458Z"
   },
   {
    "duration": 645,
    "start_time": "2022-12-28T17:34:22.475Z"
   },
   {
    "duration": 8,
    "start_time": "2022-12-28T17:34:23.121Z"
   },
   {
    "duration": 25,
    "start_time": "2022-12-28T17:34:23.131Z"
   },
   {
    "duration": 5,
    "start_time": "2022-12-28T17:34:23.158Z"
   },
   {
    "duration": 6,
    "start_time": "2022-12-28T17:34:23.165Z"
   },
   {
    "duration": 9,
    "start_time": "2022-12-28T17:34:23.180Z"
   },
   {
    "duration": 286,
    "start_time": "2022-12-28T17:34:23.193Z"
   },
   {
    "duration": 346,
    "start_time": "2022-12-28T17:34:23.481Z"
   },
   {
    "duration": 237,
    "start_time": "2022-12-28T17:34:23.830Z"
   },
   {
    "duration": 338,
    "start_time": "2022-12-28T17:34:24.076Z"
   },
   {
    "duration": 236,
    "start_time": "2022-12-28T17:34:24.416Z"
   },
   {
    "duration": 470,
    "start_time": "2022-12-28T17:34:24.654Z"
   },
   {
    "duration": 20,
    "start_time": "2022-12-28T17:34:25.127Z"
   },
   {
    "duration": 254,
    "start_time": "2022-12-28T17:34:25.149Z"
   },
   {
    "duration": 5,
    "start_time": "2022-12-28T17:34:25.406Z"
   },
   {
    "duration": 318,
    "start_time": "2022-12-28T17:34:25.413Z"
   },
   {
    "duration": 7,
    "start_time": "2022-12-28T17:34:25.733Z"
   },
   {
    "duration": 254,
    "start_time": "2022-12-28T17:34:25.742Z"
   },
   {
    "duration": 6,
    "start_time": "2022-12-28T17:34:25.998Z"
   },
   {
    "duration": 628,
    "start_time": "2022-12-28T17:34:26.005Z"
   },
   {
    "duration": 2591,
    "start_time": "2022-12-28T17:34:26.635Z"
   },
   {
    "duration": 542,
    "start_time": "2022-12-28T17:34:49.378Z"
   },
   {
    "duration": 304,
    "start_time": "2022-12-28T17:34:49.922Z"
   },
   {
    "duration": 12,
    "start_time": "2022-12-28T17:34:50.228Z"
   },
   {
    "duration": 737,
    "start_time": "2022-12-28T17:34:50.242Z"
   },
   {
    "duration": 12,
    "start_time": "2022-12-28T17:34:50.981Z"
   },
   {
    "duration": 23,
    "start_time": "2022-12-28T17:34:50.995Z"
   },
   {
    "duration": 6,
    "start_time": "2022-12-28T17:34:51.020Z"
   },
   {
    "duration": 13,
    "start_time": "2022-12-28T17:34:51.027Z"
   },
   {
    "duration": 9,
    "start_time": "2022-12-28T17:34:51.042Z"
   },
   {
    "duration": 306,
    "start_time": "2022-12-28T17:34:51.053Z"
   },
   {
    "duration": 327,
    "start_time": "2022-12-28T17:34:51.360Z"
   },
   {
    "duration": 224,
    "start_time": "2022-12-28T17:34:51.689Z"
   },
   {
    "duration": 323,
    "start_time": "2022-12-28T17:34:51.915Z"
   },
   {
    "duration": 222,
    "start_time": "2022-12-28T17:34:52.240Z"
   },
   {
    "duration": 429,
    "start_time": "2022-12-28T17:34:52.463Z"
   },
   {
    "duration": 14,
    "start_time": "2022-12-28T17:34:52.896Z"
   },
   {
    "duration": 156,
    "start_time": "2022-12-28T17:34:52.912Z"
   },
   {
    "duration": 18,
    "start_time": "2022-12-28T17:34:53.070Z"
   },
   {
    "duration": 312,
    "start_time": "2022-12-28T17:34:53.092Z"
   },
   {
    "duration": 9,
    "start_time": "2022-12-28T17:34:53.406Z"
   },
   {
    "duration": 221,
    "start_time": "2022-12-28T17:34:53.417Z"
   },
   {
    "duration": 4,
    "start_time": "2022-12-28T17:34:53.640Z"
   },
   {
    "duration": 650,
    "start_time": "2022-12-28T17:34:53.646Z"
   },
   {
    "duration": 2418,
    "start_time": "2022-12-28T17:34:54.298Z"
   },
   {
    "duration": 456,
    "start_time": "2022-12-28T17:35:28.627Z"
   },
   {
    "duration": 313,
    "start_time": "2022-12-28T17:35:29.302Z"
   },
   {
    "duration": 12,
    "start_time": "2022-12-28T17:35:29.994Z"
   },
   {
    "duration": 673,
    "start_time": "2022-12-28T17:35:37.086Z"
   },
   {
    "duration": 8,
    "start_time": "2022-12-28T17:35:37.763Z"
   },
   {
    "duration": 26,
    "start_time": "2022-12-28T17:35:38.488Z"
   },
   {
    "duration": 13,
    "start_time": "2022-12-28T17:35:39.980Z"
   },
   {
    "duration": 9,
    "start_time": "2022-12-28T17:35:40.778Z"
   },
   {
    "duration": 7,
    "start_time": "2022-12-28T17:35:41.295Z"
   },
   {
    "duration": 333,
    "start_time": "2022-12-28T17:35:42.994Z"
   },
   {
    "duration": 301,
    "start_time": "2022-12-28T17:35:43.652Z"
   },
   {
    "duration": 204,
    "start_time": "2022-12-28T17:35:47.390Z"
   },
   {
    "duration": 331,
    "start_time": "2022-12-28T17:35:52.101Z"
   },
   {
    "duration": 252,
    "start_time": "2022-12-28T17:35:55.181Z"
   },
   {
    "duration": 427,
    "start_time": "2022-12-28T17:35:59.080Z"
   },
   {
    "duration": 20,
    "start_time": "2022-12-28T17:36:01.978Z"
   },
   {
    "duration": 253,
    "start_time": "2022-12-28T17:36:03.387Z"
   },
   {
    "duration": 6,
    "start_time": "2022-12-28T17:36:05.523Z"
   },
   {
    "duration": 283,
    "start_time": "2022-12-28T17:36:08.859Z"
   },
   {
    "duration": 9,
    "start_time": "2022-12-28T17:36:09.893Z"
   },
   {
    "duration": 6,
    "start_time": "2022-12-28T17:36:15.537Z"
   },
   {
    "duration": 107,
    "start_time": "2022-12-28T17:36:23.288Z"
   },
   {
    "duration": 2133,
    "start_time": "2022-12-28T17:36:57.581Z"
   },
   {
    "duration": 56,
    "start_time": "2022-12-28T17:37:15.493Z"
   },
   {
    "duration": 6,
    "start_time": "2022-12-28T17:51:10.538Z"
   },
   {
    "duration": 463,
    "start_time": "2022-12-28T17:51:22.192Z"
   },
   {
    "duration": 294,
    "start_time": "2022-12-28T17:51:23.694Z"
   },
   {
    "duration": 14,
    "start_time": "2022-12-28T17:51:25.511Z"
   },
   {
    "duration": 658,
    "start_time": "2022-12-28T17:51:30.892Z"
   },
   {
    "duration": 8,
    "start_time": "2022-12-28T17:51:31.691Z"
   },
   {
    "duration": 17,
    "start_time": "2022-12-28T17:51:32.390Z"
   },
   {
    "duration": 6,
    "start_time": "2022-12-28T17:51:34.229Z"
   },
   {
    "duration": 7,
    "start_time": "2022-12-28T17:51:34.941Z"
   },
   {
    "duration": 6,
    "start_time": "2022-12-28T17:51:35.717Z"
   },
   {
    "duration": 273,
    "start_time": "2022-12-28T17:51:38.190Z"
   },
   {
    "duration": 8,
    "start_time": "2022-12-28T17:51:39.214Z"
   },
   {
    "duration": 427,
    "start_time": "2022-12-30T13:21:58.324Z"
   },
   {
    "duration": 385,
    "start_time": "2022-12-30T13:21:58.753Z"
   },
   {
    "duration": 11,
    "start_time": "2022-12-30T13:21:59.140Z"
   },
   {
    "duration": 695,
    "start_time": "2022-12-30T13:21:59.153Z"
   },
   {
    "duration": 8,
    "start_time": "2022-12-30T13:21:59.850Z"
   },
   {
    "duration": 22,
    "start_time": "2022-12-30T13:21:59.859Z"
   },
   {
    "duration": 5,
    "start_time": "2022-12-30T13:21:59.882Z"
   },
   {
    "duration": 18,
    "start_time": "2022-12-30T13:21:59.889Z"
   },
   {
    "duration": 16,
    "start_time": "2022-12-30T13:21:59.909Z"
   },
   {
    "duration": 281,
    "start_time": "2022-12-30T13:21:59.927Z"
   },
   {
    "duration": 8,
    "start_time": "2022-12-30T13:22:00.210Z"
   },
   {
    "duration": 324,
    "start_time": "2022-12-30T13:22:00.219Z"
   },
   {
    "duration": 201,
    "start_time": "2022-12-30T13:22:00.545Z"
   },
   {
    "duration": 365,
    "start_time": "2022-12-30T13:22:00.749Z"
   },
   {
    "duration": 212,
    "start_time": "2022-12-30T13:22:01.116Z"
   },
   {
    "duration": 352,
    "start_time": "2022-12-30T13:22:01.330Z"
   },
   {
    "duration": 15,
    "start_time": "2022-12-30T13:22:01.684Z"
   },
   {
    "duration": 160,
    "start_time": "2022-12-30T13:22:01.701Z"
   },
   {
    "duration": 4,
    "start_time": "2022-12-30T13:22:01.863Z"
   },
   {
    "duration": 233,
    "start_time": "2022-12-30T13:22:01.868Z"
   },
   {
    "duration": 7,
    "start_time": "2022-12-30T13:22:02.103Z"
   },
   {
    "duration": 200,
    "start_time": "2022-12-30T13:22:02.111Z"
   },
   {
    "duration": 4,
    "start_time": "2022-12-30T13:22:02.313Z"
   },
   {
    "duration": 578,
    "start_time": "2022-12-30T13:22:02.319Z"
   },
   {
    "duration": 2302,
    "start_time": "2022-12-30T13:22:02.899Z"
   },
   {
    "duration": 44,
    "start_time": "2022-12-30T13:22:21.665Z"
   },
   {
    "duration": 9,
    "start_time": "2022-12-30T13:22:26.686Z"
   },
   {
    "duration": 500,
    "start_time": "2022-12-30T13:22:36.976Z"
   },
   {
    "duration": 253,
    "start_time": "2022-12-30T13:22:38.496Z"
   },
   {
    "duration": 11,
    "start_time": "2022-12-30T13:22:39.150Z"
   },
   {
    "duration": 677,
    "start_time": "2022-12-30T13:22:42.164Z"
   },
   {
    "duration": 8,
    "start_time": "2022-12-30T13:22:43.210Z"
   },
   {
    "duration": 18,
    "start_time": "2022-12-30T13:22:43.750Z"
   },
   {
    "duration": 7,
    "start_time": "2022-12-30T13:22:44.476Z"
   },
   {
    "duration": 7,
    "start_time": "2022-12-30T13:22:45.189Z"
   },
   {
    "duration": 6,
    "start_time": "2022-12-30T13:22:45.656Z"
   },
   {
    "duration": 267,
    "start_time": "2022-12-30T13:22:46.792Z"
   },
   {
    "duration": 10,
    "start_time": "2022-12-30T13:22:47.658Z"
   },
   {
    "duration": 270,
    "start_time": "2022-12-30T13:22:53.387Z"
   },
   {
    "duration": 197,
    "start_time": "2022-12-30T13:22:55.716Z"
   },
   {
    "duration": 309,
    "start_time": "2022-12-30T13:22:57.748Z"
   },
   {
    "duration": 199,
    "start_time": "2022-12-30T13:22:58.756Z"
   },
   {
    "duration": 391,
    "start_time": "2022-12-30T13:22:59.758Z"
   },
   {
    "duration": 11,
    "start_time": "2022-12-30T13:23:01.263Z"
   },
   {
    "duration": 150,
    "start_time": "2022-12-30T13:23:01.800Z"
   },
   {
    "duration": 4,
    "start_time": "2022-12-30T13:23:03.961Z"
   },
   {
    "duration": 228,
    "start_time": "2022-12-30T13:23:06.146Z"
   },
   {
    "duration": 5,
    "start_time": "2022-12-30T13:23:06.588Z"
   },
   {
    "duration": 173,
    "start_time": "2022-12-30T13:23:07.288Z"
   },
   {
    "duration": 4,
    "start_time": "2022-12-30T13:23:09.608Z"
   },
   {
    "duration": 328,
    "start_time": "2022-12-30T13:24:13.623Z"
   },
   {
    "duration": 14,
    "start_time": "2022-12-30T13:24:56.550Z"
   },
   {
    "duration": 9,
    "start_time": "2022-12-30T13:25:27.949Z"
   },
   {
    "duration": 12,
    "start_time": "2022-12-30T13:26:08.146Z"
   },
   {
    "duration": 9,
    "start_time": "2022-12-30T13:26:28.326Z"
   },
   {
    "duration": 7,
    "start_time": "2022-12-30T13:37:19.165Z"
   },
   {
    "duration": 10,
    "start_time": "2022-12-30T13:37:25.095Z"
   },
   {
    "duration": 270,
    "start_time": "2022-12-30T13:38:47.406Z"
   },
   {
    "duration": 5,
    "start_time": "2022-12-30T13:39:59.245Z"
   },
   {
    "duration": 7,
    "start_time": "2022-12-30T13:40:20.143Z"
   },
   {
    "duration": 6,
    "start_time": "2022-12-30T13:58:22.751Z"
   },
   {
    "duration": 4,
    "start_time": "2022-12-30T13:58:39.406Z"
   },
   {
    "duration": 2320,
    "start_time": "2022-12-30T14:27:15.785Z"
   },
   {
    "duration": 6,
    "start_time": "2022-12-30T14:27:28.770Z"
   },
   {
    "duration": 5,
    "start_time": "2022-12-30T14:27:33.966Z"
   },
   {
    "duration": 47,
    "start_time": "2022-12-30T14:27:54.157Z"
   },
   {
    "duration": 1277,
    "start_time": "2022-12-30T14:28:35.894Z"
   },
   {
    "duration": 60,
    "start_time": "2022-12-30T14:28:42.807Z"
   },
   {
    "duration": 491,
    "start_time": "2023-01-06T10:43:17.519Z"
   },
   {
    "duration": 391,
    "start_time": "2023-01-06T10:43:18.100Z"
   },
   {
    "duration": 14,
    "start_time": "2023-01-06T10:43:19.179Z"
   },
   {
    "duration": 654,
    "start_time": "2023-01-06T10:43:20.999Z"
   },
   {
    "duration": 8,
    "start_time": "2023-01-06T10:43:21.655Z"
   },
   {
    "duration": 18,
    "start_time": "2023-01-06T10:43:21.664Z"
   },
   {
    "duration": 6,
    "start_time": "2023-01-06T10:43:21.919Z"
   },
   {
    "duration": 6,
    "start_time": "2023-01-06T10:43:22.101Z"
   },
   {
    "duration": 7,
    "start_time": "2023-01-06T10:43:22.339Z"
   },
   {
    "duration": 270,
    "start_time": "2023-01-06T10:43:23.579Z"
   },
   {
    "duration": 11,
    "start_time": "2023-01-06T10:43:23.939Z"
   },
   {
    "duration": 296,
    "start_time": "2023-01-06T10:43:24.599Z"
   },
   {
    "duration": 204,
    "start_time": "2023-01-06T10:43:27.299Z"
   },
   {
    "duration": 378,
    "start_time": "2023-01-06T10:43:29.780Z"
   },
   {
    "duration": 213,
    "start_time": "2023-01-06T10:43:32.739Z"
   },
   {
    "duration": 370,
    "start_time": "2023-01-06T10:43:35.819Z"
   },
   {
    "duration": 13,
    "start_time": "2023-01-06T10:43:39.619Z"
   },
   {
    "duration": 128,
    "start_time": "2023-01-06T10:43:45.239Z"
   },
   {
    "duration": 4,
    "start_time": "2023-01-06T10:43:47.080Z"
   },
   {
    "duration": 239,
    "start_time": "2023-01-06T10:43:49.979Z"
   },
   {
    "duration": 6,
    "start_time": "2023-01-06T10:43:50.799Z"
   },
   {
    "duration": 192,
    "start_time": "2023-01-06T10:43:51.700Z"
   },
   {
    "duration": 5,
    "start_time": "2023-01-06T10:43:54.659Z"
   },
   {
    "duration": 93,
    "start_time": "2023-01-06T10:44:00.779Z"
   },
   {
    "duration": 152,
    "start_time": "2023-01-06T10:45:53.288Z"
   },
   {
    "duration": 7,
    "start_time": "2023-01-06T10:45:54.042Z"
   },
   {
    "duration": 7,
    "start_time": "2023-01-06T10:46:46.081Z"
   },
   {
    "duration": 20,
    "start_time": "2023-01-06T10:46:57.341Z"
   },
   {
    "duration": 5,
    "start_time": "2023-01-06T10:48:22.999Z"
   },
   {
    "duration": 394,
    "start_time": "2023-01-06T10:52:39.758Z"
   },
   {
    "duration": 269,
    "start_time": "2023-01-06T10:52:40.154Z"
   },
   {
    "duration": 11,
    "start_time": "2023-01-06T10:52:40.425Z"
   },
   {
    "duration": 543,
    "start_time": "2023-01-06T10:52:40.437Z"
   },
   {
    "duration": 8,
    "start_time": "2023-01-06T10:52:40.982Z"
   },
   {
    "duration": 21,
    "start_time": "2023-01-06T10:52:40.992Z"
   },
   {
    "duration": 6,
    "start_time": "2023-01-06T10:52:41.014Z"
   },
   {
    "duration": 7,
    "start_time": "2023-01-06T10:52:41.021Z"
   },
   {
    "duration": 5,
    "start_time": "2023-01-06T10:52:41.030Z"
   },
   {
    "duration": 310,
    "start_time": "2023-01-06T10:52:41.036Z"
   },
   {
    "duration": 13,
    "start_time": "2023-01-06T10:52:41.348Z"
   },
   {
    "duration": 276,
    "start_time": "2023-01-06T10:52:41.363Z"
   },
   {
    "duration": 206,
    "start_time": "2023-01-06T10:52:41.640Z"
   },
   {
    "duration": 289,
    "start_time": "2023-01-06T10:52:41.849Z"
   },
   {
    "duration": 225,
    "start_time": "2023-01-06T10:52:42.140Z"
   },
   {
    "duration": 358,
    "start_time": "2023-01-06T10:52:42.366Z"
   },
   {
    "duration": 12,
    "start_time": "2023-01-06T10:52:42.726Z"
   },
   {
    "duration": 147,
    "start_time": "2023-01-06T10:52:42.740Z"
   },
   {
    "duration": 5,
    "start_time": "2023-01-06T10:52:42.889Z"
   },
   {
    "duration": 245,
    "start_time": "2023-01-06T10:52:42.895Z"
   },
   {
    "duration": 6,
    "start_time": "2023-01-06T10:52:43.141Z"
   },
   {
    "duration": 191,
    "start_time": "2023-01-06T10:52:43.148Z"
   },
   {
    "duration": 4,
    "start_time": "2023-01-06T10:52:43.341Z"
   },
   {
    "duration": 135,
    "start_time": "2023-01-06T10:52:43.347Z"
   },
   {
    "duration": 7,
    "start_time": "2023-01-06T10:52:43.483Z"
   },
   {
    "duration": 21,
    "start_time": "2023-01-06T10:52:43.491Z"
   },
   {
    "duration": 20,
    "start_time": "2023-01-06T10:52:43.514Z"
   },
   {
    "duration": 10,
    "start_time": "2023-01-06T10:52:43.535Z"
   },
   {
    "duration": 789,
    "start_time": "2023-01-06T10:52:43.547Z"
   },
   {
    "duration": 0,
    "start_time": "2023-01-06T10:52:44.338Z"
   },
   {
    "duration": 31,
    "start_time": "2023-01-06T10:54:20.779Z"
   },
   {
    "duration": 15,
    "start_time": "2023-01-06T10:57:35.118Z"
   },
   {
    "duration": 434,
    "start_time": "2023-01-08T08:38:39.688Z"
   },
   {
    "duration": 293,
    "start_time": "2023-01-08T08:38:40.125Z"
   },
   {
    "duration": 12,
    "start_time": "2023-01-08T08:38:40.420Z"
   },
   {
    "duration": 622,
    "start_time": "2023-01-08T08:38:40.434Z"
   },
   {
    "duration": 9,
    "start_time": "2023-01-08T08:38:41.058Z"
   },
   {
    "duration": 21,
    "start_time": "2023-01-08T08:38:41.068Z"
   },
   {
    "duration": 7,
    "start_time": "2023-01-08T08:38:41.090Z"
   },
   {
    "duration": 15,
    "start_time": "2023-01-08T08:38:41.098Z"
   },
   {
    "duration": 36,
    "start_time": "2023-01-08T08:38:41.115Z"
   },
   {
    "duration": 296,
    "start_time": "2023-01-08T08:38:41.154Z"
   },
   {
    "duration": 12,
    "start_time": "2023-01-08T08:38:41.452Z"
   },
   {
    "duration": 313,
    "start_time": "2023-01-08T08:38:41.466Z"
   },
   {
    "duration": 217,
    "start_time": "2023-01-08T08:38:41.781Z"
   },
   {
    "duration": 318,
    "start_time": "2023-01-08T08:38:42.000Z"
   },
   {
    "duration": 225,
    "start_time": "2023-01-08T08:38:42.319Z"
   },
   {
    "duration": 389,
    "start_time": "2023-01-08T08:38:42.550Z"
   },
   {
    "duration": 18,
    "start_time": "2023-01-08T08:38:42.941Z"
   },
   {
    "duration": 168,
    "start_time": "2023-01-08T08:38:42.961Z"
   },
   {
    "duration": 4,
    "start_time": "2023-01-08T08:38:43.131Z"
   },
   {
    "duration": 248,
    "start_time": "2023-01-08T08:38:43.136Z"
   },
   {
    "duration": 6,
    "start_time": "2023-01-08T08:38:43.385Z"
   },
   {
    "duration": 200,
    "start_time": "2023-01-08T08:38:43.392Z"
   },
   {
    "duration": 5,
    "start_time": "2023-01-08T08:38:43.594Z"
   },
   {
    "duration": 152,
    "start_time": "2023-01-08T08:38:43.600Z"
   },
   {
    "duration": 7,
    "start_time": "2023-01-08T08:38:43.754Z"
   },
   {
    "duration": 9,
    "start_time": "2023-01-08T08:38:43.763Z"
   },
   {
    "duration": 27,
    "start_time": "2023-01-08T08:38:43.774Z"
   },
   {
    "duration": 11,
    "start_time": "2023-01-08T08:38:43.805Z"
   },
   {
    "duration": 64,
    "start_time": "2023-01-08T08:38:43.818Z"
   },
   {
    "duration": 16,
    "start_time": "2023-01-08T08:38:43.884Z"
   },
   {
    "duration": 432,
    "start_time": "2023-01-08T08:41:04.188Z"
   },
   {
    "duration": 310,
    "start_time": "2023-01-08T08:41:04.622Z"
   },
   {
    "duration": 18,
    "start_time": "2023-01-08T08:41:04.934Z"
   },
   {
    "duration": 598,
    "start_time": "2023-01-08T08:41:04.954Z"
   },
   {
    "duration": 9,
    "start_time": "2023-01-08T08:41:05.555Z"
   },
   {
    "duration": 39,
    "start_time": "2023-01-08T08:41:05.566Z"
   },
   {
    "duration": 22,
    "start_time": "2023-01-08T08:41:05.606Z"
   },
   {
    "duration": 16,
    "start_time": "2023-01-08T08:41:05.630Z"
   },
   {
    "duration": 12,
    "start_time": "2023-01-08T08:41:05.648Z"
   },
   {
    "duration": 310,
    "start_time": "2023-01-08T08:41:05.663Z"
   },
   {
    "duration": 13,
    "start_time": "2023-01-08T08:41:05.974Z"
   },
   {
    "duration": 334,
    "start_time": "2023-01-08T08:41:05.988Z"
   },
   {
    "duration": 238,
    "start_time": "2023-01-08T08:41:06.324Z"
   },
   {
    "duration": 330,
    "start_time": "2023-01-08T08:41:06.564Z"
   },
   {
    "duration": 251,
    "start_time": "2023-01-08T08:41:06.896Z"
   },
   {
    "duration": 410,
    "start_time": "2023-01-08T08:41:07.149Z"
   },
   {
    "duration": 14,
    "start_time": "2023-01-08T08:41:07.561Z"
   },
   {
    "duration": 170,
    "start_time": "2023-01-08T08:41:07.577Z"
   },
   {
    "duration": 7,
    "start_time": "2023-01-08T08:41:07.750Z"
   },
   {
    "duration": 288,
    "start_time": "2023-01-08T08:41:07.759Z"
   },
   {
    "duration": 8,
    "start_time": "2023-01-08T08:41:08.052Z"
   },
   {
    "duration": 251,
    "start_time": "2023-01-08T08:41:08.062Z"
   },
   {
    "duration": 5,
    "start_time": "2023-01-08T08:41:08.315Z"
   },
   {
    "duration": 177,
    "start_time": "2023-01-08T08:41:08.321Z"
   },
   {
    "duration": 7,
    "start_time": "2023-01-08T08:41:08.500Z"
   },
   {
    "duration": 8,
    "start_time": "2023-01-08T08:41:08.509Z"
   },
   {
    "duration": 50,
    "start_time": "2023-01-08T08:41:08.519Z"
   },
   {
    "duration": 15,
    "start_time": "2023-01-08T08:41:08.572Z"
   },
   {
    "duration": 73,
    "start_time": "2023-01-08T08:41:08.589Z"
   },
   {
    "duration": 19,
    "start_time": "2023-01-08T08:41:08.664Z"
   },
   {
    "duration": 530,
    "start_time": "2023-01-08T08:41:43.850Z"
   },
   {
    "duration": 295,
    "start_time": "2023-01-08T08:41:44.383Z"
   },
   {
    "duration": 12,
    "start_time": "2023-01-08T08:41:44.680Z"
   },
   {
    "duration": 627,
    "start_time": "2023-01-08T08:41:44.694Z"
   },
   {
    "duration": 9,
    "start_time": "2023-01-08T08:41:45.323Z"
   },
   {
    "duration": 25,
    "start_time": "2023-01-08T08:41:45.334Z"
   },
   {
    "duration": 6,
    "start_time": "2023-01-08T08:41:45.361Z"
   },
   {
    "duration": 13,
    "start_time": "2023-01-08T08:41:45.369Z"
   },
   {
    "duration": 5,
    "start_time": "2023-01-08T08:41:45.384Z"
   },
   {
    "duration": 306,
    "start_time": "2023-01-08T08:41:45.391Z"
   },
   {
    "duration": 12,
    "start_time": "2023-01-08T08:41:45.699Z"
   },
   {
    "duration": 322,
    "start_time": "2023-01-08T08:41:45.713Z"
   },
   {
    "duration": 244,
    "start_time": "2023-01-08T08:41:46.037Z"
   },
   {
    "duration": 311,
    "start_time": "2023-01-08T08:41:46.284Z"
   },
   {
    "duration": 238,
    "start_time": "2023-01-08T08:41:46.597Z"
   },
   {
    "duration": 425,
    "start_time": "2023-01-08T08:41:46.837Z"
   },
   {
    "duration": 14,
    "start_time": "2023-01-08T08:41:47.264Z"
   },
   {
    "duration": 172,
    "start_time": "2023-01-08T08:41:47.281Z"
   },
   {
    "duration": 5,
    "start_time": "2023-01-08T08:41:47.455Z"
   },
   {
    "duration": 259,
    "start_time": "2023-01-08T08:41:47.463Z"
   },
   {
    "duration": 6,
    "start_time": "2023-01-08T08:41:47.724Z"
   },
   {
    "duration": 210,
    "start_time": "2023-01-08T08:41:47.731Z"
   },
   {
    "duration": 9,
    "start_time": "2023-01-08T08:41:47.943Z"
   },
   {
    "duration": 151,
    "start_time": "2023-01-08T08:41:47.954Z"
   },
   {
    "duration": 7,
    "start_time": "2023-01-08T08:41:48.106Z"
   },
   {
    "duration": 14,
    "start_time": "2023-01-08T08:41:48.115Z"
   },
   {
    "duration": 48,
    "start_time": "2023-01-08T08:41:48.131Z"
   },
   {
    "duration": 14,
    "start_time": "2023-01-08T08:41:48.181Z"
   },
   {
    "duration": 70,
    "start_time": "2023-01-08T08:41:48.196Z"
   },
   {
    "duration": 16,
    "start_time": "2023-01-08T08:41:48.268Z"
   },
   {
    "duration": 54,
    "start_time": "2023-02-25T14:41:51.684Z"
   },
   {
    "duration": 498,
    "start_time": "2023-02-25T14:41:59.528Z"
   },
   {
    "duration": 265,
    "start_time": "2023-02-25T14:42:00.028Z"
   },
   {
    "duration": 13,
    "start_time": "2023-02-25T14:42:00.295Z"
   },
   {
    "duration": 706,
    "start_time": "2023-02-25T14:42:00.311Z"
   },
   {
    "duration": 9,
    "start_time": "2023-02-25T14:42:01.019Z"
   },
   {
    "duration": 48,
    "start_time": "2023-02-25T14:42:01.030Z"
   },
   {
    "duration": 35,
    "start_time": "2023-02-25T14:42:01.079Z"
   },
   {
    "duration": 37,
    "start_time": "2023-02-25T14:42:01.115Z"
   },
   {
    "duration": 24,
    "start_time": "2023-02-25T14:42:01.153Z"
   },
   {
    "duration": 40,
    "start_time": "2023-02-25T14:42:01.180Z"
   },
   {
    "duration": 318,
    "start_time": "2023-02-25T14:42:01.222Z"
   },
   {
    "duration": 13,
    "start_time": "2023-02-25T14:42:01.542Z"
   },
   {
    "duration": 294,
    "start_time": "2023-02-25T14:42:01.556Z"
   },
   {
    "duration": 236,
    "start_time": "2023-02-25T14:42:01.852Z"
   },
   {
    "duration": 344,
    "start_time": "2023-02-25T14:42:02.089Z"
   },
   {
    "duration": 228,
    "start_time": "2023-02-25T14:42:02.435Z"
   },
   {
    "duration": 406,
    "start_time": "2023-02-25T14:42:02.665Z"
   },
   {
    "duration": 14,
    "start_time": "2023-02-25T14:42:03.072Z"
   },
   {
    "duration": 168,
    "start_time": "2023-02-25T14:42:03.087Z"
   },
   {
    "duration": 4,
    "start_time": "2023-02-25T14:42:03.257Z"
   },
   {
    "duration": 252,
    "start_time": "2023-02-25T14:42:03.263Z"
   },
   {
    "duration": 12,
    "start_time": "2023-02-25T14:42:03.517Z"
   },
   {
    "duration": 198,
    "start_time": "2023-02-25T14:42:03.531Z"
   },
   {
    "duration": 4,
    "start_time": "2023-02-25T14:42:03.731Z"
   },
   {
    "duration": 144,
    "start_time": "2023-02-25T14:42:03.737Z"
   },
   {
    "duration": 7,
    "start_time": "2023-02-25T14:42:03.883Z"
   },
   {
    "duration": 7,
    "start_time": "2023-02-25T14:42:03.891Z"
   },
   {
    "duration": 40,
    "start_time": "2023-02-25T14:42:03.901Z"
   },
   {
    "duration": 11,
    "start_time": "2023-02-25T14:42:03.943Z"
   },
   {
    "duration": 34,
    "start_time": "2023-02-25T14:42:03.956Z"
   },
   {
    "duration": 40,
    "start_time": "2023-02-25T14:42:03.992Z"
   },
   {
    "duration": 8,
    "start_time": "2023-02-25T14:42:26.221Z"
   },
   {
    "duration": 447,
    "start_time": "2023-03-04T11:47:54.562Z"
   },
   {
    "duration": 426,
    "start_time": "2023-03-04T11:47:55.011Z"
   },
   {
    "duration": 12,
    "start_time": "2023-03-04T11:47:55.439Z"
   },
   {
    "duration": 670,
    "start_time": "2023-03-04T11:47:55.453Z"
   },
   {
    "duration": 8,
    "start_time": "2023-03-04T11:47:56.125Z"
   },
   {
    "duration": 18,
    "start_time": "2023-03-04T11:47:56.134Z"
   },
   {
    "duration": 5,
    "start_time": "2023-03-04T11:47:56.154Z"
   },
   {
    "duration": 8,
    "start_time": "2023-03-04T11:47:56.161Z"
   },
   {
    "duration": 8,
    "start_time": "2023-03-04T11:47:56.170Z"
   },
   {
    "duration": 9,
    "start_time": "2023-03-04T11:47:56.180Z"
   },
   {
    "duration": 297,
    "start_time": "2023-03-04T11:47:56.191Z"
   },
   {
    "duration": 12,
    "start_time": "2023-03-04T11:47:56.490Z"
   },
   {
    "duration": 286,
    "start_time": "2023-03-04T11:47:56.503Z"
   },
   {
    "duration": 211,
    "start_time": "2023-03-04T11:47:56.791Z"
   },
   {
    "duration": 378,
    "start_time": "2023-03-04T11:47:57.004Z"
   },
   {
    "duration": 220,
    "start_time": "2023-03-04T11:47:57.383Z"
   },
   {
    "duration": 379,
    "start_time": "2023-03-04T11:47:57.612Z"
   },
   {
    "duration": 21,
    "start_time": "2023-03-04T11:47:57.993Z"
   },
   {
    "duration": 152,
    "start_time": "2023-03-04T11:47:58.016Z"
   },
   {
    "duration": 4,
    "start_time": "2023-03-04T11:47:58.170Z"
   },
   {
    "duration": 247,
    "start_time": "2023-03-04T11:47:58.176Z"
   },
   {
    "duration": 6,
    "start_time": "2023-03-04T11:47:58.425Z"
   },
   {
    "duration": 195,
    "start_time": "2023-03-04T11:47:58.433Z"
   },
   {
    "duration": 4,
    "start_time": "2023-03-04T11:47:58.631Z"
   },
   {
    "duration": 157,
    "start_time": "2023-03-04T11:47:58.636Z"
   },
   {
    "duration": 8,
    "start_time": "2023-03-04T11:47:58.795Z"
   },
   {
    "duration": 7,
    "start_time": "2023-03-04T11:47:58.813Z"
   },
   {
    "duration": 23,
    "start_time": "2023-03-04T11:47:58.823Z"
   },
   {
    "duration": 11,
    "start_time": "2023-03-04T11:47:58.847Z"
   },
   {
    "duration": 55,
    "start_time": "2023-03-04T11:47:58.860Z"
   },
   {
    "duration": 15,
    "start_time": "2023-03-04T11:47:58.916Z"
   }
  ],
  "kernelspec": {
   "display_name": "Python 3 (ipykernel)",
   "language": "python",
   "name": "python3"
  },
  "language_info": {
   "codemirror_mode": {
    "name": "ipython",
    "version": 3
   },
   "file_extension": ".py",
   "mimetype": "text/x-python",
   "name": "python",
   "nbconvert_exporter": "python",
   "pygments_lexer": "ipython3",
   "version": "3.9.5"
  },
  "toc": {
   "base_numbering": 1,
   "nav_menu": {},
   "number_sections": true,
   "sideBar": true,
   "skip_h1_title": true,
   "title_cell": "Table of Contents",
   "title_sidebar": "Contents",
   "toc_cell": false,
   "toc_position": {},
   "toc_section_display": true,
   "toc_window_display": false
  }
 },
 "nbformat": 4,
 "nbformat_minor": 2
}
