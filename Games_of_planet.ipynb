{
 "cells": [
  {
   "cell_type": "markdown",
   "metadata": {},
   "source": [
    "<div class=\"alert alert-info\">\n",
    "   \n",
    "    \n",
    "Анализ для интернет-магазине «Стримчик». Из открытых источников доступны исторические данные о продажах игр, оценки пользователей и экспертов, жанры и платформы (например, Xbox или PlayStation). Проводим анализ, чтобы выявить определяющие успешность игры закономерности, что позволит сделать ставку на потенциально популярный продукт и спланировать рекламные кампании в 2017 году.\n",
    "  Для этого у нас есть данные до 2016 \n",
    "    \n",
    "\n",
    "</div>"
   ]
  },
  {
   "cell_type": "code",
   "execution_count": 57,
   "metadata": {},
   "outputs": [],
   "source": [
    "import pandas as pd\n",
    "from scipy import stats as st\n",
    "import numpy as np\n",
    "import matplotlib.pyplot as plt\n",
    "import seaborn\n",
    "import matplotlib as mpl\n",
    "import seaborn as sns\n",
    "import warnings; warnings.filterwarnings(action='once')\n"
   ]
  },
  {
   "cell_type": "markdown",
   "metadata": {},
   "source": [
    "# Шаг 1. Откройте файл с данными и изучите общую информацию"
   ]
  },
  {
   "cell_type": "code",
   "execution_count": 58,
   "metadata": {},
   "outputs": [],
   "source": [
    "data = pd.read_csv('/datasets/games.csv')"
   ]
  },
  {
   "cell_type": "markdown",
   "metadata": {},
   "source": [
    "# Шаг 2. Подготовьте данные"
   ]
  },
  {
   "cell_type": "markdown",
   "metadata": {},
   "source": [
    "## Замените названия столбцов (приведите к нижнему регистру);"
   ]
  },
  {
   "cell_type": "code",
   "execution_count": 59,
   "metadata": {},
   "outputs": [
    {
     "data": {
      "text/html": [
       "<div>\n",
       "<style scoped>\n",
       "    .dataframe tbody tr th:only-of-type {\n",
       "        vertical-align: middle;\n",
       "    }\n",
       "\n",
       "    .dataframe tbody tr th {\n",
       "        vertical-align: top;\n",
       "    }\n",
       "\n",
       "    .dataframe thead th {\n",
       "        text-align: right;\n",
       "    }\n",
       "</style>\n",
       "<table border=\"1\" class=\"dataframe\">\n",
       "  <thead>\n",
       "    <tr style=\"text-align: right;\">\n",
       "      <th></th>\n",
       "      <th>Name</th>\n",
       "      <th>Platform</th>\n",
       "      <th>Year_of_Release</th>\n",
       "      <th>Genre</th>\n",
       "      <th>NA_sales</th>\n",
       "      <th>EU_sales</th>\n",
       "      <th>JP_sales</th>\n",
       "      <th>Other_sales</th>\n",
       "      <th>Critic_Score</th>\n",
       "      <th>User_Score</th>\n",
       "      <th>Rating</th>\n",
       "    </tr>\n",
       "  </thead>\n",
       "  <tbody>\n",
       "    <tr>\n",
       "      <th>0</th>\n",
       "      <td>Wii Sports</td>\n",
       "      <td>Wii</td>\n",
       "      <td>2006.0</td>\n",
       "      <td>Sports</td>\n",
       "      <td>41.36</td>\n",
       "      <td>28.96</td>\n",
       "      <td>3.77</td>\n",
       "      <td>8.45</td>\n",
       "      <td>76.0</td>\n",
       "      <td>8</td>\n",
       "      <td>E</td>\n",
       "    </tr>\n",
       "    <tr>\n",
       "      <th>1</th>\n",
       "      <td>Super Mario Bros.</td>\n",
       "      <td>NES</td>\n",
       "      <td>1985.0</td>\n",
       "      <td>Platform</td>\n",
       "      <td>29.08</td>\n",
       "      <td>3.58</td>\n",
       "      <td>6.81</td>\n",
       "      <td>0.77</td>\n",
       "      <td>NaN</td>\n",
       "      <td>NaN</td>\n",
       "      <td>NaN</td>\n",
       "    </tr>\n",
       "    <tr>\n",
       "      <th>2</th>\n",
       "      <td>Mario Kart Wii</td>\n",
       "      <td>Wii</td>\n",
       "      <td>2008.0</td>\n",
       "      <td>Racing</td>\n",
       "      <td>15.68</td>\n",
       "      <td>12.76</td>\n",
       "      <td>3.79</td>\n",
       "      <td>3.29</td>\n",
       "      <td>82.0</td>\n",
       "      <td>8.3</td>\n",
       "      <td>E</td>\n",
       "    </tr>\n",
       "    <tr>\n",
       "      <th>3</th>\n",
       "      <td>Wii Sports Resort</td>\n",
       "      <td>Wii</td>\n",
       "      <td>2009.0</td>\n",
       "      <td>Sports</td>\n",
       "      <td>15.61</td>\n",
       "      <td>10.93</td>\n",
       "      <td>3.28</td>\n",
       "      <td>2.95</td>\n",
       "      <td>80.0</td>\n",
       "      <td>8</td>\n",
       "      <td>E</td>\n",
       "    </tr>\n",
       "    <tr>\n",
       "      <th>4</th>\n",
       "      <td>Pokemon Red/Pokemon Blue</td>\n",
       "      <td>GB</td>\n",
       "      <td>1996.0</td>\n",
       "      <td>Role-Playing</td>\n",
       "      <td>11.27</td>\n",
       "      <td>8.89</td>\n",
       "      <td>10.22</td>\n",
       "      <td>1.00</td>\n",
       "      <td>NaN</td>\n",
       "      <td>NaN</td>\n",
       "      <td>NaN</td>\n",
       "    </tr>\n",
       "  </tbody>\n",
       "</table>\n",
       "</div>"
      ],
      "text/plain": [
       "                       Name Platform  Year_of_Release         Genre  NA_sales  \\\n",
       "0                Wii Sports      Wii           2006.0        Sports     41.36   \n",
       "1         Super Mario Bros.      NES           1985.0      Platform     29.08   \n",
       "2            Mario Kart Wii      Wii           2008.0        Racing     15.68   \n",
       "3         Wii Sports Resort      Wii           2009.0        Sports     15.61   \n",
       "4  Pokemon Red/Pokemon Blue       GB           1996.0  Role-Playing     11.27   \n",
       "\n",
       "   EU_sales  JP_sales  Other_sales  Critic_Score User_Score Rating  \n",
       "0     28.96      3.77         8.45          76.0          8      E  \n",
       "1      3.58      6.81         0.77           NaN        NaN    NaN  \n",
       "2     12.76      3.79         3.29          82.0        8.3      E  \n",
       "3     10.93      3.28         2.95          80.0          8      E  \n",
       "4      8.89     10.22         1.00           NaN        NaN    NaN  "
      ]
     },
     "execution_count": 59,
     "metadata": {},
     "output_type": "execute_result"
    }
   ],
   "source": [
    "data.head()"
   ]
  },
  {
   "cell_type": "code",
   "execution_count": 60,
   "metadata": {},
   "outputs": [],
   "source": [
    "data.columns = data.columns.str.lower()"
   ]
  },
  {
   "cell_type": "code",
   "execution_count": 61,
   "metadata": {},
   "outputs": [
    {
     "data": {
      "text/html": [
       "<div>\n",
       "<style scoped>\n",
       "    .dataframe tbody tr th:only-of-type {\n",
       "        vertical-align: middle;\n",
       "    }\n",
       "\n",
       "    .dataframe tbody tr th {\n",
       "        vertical-align: top;\n",
       "    }\n",
       "\n",
       "    .dataframe thead th {\n",
       "        text-align: right;\n",
       "    }\n",
       "</style>\n",
       "<table border=\"1\" class=\"dataframe\">\n",
       "  <thead>\n",
       "    <tr style=\"text-align: right;\">\n",
       "      <th></th>\n",
       "      <th>name</th>\n",
       "      <th>platform</th>\n",
       "      <th>year_of_release</th>\n",
       "      <th>genre</th>\n",
       "      <th>na_sales</th>\n",
       "      <th>eu_sales</th>\n",
       "      <th>jp_sales</th>\n",
       "      <th>other_sales</th>\n",
       "      <th>critic_score</th>\n",
       "      <th>user_score</th>\n",
       "      <th>rating</th>\n",
       "    </tr>\n",
       "  </thead>\n",
       "  <tbody>\n",
       "    <tr>\n",
       "      <th>0</th>\n",
       "      <td>Wii Sports</td>\n",
       "      <td>Wii</td>\n",
       "      <td>2006.0</td>\n",
       "      <td>Sports</td>\n",
       "      <td>41.36</td>\n",
       "      <td>28.96</td>\n",
       "      <td>3.77</td>\n",
       "      <td>8.45</td>\n",
       "      <td>76.0</td>\n",
       "      <td>8</td>\n",
       "      <td>E</td>\n",
       "    </tr>\n",
       "    <tr>\n",
       "      <th>1</th>\n",
       "      <td>Super Mario Bros.</td>\n",
       "      <td>NES</td>\n",
       "      <td>1985.0</td>\n",
       "      <td>Platform</td>\n",
       "      <td>29.08</td>\n",
       "      <td>3.58</td>\n",
       "      <td>6.81</td>\n",
       "      <td>0.77</td>\n",
       "      <td>NaN</td>\n",
       "      <td>NaN</td>\n",
       "      <td>NaN</td>\n",
       "    </tr>\n",
       "    <tr>\n",
       "      <th>2</th>\n",
       "      <td>Mario Kart Wii</td>\n",
       "      <td>Wii</td>\n",
       "      <td>2008.0</td>\n",
       "      <td>Racing</td>\n",
       "      <td>15.68</td>\n",
       "      <td>12.76</td>\n",
       "      <td>3.79</td>\n",
       "      <td>3.29</td>\n",
       "      <td>82.0</td>\n",
       "      <td>8.3</td>\n",
       "      <td>E</td>\n",
       "    </tr>\n",
       "    <tr>\n",
       "      <th>3</th>\n",
       "      <td>Wii Sports Resort</td>\n",
       "      <td>Wii</td>\n",
       "      <td>2009.0</td>\n",
       "      <td>Sports</td>\n",
       "      <td>15.61</td>\n",
       "      <td>10.93</td>\n",
       "      <td>3.28</td>\n",
       "      <td>2.95</td>\n",
       "      <td>80.0</td>\n",
       "      <td>8</td>\n",
       "      <td>E</td>\n",
       "    </tr>\n",
       "    <tr>\n",
       "      <th>4</th>\n",
       "      <td>Pokemon Red/Pokemon Blue</td>\n",
       "      <td>GB</td>\n",
       "      <td>1996.0</td>\n",
       "      <td>Role-Playing</td>\n",
       "      <td>11.27</td>\n",
       "      <td>8.89</td>\n",
       "      <td>10.22</td>\n",
       "      <td>1.00</td>\n",
       "      <td>NaN</td>\n",
       "      <td>NaN</td>\n",
       "      <td>NaN</td>\n",
       "    </tr>\n",
       "  </tbody>\n",
       "</table>\n",
       "</div>"
      ],
      "text/plain": [
       "                       name platform  year_of_release         genre  na_sales  \\\n",
       "0                Wii Sports      Wii           2006.0        Sports     41.36   \n",
       "1         Super Mario Bros.      NES           1985.0      Platform     29.08   \n",
       "2            Mario Kart Wii      Wii           2008.0        Racing     15.68   \n",
       "3         Wii Sports Resort      Wii           2009.0        Sports     15.61   \n",
       "4  Pokemon Red/Pokemon Blue       GB           1996.0  Role-Playing     11.27   \n",
       "\n",
       "   eu_sales  jp_sales  other_sales  critic_score user_score rating  \n",
       "0     28.96      3.77         8.45          76.0          8      E  \n",
       "1      3.58      6.81         0.77           NaN        NaN    NaN  \n",
       "2     12.76      3.79         3.29          82.0        8.3      E  \n",
       "3     10.93      3.28         2.95          80.0          8      E  \n",
       "4      8.89     10.22         1.00           NaN        NaN    NaN  "
      ]
     },
     "execution_count": 61,
     "metadata": {},
     "output_type": "execute_result"
    }
   ],
   "source": [
    "data.head()"
   ]
  },
  {
   "cell_type": "markdown",
   "metadata": {},
   "source": [
    "## Преобразуйте данные в нужные типы. Опишите, в каких столбцах заменили тип данных и почему"
   ]
  },
  {
   "cell_type": "code",
   "execution_count": 62,
   "metadata": {},
   "outputs": [
    {
     "name": "stdout",
     "output_type": "stream",
     "text": [
      "<class 'pandas.core.frame.DataFrame'>\n",
      "RangeIndex: 16715 entries, 0 to 16714\n",
      "Data columns (total 11 columns):\n",
      " #   Column           Non-Null Count  Dtype  \n",
      "---  ------           --------------  -----  \n",
      " 0   name             16713 non-null  object \n",
      " 1   platform         16715 non-null  object \n",
      " 2   year_of_release  16446 non-null  float64\n",
      " 3   genre            16713 non-null  object \n",
      " 4   na_sales         16715 non-null  float64\n",
      " 5   eu_sales         16715 non-null  float64\n",
      " 6   jp_sales         16715 non-null  float64\n",
      " 7   other_sales      16715 non-null  float64\n",
      " 8   critic_score     8137 non-null   float64\n",
      " 9   user_score       10014 non-null  object \n",
      " 10  rating           9949 non-null   object \n",
      "dtypes: float64(6), object(5)\n",
      "memory usage: 1.4+ MB\n"
     ]
    }
   ],
   "source": [
    "data.info()"
   ]
  },
  {
   "cell_type": "code",
   "execution_count": 63,
   "metadata": {},
   "outputs": [
    {
     "data": {
      "text/plain": [
       "array(['8', nan, '8.3', '8.5', '6.6', '8.4', '8.6', '7.7', '6.3', '7.4',\n",
       "       '8.2', '9', '7.9', '8.1', '8.7', '7.1', '3.4', '5.3', '4.8', '3.2',\n",
       "       '8.9', '6.4', '7.8', '7.5', '2.6', '7.2', '9.2', '7', '7.3', '4.3',\n",
       "       '7.6', '5.7', '5', '9.1', '6.5', 'tbd', '8.8', '6.9', '9.4', '6.8',\n",
       "       '6.1', '6.7', '5.4', '4', '4.9', '4.5', '9.3', '6.2', '4.2', '6',\n",
       "       '3.7', '4.1', '5.8', '5.6', '5.5', '4.4', '4.6', '5.9', '3.9',\n",
       "       '3.1', '2.9', '5.2', '3.3', '4.7', '5.1', '3.5', '2.5', '1.9', '3',\n",
       "       '2.7', '2.2', '2', '9.5', '2.1', '3.6', '2.8', '1.8', '3.8', '0',\n",
       "       '1.6', '9.6', '2.4', '1.7', '1.1', '0.3', '1.5', '0.7', '1.2',\n",
       "       '2.3', '0.5', '1.3', '0.2', '0.6', '1.4', '0.9', '1', '9.7'],\n",
       "      dtype=object)"
      ]
     },
     "execution_count": 63,
     "metadata": {},
     "output_type": "execute_result"
    }
   ],
   "source": [
    "data['user_score'].unique()"
   ]
  },
  {
   "cell_type": "markdown",
   "metadata": {},
   "source": [
    "Заменем в стобце \"оценка пользовотель\" абвиатуру 'tbd' на пропуск, т.к. это и есть пропуск(ожидает оценки). так же изменим тип object на float64, для удобства."
   ]
  },
  {
   "cell_type": "code",
   "execution_count": 64,
   "metadata": {},
   "outputs": [
    {
     "data": {
      "text/plain": [
       "array([8. , nan, 8.3, 8.5, 6.6, 8.4, 8.6, 7.7, 6.3, 7.4, 8.2, 9. , 7.9,\n",
       "       8.1, 8.7, 7.1, 3.4, 5.3, 4.8, 3.2, 8.9, 6.4, 7.8, 7.5, 2.6, 7.2,\n",
       "       9.2, 7. , 7.3, 4.3, 7.6, 5.7, 5. , 9.1, 6.5, 8.8, 6.9, 9.4, 6.8,\n",
       "       6.1, 6.7, 5.4, 4. , 4.9, 4.5, 9.3, 6.2, 4.2, 6. , 3.7, 4.1, 5.8,\n",
       "       5.6, 5.5, 4.4, 4.6, 5.9, 3.9, 3.1, 2.9, 5.2, 3.3, 4.7, 5.1, 3.5,\n",
       "       2.5, 1.9, 3. , 2.7, 2.2, 2. , 9.5, 2.1, 3.6, 2.8, 1.8, 3.8, 0. ,\n",
       "       1.6, 9.6, 2.4, 1.7, 1.1, 0.3, 1.5, 0.7, 1.2, 2.3, 0.5, 1.3, 0.2,\n",
       "       0.6, 1.4, 0.9, 1. , 9.7])"
      ]
     },
     "execution_count": 64,
     "metadata": {},
     "output_type": "execute_result"
    }
   ],
   "source": [
    "data.loc[data['user_score'] == 'tbd', 'user_score'] = float('nan')\n",
    "data['user_score'] = data['user_score'].astype('float')\n",
    "data['user_score'].unique()"
   ]
  },
  {
   "cell_type": "markdown",
   "metadata": {},
   "source": [
    "Земеним данные в столбце \"год выпуска\" с float64 на datetime64."
   ]
  },
  {
   "cell_type": "code",
   "execution_count": 65,
   "metadata": {},
   "outputs": [
    {
     "name": "stdout",
     "output_type": "stream",
     "text": [
      "<class 'pandas.core.frame.DataFrame'>\n",
      "RangeIndex: 16715 entries, 0 to 16714\n",
      "Data columns (total 11 columns):\n",
      " #   Column           Non-Null Count  Dtype  \n",
      "---  ------           --------------  -----  \n",
      " 0   name             16713 non-null  object \n",
      " 1   platform         16715 non-null  object \n",
      " 2   year_of_release  16446 non-null  float64\n",
      " 3   genre            16713 non-null  object \n",
      " 4   na_sales         16715 non-null  float64\n",
      " 5   eu_sales         16715 non-null  float64\n",
      " 6   jp_sales         16715 non-null  float64\n",
      " 7   other_sales      16715 non-null  float64\n",
      " 8   critic_score     8137 non-null   float64\n",
      " 9   user_score       7590 non-null   float64\n",
      " 10  rating           9949 non-null   object \n",
      "dtypes: float64(7), object(4)\n",
      "memory usage: 1.4+ MB\n"
     ]
    }
   ],
   "source": [
    "data.info()"
   ]
  },
  {
   "cell_type": "markdown",
   "metadata": {},
   "source": [
    "## Обработайте пропуски при необходимости:"
   ]
  },
  {
   "cell_type": "code",
   "execution_count": 66,
   "metadata": {},
   "outputs": [
    {
     "name": "stdout",
     "output_type": "stream",
     "text": [
      "name                  2\n",
      "platform              0\n",
      "year_of_release     269\n",
      "genre                 2\n",
      "na_sales              0\n",
      "eu_sales              0\n",
      "jp_sales              0\n",
      "other_sales           0\n",
      "critic_score       8578\n",
      "user_score         9125\n",
      "rating             6766\n",
      "dtype: int64\n"
     ]
    }
   ],
   "source": [
    "print(data.isna().sum())"
   ]
  },
  {
   "cell_type": "markdown",
   "metadata": {},
   "source": [
    "<div class=\"alert alert-info\">\n",
    "   \n",
    "Основные пропуски возникли из-за того, что игры не очень распрастранненые, или продаются в определенном регионе(скорее всего не косаются СА, Европы). Что косается годов, то скорее всего, это такие то совсем малоизвестные игры.\n",
    "    Для оценки критиков и пользовотелей необходимо определенные затраты, которых не все фирмы готовы потратить, либо они еще не дошли до того уровня продаж, когда это действительно им необходимо. Возможно при сборе данных не все источники учтены, либо гдато могли возникнуть технические ошибки.\n",
    "    Есть несколько основных возрастных рейтингов: американская ESRB, европейская PEGI, немецкая USK, японская CERO, российская RARS, а также еще несколько региональных организаций. Отличаются они, очевидно, регионами применения и особенностями работы. В нашем исследовании использовалось американская ESRB, остальные не учитывались.\n",
    "\n",
    "</div>"
   ]
  },
  {
   "cell_type": "code",
   "execution_count": 67,
   "metadata": {},
   "outputs": [],
   "source": [
    "#удалим строки в которых есть пропуки, состовляющие менее 10% от выборки и критические для нас.\n",
    "data = data.dropna(subset=['year_of_release', 'name', 'genre']) \n",
    "data['year_of_release'] = data['year_of_release'].astype('int')"
   ]
  },
  {
   "cell_type": "code",
   "execution_count": 68,
   "metadata": {},
   "outputs": [
    {
     "data": {
      "text/html": [
       "<style  type=\"text/css\" >\n",
       "#T_0645d_row0_col0,#T_0645d_row1_col0,#T_0645d_row2_col0,#T_0645d_row3_col0,#T_0645d_row4_col0,#T_0645d_row5_col0,#T_0645d_row6_col0,#T_0645d_row7_col0{\n",
       "            background-color:  #3b4cc0;\n",
       "            color:  #f1f1f1;\n",
       "        }#T_0645d_row8_col0{\n",
       "            background-color:  #cd423b;\n",
       "            color:  #f1f1f1;\n",
       "        }#T_0645d_row9_col0{\n",
       "            background-color:  #b40426;\n",
       "            color:  #f1f1f1;\n",
       "        }#T_0645d_row10_col0{\n",
       "            background-color:  #f59c7d;\n",
       "            color:  #000000;\n",
       "        }</style><table id=\"T_0645d_\" ><thead>    <tr>        <th class=\"blank level0\" ></th>        <th class=\"col_heading level0 col0\" >0</th>    </tr></thead><tbody>\n",
       "                <tr>\n",
       "                        <th id=\"T_0645d_level0_row0\" class=\"row_heading level0 row0\" >name</th>\n",
       "                        <td id=\"T_0645d_row0_col0\" class=\"data row0 col0\" >0.000000</td>\n",
       "            </tr>\n",
       "            <tr>\n",
       "                        <th id=\"T_0645d_level0_row1\" class=\"row_heading level0 row1\" >platform</th>\n",
       "                        <td id=\"T_0645d_row1_col0\" class=\"data row1 col0\" >0.000000</td>\n",
       "            </tr>\n",
       "            <tr>\n",
       "                        <th id=\"T_0645d_level0_row2\" class=\"row_heading level0 row2\" >year_of_release</th>\n",
       "                        <td id=\"T_0645d_row2_col0\" class=\"data row2 col0\" >0.000000</td>\n",
       "            </tr>\n",
       "            <tr>\n",
       "                        <th id=\"T_0645d_level0_row3\" class=\"row_heading level0 row3\" >genre</th>\n",
       "                        <td id=\"T_0645d_row3_col0\" class=\"data row3 col0\" >0.000000</td>\n",
       "            </tr>\n",
       "            <tr>\n",
       "                        <th id=\"T_0645d_level0_row4\" class=\"row_heading level0 row4\" >na_sales</th>\n",
       "                        <td id=\"T_0645d_row4_col0\" class=\"data row4 col0\" >0.000000</td>\n",
       "            </tr>\n",
       "            <tr>\n",
       "                        <th id=\"T_0645d_level0_row5\" class=\"row_heading level0 row5\" >eu_sales</th>\n",
       "                        <td id=\"T_0645d_row5_col0\" class=\"data row5 col0\" >0.000000</td>\n",
       "            </tr>\n",
       "            <tr>\n",
       "                        <th id=\"T_0645d_level0_row6\" class=\"row_heading level0 row6\" >jp_sales</th>\n",
       "                        <td id=\"T_0645d_row6_col0\" class=\"data row6 col0\" >0.000000</td>\n",
       "            </tr>\n",
       "            <tr>\n",
       "                        <th id=\"T_0645d_level0_row7\" class=\"row_heading level0 row7\" >other_sales</th>\n",
       "                        <td id=\"T_0645d_row7_col0\" class=\"data row7 col0\" >0.000000</td>\n",
       "            </tr>\n",
       "            <tr>\n",
       "                        <th id=\"T_0645d_level0_row8\" class=\"row_heading level0 row8\" >critic_score</th>\n",
       "                        <td id=\"T_0645d_row8_col0\" class=\"data row8 col0\" >51.000000</td>\n",
       "            </tr>\n",
       "            <tr>\n",
       "                        <th id=\"T_0645d_level0_row9\" class=\"row_heading level0 row9\" >user_score</th>\n",
       "                        <td id=\"T_0645d_row9_col0\" class=\"data row9 col0\" >55.000000</td>\n",
       "            </tr>\n",
       "            <tr>\n",
       "                        <th id=\"T_0645d_level0_row10\" class=\"row_heading level0 row10\" >rating</th>\n",
       "                        <td id=\"T_0645d_row10_col0\" class=\"data row10 col0\" >41.000000</td>\n",
       "            </tr>\n",
       "    </tbody></table>"
      ],
      "text/plain": [
       "<pandas.io.formats.style.Styler at 0x7efe412709d0>"
      ]
     },
     "execution_count": 68,
     "metadata": {},
     "output_type": "execute_result"
    }
   ],
   "source": [
    "pd.DataFrame(round(data.isna().mean()*100,)).style.background_gradient('coolwarm')"
   ]
  },
  {
   "cell_type": "markdown",
   "metadata": {},
   "source": [
    "В таблице около воловины пропусков по сторбцам: \"оценка критиков\", \"оценка пользователей\" и \"рейтинг организации\". это достаточно большоой процент, чтобы удолить, поэтому пока оставим как есть.\n"
   ]
  },
  {
   "cell_type": "code",
   "execution_count": 69,
   "metadata": {},
   "outputs": [
    {
     "data": {
      "text/plain": [
       "array(['E', nan, 'M', 'T', 'E10+', 'K-A', 'AO', 'EC', 'RP'], dtype=object)"
      ]
     },
     "execution_count": 69,
     "metadata": {},
     "output_type": "execute_result"
    }
   ],
   "source": [
    "data['rating'].unique()"
   ]
  },
  {
   "cell_type": "markdown",
   "metadata": {},
   "source": [
    " Пропуски в \"рейтинге\" заменим на аббревиатуру ND - не определен. Устаревшую аббревиатуру \"K-A\" заменим на современное обозначение \"E\"."
   ]
  },
  {
   "cell_type": "code",
   "execution_count": 70,
   "metadata": {},
   "outputs": [],
   "source": [
    " data['rating'] = data['rating'].fillna(value='ND')\n",
    "data['rating'] = data['rating'].replace('K-A', 'E')"
   ]
  },
  {
   "cell_type": "markdown",
   "metadata": {},
   "source": [
    "<div class=\"alert-success\"> \n",
    "<b>Комментарий ревьюера 👍 </b>\n",
    "\n",
    "Отличное решение, так мы не потеряем важные для анализа данные"
   ]
  },
  {
   "cell_type": "markdown",
   "metadata": {},
   "source": [
    "## Посчитайте суммарные продажи во всех регионах и запишите их в отдельный столбец."
   ]
  },
  {
   "cell_type": "code",
   "execution_count": 71,
   "metadata": {},
   "outputs": [],
   "source": [
    "data['total_sales'] = data['na_sales'] + data['eu_sales'] + data['jp_sales'] + data['other_sales']"
   ]
  },
  {
   "cell_type": "code",
   "execution_count": 72,
   "metadata": {},
   "outputs": [
    {
     "data": {
      "text/html": [
       "<div>\n",
       "<style scoped>\n",
       "    .dataframe tbody tr th:only-of-type {\n",
       "        vertical-align: middle;\n",
       "    }\n",
       "\n",
       "    .dataframe tbody tr th {\n",
       "        vertical-align: top;\n",
       "    }\n",
       "\n",
       "    .dataframe thead th {\n",
       "        text-align: right;\n",
       "    }\n",
       "</style>\n",
       "<table border=\"1\" class=\"dataframe\">\n",
       "  <thead>\n",
       "    <tr style=\"text-align: right;\">\n",
       "      <th></th>\n",
       "      <th>name</th>\n",
       "      <th>platform</th>\n",
       "      <th>year_of_release</th>\n",
       "      <th>genre</th>\n",
       "      <th>na_sales</th>\n",
       "      <th>eu_sales</th>\n",
       "      <th>jp_sales</th>\n",
       "      <th>other_sales</th>\n",
       "      <th>critic_score</th>\n",
       "      <th>user_score</th>\n",
       "      <th>rating</th>\n",
       "      <th>total_sales</th>\n",
       "    </tr>\n",
       "  </thead>\n",
       "  <tbody>\n",
       "    <tr>\n",
       "      <th>0</th>\n",
       "      <td>Wii Sports</td>\n",
       "      <td>Wii</td>\n",
       "      <td>2006</td>\n",
       "      <td>Sports</td>\n",
       "      <td>41.36</td>\n",
       "      <td>28.96</td>\n",
       "      <td>3.77</td>\n",
       "      <td>8.45</td>\n",
       "      <td>76.0</td>\n",
       "      <td>8.0</td>\n",
       "      <td>E</td>\n",
       "      <td>82.54</td>\n",
       "    </tr>\n",
       "    <tr>\n",
       "      <th>1</th>\n",
       "      <td>Super Mario Bros.</td>\n",
       "      <td>NES</td>\n",
       "      <td>1985</td>\n",
       "      <td>Platform</td>\n",
       "      <td>29.08</td>\n",
       "      <td>3.58</td>\n",
       "      <td>6.81</td>\n",
       "      <td>0.77</td>\n",
       "      <td>NaN</td>\n",
       "      <td>NaN</td>\n",
       "      <td>ND</td>\n",
       "      <td>40.24</td>\n",
       "    </tr>\n",
       "    <tr>\n",
       "      <th>2</th>\n",
       "      <td>Mario Kart Wii</td>\n",
       "      <td>Wii</td>\n",
       "      <td>2008</td>\n",
       "      <td>Racing</td>\n",
       "      <td>15.68</td>\n",
       "      <td>12.76</td>\n",
       "      <td>3.79</td>\n",
       "      <td>3.29</td>\n",
       "      <td>82.0</td>\n",
       "      <td>8.3</td>\n",
       "      <td>E</td>\n",
       "      <td>35.52</td>\n",
       "    </tr>\n",
       "    <tr>\n",
       "      <th>3</th>\n",
       "      <td>Wii Sports Resort</td>\n",
       "      <td>Wii</td>\n",
       "      <td>2009</td>\n",
       "      <td>Sports</td>\n",
       "      <td>15.61</td>\n",
       "      <td>10.93</td>\n",
       "      <td>3.28</td>\n",
       "      <td>2.95</td>\n",
       "      <td>80.0</td>\n",
       "      <td>8.0</td>\n",
       "      <td>E</td>\n",
       "      <td>32.77</td>\n",
       "    </tr>\n",
       "    <tr>\n",
       "      <th>4</th>\n",
       "      <td>Pokemon Red/Pokemon Blue</td>\n",
       "      <td>GB</td>\n",
       "      <td>1996</td>\n",
       "      <td>Role-Playing</td>\n",
       "      <td>11.27</td>\n",
       "      <td>8.89</td>\n",
       "      <td>10.22</td>\n",
       "      <td>1.00</td>\n",
       "      <td>NaN</td>\n",
       "      <td>NaN</td>\n",
       "      <td>ND</td>\n",
       "      <td>31.38</td>\n",
       "    </tr>\n",
       "    <tr>\n",
       "      <th>5</th>\n",
       "      <td>Tetris</td>\n",
       "      <td>GB</td>\n",
       "      <td>1989</td>\n",
       "      <td>Puzzle</td>\n",
       "      <td>23.20</td>\n",
       "      <td>2.26</td>\n",
       "      <td>4.22</td>\n",
       "      <td>0.58</td>\n",
       "      <td>NaN</td>\n",
       "      <td>NaN</td>\n",
       "      <td>ND</td>\n",
       "      <td>30.26</td>\n",
       "    </tr>\n",
       "    <tr>\n",
       "      <th>6</th>\n",
       "      <td>New Super Mario Bros.</td>\n",
       "      <td>DS</td>\n",
       "      <td>2006</td>\n",
       "      <td>Platform</td>\n",
       "      <td>11.28</td>\n",
       "      <td>9.14</td>\n",
       "      <td>6.50</td>\n",
       "      <td>2.88</td>\n",
       "      <td>89.0</td>\n",
       "      <td>8.5</td>\n",
       "      <td>E</td>\n",
       "      <td>29.80</td>\n",
       "    </tr>\n",
       "    <tr>\n",
       "      <th>7</th>\n",
       "      <td>Wii Play</td>\n",
       "      <td>Wii</td>\n",
       "      <td>2006</td>\n",
       "      <td>Misc</td>\n",
       "      <td>13.96</td>\n",
       "      <td>9.18</td>\n",
       "      <td>2.93</td>\n",
       "      <td>2.84</td>\n",
       "      <td>58.0</td>\n",
       "      <td>6.6</td>\n",
       "      <td>E</td>\n",
       "      <td>28.91</td>\n",
       "    </tr>\n",
       "    <tr>\n",
       "      <th>8</th>\n",
       "      <td>New Super Mario Bros. Wii</td>\n",
       "      <td>Wii</td>\n",
       "      <td>2009</td>\n",
       "      <td>Platform</td>\n",
       "      <td>14.44</td>\n",
       "      <td>6.94</td>\n",
       "      <td>4.70</td>\n",
       "      <td>2.24</td>\n",
       "      <td>87.0</td>\n",
       "      <td>8.4</td>\n",
       "      <td>E</td>\n",
       "      <td>28.32</td>\n",
       "    </tr>\n",
       "    <tr>\n",
       "      <th>9</th>\n",
       "      <td>Duck Hunt</td>\n",
       "      <td>NES</td>\n",
       "      <td>1984</td>\n",
       "      <td>Shooter</td>\n",
       "      <td>26.93</td>\n",
       "      <td>0.63</td>\n",
       "      <td>0.28</td>\n",
       "      <td>0.47</td>\n",
       "      <td>NaN</td>\n",
       "      <td>NaN</td>\n",
       "      <td>ND</td>\n",
       "      <td>28.31</td>\n",
       "    </tr>\n",
       "  </tbody>\n",
       "</table>\n",
       "</div>"
      ],
      "text/plain": [
       "                        name platform  year_of_release         genre  \\\n",
       "0                 Wii Sports      Wii             2006        Sports   \n",
       "1          Super Mario Bros.      NES             1985      Platform   \n",
       "2             Mario Kart Wii      Wii             2008        Racing   \n",
       "3          Wii Sports Resort      Wii             2009        Sports   \n",
       "4   Pokemon Red/Pokemon Blue       GB             1996  Role-Playing   \n",
       "5                     Tetris       GB             1989        Puzzle   \n",
       "6      New Super Mario Bros.       DS             2006      Platform   \n",
       "7                   Wii Play      Wii             2006          Misc   \n",
       "8  New Super Mario Bros. Wii      Wii             2009      Platform   \n",
       "9                  Duck Hunt      NES             1984       Shooter   \n",
       "\n",
       "   na_sales  eu_sales  jp_sales  other_sales  critic_score  user_score rating  \\\n",
       "0     41.36     28.96      3.77         8.45          76.0         8.0      E   \n",
       "1     29.08      3.58      6.81         0.77           NaN         NaN     ND   \n",
       "2     15.68     12.76      3.79         3.29          82.0         8.3      E   \n",
       "3     15.61     10.93      3.28         2.95          80.0         8.0      E   \n",
       "4     11.27      8.89     10.22         1.00           NaN         NaN     ND   \n",
       "5     23.20      2.26      4.22         0.58           NaN         NaN     ND   \n",
       "6     11.28      9.14      6.50         2.88          89.0         8.5      E   \n",
       "7     13.96      9.18      2.93         2.84          58.0         6.6      E   \n",
       "8     14.44      6.94      4.70         2.24          87.0         8.4      E   \n",
       "9     26.93      0.63      0.28         0.47           NaN         NaN     ND   \n",
       "\n",
       "   total_sales  \n",
       "0        82.54  \n",
       "1        40.24  \n",
       "2        35.52  \n",
       "3        32.77  \n",
       "4        31.38  \n",
       "5        30.26  \n",
       "6        29.80  \n",
       "7        28.91  \n",
       "8        28.32  \n",
       "9        28.31  "
      ]
     },
     "execution_count": 72,
     "metadata": {},
     "output_type": "execute_result"
    }
   ],
   "source": [
    "data.head(10)"
   ]
  },
  {
   "cell_type": "markdown",
   "metadata": {},
   "source": [
    "# Шаг 3. Проведите исследовательский анализ данных"
   ]
  },
  {
   "cell_type": "markdown",
   "metadata": {},
   "source": [
    " __Посмотрите, сколько игр выпускалось в разные годы. Важны ли данные за все периоды?__"
   ]
  },
  {
   "cell_type": "code",
   "execution_count": 73,
   "metadata": {},
   "outputs": [
    {
     "data": {
      "text/plain": [
       "year_of_release\n",
       "2008    1427\n",
       "2009    1426\n",
       "2010    1255\n",
       "2007    1197\n",
       "2011    1136\n",
       "2006    1006\n",
       "2005     939\n",
       "2002     829\n",
       "2003     775\n",
       "2004     762\n",
       "Name: name, dtype: int64"
      ]
     },
     "execution_count": 73,
     "metadata": {},
     "output_type": "execute_result"
    }
   ],
   "source": [
    "data.groupby('year_of_release')['name'].count().sort_values(ascending=False).head(10) # посмотрим на топ годов"
   ]
  },
  {
   "cell_type": "code",
   "execution_count": 74,
   "metadata": {},
   "outputs": [
    {
     "data": {
      "text/plain": [
       "<AxesSubplot:>"
      ]
     },
     "execution_count": 74,
     "metadata": {},
     "output_type": "execute_result"
    },
    {
     "data": {
      "image/png": "[encoded data removed]",
      "text/plain": [
       "<Figure size 432x288 with 1 Axes>"
      ]
     },
     "metadata": {
      "needs_background": "light"
     },
     "output_type": "display_data"
    }
   ],
   "source": [
    "\n",
    "data.boxplot(column=['year_of_release'])"
   ]
  },
  {
   "cell_type": "markdown",
   "metadata": {},
   "source": [
    "Я думаю можно смело откинуть года до 2000года, для нас эти года уже не актуальны. Для более точного анализа уберу и игры до 2005 года,с этого времени до 2016 слишом быстро все становиться не актуальмым.\n"
   ]
  },
  {
   "cell_type": "markdown",
   "metadata": {},
   "source": [
    "__Посмотрите, как менялись продажи по платформам. Выберите платформы с наибольшими суммарными продажами и постройте распределение по годам. За какой характерный срок появляются новые и исчезают старые платформы?__"
   ]
  },
  {
   "cell_type": "code",
   "execution_count": 75,
   "metadata": {},
   "outputs": [
    {
     "data": {
      "text/html": [
       "<div>\n",
       "<style scoped>\n",
       "    .dataframe tbody tr th:only-of-type {\n",
       "        vertical-align: middle;\n",
       "    }\n",
       "\n",
       "    .dataframe tbody tr th {\n",
       "        vertical-align: top;\n",
       "    }\n",
       "\n",
       "    .dataframe thead th {\n",
       "        text-align: right;\n",
       "    }\n",
       "</style>\n",
       "<table border=\"1\" class=\"dataframe\">\n",
       "  <thead>\n",
       "    <tr style=\"text-align: right;\">\n",
       "      <th></th>\n",
       "      <th>total_sales</th>\n",
       "    </tr>\n",
       "    <tr>\n",
       "      <th>platform</th>\n",
       "      <th></th>\n",
       "    </tr>\n",
       "  </thead>\n",
       "  <tbody>\n",
       "    <tr>\n",
       "      <th>PS2</th>\n",
       "      <td>1233.56</td>\n",
       "    </tr>\n",
       "    <tr>\n",
       "      <th>X360</th>\n",
       "      <td>961.24</td>\n",
       "    </tr>\n",
       "    <tr>\n",
       "      <th>PS3</th>\n",
       "      <td>931.34</td>\n",
       "    </tr>\n",
       "    <tr>\n",
       "      <th>Wii</th>\n",
       "      <td>891.18</td>\n",
       "    </tr>\n",
       "    <tr>\n",
       "      <th>DS</th>\n",
       "      <td>802.78</td>\n",
       "    </tr>\n",
       "    <tr>\n",
       "      <th>PS</th>\n",
       "      <td>727.58</td>\n",
       "    </tr>\n",
       "    <tr>\n",
       "      <th>PS4</th>\n",
       "      <td>314.14</td>\n",
       "    </tr>\n",
       "    <tr>\n",
       "      <th>GBA</th>\n",
       "      <td>312.88</td>\n",
       "    </tr>\n",
       "    <tr>\n",
       "      <th>PSP</th>\n",
       "      <td>289.53</td>\n",
       "    </tr>\n",
       "    <tr>\n",
       "      <th>3DS</th>\n",
       "      <td>257.81</td>\n",
       "    </tr>\n",
       "  </tbody>\n",
       "</table>\n",
       "</div>"
      ],
      "text/plain": [
       "          total_sales\n",
       "platform             \n",
       "PS2           1233.56\n",
       "X360           961.24\n",
       "PS3            931.34\n",
       "Wii            891.18\n",
       "DS             802.78\n",
       "PS             727.58\n",
       "PS4            314.14\n",
       "GBA            312.88\n",
       "PSP            289.53\n",
       "3DS            257.81"
      ]
     },
     "execution_count": 75,
     "metadata": {},
     "output_type": "execute_result"
    }
   ],
   "source": [
    " # сводная таблица - количество релизов по годам\n",
    "platform_year = data.pivot_table(index='platform' , values='total_sales', aggfunc='sum')\\\n",
    ".sort_values(by='total_sales', ascending=False)\n",
    "platform_year = platform_year.head(10)#возьмем только первые 10\n",
    "#построим график \n",
    "\n",
    "platform_year"
   ]
  },
  {
   "cell_type": "code",
   "execution_count": 76,
   "metadata": {},
   "outputs": [
    {
     "data": {
      "image/png": "[encoded data removed]",
      "text/plain": [
       "<Figure size 1296x720 with 1 Axes>"
      ]
     },
     "metadata": {
      "needs_background": "light"
     },
     "output_type": "display_data"
    }
   ],
   "source": [
    "data.query('platform in @platform_year.index')\\\n",
    ".pivot_table(index='year_of_release' , values='total_sales',\\\n",
    "columns='platform', aggfunc='sum').plot(figsize=(18, 10)).set_title('Цыкл продаж 10 сильнейших')\n",
    "plt.xlabel('Годы')\n",
    "plt.ylabel('Продажи')\n",
    "plt.grid()\n",
    "plt.show()"
   ]
  },
  {
   "cell_type": "markdown",
   "metadata": {},
   "source": [
    "К 2015 году по всем платформам продажи уменьшились, самыми сильным оказалась PS4. \n",
    "Каждая платформа живет примерно 5-10лет. Среденее время жизни платформы 8.7 лет. Всех дольше жил (и будет жить) персональный компьютер. В период с 2005 по 2015 было очень много выпущено новых платформ для игр, но к концу года многие продажи сошли на нет, возможно, опять же вышли новые интересные платформы,которые не дошли еще до своих пиков продаж."
   ]
  },
  {
   "cell_type": "markdown",
   "metadata": {},
   "source": [
    "__Возьмите данные за соответствующий актуальный период. Актуальный период определите самостоятельно в результате исследования предыдущих вопросов. Основной фактор — эти данные помогут построить прогноз на 2017 год.__"
   ]
  },
  {
   "cell_type": "code",
   "execution_count": 77,
   "metadata": {},
   "outputs": [],
   "source": [
    "data_2013 = data[data['year_of_release'] > 2013]#возьмем только начиная с 2007 года, т.к. платформы в среднем живут 8 лет\n"
   ]
  },
  {
   "cell_type": "code",
   "execution_count": 78,
   "metadata": {},
   "outputs": [
    {
     "data": {
      "text/plain": [
       "platform\n",
       "PS4     288.15\n",
       "XOne    140.36\n",
       "3DS      86.68\n",
       "PS3      68.18\n",
       "X360     48.22\n",
       "WiiU     42.98\n",
       "PC       27.05\n",
       "PSV      22.40\n",
       "Wii       5.07\n",
       "PSP       0.36\n",
       "Name: total_sales, dtype: float64"
      ]
     },
     "execution_count": 78,
     "metadata": {},
     "output_type": "execute_result"
    }
   ],
   "source": [
    "platform_year_2013 = data_2013.groupby('platform')['total_sales'].sum().sort_values(ascending=False).head(20)\n",
    "\n",
    "\n",
    "platform_year_2013"
   ]
  },
  {
   "cell_type": "code",
   "execution_count": 79,
   "metadata": {},
   "outputs": [
    {
     "data": {
      "image/png": "[encoded data removed]",
      "text/plain": [
       "<Figure size 1296x720 with 1 Axes>"
      ]
     },
     "metadata": {
      "needs_background": "light"
     },
     "output_type": "display_data"
    }
   ],
   "source": [
    "data_2013.query('platform in @platform_year_2013.index')\\\n",
    ".pivot_table(index='year_of_release' , values='total_sales',\\\n",
    "columns='platform', aggfunc='sum').plot(figsize=(18, 10)).set_title('Цыкл продаж 20 сильнейших с 2005 - 2016 года')\n",
    "plt.xlabel('Годы')\n",
    "plt.ylabel('Количество игр')\n",
    "plt.grid()\n",
    "\n",
    "plt.show()"
   ]
  },
  {
   "cell_type": "code",
   "execution_count": 80,
   "metadata": {},
   "outputs": [
    {
     "data": {
      "image/png": "[encoded data removed]",
      "text/plain": [
       "<Figure size 1080x144 with 1 Axes>"
      ]
     },
     "metadata": {
      "needs_background": "light"
     },
     "output_type": "display_data"
    }
   ],
   "source": [
    "data_2013_heatmap = data_2013.pivot_table(index='year_of_release' , values='total_sales',\\\n",
    "columns='platform', aggfunc='sum')\n",
    "plt.figure(figsize=(15, 2))\n",
    "seaborn.heatmap(data_2013_heatmap, annot=True, fmt=\".2f\", cmap='PuBu', cbar=False, robust=True, linewidths=.2)\n",
    "\n",
    "plt.xlabel('Платформы')\n",
    "plt.ylabel('Годы')\n",
    "plt.show()\n"
   ]
  },
  {
   "cell_type": "markdown",
   "metadata": {},
   "source": [
    "Срорее всего лусше рассматривать перио с 2013 года, т.к. в этом году появляется PS4 и XOne. Их продажы начали рости, но ближе к концу 2016 уменьшелись, но скорее всего это не озночает, что их время закончилось, в отличие от: PS3, PSP, X360, 3DS и др."
   ]
  },
  {
   "cell_type": "code",
   "execution_count": 81,
   "metadata": {},
   "outputs": [
    {
     "data": {
      "text/plain": [
       "array([2015, 2014, 2016])"
      ]
     },
     "execution_count": 81,
     "metadata": {},
     "output_type": "execute_result"
    }
   ],
   "source": [
    "data_actual = data_2013.query('year_of_release > 2013')\n",
    "data_actual['year_of_release'].unique()"
   ]
  },
  {
   "cell_type": "code",
   "execution_count": 82,
   "metadata": {},
   "outputs": [
    {
     "data": {
      "text/html": [
       "<div>\n",
       "<style scoped>\n",
       "    .dataframe tbody tr th:only-of-type {\n",
       "        vertical-align: middle;\n",
       "    }\n",
       "\n",
       "    .dataframe tbody tr th {\n",
       "        vertical-align: top;\n",
       "    }\n",
       "\n",
       "    .dataframe thead th {\n",
       "        text-align: right;\n",
       "    }\n",
       "</style>\n",
       "<table border=\"1\" class=\"dataframe\">\n",
       "  <thead>\n",
       "    <tr style=\"text-align: right;\">\n",
       "      <th></th>\n",
       "      <th>platform</th>\n",
       "      <th>name</th>\n",
       "      <th>total_sales</th>\n",
       "    </tr>\n",
       "  </thead>\n",
       "  <tbody>\n",
       "    <tr>\n",
       "      <th>31</th>\n",
       "      <td>PS4</td>\n",
       "      <td>Call of Duty: Black Ops 3</td>\n",
       "      <td>14.63</td>\n",
       "    </tr>\n",
       "    <tr>\n",
       "      <th>42</th>\n",
       "      <td>PS4</td>\n",
       "      <td>Grand Theft Auto V</td>\n",
       "      <td>12.62</td>\n",
       "    </tr>\n",
       "    <tr>\n",
       "      <th>47</th>\n",
       "      <td>3DS</td>\n",
       "      <td>Pokemon Omega Ruby/Pokemon Alpha Sapphire</td>\n",
       "      <td>11.68</td>\n",
       "    </tr>\n",
       "    <tr>\n",
       "      <th>77</th>\n",
       "      <td>PS4</td>\n",
       "      <td>FIFA 16</td>\n",
       "      <td>8.58</td>\n",
       "    </tr>\n",
       "    <tr>\n",
       "      <th>87</th>\n",
       "      <td>PS4</td>\n",
       "      <td>Star Wars Battlefront (2015)</td>\n",
       "      <td>7.98</td>\n",
       "    </tr>\n",
       "    <tr>\n",
       "      <th>...</th>\n",
       "      <td>...</td>\n",
       "      <td>...</td>\n",
       "      <td>...</td>\n",
       "    </tr>\n",
       "    <tr>\n",
       "      <th>16703</th>\n",
       "      <td>PSV</td>\n",
       "      <td>Strawberry Nauts</td>\n",
       "      <td>0.01</td>\n",
       "    </tr>\n",
       "    <tr>\n",
       "      <th>16707</th>\n",
       "      <td>PSV</td>\n",
       "      <td>Aiyoku no Eustia</td>\n",
       "      <td>0.01</td>\n",
       "    </tr>\n",
       "    <tr>\n",
       "      <th>16710</th>\n",
       "      <td>PS3</td>\n",
       "      <td>Samurai Warriors: Sanada Maru</td>\n",
       "      <td>0.01</td>\n",
       "    </tr>\n",
       "    <tr>\n",
       "      <th>16712</th>\n",
       "      <td>PSV</td>\n",
       "      <td>Haitaka no Psychedelica</td>\n",
       "      <td>0.01</td>\n",
       "    </tr>\n",
       "    <tr>\n",
       "      <th>16714</th>\n",
       "      <td>PSV</td>\n",
       "      <td>Winning Post 8 2016</td>\n",
       "      <td>0.01</td>\n",
       "    </tr>\n",
       "  </tbody>\n",
       "</table>\n",
       "<p>1689 rows × 3 columns</p>\n",
       "</div>"
      ],
      "text/plain": [
       "      platform                                       name  total_sales\n",
       "31         PS4                  Call of Duty: Black Ops 3        14.63\n",
       "42         PS4                         Grand Theft Auto V        12.62\n",
       "47         3DS  Pokemon Omega Ruby/Pokemon Alpha Sapphire        11.68\n",
       "77         PS4                                    FIFA 16         8.58\n",
       "87         PS4               Star Wars Battlefront (2015)         7.98\n",
       "...        ...                                        ...          ...\n",
       "16703      PSV                           Strawberry Nauts         0.01\n",
       "16707      PSV                           Aiyoku no Eustia         0.01\n",
       "16710      PS3              Samurai Warriors: Sanada Maru         0.01\n",
       "16712      PSV                    Haitaka no Psychedelica         0.01\n",
       "16714      PSV                        Winning Post 8 2016         0.01\n",
       "\n",
       "[1689 rows x 3 columns]"
      ]
     },
     "execution_count": 82,
     "metadata": {},
     "output_type": "execute_result"
    }
   ],
   "source": [
    "data_actual_2013 = data_actual[['platform', 'name', 'total_sales']]\n",
    "data_actual_2013\n"
   ]
  },
  {
   "cell_type": "code",
   "execution_count": 83,
   "metadata": {},
   "outputs": [
    {
     "data": {
      "image/png": "[encoded data removed]",
      "text/plain": [
       "<Figure size 1080x720 with 1 Axes>"
      ]
     },
     "metadata": {
      "needs_background": "light"
     },
     "output_type": "display_data"
    }
   ],
   "source": [
    "#data_2013.query('platform in @platform_year_2005.index')\\\n",
    "data_actual_2013.boxplot(column='total_sales', by='platform', figsize=(15,10))\n",
    "plt.xlabel('Платформа')\n",
    "plt.ylabel('Количество проданных копий, млн')\n",
    "plt.title('Диаграммы размаха по продажам')\n",
    "plt.ylim(0, 1.75)\n",
    "plt.show()"
   ]
  },
  {
   "cell_type": "markdown",
   "metadata": {},
   "source": [
    " В передыдущие 3 года самое выское среденее у X360, но мы знаем что почти все платформы уже прошли свой пик(в теч этих лет), поэтому смотретьна средний достаточно опасно для выводов по актуальным ныне(2017 год).\n",
    "есть несколько платформ с большими выбросами: PS4, PS3, X360, 3DS. Возможно это связано с местом продажи, как мы знаем у каждого региона есть любимчики.\n",
    "\n",
    "__Посмотрите, как влияют на продажи внутри одной популярной платформы отзывы пользователей и критиков. Постройте диаграмму рассеяния и посчитайте корреляцию между отзывами и продажами.__\n",
    "\n"
   ]
  },
  {
   "cell_type": "markdown",
   "metadata": {},
   "source": [
    "Для примера выберем одну из популярных платформ - PS4."
   ]
  },
  {
   "cell_type": "code",
   "execution_count": 84,
   "metadata": {},
   "outputs": [
    {
     "name": "stdout",
     "output_type": "stream",
     "text": [
      "Корреляция между оценкой критиков и продажами: 0.4\n",
      "Корреляция между оценкой пользователей и продажами: -0.04\n",
      "Корреляция между оценками критиков и пользователей: 0.55\n"
     ]
    }
   ],
   "source": [
    "data_ps4 = data_actual.query('platform == \"PS4\"') # отберем данные\n",
    "\n",
    "print(f'Корреляция между оценкой критиков и продажами: {data_ps4.critic_score.corr(data_ps4.total_sales):.2}')\n",
    "print(f'Корреляция между оценкой пользователей и продажами: {data_ps4.user_score.corr(data_ps4.total_sales):.2}')\n",
    "print(f'Корреляция между оценками критиков и пользователей: {data_ps4.critic_score.corr(data_ps4.user_score):.2}')\n"
   ]
  },
  {
   "cell_type": "code",
   "execution_count": 85,
   "metadata": {},
   "outputs": [
    {
     "data": {
      "image/png": "[encoded data removed]",
      "text/plain": [
       "<Figure size 1008x360 with 2 Axes>"
      ]
     },
     "metadata": {
      "needs_background": "light"
     },
     "output_type": "display_data"
    }
   ],
   "source": [
    "# построим график рассеяния по критерию оценка критиков\n",
    "data_ps4.plot.scatter('critic_score',  'total_sales', figsize=(14, 5),\\\n",
    "                      alpha=0.7, c='user_score', colormap='PuBu', sharex=False)\n",
    "plt.xlabel('Рейтинг критиков')\n",
    "plt.ylabel('Продажи')\n",
    "plt.title('Влияние оценок критиков на уровень продаж')\n",
    "plt.show()"
   ]
  },
  {
   "cell_type": "code",
   "execution_count": 86,
   "metadata": {},
   "outputs": [
    {
     "data": {
      "image/png": "[encoded data removed]",
      "text/plain": [
       "<Figure size 1008x360 with 2 Axes>"
      ]
     },
     "metadata": {
      "needs_background": "light"
     },
     "output_type": "display_data"
    }
   ],
   "source": [
    "# построим график рассеяния по критерию оценка пользователей\n",
    "data_ps4.plot.scatter('user_score',  'total_sales', figsize=(14, 5), alpha=0.7, c='user_score', colormap='PuBu', sharex=False)\n",
    "plt.xlabel('Рейтинг пользователей')\n",
    "plt.ylabel('Продажи')\n",
    "plt.title('Влияние оценок пользователей на уровень продаж')\n",
    "plt.show()\n"
   ]
  },
  {
   "cell_type": "markdown",
   "metadata": {},
   "source": [
    "Корреляция продаж от рейтинга критиков не ковсем сильная, но достаточная, чтобы ее можно было учесть,в отличае от корреляции от оценки пользовотелей,она стала обратной(возможно, что в оценки ставили конкуренты или обиженные покупатели не смогшие купитьполную версию). Так же стало ясно, что чем больше оценка критиков, тем больше оценка покупателей. Я считаю, что лучше учитывать оценки критиков, чем покупателей."
   ]
  },
  {
   "cell_type": "code",
   "execution_count": 87,
   "metadata": {},
   "outputs": [
    {
     "data": {
      "text/html": [
       "<div>\n",
       "<style scoped>\n",
       "    .dataframe tbody tr th:only-of-type {\n",
       "        vertical-align: middle;\n",
       "    }\n",
       "\n",
       "    .dataframe tbody tr th {\n",
       "        vertical-align: top;\n",
       "    }\n",
       "\n",
       "    .dataframe thead th {\n",
       "        text-align: right;\n",
       "    }\n",
       "</style>\n",
       "<table border=\"1\" class=\"dataframe\">\n",
       "  <thead>\n",
       "    <tr style=\"text-align: right;\">\n",
       "      <th></th>\n",
       "      <th>name</th>\n",
       "      <th>platform</th>\n",
       "      <th>year_of_release</th>\n",
       "      <th>genre</th>\n",
       "      <th>na_sales</th>\n",
       "      <th>eu_sales</th>\n",
       "      <th>jp_sales</th>\n",
       "      <th>other_sales</th>\n",
       "      <th>critic_score</th>\n",
       "      <th>user_score</th>\n",
       "      <th>rating</th>\n",
       "      <th>total_sales</th>\n",
       "    </tr>\n",
       "  </thead>\n",
       "  <tbody>\n",
       "    <tr>\n",
       "      <th>31</th>\n",
       "      <td>Call of Duty: Black Ops 3</td>\n",
       "      <td>PS4</td>\n",
       "      <td>2015</td>\n",
       "      <td>Shooter</td>\n",
       "      <td>6.03</td>\n",
       "      <td>5.86</td>\n",
       "      <td>0.36</td>\n",
       "      <td>2.38</td>\n",
       "      <td>NaN</td>\n",
       "      <td>NaN</td>\n",
       "      <td>ND</td>\n",
       "      <td>14.63</td>\n",
       "    </tr>\n",
       "    <tr>\n",
       "      <th>42</th>\n",
       "      <td>Grand Theft Auto V</td>\n",
       "      <td>PS4</td>\n",
       "      <td>2014</td>\n",
       "      <td>Action</td>\n",
       "      <td>3.96</td>\n",
       "      <td>6.31</td>\n",
       "      <td>0.38</td>\n",
       "      <td>1.97</td>\n",
       "      <td>97.0</td>\n",
       "      <td>8.3</td>\n",
       "      <td>M</td>\n",
       "      <td>12.62</td>\n",
       "    </tr>\n",
       "  </tbody>\n",
       "</table>\n",
       "</div>"
      ],
      "text/plain": [
       "                         name platform  year_of_release    genre  na_sales  \\\n",
       "31  Call of Duty: Black Ops 3      PS4             2015  Shooter      6.03   \n",
       "42         Grand Theft Auto V      PS4             2014   Action      3.96   \n",
       "\n",
       "    eu_sales  jp_sales  other_sales  critic_score  user_score rating  \\\n",
       "31      5.86      0.36         2.38           NaN         NaN     ND   \n",
       "42      6.31      0.38         1.97          97.0         8.3      M   \n",
       "\n",
       "    total_sales  \n",
       "31        14.63  \n",
       "42        12.62  "
      ]
     },
     "execution_count": 87,
     "metadata": {},
     "output_type": "execute_result"
    }
   ],
   "source": [
    "data_ps4.query('total_sales > 10')\n"
   ]
  },
  {
   "cell_type": "markdown",
   "metadata": {},
   "source": [
    "Лидерами продаж стали такие игры как Call of Duty: Black Ops 3 и Grand Theft Auto V. Ну даже я понимаю почему.(и даже мои дети, что говорит о том, что эти игры возможно еще долго останутся актуальными)\n"
   ]
  },
  {
   "cell_type": "markdown",
   "metadata": {},
   "source": [
    "Посмотрим на величину корреляции для других популярных платформ.\n"
   ]
  },
  {
   "cell_type": "code",
   "execution_count": 88,
   "metadata": {},
   "outputs": [
    {
     "name": "stdout",
     "output_type": "stream",
     "text": [
      "Wii\n",
      "Корреляция между оценкой критиков и продажами: nan\n",
      "Корреляция между оценкой пользователей и продажами: 1.0\n",
      "Корреляция между оценками критиков и пользователей: nan\n",
      "\n",
      "X360\n",
      "Корреляция между оценкой критиков и продажами: 0.53\n",
      "Корреляция между оценкой пользователей и продажами: -0.14\n",
      "Корреляция между оценками критиков и пользователей: 0.63\n",
      "\n",
      "PC\n",
      "Корреляция между оценкой критиков и продажами: 0.17\n",
      "Корреляция между оценкой пользователей и продажами: -0.072\n",
      "Корреляция между оценками критиков и пользователей: 0.47\n",
      "\n",
      "XOne\n",
      "Корреляция между оценкой критиков и продажами: 0.43\n",
      "Корреляция между оценкой пользователей и продажами: -0.07\n",
      "Корреляция между оценками критиков и пользователей: 0.44\n",
      "\n"
     ]
    }
   ],
   "source": [
    "for x in [\"Wii\", \"X360\", \"PC\", \"XOne\"]:\n",
    "    print(x)\n",
    "    data_platform_all = data_actual.query('platform == @x')\n",
    "    print(f'Корреляция между оценкой критиков и продажами: {data_platform_all.critic_score.corr(data_platform_all.total_sales):.2}')\n",
    "    print(f'Корреляция между оценкой пользователей и продажами: {data_platform_all.user_score.corr(data_platform_all.total_sales):.2}')\n",
    "    print(f'Корреляция между оценками критиков и пользователей: {data_platform_all.critic_score.corr(data_platform_all.user_score):.2}')\n",
    "    print()\n"
   ]
  },
  {
   "cell_type": "markdown",
   "metadata": {},
   "source": [
    "Несмотря на то что у нас не везде есть данные общяя статистика видна, что корреляция зависящяя от оценки критиков положительная, но неболее 0,5 а от оценки пользователей - отрицательная. Правда у Wii немного другая ситуация, но это возможно лишь исключение из правила, подтвержающее правило.\n",
    "При оценке продаж лучше ориентироваться на оценки критиков."
   ]
  },
  {
   "cell_type": "markdown",
   "metadata": {},
   "source": [
    "__Посмотрите на общее распределение игр по жанрам. Что можно сказать о самых прибыльных жанрах? Выделяются ли жанры с высокими и низкими продажами?__"
   ]
  },
  {
   "cell_type": "code",
   "execution_count": 89,
   "metadata": {},
   "outputs": [
    {
     "data": {
      "text/html": [
       "<div>\n",
       "<style scoped>\n",
       "    .dataframe tbody tr th:only-of-type {\n",
       "        vertical-align: middle;\n",
       "    }\n",
       "\n",
       "    .dataframe tbody tr th {\n",
       "        vertical-align: top;\n",
       "    }\n",
       "\n",
       "    .dataframe thead th {\n",
       "        text-align: right;\n",
       "    }\n",
       "</style>\n",
       "<table border=\"1\" class=\"dataframe\">\n",
       "  <thead>\n",
       "    <tr style=\"text-align: right;\">\n",
       "      <th>index</th>\n",
       "      <th>2014</th>\n",
       "      <th>2015</th>\n",
       "      <th>2016</th>\n",
       "      <th>All</th>\n",
       "    </tr>\n",
       "    <tr>\n",
       "      <th>genre</th>\n",
       "      <th></th>\n",
       "      <th></th>\n",
       "      <th></th>\n",
       "      <th></th>\n",
       "    </tr>\n",
       "  </thead>\n",
       "  <tbody>\n",
       "    <tr>\n",
       "      <th>Action</th>\n",
       "      <td>97.23</td>\n",
       "      <td>72.02</td>\n",
       "      <td>30.11</td>\n",
       "      <td>199.36</td>\n",
       "    </tr>\n",
       "    <tr>\n",
       "      <th>Shooter</th>\n",
       "      <td>65.21</td>\n",
       "      <td>67.51</td>\n",
       "      <td>38.22</td>\n",
       "      <td>170.94</td>\n",
       "    </tr>\n",
       "    <tr>\n",
       "      <th>Sports</th>\n",
       "      <td>45.15</td>\n",
       "      <td>40.84</td>\n",
       "      <td>23.49</td>\n",
       "      <td>109.48</td>\n",
       "    </tr>\n",
       "    <tr>\n",
       "      <th>Role-Playing</th>\n",
       "      <td>45.62</td>\n",
       "      <td>37.64</td>\n",
       "      <td>18.18</td>\n",
       "      <td>101.44</td>\n",
       "    </tr>\n",
       "    <tr>\n",
       "      <th>Misc</th>\n",
       "      <td>23.38</td>\n",
       "      <td>11.57</td>\n",
       "      <td>2.60</td>\n",
       "      <td>37.55</td>\n",
       "    </tr>\n",
       "    <tr>\n",
       "      <th>Fighting</th>\n",
       "      <td>15.85</td>\n",
       "      <td>7.90</td>\n",
       "      <td>4.47</td>\n",
       "      <td>28.22</td>\n",
       "    </tr>\n",
       "    <tr>\n",
       "      <th>Racing</th>\n",
       "      <td>16.66</td>\n",
       "      <td>8.07</td>\n",
       "      <td>2.79</td>\n",
       "      <td>27.52</td>\n",
       "    </tr>\n",
       "    <tr>\n",
       "      <th>Platform</th>\n",
       "      <td>8.81</td>\n",
       "      <td>6.05</td>\n",
       "      <td>3.23</td>\n",
       "      <td>18.09</td>\n",
       "    </tr>\n",
       "    <tr>\n",
       "      <th>Adventure</th>\n",
       "      <td>5.57</td>\n",
       "      <td>8.16</td>\n",
       "      <td>3.82</td>\n",
       "      <td>17.55</td>\n",
       "    </tr>\n",
       "    <tr>\n",
       "      <th>Simulation</th>\n",
       "      <td>5.58</td>\n",
       "      <td>5.66</td>\n",
       "      <td>1.89</td>\n",
       "      <td>13.13</td>\n",
       "    </tr>\n",
       "    <tr>\n",
       "      <th>Strategy</th>\n",
       "      <td>0.98</td>\n",
       "      <td>1.85</td>\n",
       "      <td>1.13</td>\n",
       "      <td>3.96</td>\n",
       "    </tr>\n",
       "    <tr>\n",
       "      <th>Puzzle</th>\n",
       "      <td>1.49</td>\n",
       "      <td>0.71</td>\n",
       "      <td>0.01</td>\n",
       "      <td>2.21</td>\n",
       "    </tr>\n",
       "  </tbody>\n",
       "</table>\n",
       "</div>"
      ],
      "text/plain": [
       "index          2014   2015   2016     All\n",
       "genre                                    \n",
       "Action        97.23  72.02  30.11  199.36\n",
       "Shooter       65.21  67.51  38.22  170.94\n",
       "Sports        45.15  40.84  23.49  109.48\n",
       "Role-Playing  45.62  37.64  18.18  101.44\n",
       "Misc          23.38  11.57   2.60   37.55\n",
       "Fighting      15.85   7.90   4.47   28.22\n",
       "Racing        16.66   8.07   2.79   27.52\n",
       "Platform       8.81   6.05   3.23   18.09\n",
       "Adventure      5.57   8.16   3.82   17.55\n",
       "Simulation     5.58   5.66   1.89   13.13\n",
       "Strategy       0.98   1.85   1.13    3.96\n",
       "Puzzle         1.49   0.71   0.01    2.21"
      ]
     },
     "execution_count": 89,
     "metadata": {},
     "output_type": "execute_result"
    }
   ],
   "source": [
    "genre_sales = data_actual.pivot_table(index='genre', values='total_sales',\\\n",
    "columns = 'year_of_release', aggfunc = 'sum', fill_value=0, margins=True).reset_index()\n",
    "genre_sales = genre_sales[:-1]\n",
    "genre_sales = genre_sales.rename_axis('index',  axis=\"columns\").set_index('genre').sort_values(by='All', ascending=False)\n",
    "genre_sales"
   ]
  },
  {
   "cell_type": "code",
   "execution_count": 90,
   "metadata": {},
   "outputs": [
    {
     "data": {
      "image/png": "[encoded data removed]",
      "text/plain": [
       "<Figure size 504x360 with 1 Axes>"
      ]
     },
     "metadata": {
      "needs_background": "light"
     },
     "output_type": "display_data"
    }
   ],
   "source": [
    "plt.figure(figsize=(7, 5))\n",
    "seaborn.heatmap(genre_sales, annot=True, fmt=\".2f\", cmap='PuBu', cbar=False, robust=True, linewidths=.2)\\\n",
    ".set_title('продажи по жанрам')\n",
    "plt.xlabel('Годы')\n",
    "plt.ylabel('Платформы')\n",
    "plt.show()"
   ]
  },
  {
   "cell_type": "markdown",
   "metadata": {},
   "source": [
    "Экшен лидер продаж. Для изучения возьмем перые 4: Экшен, Стрелялки, Спортивные и ролевые.\n",
    "\n",
    "Построим график, чтобы увидеть продажи в динамике времени."
   ]
  },
  {
   "cell_type": "code",
   "execution_count": 91,
   "metadata": {},
   "outputs": [
    {
     "data": {
      "image/png": "[encoded data removed]",
      "text/plain": [
       "<Figure size 576x576 with 1 Axes>"
      ]
     },
     "metadata": {
      "needs_background": "light"
     },
     "output_type": "display_data"
    }
   ],
   "source": [
    "plt.figure(figsize=(8, 8))\n",
    "for i in ['Action', 'Sports', 'Shooter', 'Role-Playing']:\n",
    "    plt.plot(genre_sales.loc[i, list(genre_sales.columns[1:-1])].T, label=i)\n",
    "plt.xlabel('Годы')\n",
    "plt.ylabel('Количеcтво продаж, млн')\n",
    "plt.grid()\n",
    "plt.legend(loc='upper left')\n",
    "plt.show()"
   ]
  },
  {
   "cell_type": "markdown",
   "metadata": {},
   "source": [
    "Как мы видем на графике у всех 4 жанров прродажи падают."
   ]
  },
  {
   "cell_type": "code",
   "execution_count": 92,
   "metadata": {},
   "outputs": [
    {
     "data": {
      "text/html": [
       "<div>\n",
       "<style scoped>\n",
       "    .dataframe tbody tr th:only-of-type {\n",
       "        vertical-align: middle;\n",
       "    }\n",
       "\n",
       "    .dataframe tbody tr th {\n",
       "        vertical-align: top;\n",
       "    }\n",
       "\n",
       "    .dataframe thead tr th {\n",
       "        text-align: left;\n",
       "    }\n",
       "</style>\n",
       "<table border=\"1\" class=\"dataframe\">\n",
       "  <thead>\n",
       "    <tr>\n",
       "      <th></th>\n",
       "      <th>genre</th>\n",
       "      <th>sum</th>\n",
       "      <th>mean</th>\n",
       "      <th>median</th>\n",
       "      <th>std</th>\n",
       "      <th>count</th>\n",
       "    </tr>\n",
       "    <tr>\n",
       "      <th></th>\n",
       "      <th></th>\n",
       "      <th>total_sales</th>\n",
       "      <th>total_sales</th>\n",
       "      <th>total_sales</th>\n",
       "      <th>total_sales</th>\n",
       "      <th>total_sales</th>\n",
       "    </tr>\n",
       "  </thead>\n",
       "  <tbody>\n",
       "    <tr>\n",
       "      <th>8</th>\n",
       "      <td>Shooter</td>\n",
       "      <td>170.94</td>\n",
       "      <td>1.335469</td>\n",
       "      <td>0.515</td>\n",
       "      <td>2.050567</td>\n",
       "      <td>128</td>\n",
       "    </tr>\n",
       "    <tr>\n",
       "      <th>10</th>\n",
       "      <td>Sports</td>\n",
       "      <td>109.48</td>\n",
       "      <td>0.680000</td>\n",
       "      <td>0.180</td>\n",
       "      <td>1.239736</td>\n",
       "      <td>161</td>\n",
       "    </tr>\n",
       "    <tr>\n",
       "      <th>4</th>\n",
       "      <td>Platform</td>\n",
       "      <td>18.09</td>\n",
       "      <td>0.476053</td>\n",
       "      <td>0.140</td>\n",
       "      <td>0.722561</td>\n",
       "      <td>38</td>\n",
       "    </tr>\n",
       "    <tr>\n",
       "      <th>2</th>\n",
       "      <td>Fighting</td>\n",
       "      <td>28.22</td>\n",
       "      <td>0.470333</td>\n",
       "      <td>0.125</td>\n",
       "      <td>1.188053</td>\n",
       "      <td>60</td>\n",
       "    </tr>\n",
       "    <tr>\n",
       "      <th>7</th>\n",
       "      <td>Role-Playing</td>\n",
       "      <td>101.44</td>\n",
       "      <td>0.459005</td>\n",
       "      <td>0.110</td>\n",
       "      <td>1.177284</td>\n",
       "      <td>221</td>\n",
       "    </tr>\n",
       "    <tr>\n",
       "      <th>9</th>\n",
       "      <td>Simulation</td>\n",
       "      <td>13.13</td>\n",
       "      <td>0.298409</td>\n",
       "      <td>0.100</td>\n",
       "      <td>0.646925</td>\n",
       "      <td>44</td>\n",
       "    </tr>\n",
       "    <tr>\n",
       "      <th>0</th>\n",
       "      <td>Action</td>\n",
       "      <td>199.36</td>\n",
       "      <td>0.322068</td>\n",
       "      <td>0.090</td>\n",
       "      <td>0.798181</td>\n",
       "      <td>619</td>\n",
       "    </tr>\n",
       "    <tr>\n",
       "      <th>3</th>\n",
       "      <td>Misc</td>\n",
       "      <td>37.55</td>\n",
       "      <td>0.332301</td>\n",
       "      <td>0.090</td>\n",
       "      <td>0.736999</td>\n",
       "      <td>113</td>\n",
       "    </tr>\n",
       "    <tr>\n",
       "      <th>6</th>\n",
       "      <td>Racing</td>\n",
       "      <td>27.52</td>\n",
       "      <td>0.398841</td>\n",
       "      <td>0.090</td>\n",
       "      <td>0.963716</td>\n",
       "      <td>69</td>\n",
       "    </tr>\n",
       "    <tr>\n",
       "      <th>11</th>\n",
       "      <td>Strategy</td>\n",
       "      <td>3.96</td>\n",
       "      <td>0.107027</td>\n",
       "      <td>0.060</td>\n",
       "      <td>0.118412</td>\n",
       "      <td>37</td>\n",
       "    </tr>\n",
       "    <tr>\n",
       "      <th>5</th>\n",
       "      <td>Puzzle</td>\n",
       "      <td>2.21</td>\n",
       "      <td>0.157857</td>\n",
       "      <td>0.045</td>\n",
       "      <td>0.320629</td>\n",
       "      <td>14</td>\n",
       "    </tr>\n",
       "    <tr>\n",
       "      <th>1</th>\n",
       "      <td>Adventure</td>\n",
       "      <td>17.55</td>\n",
       "      <td>0.094865</td>\n",
       "      <td>0.030</td>\n",
       "      <td>0.203147</td>\n",
       "      <td>185</td>\n",
       "    </tr>\n",
       "  </tbody>\n",
       "</table>\n",
       "</div>"
      ],
      "text/plain": [
       "           genre         sum        mean      median         std       count\n",
       "                 total_sales total_sales total_sales total_sales total_sales\n",
       "8        Shooter      170.94    1.335469       0.515    2.050567         128\n",
       "10        Sports      109.48    0.680000       0.180    1.239736         161\n",
       "4       Platform       18.09    0.476053       0.140    0.722561          38\n",
       "2       Fighting       28.22    0.470333       0.125    1.188053          60\n",
       "7   Role-Playing      101.44    0.459005       0.110    1.177284         221\n",
       "9     Simulation       13.13    0.298409       0.100    0.646925          44\n",
       "0         Action      199.36    0.322068       0.090    0.798181         619\n",
       "3           Misc       37.55    0.332301       0.090    0.736999         113\n",
       "6         Racing       27.52    0.398841       0.090    0.963716          69\n",
       "11      Strategy        3.96    0.107027       0.060    0.118412          37\n",
       "5         Puzzle        2.21    0.157857       0.045    0.320629          14\n",
       "1      Adventure       17.55    0.094865       0.030    0.203147         185"
      ]
     },
     "execution_count": 92,
     "metadata": {},
     "output_type": "execute_result"
    }
   ],
   "source": [
    "data_actual.pivot_table(index='genre', values='total_sales', aggfunc=['sum', 'mean', 'median', 'std', 'count'])\\\n",
    "        .reset_index().sort_values(('median', 'total_sales'), ascending=False)\n"
   ]
  },
  {
   "cell_type": "markdown",
   "metadata": {},
   "source": [
    "Вывод: самые высокие продажи у жанра \"Экшен\", но средняя цена у \"Шотеров\" больше, а  жанр \"Экшен\" находиться на 7м месте. Влозможно ее цена и является залогом успеха продаж."
   ]
  },
  {
   "cell_type": "markdown",
   "metadata": {},
   "source": [
    "# Шаг 4. Составьте портрет пользователя каждого региона\n",
    "Определите для пользователя каждого региона (NA, EU, JP):\n",
    "- Самые популярные платформы (топ-5). Опишите различия в долях продаж.\n",
    "\n"
   ]
  },
  {
   "cell_type": "code",
   "execution_count": 93,
   "metadata": {},
   "outputs": [],
   "source": [
    "all_na_sales = data['na_sales'].sum()\n",
    "all_eu_sales = data['eu_sales'].sum()\n",
    "all_jp_sales = data['jp_sales'].sum()\n",
    "all_other_sales = data['other_sales'].sum()"
   ]
  },
  {
   "cell_type": "code",
   "execution_count": 94,
   "metadata": {},
   "outputs": [
    {
     "data": {
      "text/html": [
       "<style  type=\"text/css\" >\n",
       "</style><table id=\"T_d7f6d_\" ><thead>    <tr>        <th class=\"blank level0\" ></th>        <th class=\"col_heading level0 col0\" >sum</th>        <th class=\"col_heading level0 col1\" >count</th>        <th class=\"col_heading level0 col2\" >% продажи</th>    </tr>    <tr>        <th class=\"index_name level0\" >platform</th>        <th class=\"blank\" ></th>        <th class=\"blank\" ></th>        <th class=\"blank\" ></th>    </tr></thead><tbody>\n",
       "                <tr>\n",
       "                        <th id=\"T_d7f6d_level0_row0\" class=\"row_heading level0 row0\" >X360</th>\n",
       "                        <td id=\"T_d7f6d_row0_col0\" class=\"data row0 col0\" >595.740000</td>\n",
       "                        <td id=\"T_d7f6d_row0_col1\" class=\"data row0 col1\" >1232</td>\n",
       "                        <td id=\"T_d7f6d_row0_col2\" class=\"data row0 col2\" >13.72%</td>\n",
       "            </tr>\n",
       "            <tr>\n",
       "                        <th id=\"T_d7f6d_level0_row1\" class=\"row_heading level0 row1\" >PS2</th>\n",
       "                        <td id=\"T_d7f6d_row1_col0\" class=\"data row1 col0\" >572.920000</td>\n",
       "                        <td id=\"T_d7f6d_row1_col1\" class=\"data row1 col1\" >2127</td>\n",
       "                        <td id=\"T_d7f6d_row1_col2\" class=\"data row1 col2\" >13.20%</td>\n",
       "            </tr>\n",
       "            <tr>\n",
       "                        <th id=\"T_d7f6d_level0_row2\" class=\"row_heading level0 row2\" >Wii</th>\n",
       "                        <td id=\"T_d7f6d_row2_col0\" class=\"data row2 col0\" >486.870000</td>\n",
       "                        <td id=\"T_d7f6d_row2_col1\" class=\"data row2 col1\" >1286</td>\n",
       "                        <td id=\"T_d7f6d_row2_col2\" class=\"data row2 col2\" >11.21%</td>\n",
       "            </tr>\n",
       "            <tr>\n",
       "                        <th id=\"T_d7f6d_level0_row3\" class=\"row_heading level0 row3\" >PS3</th>\n",
       "                        <td id=\"T_d7f6d_row3_col0\" class=\"data row3 col0\" >390.130000</td>\n",
       "                        <td id=\"T_d7f6d_row3_col1\" class=\"data row3 col1\" >1306</td>\n",
       "                        <td id=\"T_d7f6d_row3_col2\" class=\"data row3 col2\" >8.99%</td>\n",
       "            </tr>\n",
       "            <tr>\n",
       "                        <th id=\"T_d7f6d_level0_row4\" class=\"row_heading level0 row4\" >DS</th>\n",
       "                        <td id=\"T_d7f6d_row4_col0\" class=\"data row4 col0\" >380.310000</td>\n",
       "                        <td id=\"T_d7f6d_row4_col1\" class=\"data row4 col1\" >2121</td>\n",
       "                        <td id=\"T_d7f6d_row4_col2\" class=\"data row4 col2\" >8.76%</td>\n",
       "            </tr>\n",
       "    </tbody></table>"
      ],
      "text/plain": [
       "<pandas.io.formats.style.Styler at 0x7efeac954b20>"
      ]
     },
     "execution_count": 94,
     "metadata": {},
     "output_type": "execute_result"
    }
   ],
   "source": [
    "#рассмотрим продажи в северной америке\n",
    "na = data.pivot_table(index='platform', values='na_sales', aggfunc=['sum', 'count'])\n",
    "na.columns = ['sum', 'count']\n",
    "na = na.sort_values(by='sum', ascending=False)\n",
    "na['% продажи'] = na['sum']/ all_na_sales\n",
    "na = na.head().style.format({'% продажи':'{:.2%}'})\n",
    "\n",
    "na"
   ]
  },
  {
   "cell_type": "code",
   "execution_count": 95,
   "metadata": {},
   "outputs": [
    {
     "data": {
      "text/html": [
       "<style  type=\"text/css\" >\n",
       "</style><table id=\"T_963fb_\" ><thead>    <tr>        <th class=\"blank level0\" ></th>        <th class=\"col_heading level0 col0\" >sum</th>        <th class=\"col_heading level0 col1\" >count</th>        <th class=\"col_heading level0 col2\" >% продажи</th>    </tr>    <tr>        <th class=\"index_name level0\" >platform</th>        <th class=\"blank\" ></th>        <th class=\"blank\" ></th>        <th class=\"blank\" ></th>    </tr></thead><tbody>\n",
       "                <tr>\n",
       "                        <th id=\"T_963fb_level0_row0\" class=\"row_heading level0 row0\" >PS2</th>\n",
       "                        <td id=\"T_963fb_row0_col0\" class=\"data row0 col0\" >332.630000</td>\n",
       "                        <td id=\"T_963fb_row0_col1\" class=\"data row0 col1\" >2127</td>\n",
       "                        <td id=\"T_963fb_row0_col2\" class=\"data row0 col2\" >13.86%</td>\n",
       "            </tr>\n",
       "            <tr>\n",
       "                        <th id=\"T_963fb_level0_row1\" class=\"row_heading level0 row1\" >PS3</th>\n",
       "                        <td id=\"T_963fb_row1_col0\" class=\"data row1 col0\" >327.210000</td>\n",
       "                        <td id=\"T_963fb_row1_col1\" class=\"data row1 col1\" >1306</td>\n",
       "                        <td id=\"T_963fb_row1_col2\" class=\"data row1 col2\" >13.64%</td>\n",
       "            </tr>\n",
       "            <tr>\n",
       "                        <th id=\"T_963fb_level0_row2\" class=\"row_heading level0 row2\" >X360</th>\n",
       "                        <td id=\"T_963fb_row2_col0\" class=\"data row2 col0\" >268.320000</td>\n",
       "                        <td id=\"T_963fb_row2_col1\" class=\"data row2 col1\" >1232</td>\n",
       "                        <td id=\"T_963fb_row2_col2\" class=\"data row2 col2\" >11.18%</td>\n",
       "            </tr>\n",
       "            <tr>\n",
       "                        <th id=\"T_963fb_level0_row3\" class=\"row_heading level0 row3\" >Wii</th>\n",
       "                        <td id=\"T_963fb_row3_col0\" class=\"data row3 col0\" >258.320000</td>\n",
       "                        <td id=\"T_963fb_row3_col1\" class=\"data row3 col1\" >1286</td>\n",
       "                        <td id=\"T_963fb_row3_col2\" class=\"data row3 col2\" >10.76%</td>\n",
       "            </tr>\n",
       "            <tr>\n",
       "                        <th id=\"T_963fb_level0_row4\" class=\"row_heading level0 row4\" >PS</th>\n",
       "                        <td id=\"T_963fb_row4_col0\" class=\"data row4 col0\" >212.390000</td>\n",
       "                        <td id=\"T_963fb_row4_col1\" class=\"data row4 col1\" >1190</td>\n",
       "                        <td id=\"T_963fb_row4_col2\" class=\"data row4 col2\" >8.85%</td>\n",
       "            </tr>\n",
       "    </tbody></table>"
      ],
      "text/plain": [
       "<pandas.io.formats.style.Styler at 0x7efeac9348e0>"
      ]
     },
     "execution_count": 95,
     "metadata": {},
     "output_type": "execute_result"
    }
   ],
   "source": [
    "#рассмотрим продажи в европе\n",
    "eu = data.pivot_table(index='platform', values='eu_sales', aggfunc=['sum', 'count'])\n",
    "eu.columns = ['sum', 'count']\n",
    "eu = eu.sort_values(by='sum', ascending=False)\n",
    "eu['% продажи'] = eu['sum']/ all_eu_sales\n",
    "eu = eu.head().style.format({'% продажи':'{:.2%}'})\n",
    "\n",
    "eu"
   ]
  },
  {
   "cell_type": "code",
   "execution_count": 96,
   "metadata": {},
   "outputs": [
    {
     "data": {
      "text/html": [
       "<style  type=\"text/css\" >\n",
       "</style><table id=\"T_df486_\" ><thead>    <tr>        <th class=\"blank level0\" ></th>        <th class=\"col_heading level0 col0\" >sum</th>        <th class=\"col_heading level0 col1\" >count</th>        <th class=\"col_heading level0 col2\" >% продажи</th>    </tr>    <tr>        <th class=\"index_name level0\" >platform</th>        <th class=\"blank\" ></th>        <th class=\"blank\" ></th>        <th class=\"blank\" ></th>    </tr></thead><tbody>\n",
       "                <tr>\n",
       "                        <th id=\"T_df486_level0_row0\" class=\"row_heading level0 row0\" >DS</th>\n",
       "                        <td id=\"T_df486_row0_col0\" class=\"data row0 col0\" >175.020000</td>\n",
       "                        <td id=\"T_df486_row0_col1\" class=\"data row0 col1\" >2121</td>\n",
       "                        <td id=\"T_df486_row0_col2\" class=\"data row0 col2\" >13.56%</td>\n",
       "            </tr>\n",
       "            <tr>\n",
       "                        <th id=\"T_df486_level0_row1\" class=\"row_heading level0 row1\" >PS</th>\n",
       "                        <td id=\"T_df486_row1_col0\" class=\"data row1 col0\" >139.780000</td>\n",
       "                        <td id=\"T_df486_row1_col1\" class=\"data row1 col1\" >1190</td>\n",
       "                        <td id=\"T_df486_row1_col2\" class=\"data row1 col2\" >10.83%</td>\n",
       "            </tr>\n",
       "            <tr>\n",
       "                        <th id=\"T_df486_level0_row2\" class=\"row_heading level0 row2\" >PS2</th>\n",
       "                        <td id=\"T_df486_row2_col0\" class=\"data row2 col0\" >137.540000</td>\n",
       "                        <td id=\"T_df486_row2_col1\" class=\"data row2 col1\" >2127</td>\n",
       "                        <td id=\"T_df486_row2_col2\" class=\"data row2 col2\" >10.66%</td>\n",
       "            </tr>\n",
       "            <tr>\n",
       "                        <th id=\"T_df486_level0_row3\" class=\"row_heading level0 row3\" >SNES</th>\n",
       "                        <td id=\"T_df486_row3_col0\" class=\"data row3 col0\" >116.550000</td>\n",
       "                        <td id=\"T_df486_row3_col1\" class=\"data row3 col1\" >239</td>\n",
       "                        <td id=\"T_df486_row3_col2\" class=\"data row3 col2\" >9.03%</td>\n",
       "            </tr>\n",
       "            <tr>\n",
       "                        <th id=\"T_df486_level0_row4\" class=\"row_heading level0 row4\" >3DS</th>\n",
       "                        <td id=\"T_df486_row4_col0\" class=\"data row4 col0\" >100.620000</td>\n",
       "                        <td id=\"T_df486_row4_col1\" class=\"data row4 col1\" >512</td>\n",
       "                        <td id=\"T_df486_row4_col2\" class=\"data row4 col2\" >7.80%</td>\n",
       "            </tr>\n",
       "    </tbody></table>"
      ],
      "text/plain": [
       "<pandas.io.formats.style.Styler at 0x7efe4eaabc10>"
      ]
     },
     "execution_count": 96,
     "metadata": {},
     "output_type": "execute_result"
    }
   ],
   "source": [
    "#рассмотрим продажи в японии\n",
    "jp = data.pivot_table(index='platform', values='jp_sales', aggfunc=['sum', 'count'])\n",
    "jp.columns = ['sum', 'count']\n",
    "jp = jp.sort_values(by='sum', ascending=False)\n",
    "jp['% продажи'] = jp['sum']/ all_jp_sales\n",
    "jp = jp.head().style.format({'% продажи':'{:.2%}'})\n",
    "\n",
    "jp"
   ]
  },
  {
   "cell_type": "code",
   "execution_count": 97,
   "metadata": {},
   "outputs": [
    {
     "data": {
      "text/html": [
       "<style  type=\"text/css\" >\n",
       "</style><table id=\"T_8f611_\" ><thead>    <tr>        <th class=\"blank level0\" ></th>        <th class=\"col_heading level0 col0\" >sum</th>        <th class=\"col_heading level0 col1\" >count</th>        <th class=\"col_heading level0 col2\" >% продажи</th>    </tr>    <tr>        <th class=\"index_name level0\" >platform</th>        <th class=\"blank\" ></th>        <th class=\"blank\" ></th>        <th class=\"blank\" ></th>    </tr></thead><tbody>\n",
       "                <tr>\n",
       "                        <th id=\"T_8f611_level0_row0\" class=\"row_heading level0 row0\" >PS2</th>\n",
       "                        <td id=\"T_8f611_row0_col0\" class=\"data row0 col0\" >190.470000</td>\n",
       "                        <td id=\"T_8f611_row0_col1\" class=\"data row0 col1\" >2127</td>\n",
       "                        <td id=\"T_8f611_row0_col2\" class=\"data row0 col2\" >24.34%</td>\n",
       "            </tr>\n",
       "            <tr>\n",
       "                        <th id=\"T_8f611_level0_row1\" class=\"row_heading level0 row1\" >PS3</th>\n",
       "                        <td id=\"T_8f611_row1_col0\" class=\"data row1 col0\" >134.590000</td>\n",
       "                        <td id=\"T_8f611_row1_col1\" class=\"data row1 col1\" >1306</td>\n",
       "                        <td id=\"T_8f611_row1_col2\" class=\"data row1 col2\" >17.20%</td>\n",
       "            </tr>\n",
       "            <tr>\n",
       "                        <th id=\"T_8f611_level0_row2\" class=\"row_heading level0 row2\" >X360</th>\n",
       "                        <td id=\"T_8f611_row2_col0\" class=\"data row2 col0\" >84.880000</td>\n",
       "                        <td id=\"T_8f611_row2_col1\" class=\"data row2 col1\" >1232</td>\n",
       "                        <td id=\"T_8f611_row2_col2\" class=\"data row2 col2\" >10.85%</td>\n",
       "            </tr>\n",
       "            <tr>\n",
       "                        <th id=\"T_8f611_level0_row3\" class=\"row_heading level0 row3\" >Wii</th>\n",
       "                        <td id=\"T_8f611_row3_col0\" class=\"data row3 col0\" >77.710000</td>\n",
       "                        <td id=\"T_8f611_row3_col1\" class=\"data row3 col1\" >1286</td>\n",
       "                        <td id=\"T_8f611_row3_col2\" class=\"data row3 col2\" >9.93%</td>\n",
       "            </tr>\n",
       "            <tr>\n",
       "                        <th id=\"T_8f611_level0_row4\" class=\"row_heading level0 row4\" >DS</th>\n",
       "                        <td id=\"T_8f611_row4_col0\" class=\"data row4 col0\" >59.040000</td>\n",
       "                        <td id=\"T_8f611_row4_col1\" class=\"data row4 col1\" >2121</td>\n",
       "                        <td id=\"T_8f611_row4_col2\" class=\"data row4 col2\" >7.54%</td>\n",
       "            </tr>\n",
       "    </tbody></table>"
      ],
      "text/plain": [
       "<pandas.io.formats.style.Styler at 0x7efe4eaabdc0>"
      ]
     },
     "execution_count": 97,
     "metadata": {},
     "output_type": "execute_result"
    }
   ],
   "source": [
    "#рассмотрим продажи в других регионах\n",
    "other = data.pivot_table(index='platform', values='other_sales', aggfunc=['sum', 'count'])\n",
    "other.columns = ['sum', 'count']\n",
    "other = other.sort_values(by='sum', ascending=False)\n",
    "other['% продажи'] = other['sum']/ all_other_sales\n",
    "other = other.head().style.format({'% продажи':'{:.2%}'})\n",
    "\n",
    "other"
   ]
  },
  {
   "cell_type": "code",
   "execution_count": 98,
   "metadata": {},
   "outputs": [
    {
     "name": "stdout",
     "output_type": "stream",
     "text": [
      "          eu_sales  jp_sales  na_sales  other_sales\n",
      "platform                                           \n",
      "DS          188.41    175.02    380.31        59.04\n",
      "PS          212.39    139.78    334.72        40.69\n",
      "PS3         327.21     79.41    390.13       134.59\n",
      "PS4         141.09     15.96    108.74        48.35\n",
      "SNES         19.04    116.55     61.23         3.22\n",
      "Wii         258.32     68.28    486.87        77.71\n",
      "X360        268.32     12.30    595.74        84.88\n"
     ]
    },
    {
     "data": {
      "image/png": "[encoded data removed]",
      "text/plain": [
       "<Figure size 1296x720 with 1 Axes>"
      ]
     },
     "metadata": {
      "needs_background": "light"
     },
     "output_type": "display_data"
    }
   ],
   "source": [
    "#построим график\n",
    "sales = data.pivot_table(index='platform', values=['na_sales', 'other_sales', 'jp_sales', 'eu_sales'], aggfunc='sum')\n",
    "sales.columns = ['eu_sales', 'jp_sales', 'na_sales', 'other_sales']\n",
    "sales = sales.query('platform == [\"PS4\", \"PS3\", \"X360\", \"Wii\", \"DS\", \"PS\", \"SNES\"]')\n",
    "print(sales)\n",
    "sales.plot.bar(figsize=(18, 10), colormap='cividis').set_title('Продажи по регионам')\n",
    "\n",
    "\n",
    "plt.xlabel('платформа')\n",
    "plt.ylabel('Количеcтво продаж, млн')\n",
    "\n",
    "plt.show()"
   ]
  },
  {
   "cell_type": "markdown",
   "metadata": {},
   "source": [
    "В Европе и Северной Америке топ-5 плаформ состоит из почти одинаковых консолей(в европе есть PS), хотя и в разном порядке - XBox 360, XOne, 3DS, PlayStation 3 и PlayStation 4. И там, и там относительно свежая PlayStation4 уже набирает популярность. В Японии Xbox 360 даже не вошла в топ, лидер - мобильная консоль Nintendo и всего в топе 2 из 5 - мобильные гаджеты. Продаж игр для ПК в Японии нет совсем. Заметны отличия и в целом по производителям - в Японии Micfosoft в разы отстает от Nintendo - возможно, дело в том, что Microsof вообще не производит мобильных консолей, а этот форм-фактор в Японии самый популярный."
   ]
  },
  {
   "cell_type": "markdown",
   "metadata": {},
   "source": [
    "- Самые популярные жанры (топ-5). Поясните разницу."
   ]
  },
  {
   "cell_type": "code",
   "execution_count": 99,
   "metadata": {},
   "outputs": [
    {
     "data": {
      "text/html": [
       "<style  type=\"text/css\" >\n",
       "</style><table id=\"T_87450_\" ><thead>    <tr>        <th class=\"blank level0\" ></th>        <th class=\"col_heading level0 col0\" >sum</th>        <th class=\"col_heading level0 col1\" >count</th>        <th class=\"col_heading level0 col2\" >% продажи</th>    </tr>    <tr>        <th class=\"index_name level0\" >genre</th>        <th class=\"blank\" ></th>        <th class=\"blank\" ></th>        <th class=\"blank\" ></th>    </tr></thead><tbody>\n",
       "                <tr>\n",
       "                        <th id=\"T_87450_level0_row0\" class=\"row_heading level0 row0\" >Action</th>\n",
       "                        <td id=\"T_87450_row0_col0\" class=\"data row0 col0\" >863.170000</td>\n",
       "                        <td id=\"T_87450_row0_col1\" class=\"data row0 col1\" >3307</td>\n",
       "                        <td id=\"T_87450_row0_col2\" class=\"data row0 col2\" >19.88%</td>\n",
       "            </tr>\n",
       "            <tr>\n",
       "                        <th id=\"T_87450_level0_row1\" class=\"row_heading level0 row1\" >Sports</th>\n",
       "                        <td id=\"T_87450_row1_col0\" class=\"data row1 col0\" >671.200000</td>\n",
       "                        <td id=\"T_87450_row1_col1\" class=\"data row1 col1\" >2306</td>\n",
       "                        <td id=\"T_87450_row1_col2\" class=\"data row1 col2\" >15.46%</td>\n",
       "            </tr>\n",
       "            <tr>\n",
       "                        <th id=\"T_87450_level0_row2\" class=\"row_heading level0 row2\" >Shooter</th>\n",
       "                        <td id=\"T_87450_row2_col0\" class=\"data row2 col0\" >584.830000</td>\n",
       "                        <td id=\"T_87450_row2_col1\" class=\"data row2 col1\" >1296</td>\n",
       "                        <td id=\"T_87450_row2_col2\" class=\"data row2 col2\" >13.47%</td>\n",
       "            </tr>\n",
       "            <tr>\n",
       "                        <th id=\"T_87450_level0_row3\" class=\"row_heading level0 row3\" >Platform</th>\n",
       "                        <td id=\"T_87450_row3_col0\" class=\"data row3 col0\" >444.440000</td>\n",
       "                        <td id=\"T_87450_row3_col1\" class=\"data row3 col1\" >878</td>\n",
       "                        <td id=\"T_87450_row3_col2\" class=\"data row3 col2\" >10.24%</td>\n",
       "            </tr>\n",
       "            <tr>\n",
       "                        <th id=\"T_87450_level0_row4\" class=\"row_heading level0 row4\" >Misc</th>\n",
       "                        <td id=\"T_87450_row4_col0\" class=\"data row4 col0\" >399.570000</td>\n",
       "                        <td id=\"T_87450_row4_col1\" class=\"data row4 col1\" >1721</td>\n",
       "                        <td id=\"T_87450_row4_col2\" class=\"data row4 col2\" >9.20%</td>\n",
       "            </tr>\n",
       "    </tbody></table>"
      ],
      "text/plain": [
       "<pandas.io.formats.style.Styler at 0x7efeac98bd30>"
      ]
     },
     "execution_count": 99,
     "metadata": {},
     "output_type": "execute_result"
    }
   ],
   "source": [
    "#рассмотрим жанры в северной америке\n",
    "na_g = data.pivot_table(index='genre', values='na_sales', aggfunc=['sum', 'count'])\n",
    "na_g.columns = ['sum', 'count']\n",
    "na_g = na_g.sort_values(by='sum', ascending=False)\n",
    "na_g['% продажи'] = na_g['sum']/ all_na_sales\n",
    "na_g = na_g.head().style.format({'% продажи':'{:.2%}'})\n",
    "\n",
    "na_g"
   ]
  },
  {
   "cell_type": "code",
   "execution_count": 100,
   "metadata": {},
   "outputs": [
    {
     "data": {
      "text/html": [
       "<style  type=\"text/css\" >\n",
       "</style><table id=\"T_d7b25_\" ><thead>    <tr>        <th class=\"blank level0\" ></th>        <th class=\"col_heading level0 col0\" >sum</th>        <th class=\"col_heading level0 col1\" >count</th>        <th class=\"col_heading level0 col2\" >% продажи</th>    </tr>    <tr>        <th class=\"index_name level0\" >genre</th>        <th class=\"blank\" ></th>        <th class=\"blank\" ></th>        <th class=\"blank\" ></th>    </tr></thead><tbody>\n",
       "                <tr>\n",
       "                        <th id=\"T_d7b25_level0_row0\" class=\"row_heading level0 row0\" >Action</th>\n",
       "                        <td id=\"T_d7b25_row0_col0\" class=\"data row0 col0\" >510.990000</td>\n",
       "                        <td id=\"T_d7b25_row0_col1\" class=\"data row0 col1\" >3307</td>\n",
       "                        <td id=\"T_d7b25_row0_col2\" class=\"data row0 col2\" >21.29%</td>\n",
       "            </tr>\n",
       "            <tr>\n",
       "                        <th id=\"T_d7b25_level0_row1\" class=\"row_heading level0 row1\" >Sports</th>\n",
       "                        <td id=\"T_d7b25_row1_col0\" class=\"data row1 col0\" >371.330000</td>\n",
       "                        <td id=\"T_d7b25_row1_col1\" class=\"data row1 col1\" >2306</td>\n",
       "                        <td id=\"T_d7b25_row1_col2\" class=\"data row1 col2\" >15.47%</td>\n",
       "            </tr>\n",
       "            <tr>\n",
       "                        <th id=\"T_d7b25_level0_row2\" class=\"row_heading level0 row2\" >Shooter</th>\n",
       "                        <td id=\"T_d7b25_row2_col0\" class=\"data row2 col0\" >314.520000</td>\n",
       "                        <td id=\"T_d7b25_row2_col1\" class=\"data row2 col1\" >1296</td>\n",
       "                        <td id=\"T_d7b25_row2_col2\" class=\"data row2 col2\" >13.11%</td>\n",
       "            </tr>\n",
       "            <tr>\n",
       "                        <th id=\"T_d7b25_level0_row3\" class=\"row_heading level0 row3\" >Racing</th>\n",
       "                        <td id=\"T_d7b25_row3_col0\" class=\"data row3 col0\" >234.490000</td>\n",
       "                        <td id=\"T_d7b25_row3_col1\" class=\"data row3 col1\" >1226</td>\n",
       "                        <td id=\"T_d7b25_row3_col2\" class=\"data row3 col2\" >9.77%</td>\n",
       "            </tr>\n",
       "            <tr>\n",
       "                        <th id=\"T_d7b25_level0_row4\" class=\"row_heading level0 row4\" >Misc</th>\n",
       "                        <td id=\"T_d7b25_row4_col0\" class=\"data row4 col0\" >210.600000</td>\n",
       "                        <td id=\"T_d7b25_row4_col1\" class=\"data row4 col1\" >1721</td>\n",
       "                        <td id=\"T_d7b25_row4_col2\" class=\"data row4 col2\" >8.78%</td>\n",
       "            </tr>\n",
       "    </tbody></table>"
      ],
      "text/plain": [
       "<pandas.io.formats.style.Styler at 0x7efe4118cfa0>"
      ]
     },
     "execution_count": 100,
     "metadata": {},
     "output_type": "execute_result"
    }
   ],
   "source": [
    "#рассмотрим жанры в европе\n",
    "eu_g = data.pivot_table(index='genre', values='eu_sales', aggfunc=['sum', 'count'])\n",
    "eu_g.columns = ['sum', 'count']\n",
    "eu_g = eu_g.sort_values(by='sum', ascending=False)\n",
    "eu_g['% продажи'] = eu_g['sum']/ all_eu_sales\n",
    "eu_g = eu_g.head().style.format({'% продажи':'{:.2%}'})\n",
    "\n",
    "eu_g"
   ]
  },
  {
   "cell_type": "code",
   "execution_count": 101,
   "metadata": {},
   "outputs": [
    {
     "data": {
      "text/html": [
       "<style  type=\"text/css\" >\n",
       "</style><table id=\"T_815db_\" ><thead>    <tr>        <th class=\"blank level0\" ></th>        <th class=\"col_heading level0 col0\" >sum</th>        <th class=\"col_heading level0 col1\" >count</th>        <th class=\"col_heading level0 col2\" >% продажи</th>    </tr>    <tr>        <th class=\"index_name level0\" >genre</th>        <th class=\"blank\" ></th>        <th class=\"blank\" ></th>        <th class=\"blank\" ></th>    </tr></thead><tbody>\n",
       "                <tr>\n",
       "                        <th id=\"T_815db_level0_row0\" class=\"row_heading level0 row0\" >Role-Playing</th>\n",
       "                        <td id=\"T_815db_row0_col0\" class=\"data row0 col0\" >353.390000</td>\n",
       "                        <td id=\"T_815db_row0_col1\" class=\"data row0 col1\" >1481</td>\n",
       "                        <td id=\"T_815db_row0_col2\" class=\"data row0 col2\" >27.38%</td>\n",
       "            </tr>\n",
       "            <tr>\n",
       "                        <th id=\"T_815db_level0_row1\" class=\"row_heading level0 row1\" >Action</th>\n",
       "                        <td id=\"T_815db_row1_col0\" class=\"data row1 col0\" >160.140000</td>\n",
       "                        <td id=\"T_815db_row1_col1\" class=\"data row1 col1\" >3307</td>\n",
       "                        <td id=\"T_815db_row1_col2\" class=\"data row1 col2\" >12.41%</td>\n",
       "            </tr>\n",
       "            <tr>\n",
       "                        <th id=\"T_815db_level0_row2\" class=\"row_heading level0 row2\" >Sports</th>\n",
       "                        <td id=\"T_815db_row2_col0\" class=\"data row2 col0\" >134.930000</td>\n",
       "                        <td id=\"T_815db_row2_col1\" class=\"data row2 col1\" >2306</td>\n",
       "                        <td id=\"T_815db_row2_col2\" class=\"data row2 col2\" >10.45%</td>\n",
       "            </tr>\n",
       "            <tr>\n",
       "                        <th id=\"T_815db_level0_row3\" class=\"row_heading level0 row3\" >Platform</th>\n",
       "                        <td id=\"T_815db_row3_col0\" class=\"data row3 col0\" >130.710000</td>\n",
       "                        <td id=\"T_815db_row3_col1\" class=\"data row3 col1\" >878</td>\n",
       "                        <td id=\"T_815db_row3_col2\" class=\"data row3 col2\" >10.13%</td>\n",
       "            </tr>\n",
       "            <tr>\n",
       "                        <th id=\"T_815db_level0_row4\" class=\"row_heading level0 row4\" >Misc</th>\n",
       "                        <td id=\"T_815db_row4_col0\" class=\"data row4 col0\" >107.020000</td>\n",
       "                        <td id=\"T_815db_row4_col1\" class=\"data row4 col1\" >1721</td>\n",
       "                        <td id=\"T_815db_row4_col2\" class=\"data row4 col2\" >8.29%</td>\n",
       "            </tr>\n",
       "    </tbody></table>"
      ],
      "text/plain": [
       "<pandas.io.formats.style.Styler at 0x7efe4ea1e820>"
      ]
     },
     "execution_count": 101,
     "metadata": {},
     "output_type": "execute_result"
    }
   ],
   "source": [
    "#рассмотрим жанры в японии\n",
    "jp_g = data.pivot_table(index='genre', values='jp_sales', aggfunc=['sum', 'count'])\n",
    "jp_g.columns = ['sum', 'count']\n",
    "jp_g = jp_g.sort_values(by='sum', ascending=False)\n",
    "jp_g['% продажи'] = jp_g['sum']/ all_jp_sales\n",
    "jp_g = jp_g.head().style.format({'% продажи':'{:.2%}'})\n",
    "\n",
    "jp_g"
   ]
  },
  {
   "cell_type": "code",
   "execution_count": 102,
   "metadata": {},
   "outputs": [
    {
     "data": {
      "text/html": [
       "<style  type=\"text/css\" >\n",
       "</style><table id=\"T_289ce_\" ><thead>    <tr>        <th class=\"blank level0\" ></th>        <th class=\"col_heading level0 col0\" >sum</th>        <th class=\"col_heading level0 col1\" >count</th>        <th class=\"col_heading level0 col2\" >% продажи</th>    </tr>    <tr>        <th class=\"index_name level0\" >genre</th>        <th class=\"blank\" ></th>        <th class=\"blank\" ></th>        <th class=\"blank\" ></th>    </tr></thead><tbody>\n",
       "                <tr>\n",
       "                        <th id=\"T_289ce_level0_row0\" class=\"row_heading level0 row0\" >Action</th>\n",
       "                        <td id=\"T_289ce_row0_col0\" class=\"data row0 col0\" >182.220000</td>\n",
       "                        <td id=\"T_289ce_row0_col1\" class=\"data row0 col1\" >3307</td>\n",
       "                        <td id=\"T_289ce_row0_col2\" class=\"data row0 col2\" >23.28%</td>\n",
       "            </tr>\n",
       "            <tr>\n",
       "                        <th id=\"T_289ce_level0_row1\" class=\"row_heading level0 row1\" >Sports</th>\n",
       "                        <td id=\"T_289ce_row1_col0\" class=\"data row1 col0\" >132.210000</td>\n",
       "                        <td id=\"T_289ce_row1_col1\" class=\"data row1 col1\" >2306</td>\n",
       "                        <td id=\"T_289ce_row1_col2\" class=\"data row1 col2\" >16.89%</td>\n",
       "            </tr>\n",
       "            <tr>\n",
       "                        <th id=\"T_289ce_level0_row2\" class=\"row_heading level0 row2\" >Shooter</th>\n",
       "                        <td id=\"T_289ce_row2_col0\" class=\"data row2 col0\" >103.330000</td>\n",
       "                        <td id=\"T_289ce_row2_col1\" class=\"data row2 col1\" >1296</td>\n",
       "                        <td id=\"T_289ce_row2_col2\" class=\"data row2 col2\" >13.20%</td>\n",
       "            </tr>\n",
       "            <tr>\n",
       "                        <th id=\"T_289ce_level0_row3\" class=\"row_heading level0 row3\" >Racing</th>\n",
       "                        <td id=\"T_289ce_row3_col0\" class=\"data row3 col0\" >75.510000</td>\n",
       "                        <td id=\"T_289ce_row3_col1\" class=\"data row3 col1\" >1226</td>\n",
       "                        <td id=\"T_289ce_row3_col2\" class=\"data row3 col2\" >9.65%</td>\n",
       "            </tr>\n",
       "            <tr>\n",
       "                        <th id=\"T_289ce_level0_row4\" class=\"row_heading level0 row4\" >Misc</th>\n",
       "                        <td id=\"T_289ce_row4_col0\" class=\"data row4 col0\" >73.100000</td>\n",
       "                        <td id=\"T_289ce_row4_col1\" class=\"data row4 col1\" >1721</td>\n",
       "                        <td id=\"T_289ce_row4_col2\" class=\"data row4 col2\" >9.34%</td>\n",
       "            </tr>\n",
       "    </tbody></table>"
      ],
      "text/plain": [
       "<pandas.io.formats.style.Styler at 0x7efeac93bfd0>"
      ]
     },
     "execution_count": 102,
     "metadata": {},
     "output_type": "execute_result"
    }
   ],
   "source": [
    "#рассмотрим жанры в других регионах\n",
    "other_g = data.pivot_table(index='genre', values='other_sales', aggfunc=['sum', 'count'])\n",
    "other_g.columns = ['sum', 'count']\n",
    "other_g = other_g.sort_values(by='sum', ascending=False)\n",
    "other_g['% продажи'] = other_g['sum']/ all_other_sales\n",
    "other_g = other_g.head().style.format({'% продажи':'{:.2%}'})\n",
    "\n",
    "other_g"
   ]
  },
  {
   "cell_type": "code",
   "execution_count": 103,
   "metadata": {},
   "outputs": [
    {
     "name": "stdout",
     "output_type": "stream",
     "text": [
      "              eu_sales  jp_sales  na_sales  other_sales\n",
      "genre                                                  \n",
      "Action          510.99    160.14    863.17       182.22\n",
      "Adventure        63.20     52.24    101.52        16.37\n",
      "Fighting         99.00     87.28    220.51        35.87\n",
      "Misc            210.60    107.02    399.57        73.10\n",
      "Platform        199.39    130.71    444.44        51.01\n",
      "Puzzle           49.78     56.68    121.13        12.30\n",
      "Racing          234.49     56.63    356.86        75.51\n",
      "Role-Playing    188.24    353.39    330.04        59.41\n",
      "Shooter         314.52     38.68    584.83       103.33\n",
      "Simulation      113.35     63.64    180.40        30.57\n",
      "Sports          371.33    134.93    671.20       132.21\n",
      "Strategy         44.79     49.30     67.75        10.73\n"
     ]
    },
    {
     "data": {
      "image/png": "[encoded data removed]",
      "text/plain": [
       "<Figure size 1296x720 with 1 Axes>"
      ]
     },
     "metadata": {
      "needs_background": "light"
     },
     "output_type": "display_data"
    }
   ],
   "source": [
    "#построим график\n",
    "sales_g = data.pivot_table(index='genre', values=['na_sales', 'eu_sales', 'jp_sales', 'other_sales'], aggfunc='sum')\n",
    "sales_g.columns = ['eu_sales', 'jp_sales', 'na_sales', 'other_sales']\n",
    "\n",
    "print(sales_g)\n",
    "sales_g.plot.bar(figsize=(18, 10), colormap='cividis').set_title('Распределение жанров по регионам')\n",
    "\n",
    "\n",
    "plt.xlabel('жанры')\n",
    "plt.ylabel('Количеcтво продаж, млн')\n",
    "\n",
    "plt.show()"
   ]
  },
  {
   "cell_type": "markdown",
   "metadata": {},
   "source": [
    "Лидером беспорно является экшен. Но например для Япониии первое место за ролевыми играми."
   ]
  },
  {
   "cell_type": "markdown",
   "metadata": {},
   "source": [
    "- Влияет ли рейтинг ESRB на продажи в отдельном регионе?"
   ]
  },
  {
   "cell_type": "code",
   "execution_count": 110,
   "metadata": {},
   "outputs": [
    {
     "data": {
      "image/png": "[encoded data removed]",
      "text/plain": [
       "<Figure size 1080x360 with 1 Axes>"
      ]
     },
     "metadata": {
      "needs_background": "light"
     },
     "output_type": "display_data"
    }
   ],
   "source": [
    "pie = data_actual.pivot_table(index='rating', values=['na_sales', 'eu_sales', 'jp_sales', 'other_sales'], aggfunc='sum')\\\n",
    " .sort_values(by='na_sales')\n",
    "pie.plot(kind='bar', figsize=(15, 5), colormap='cividis')\n",
    "pie.columns = ['na_sales', 'eu_sales', 'jp_sales', 'other_sales']\n",
    "\n",
    "plt.xlabel('Рейтинг ESRB')\n",
    "plt.ylabel('Количество проданных копий, млн')\n",
    "plt.title('Продажи в зависимости от рейтинга в различных регионах')\n",
    "plt.show()"
   ]
  },
  {
   "cell_type": "code",
   "execution_count": 111,
   "metadata": {},
   "outputs": [
    {
     "data": {
      "text/html": [
       "<div>\n",
       "<style scoped>\n",
       "    .dataframe tbody tr th:only-of-type {\n",
       "        vertical-align: middle;\n",
       "    }\n",
       "\n",
       "    .dataframe tbody tr th {\n",
       "        vertical-align: top;\n",
       "    }\n",
       "\n",
       "    .dataframe thead th {\n",
       "        text-align: right;\n",
       "    }\n",
       "</style>\n",
       "<table border=\"1\" class=\"dataframe\">\n",
       "  <thead>\n",
       "    <tr style=\"text-align: right;\">\n",
       "      <th></th>\n",
       "      <th>na_sales</th>\n",
       "      <th>eu_sales</th>\n",
       "      <th>jp_sales</th>\n",
       "      <th>other_sales</th>\n",
       "    </tr>\n",
       "    <tr>\n",
       "      <th>rating</th>\n",
       "      <th></th>\n",
       "      <th></th>\n",
       "      <th></th>\n",
       "      <th></th>\n",
       "    </tr>\n",
       "  </thead>\n",
       "  <tbody>\n",
       "    <tr>\n",
       "      <th>E10+</th>\n",
       "      <td>26.16</td>\n",
       "      <td>4.46</td>\n",
       "      <td>33.23</td>\n",
       "      <td>7.83</td>\n",
       "    </tr>\n",
       "    <tr>\n",
       "      <th>T</th>\n",
       "      <td>34.07</td>\n",
       "      <td>14.78</td>\n",
       "      <td>38.95</td>\n",
       "      <td>11.33</td>\n",
       "    </tr>\n",
       "    <tr>\n",
       "      <th>E</th>\n",
       "      <td>58.06</td>\n",
       "      <td>8.94</td>\n",
       "      <td>50.74</td>\n",
       "      <td>15.39</td>\n",
       "    </tr>\n",
       "    <tr>\n",
       "      <th>ND</th>\n",
       "      <td>58.95</td>\n",
       "      <td>56.90</td>\n",
       "      <td>64.72</td>\n",
       "      <td>18.40</td>\n",
       "    </tr>\n",
       "    <tr>\n",
       "      <th>M</th>\n",
       "      <td>93.44</td>\n",
       "      <td>8.01</td>\n",
       "      <td>96.42</td>\n",
       "      <td>28.67</td>\n",
       "    </tr>\n",
       "  </tbody>\n",
       "</table>\n",
       "</div>"
      ],
      "text/plain": [
       "        na_sales  eu_sales  jp_sales  other_sales\n",
       "rating                                           \n",
       "E10+       26.16      4.46     33.23         7.83\n",
       "T          34.07     14.78     38.95        11.33\n",
       "E          58.06      8.94     50.74        15.39\n",
       "ND         58.95     56.90     64.72        18.40\n",
       "M          93.44      8.01     96.42        28.67"
      ]
     },
     "execution_count": 111,
     "metadata": {},
     "output_type": "execute_result"
    }
   ],
   "source": [
    "pie\n"
   ]
  },
  {
   "cell_type": "code",
   "execution_count": 112,
   "metadata": {},
   "outputs": [
    {
     "data": {
      "image/png": "[encoded data removed]",
      "text/plain": [
       "<Figure size 1080x1080 with 3 Axes>"
      ]
     },
     "metadata": {},
     "output_type": "display_data"
    }
   ],
   "source": [
    "import matplotlib.pyplot as plt\n",
    "\n",
    "fig, axs = plt.subplots(1,3)\n",
    "\n",
    "pie.plot(\n",
    "    ax=axs[0], \n",
    "    y='na_sales', \n",
    "    kind=\"pie\", \n",
    "    figsize=(15,15),\n",
    "    colormap='cividis', \n",
    "    ylabel='Северная америка',\n",
    "    autopct='%1.0f%%', \n",
    "    legend=False\n",
    ")\n",
    "axs[0].set_xlabel(\"X1\")\n",
    "\n",
    "pie.plot(\n",
    "    ax=axs[1], \n",
    "    y='eu_sales', \n",
    "    kind=\"pie\", \n",
    "    figsize=(15,15), \n",
    "    colormap='viridis', \n",
    "    ylabel='Европа',\n",
    "    autopct='%1.0f%%', \n",
    "    legend=False\n",
    ")\n",
    "axs[1].set_xlabel(\"X2\")\n",
    "\n",
    "pie.plot(\n",
    "    ax=axs[2], \n",
    "    y='jp_sales', \n",
    "    kind=\"pie\", \n",
    "    figsize=(15,15), \n",
    "    colormap='cool', \n",
    "    ylabel='Япония', \n",
    "    autopct='%1.0f%%',\n",
    "    legend=False\n",
    ")\n",
    "axs[2].set_xlabel(\"X3\")\n",
    "\n",
    "\n",
    "plt.tight_layout()\n",
    "\n",
    "\n",
    "plt.show()"
   ]
  },
  {
   "cell_type": "markdown",
   "metadata": {},
   "source": [
    "<div class=\"alert alert-info\">\n",
    "    \n",
    "  В Америке как и в Японии на первом месте стоят игры для мзрослых, далее идут без рейтинго ESRB, на 3м и 4м месте игры для всех возростов(больше в Америке) и для подростков от 13лет(больше в Японии).\n",
    "    \n",
    "   Что косается Европы, то у них есть свой рейтинг - PEGI, а в Германии даже его не особо придерживаются и используют отечественный - Unterhaltungssoftware Selbstkontrolle (USK). Поэтому в Европе больше всего не оцененных игр целых - 61%, там придерживаются своего ранжирования. Игры для врослых, в отличие от Америки и Японии стоят на предпоследнем месте, на 2м - для подростков, на 3м - для всех возростов.\n",
    "    \n",
    "   Для всех регионов самые непопулярные это игры от 10 лет. \n",
    "    \n",
    "   __Можем сделать вывод,__ что для начала надо понять в каком регионе планируются продажи, и если это Америка или Япония, то лучше пройти рейтинг ESRB, но для Европы использовать местный.\n",
    "\n",
    "\n",
    "</div>\n"
   ]
  },
  {
   "cell_type": "markdown",
   "metadata": {},
   "source": [
    "__Выводы__\n",
    "\n",
    "_Региональные особенности влияют и на то, какие жанры популярны, и какие платформы. В Европе и Северной Америке лидеры отличаются незначительно: наиболее популярны стационарные платформы - XBox 360, XOne, PlayStation 3 и PlayStation 4. В Японии же в топе мобильные консоли - Nintendo 3DS и PlayStation Vita, но стационарные PlayStation 3 и PlayStation 4 также популярны. Продаж игр для ПК в Японии согласно имеющимся данным нет совсем. В Европе и Северной Америке лидируют экшены, спортивные игры и стрелялки. В Японии экшены только на втором месте по поулярности, лидеры - ролевые игры, а стрелялки всего на 5 месте._"
   ]
  },
  {
   "cell_type": "markdown",
   "metadata": {},
   "source": [
    "<div class=\"alert alert-info\">\n",
    "   \n",
    "Я под графиком жанров написала про \"Рейтинг ESRB\". Что он преднозначен для Северной Америки, а следовательно много игр, особенно в Японии не расчитывают на этот рейтинг, да и сами японцы, во многом предпочитают отечественные игры.\n",
    "    \n",
    "\n",
    "</div>"
   ]
  },
  {
   "cell_type": "markdown",
   "metadata": {},
   "source": [
    "# Шаг 5. Проверьте гипотезы"
   ]
  },
  {
   "cell_type": "markdown",
   "metadata": {},
   "source": [
    "Первая гипотеза:\n",
    "- Средние пользовательские рейтинги платформ Xbox One и PC одинаковые;\n"
   ]
  },
  {
   "cell_type": "code",
   "execution_count": 107,
   "metadata": {},
   "outputs": [
    {
     "name": "stdout",
     "output_type": "stream",
     "text": [
      "p-значение: 0.10450507919348415\n",
      "Не получилось отвергнуть нулевую гипотезу: cредние пользовательские рейтинги платформ Xbox One и PC одинаковые\n"
     ]
    },
    {
     "data": {
      "text/html": [
       "<div>\n",
       "<style scoped>\n",
       "    .dataframe tbody tr th:only-of-type {\n",
       "        vertical-align: middle;\n",
       "    }\n",
       "\n",
       "    .dataframe tbody tr th {\n",
       "        vertical-align: top;\n",
       "    }\n",
       "\n",
       "    .dataframe thead tr th {\n",
       "        text-align: left;\n",
       "    }\n",
       "\n",
       "    .dataframe thead tr:last-of-type th {\n",
       "        text-align: right;\n",
       "    }\n",
       "</style>\n",
       "<table border=\"1\" class=\"dataframe\">\n",
       "  <thead>\n",
       "    <tr>\n",
       "      <th></th>\n",
       "      <th>count</th>\n",
       "      <th>mean</th>\n",
       "      <th>median</th>\n",
       "      <th>var</th>\n",
       "    </tr>\n",
       "    <tr>\n",
       "      <th></th>\n",
       "      <th>user_score</th>\n",
       "      <th>user_score</th>\n",
       "      <th>user_score</th>\n",
       "      <th>user_score</th>\n",
       "    </tr>\n",
       "    <tr>\n",
       "      <th>platform</th>\n",
       "      <th></th>\n",
       "      <th></th>\n",
       "      <th></th>\n",
       "      <th></th>\n",
       "    </tr>\n",
       "  </thead>\n",
       "  <tbody>\n",
       "    <tr>\n",
       "      <th>PC</th>\n",
       "      <td>122</td>\n",
       "      <td>6.298361</td>\n",
       "      <td>6.8</td>\n",
       "      <td>2.901154</td>\n",
       "    </tr>\n",
       "    <tr>\n",
       "      <th>XOne</th>\n",
       "      <td>165</td>\n",
       "      <td>6.594545</td>\n",
       "      <td>6.8</td>\n",
       "      <td>1.891007</td>\n",
       "    </tr>\n",
       "  </tbody>\n",
       "</table>\n",
       "</div>"
      ],
      "text/plain": [
       "              count       mean     median        var\n",
       "         user_score user_score user_score user_score\n",
       "platform                                            \n",
       "PC              122   6.298361        6.8   2.901154\n",
       "XOne            165   6.594545        6.8   1.891007"
      ]
     },
     "metadata": {},
     "output_type": "display_data"
    }
   ],
   "source": [
    "alpha = .05\n",
    "results = st.ttest_ind(\n",
    "    data_actual[(data_actual.platform == \"XOne\") & (data_actual.user_score.notna())]['user_score'], \n",
    "    data_actual[(data_actual.platform == \"PC\") & (data_actual.user_score.notna())]['user_score']\n",
    ")# используйте метод st.ttest_1samp\n",
    "\n",
    "print('p-значение:', results.pvalue ) # добавьте в аргумент p-value \n",
    "\n",
    "if results.pvalue < alpha: \n",
    "    print(\"Отвергаем нулевую гиптезу: Средние пользовательские рейтинги платформ Xbox One и PC разные\")\n",
    "else:\n",
    "    print(\"Не получилось отвергнуть нулевую гипотезу: cредние пользовательские рейтинги платформ Xbox One и PC одинаковые\")\n",
    "\n",
    "\n",
    "display(data_actual.query('platform in [\"XOne\", \"PC\"]')\\\n",
    "        .pivot_table(index='platform', values='user_score', aggfunc=['count', 'mean', 'median', 'var']))"
   ]
  },
  {
   "cell_type": "markdown",
   "metadata": {},
   "source": [
    "Средние практически не отличаются."
   ]
  },
  {
   "cell_type": "markdown",
   "metadata": {},
   "source": [
    "Вторая гипотеза:\n",
    "- Средние пользовательские рейтинги жанров Action (англ. «действие», экшен-игры) и Sports (англ. «спортивные соревнования») разные."
   ]
  },
  {
   "cell_type": "code",
   "execution_count": 114,
   "metadata": {},
   "outputs": [
    {
     "name": "stdout",
     "output_type": "stream",
     "text": [
      "p-значение: 2.8711147985105864e-19\n",
      "Отвергаем нулевую гипотезу: рейтинги разные\n"
     ]
    },
    {
     "data": {
      "text/html": [
       "<div>\n",
       "<style scoped>\n",
       "    .dataframe tbody tr th:only-of-type {\n",
       "        vertical-align: middle;\n",
       "    }\n",
       "\n",
       "    .dataframe tbody tr th {\n",
       "        vertical-align: top;\n",
       "    }\n",
       "\n",
       "    .dataframe thead tr th {\n",
       "        text-align: left;\n",
       "    }\n",
       "\n",
       "    .dataframe thead tr:last-of-type th {\n",
       "        text-align: right;\n",
       "    }\n",
       "</style>\n",
       "<table border=\"1\" class=\"dataframe\">\n",
       "  <thead>\n",
       "    <tr>\n",
       "      <th></th>\n",
       "      <th>count</th>\n",
       "      <th>mean</th>\n",
       "      <th>median</th>\n",
       "      <th>var</th>\n",
       "    </tr>\n",
       "    <tr>\n",
       "      <th></th>\n",
       "      <th>user_score</th>\n",
       "      <th>user_score</th>\n",
       "      <th>user_score</th>\n",
       "      <th>user_score</th>\n",
       "    </tr>\n",
       "    <tr>\n",
       "      <th>genre</th>\n",
       "      <th></th>\n",
       "      <th></th>\n",
       "      <th></th>\n",
       "      <th></th>\n",
       "    </tr>\n",
       "  </thead>\n",
       "  <tbody>\n",
       "    <tr>\n",
       "      <th>Action</th>\n",
       "      <td>297</td>\n",
       "      <td>6.760606</td>\n",
       "      <td>7.1</td>\n",
       "      <td>1.898477</td>\n",
       "    </tr>\n",
       "    <tr>\n",
       "      <th>Sports</th>\n",
       "      <td>127</td>\n",
       "      <td>5.225197</td>\n",
       "      <td>5.5</td>\n",
       "      <td>3.446979</td>\n",
       "    </tr>\n",
       "  </tbody>\n",
       "</table>\n",
       "</div>"
      ],
      "text/plain": [
       "            count       mean     median        var\n",
       "       user_score user_score user_score user_score\n",
       "genre                                             \n",
       "Action        297   6.760606        7.1   1.898477\n",
       "Sports        127   5.225197        5.5   3.446979"
      ]
     },
     "metadata": {},
     "output_type": "display_data"
    }
   ],
   "source": [
    "alpha = .05  # критический уровень статистической значимости\n",
    "results = st.ttest_ind(\n",
    "    data_actual[(data_actual.genre == \"Action\") & (data_actual.user_score.notna())]['user_score'], \n",
    "    data_actual[(data_actual.genre == \"Sports\") & (data_actual.user_score.notna())]['user_score']\n",
    ")\n",
    "\n",
    "print('p-значение:', results.pvalue)\n",
    "\n",
    "if results.pvalue < alpha:\n",
    "    print('Отвергаем нулевую гипотезу: рейтинги разные')\n",
    "else:\n",
    "    print('Не получилось отвергнуть нулевую гипотезу:  рейтинги одинаковые') \n",
    "    \n",
    "display(data_actual.query('genre in [\"Action\", \"Sports\"]')\\\n",
    "        .pivot_table(index='genre', values='user_score', aggfunc=['count', 'mean', 'median', 'var']))"
   ]
  },
  {
   "cell_type": "markdown",
   "metadata": {},
   "source": [
    "Вероятность ничтожно мала, рейтинги разные."
   ]
  },
  {
   "cell_type": "markdown",
   "metadata": {},
   "source": [
    "\n",
    "1. Нулевая гипотеза - \"средние рейтинги не отличаются\".\n",
    "   Альтернативная гипотеза - \"средние рейтинги отличаются\"\n",
    "    Значение критического уровня вероятности (альфа) примем равным 5%.Пропущенные значечния отфильтруем.\n",
    "\n",
    "2. Нулевая гипотеза - \"средние рейтинги не отличаются\".\n",
    "   Альтернативная гипотеза - \"средние рейтинги отличаются\"\n",
    "\n"
   ]
  },
  {
   "cell_type": "markdown",
   "metadata": {},
   "source": [
    "\n",
    "   \n",
    "Так как мы сравниваем два массива данных то выбираем способ: \"st.ttest_ind\". \n",
    "    \n",
    "Я бы по итогом анализа вероятности наших гипотез, сделала след вывод - \n",
    "    Оценки пользователей не зависят от платформ, но зависят от жанров игр. На основании принятого нами значения критического уровня статистической значимости 5% мы можем предполагать, что первая гипотеза верна, а вторая не верна.\n",
    "\n"
   ]
  },
  {
   "cell_type": "markdown",
   "metadata": {},
   "source": [
    "# Шаг 6. Напишите общий вывод"
   ]
  },
  {
   "cell_type": "markdown",
   "metadata": {},
   "source": [
    "  Изучив выборку данных об видеоиграх, вышедших с 1980 по 2016 годы на различных платформах - консолях и персональных компьютерах. Провели анализ для того, чтобы понять, какие игры могут хорошо продаваться в 2017 году и составили портреты пользователей разных регионов. К 2016 году PlayStation 4, WiiU, XBox One только начали идти к своему пику продаж, Nintendo 3DS, XBox 360, PlayStation 3 и PlayStation Vita миновали пик популярности, причем PlayStation Vita на протяжении всей жизни не пользовалась большой популярностью. На выбор платформ редко имеют влияние пользовательские оценки, больше совпадает высокая оценка критиков с уровнем продаж. Из жанров наиболее продоваемыми являются спортивные, стрелялки и ролевые. Северная Америка схожа с Европой по выбору жанров, а Япония заметно отличается, они меньше любят стрелять, больше любят сменить обстановку. Так, наиболее популярными платформами в Северной Америке и Европе являются стационарные консоли - XBox 360, XOne, PlayStation 3 и PlayStation 4. В Японии в лидерах мобильная консоль - Nintendo 3DS, а PlayStation3 на втором месте, уверена это связано с тем, что места у них в квартирах не так мого. Так как рейтинг ESRB предназначен для рецензирования игр на территории Северной Америки (США, Канады, Мексики), заметнее его влияние в этом регионе и Японии. В Европе популярны игры вовсе без этого рейтинга - судя по всему, это игры, созданные в самой Европе и не получавшие этого рейтинга. Продажи игр сильнее коррелируют с оценкой критиков, чем с оценками пользователей. При этом оценки пользователкй зависят не от платформы, а от жанра."
   ]
  }
 ],
 "metadata": {
  "ExecuteTimeLog": [
   {
    "duration": 41,
    "start_time": "2022-10-21T17:03:08.751Z"
   },
   {
    "duration": 401,
    "start_time": "2022-10-21T17:03:14.794Z"
   },
   {
    "duration": 64,
    "start_time": "2022-10-21T17:03:16.337Z"
   },
   {
    "duration": 201,
    "start_time": "2022-10-21T17:03:24.870Z"
   },
   {
    "duration": 19,
    "start_time": "2022-10-21T17:03:27.709Z"
   },
   {
    "duration": 10,
    "start_time": "2022-10-21T17:07:22.551Z"
   },
   {
    "duration": 7,
    "start_time": "2022-10-21T17:08:43.950Z"
   },
   {
    "duration": 4,
    "start_time": "2022-10-21T17:11:35.790Z"
   },
   {
    "duration": 13,
    "start_time": "2022-10-21T17:11:45.310Z"
   },
   {
    "duration": 11,
    "start_time": "2022-10-21T17:11:53.757Z"
   },
   {
    "duration": 2,
    "start_time": "2022-10-21T17:12:04.932Z"
   },
   {
    "duration": 12,
    "start_time": "2022-10-21T17:12:06.480Z"
   },
   {
    "duration": 17,
    "start_time": "2022-10-21T17:14:27.049Z"
   },
   {
    "duration": 19,
    "start_time": "2022-10-21T17:22:03.388Z"
   },
   {
    "duration": 316,
    "start_time": "2022-10-21T17:23:06.157Z"
   },
   {
    "duration": 9,
    "start_time": "2022-10-21T17:25:12.309Z"
   },
   {
    "duration": 3,
    "start_time": "2022-10-21T18:02:42.490Z"
   },
   {
    "duration": 54,
    "start_time": "2022-10-21T18:02:42.495Z"
   },
   {
    "duration": 12,
    "start_time": "2022-10-21T18:02:42.551Z"
   },
   {
    "duration": 6,
    "start_time": "2022-10-21T18:02:42.565Z"
   },
   {
    "duration": 17,
    "start_time": "2022-10-21T18:02:42.572Z"
   },
   {
    "duration": 19,
    "start_time": "2022-10-21T18:02:42.590Z"
   },
   {
    "duration": 10,
    "start_time": "2022-10-21T18:02:42.611Z"
   },
   {
    "duration": 2,
    "start_time": "2022-10-21T18:02:42.623Z"
   },
   {
    "duration": 343,
    "start_time": "2022-10-22T07:06:36.848Z"
   },
   {
    "duration": 216,
    "start_time": "2022-10-22T07:06:37.193Z"
   },
   {
    "duration": 22,
    "start_time": "2022-10-22T07:06:37.411Z"
   },
   {
    "duration": 3,
    "start_time": "2022-10-22T07:06:37.435Z"
   },
   {
    "duration": 23,
    "start_time": "2022-10-22T07:06:37.440Z"
   },
   {
    "duration": 14,
    "start_time": "2022-10-22T07:06:37.464Z"
   },
   {
    "duration": 9,
    "start_time": "2022-10-22T07:06:37.479Z"
   },
   {
    "duration": 2,
    "start_time": "2022-10-22T07:06:37.490Z"
   },
   {
    "duration": 70,
    "start_time": "2022-10-22T13:58:58.293Z"
   },
   {
    "duration": 40,
    "start_time": "2022-10-22T14:01:40.833Z"
   },
   {
    "duration": 357,
    "start_time": "2022-10-22T14:01:47.833Z"
   },
   {
    "duration": 463,
    "start_time": "2022-10-22T14:01:48.191Z"
   },
   {
    "duration": 19,
    "start_time": "2022-10-22T14:01:48.656Z"
   },
   {
    "duration": 3,
    "start_time": "2022-10-22T14:01:48.676Z"
   },
   {
    "duration": 17,
    "start_time": "2022-10-22T14:01:48.680Z"
   },
   {
    "duration": 14,
    "start_time": "2022-10-22T14:01:48.699Z"
   },
   {
    "duration": 6,
    "start_time": "2022-10-22T14:01:48.715Z"
   },
   {
    "duration": 6,
    "start_time": "2022-10-22T14:01:48.722Z"
   },
   {
    "duration": 3,
    "start_time": "2022-10-22T14:01:48.729Z"
   },
   {
    "duration": 7,
    "start_time": "2022-10-22T14:01:59.553Z"
   },
   {
    "duration": 33,
    "start_time": "2022-10-22T14:02:49.032Z"
   },
   {
    "duration": 10,
    "start_time": "2022-10-22T14:02:58.990Z"
   },
   {
    "duration": 7,
    "start_time": "2022-10-22T14:03:40.780Z"
   },
   {
    "duration": 7,
    "start_time": "2022-10-22T14:03:42.432Z"
   },
   {
    "duration": 8,
    "start_time": "2022-10-22T14:05:35.592Z"
   },
   {
    "duration": 7,
    "start_time": "2022-10-22T14:05:37.732Z"
   },
   {
    "duration": 14,
    "start_time": "2022-10-22T14:05:52.252Z"
   },
   {
    "duration": 13,
    "start_time": "2022-10-22T14:07:33.211Z"
   },
   {
    "duration": 8,
    "start_time": "2022-10-22T14:08:24.292Z"
   },
   {
    "duration": 5,
    "start_time": "2022-10-22T14:09:23.952Z"
   },
   {
    "duration": 6,
    "start_time": "2022-10-22T14:09:58.753Z"
   },
   {
    "duration": 5,
    "start_time": "2022-10-22T14:10:38.012Z"
   },
   {
    "duration": 5,
    "start_time": "2022-10-22T14:11:13.232Z"
   },
   {
    "duration": 12,
    "start_time": "2022-10-22T14:11:48.492Z"
   },
   {
    "duration": 21,
    "start_time": "2022-10-22T14:20:27.511Z"
   },
   {
    "duration": 8,
    "start_time": "2022-10-22T14:20:50.139Z"
   },
   {
    "duration": 468,
    "start_time": "2022-10-22T14:21:01.860Z"
   },
   {
    "duration": 48,
    "start_time": "2022-10-22T14:21:02.329Z"
   },
   {
    "duration": 13,
    "start_time": "2022-10-22T14:21:02.378Z"
   },
   {
    "duration": 6,
    "start_time": "2022-10-22T14:21:02.392Z"
   },
   {
    "duration": 13,
    "start_time": "2022-10-22T14:21:02.400Z"
   },
   {
    "duration": 14,
    "start_time": "2022-10-22T14:21:02.415Z"
   },
   {
    "duration": 5,
    "start_time": "2022-10-22T14:21:02.430Z"
   },
   {
    "duration": 8,
    "start_time": "2022-10-22T14:21:02.436Z"
   },
   {
    "duration": 15,
    "start_time": "2022-10-22T14:21:02.446Z"
   },
   {
    "duration": 7,
    "start_time": "2022-10-22T14:21:02.463Z"
   },
   {
    "duration": 6,
    "start_time": "2022-10-22T14:21:02.471Z"
   },
   {
    "duration": 31,
    "start_time": "2022-10-22T14:21:02.478Z"
   },
   {
    "duration": 2,
    "start_time": "2022-10-22T14:21:02.511Z"
   },
   {
    "duration": 6,
    "start_time": "2022-10-22T14:28:42.932Z"
   },
   {
    "duration": 5,
    "start_time": "2022-10-22T14:28:45.491Z"
   },
   {
    "duration": 3,
    "start_time": "2022-10-22T14:28:56.272Z"
   },
   {
    "duration": 4,
    "start_time": "2022-10-22T14:29:02.051Z"
   },
   {
    "duration": 11,
    "start_time": "2022-10-22T14:29:14.490Z"
   },
   {
    "duration": 2,
    "start_time": "2022-10-22T14:29:30.772Z"
   },
   {
    "duration": 69,
    "start_time": "2022-10-22T14:29:30.776Z"
   },
   {
    "duration": 14,
    "start_time": "2022-10-22T14:29:30.847Z"
   },
   {
    "duration": 17,
    "start_time": "2022-10-22T14:29:30.862Z"
   },
   {
    "duration": 28,
    "start_time": "2022-10-22T14:29:30.881Z"
   },
   {
    "duration": 37,
    "start_time": "2022-10-22T14:29:30.910Z"
   },
   {
    "duration": 20,
    "start_time": "2022-10-22T14:29:30.948Z"
   },
   {
    "duration": 13,
    "start_time": "2022-10-22T14:29:30.970Z"
   },
   {
    "duration": 15,
    "start_time": "2022-10-22T14:29:30.984Z"
   },
   {
    "duration": 7,
    "start_time": "2022-10-22T14:29:31.001Z"
   },
   {
    "duration": 21,
    "start_time": "2022-10-22T14:29:31.010Z"
   },
   {
    "duration": 17,
    "start_time": "2022-10-22T14:29:31.032Z"
   },
   {
    "duration": 36,
    "start_time": "2022-10-22T14:29:31.050Z"
   },
   {
    "duration": 3,
    "start_time": "2022-10-22T14:29:31.089Z"
   },
   {
    "duration": 5,
    "start_time": "2022-10-22T14:30:02.632Z"
   },
   {
    "duration": 10,
    "start_time": "2022-10-22T14:32:35.118Z"
   },
   {
    "duration": 12,
    "start_time": "2022-10-22T14:32:51.750Z"
   },
   {
    "duration": 5,
    "start_time": "2022-10-22T14:35:33.910Z"
   },
   {
    "duration": 16,
    "start_time": "2022-10-22T14:35:34.610Z"
   },
   {
    "duration": 2,
    "start_time": "2022-10-22T14:36:09.351Z"
   },
   {
    "duration": 53,
    "start_time": "2022-10-22T14:36:09.355Z"
   },
   {
    "duration": 11,
    "start_time": "2022-10-22T14:36:09.410Z"
   },
   {
    "duration": 5,
    "start_time": "2022-10-22T14:36:09.423Z"
   },
   {
    "duration": 17,
    "start_time": "2022-10-22T14:36:09.431Z"
   },
   {
    "duration": 17,
    "start_time": "2022-10-22T14:36:09.449Z"
   },
   {
    "duration": 4,
    "start_time": "2022-10-22T14:36:09.468Z"
   },
   {
    "duration": 9,
    "start_time": "2022-10-22T14:36:09.474Z"
   },
   {
    "duration": 24,
    "start_time": "2022-10-22T14:36:09.484Z"
   },
   {
    "duration": 15,
    "start_time": "2022-10-22T14:36:09.510Z"
   },
   {
    "duration": 6,
    "start_time": "2022-10-22T14:36:09.527Z"
   },
   {
    "duration": 8,
    "start_time": "2022-10-22T14:36:09.534Z"
   },
   {
    "duration": 6,
    "start_time": "2022-10-22T14:36:09.544Z"
   },
   {
    "duration": 12,
    "start_time": "2022-10-22T14:36:09.551Z"
   },
   {
    "duration": 2,
    "start_time": "2022-10-22T14:36:09.565Z"
   },
   {
    "duration": 431,
    "start_time": "2022-10-22T14:37:50.770Z"
   },
   {
    "duration": 21,
    "start_time": "2022-10-22T14:46:56.085Z"
   },
   {
    "duration": 27,
    "start_time": "2022-10-22T14:46:56.126Z"
   },
   {
    "duration": 0,
    "start_time": "2022-10-22T14:46:57.305Z"
   },
   {
    "duration": 0,
    "start_time": "2022-10-22T14:46:57.306Z"
   },
   {
    "duration": 0,
    "start_time": "2022-10-22T14:46:57.308Z"
   },
   {
    "duration": 0,
    "start_time": "2022-10-22T14:46:57.310Z"
   },
   {
    "duration": 0,
    "start_time": "2022-10-22T14:46:57.311Z"
   },
   {
    "duration": 0,
    "start_time": "2022-10-22T14:46:57.313Z"
   },
   {
    "duration": 0,
    "start_time": "2022-10-22T14:46:57.315Z"
   },
   {
    "duration": 0,
    "start_time": "2022-10-22T14:46:57.318Z"
   },
   {
    "duration": 0,
    "start_time": "2022-10-22T14:46:57.319Z"
   },
   {
    "duration": 0,
    "start_time": "2022-10-22T14:46:57.320Z"
   },
   {
    "duration": 0,
    "start_time": "2022-10-22T14:46:57.321Z"
   },
   {
    "duration": 0,
    "start_time": "2022-10-22T14:46:57.322Z"
   },
   {
    "duration": 0,
    "start_time": "2022-10-22T14:46:57.323Z"
   },
   {
    "duration": 0,
    "start_time": "2022-10-22T14:46:57.324Z"
   },
   {
    "duration": 0,
    "start_time": "2022-10-22T14:46:57.324Z"
   },
   {
    "duration": 58,
    "start_time": "2022-10-22T14:47:01.732Z"
   },
   {
    "duration": 12,
    "start_time": "2022-10-22T14:47:05.992Z"
   },
   {
    "duration": 3,
    "start_time": "2022-10-22T14:47:06.872Z"
   },
   {
    "duration": 13,
    "start_time": "2022-10-22T14:47:07.891Z"
   },
   {
    "duration": 12,
    "start_time": "2022-10-22T14:47:09.131Z"
   },
   {
    "duration": 5,
    "start_time": "2022-10-22T14:47:09.734Z"
   },
   {
    "duration": 10,
    "start_time": "2022-10-22T14:47:10.987Z"
   },
   {
    "duration": 5,
    "start_time": "2022-10-22T14:47:12.411Z"
   },
   {
    "duration": 13,
    "start_time": "2022-10-22T14:47:13.071Z"
   },
   {
    "duration": 8,
    "start_time": "2022-10-22T14:47:14.331Z"
   },
   {
    "duration": 9,
    "start_time": "2022-10-22T14:47:14.930Z"
   },
   {
    "duration": 13,
    "start_time": "2022-10-22T14:47:15.571Z"
   },
   {
    "duration": 27807,
    "start_time": "2022-10-22T14:47:16.991Z"
   },
   {
    "duration": 13,
    "start_time": "2022-10-22T14:47:44.810Z"
   },
   {
    "duration": 6,
    "start_time": "2022-10-22T14:47:44.824Z"
   },
   {
    "duration": 27719,
    "start_time": "2022-10-22T14:48:33.171Z"
   },
   {
    "duration": 27,
    "start_time": "2022-10-22T14:49:00.907Z"
   },
   {
    "duration": 8,
    "start_time": "2022-10-22T14:52:31.572Z"
   },
   {
    "duration": 5,
    "start_time": "2022-10-22T14:52:48.635Z"
   },
   {
    "duration": 7,
    "start_time": "2022-10-22T14:52:52.071Z"
   },
   {
    "duration": 6,
    "start_time": "2022-10-22T14:53:56.233Z"
   },
   {
    "duration": 55,
    "start_time": "2022-10-22T14:53:56.240Z"
   },
   {
    "duration": 14,
    "start_time": "2022-10-22T14:53:56.296Z"
   },
   {
    "duration": 6,
    "start_time": "2022-10-22T14:53:56.311Z"
   },
   {
    "duration": 15,
    "start_time": "2022-10-22T14:53:56.320Z"
   },
   {
    "duration": 14,
    "start_time": "2022-10-22T14:53:56.337Z"
   },
   {
    "duration": 5,
    "start_time": "2022-10-22T14:53:56.353Z"
   },
   {
    "duration": 10,
    "start_time": "2022-10-22T14:53:56.360Z"
   },
   {
    "duration": 5,
    "start_time": "2022-10-22T14:53:56.371Z"
   },
   {
    "duration": 34,
    "start_time": "2022-10-22T14:53:56.378Z"
   },
   {
    "duration": 8,
    "start_time": "2022-10-22T14:53:56.414Z"
   },
   {
    "duration": 9,
    "start_time": "2022-10-22T14:53:56.423Z"
   },
   {
    "duration": 13,
    "start_time": "2022-10-22T14:53:56.434Z"
   },
   {
    "duration": 27295,
    "start_time": "2022-10-22T14:53:56.449Z"
   },
   {
    "duration": 5,
    "start_time": "2022-10-22T14:54:23.745Z"
   },
   {
    "duration": 11,
    "start_time": "2022-10-22T14:54:23.751Z"
   },
   {
    "duration": 13,
    "start_time": "2022-10-22T14:54:23.763Z"
   },
   {
    "duration": 2,
    "start_time": "2022-10-22T14:54:23.777Z"
   },
   {
    "duration": 5,
    "start_time": "2022-10-22T15:12:18.591Z"
   },
   {
    "duration": 3,
    "start_time": "2022-10-22T15:12:27.552Z"
   },
   {
    "duration": 62,
    "start_time": "2022-10-22T15:12:27.557Z"
   },
   {
    "duration": 16,
    "start_time": "2022-10-22T15:12:27.621Z"
   },
   {
    "duration": 13,
    "start_time": "2022-10-22T15:12:27.639Z"
   },
   {
    "duration": 33,
    "start_time": "2022-10-22T15:12:27.655Z"
   },
   {
    "duration": 22,
    "start_time": "2022-10-22T15:12:27.690Z"
   },
   {
    "duration": 5,
    "start_time": "2022-10-22T15:12:27.714Z"
   },
   {
    "duration": 10,
    "start_time": "2022-10-22T15:12:27.720Z"
   },
   {
    "duration": 6,
    "start_time": "2022-10-22T15:12:27.732Z"
   },
   {
    "duration": 17,
    "start_time": "2022-10-22T15:12:27.739Z"
   },
   {
    "duration": 6,
    "start_time": "2022-10-22T15:12:27.758Z"
   },
   {
    "duration": 11,
    "start_time": "2022-10-22T15:12:27.766Z"
   },
   {
    "duration": 36,
    "start_time": "2022-10-22T15:12:27.779Z"
   },
   {
    "duration": 5,
    "start_time": "2022-10-22T15:12:27.817Z"
   },
   {
    "duration": 20,
    "start_time": "2022-10-22T15:12:27.823Z"
   },
   {
    "duration": 9,
    "start_time": "2022-10-22T15:12:27.844Z"
   },
   {
    "duration": 13,
    "start_time": "2022-10-22T15:12:27.855Z"
   },
   {
    "duration": 3,
    "start_time": "2022-10-22T15:12:27.869Z"
   },
   {
    "duration": 876,
    "start_time": "2022-10-22T15:15:32.093Z"
   },
   {
    "duration": 3,
    "start_time": "2022-10-22T15:16:16.353Z"
   },
   {
    "duration": 52,
    "start_time": "2022-10-22T15:16:16.358Z"
   },
   {
    "duration": 13,
    "start_time": "2022-10-22T15:16:16.411Z"
   },
   {
    "duration": 5,
    "start_time": "2022-10-22T15:16:16.425Z"
   },
   {
    "duration": 12,
    "start_time": "2022-10-22T15:16:16.432Z"
   },
   {
    "duration": 13,
    "start_time": "2022-10-22T15:16:16.446Z"
   },
   {
    "duration": 4,
    "start_time": "2022-10-22T15:16:16.460Z"
   },
   {
    "duration": 10,
    "start_time": "2022-10-22T15:16:16.466Z"
   },
   {
    "duration": 31,
    "start_time": "2022-10-22T15:16:16.477Z"
   },
   {
    "duration": 13,
    "start_time": "2022-10-22T15:16:16.509Z"
   },
   {
    "duration": 6,
    "start_time": "2022-10-22T15:16:16.523Z"
   },
   {
    "duration": 7,
    "start_time": "2022-10-22T15:16:16.530Z"
   },
   {
    "duration": 11,
    "start_time": "2022-10-22T15:16:16.539Z"
   },
   {
    "duration": 4,
    "start_time": "2022-10-22T15:16:16.552Z"
   },
   {
    "duration": 6,
    "start_time": "2022-10-22T15:16:16.558Z"
   },
   {
    "duration": 8,
    "start_time": "2022-10-22T15:16:16.565Z"
   },
   {
    "duration": 889,
    "start_time": "2022-10-22T15:16:16.604Z"
   },
   {
    "duration": 10,
    "start_time": "2022-10-22T15:16:17.495Z"
   },
   {
    "duration": 600,
    "start_time": "2022-10-22T15:17:20.431Z"
   },
   {
    "duration": 683,
    "start_time": "2022-10-22T15:17:34.552Z"
   },
   {
    "duration": 10,
    "start_time": "2022-10-22T15:20:31.571Z"
   },
   {
    "duration": 5,
    "start_time": "2022-10-22T15:20:43.791Z"
   },
   {
    "duration": 16,
    "start_time": "2022-10-22T15:20:57.891Z"
   },
   {
    "duration": 3,
    "start_time": "2022-10-22T15:22:40.911Z"
   },
   {
    "duration": 49,
    "start_time": "2022-10-22T15:22:40.916Z"
   },
   {
    "duration": 13,
    "start_time": "2022-10-22T15:22:40.967Z"
   },
   {
    "duration": 5,
    "start_time": "2022-10-22T15:22:40.981Z"
   },
   {
    "duration": 15,
    "start_time": "2022-10-22T15:22:40.988Z"
   },
   {
    "duration": 15,
    "start_time": "2022-10-22T15:22:41.004Z"
   },
   {
    "duration": 4,
    "start_time": "2022-10-22T15:22:41.020Z"
   },
   {
    "duration": 115,
    "start_time": "2022-10-22T15:22:41.026Z"
   },
   {
    "duration": 5,
    "start_time": "2022-10-22T15:22:41.142Z"
   },
   {
    "duration": 15,
    "start_time": "2022-10-22T15:22:41.149Z"
   },
   {
    "duration": 7,
    "start_time": "2022-10-22T15:22:41.166Z"
   },
   {
    "duration": 8,
    "start_time": "2022-10-22T15:22:41.174Z"
   },
   {
    "duration": 30,
    "start_time": "2022-10-22T15:22:41.183Z"
   },
   {
    "duration": 4,
    "start_time": "2022-10-22T15:22:41.215Z"
   },
   {
    "duration": 5,
    "start_time": "2022-10-22T15:22:41.221Z"
   },
   {
    "duration": 5,
    "start_time": "2022-10-22T15:22:41.228Z"
   },
   {
    "duration": 15,
    "start_time": "2022-10-22T15:22:41.234Z"
   },
   {
    "duration": 3,
    "start_time": "2022-10-22T15:23:57.392Z"
   },
   {
    "duration": 59,
    "start_time": "2022-10-22T15:23:57.398Z"
   },
   {
    "duration": 15,
    "start_time": "2022-10-22T15:23:57.459Z"
   },
   {
    "duration": 10,
    "start_time": "2022-10-22T15:23:57.476Z"
   },
   {
    "duration": 20,
    "start_time": "2022-10-22T15:23:57.489Z"
   },
   {
    "duration": 19,
    "start_time": "2022-10-22T15:23:57.511Z"
   },
   {
    "duration": 10,
    "start_time": "2022-10-22T15:23:57.532Z"
   },
   {
    "duration": 21,
    "start_time": "2022-10-22T15:23:57.544Z"
   },
   {
    "duration": 11,
    "start_time": "2022-10-22T15:23:57.567Z"
   },
   {
    "duration": 16,
    "start_time": "2022-10-22T15:23:57.580Z"
   },
   {
    "duration": 11,
    "start_time": "2022-10-22T15:23:57.598Z"
   },
   {
    "duration": 12,
    "start_time": "2022-10-22T15:23:57.610Z"
   },
   {
    "duration": 12,
    "start_time": "2022-10-22T15:23:57.624Z"
   },
   {
    "duration": 5,
    "start_time": "2022-10-22T15:23:57.639Z"
   },
   {
    "duration": 10,
    "start_time": "2022-10-22T15:23:57.645Z"
   },
   {
    "duration": 9,
    "start_time": "2022-10-22T15:23:57.657Z"
   },
   {
    "duration": 36,
    "start_time": "2022-10-22T15:23:57.668Z"
   },
   {
    "duration": 8,
    "start_time": "2022-10-22T15:26:08.834Z"
   },
   {
    "duration": 7,
    "start_time": "2022-10-22T15:26:15.472Z"
   },
   {
    "duration": 3,
    "start_time": "2022-10-22T15:28:04.792Z"
   },
   {
    "duration": 12,
    "start_time": "2022-10-22T15:28:05.812Z"
   },
   {
    "duration": 2,
    "start_time": "2022-10-22T15:28:11.663Z"
   },
   {
    "duration": 53,
    "start_time": "2022-10-22T15:28:11.667Z"
   },
   {
    "duration": 12,
    "start_time": "2022-10-22T15:28:11.722Z"
   },
   {
    "duration": 5,
    "start_time": "2022-10-22T15:28:11.735Z"
   },
   {
    "duration": 14,
    "start_time": "2022-10-22T15:28:11.742Z"
   },
   {
    "duration": 21,
    "start_time": "2022-10-22T15:28:11.757Z"
   },
   {
    "duration": 7,
    "start_time": "2022-10-22T15:28:11.779Z"
   },
   {
    "duration": 23,
    "start_time": "2022-10-22T15:28:11.787Z"
   },
   {
    "duration": 12,
    "start_time": "2022-10-22T15:28:11.811Z"
   },
   {
    "duration": 0,
    "start_time": "2022-10-22T15:28:11.825Z"
   },
   {
    "duration": 0,
    "start_time": "2022-10-22T15:28:11.826Z"
   },
   {
    "duration": 0,
    "start_time": "2022-10-22T15:28:11.827Z"
   },
   {
    "duration": 0,
    "start_time": "2022-10-22T15:28:11.828Z"
   },
   {
    "duration": 0,
    "start_time": "2022-10-22T15:28:11.829Z"
   },
   {
    "duration": 0,
    "start_time": "2022-10-22T15:28:11.830Z"
   },
   {
    "duration": 0,
    "start_time": "2022-10-22T15:28:11.831Z"
   },
   {
    "duration": 0,
    "start_time": "2022-10-22T15:28:11.832Z"
   },
   {
    "duration": 0,
    "start_time": "2022-10-22T15:28:11.833Z"
   },
   {
    "duration": 11,
    "start_time": "2022-10-22T15:28:28.591Z"
   },
   {
    "duration": 3,
    "start_time": "2022-10-22T15:29:36.851Z"
   },
   {
    "duration": 51,
    "start_time": "2022-10-22T15:29:36.856Z"
   },
   {
    "duration": 11,
    "start_time": "2022-10-22T15:29:36.909Z"
   },
   {
    "duration": 8,
    "start_time": "2022-10-22T15:29:36.921Z"
   },
   {
    "duration": 15,
    "start_time": "2022-10-22T15:29:36.931Z"
   },
   {
    "duration": 16,
    "start_time": "2022-10-22T15:29:36.948Z"
   },
   {
    "duration": 4,
    "start_time": "2022-10-22T15:29:36.965Z"
   },
   {
    "duration": 10,
    "start_time": "2022-10-22T15:29:36.971Z"
   },
   {
    "duration": 25,
    "start_time": "2022-10-22T15:29:36.982Z"
   },
   {
    "duration": 6,
    "start_time": "2022-10-22T15:29:37.009Z"
   },
   {
    "duration": 9,
    "start_time": "2022-10-22T15:29:37.016Z"
   },
   {
    "duration": 13,
    "start_time": "2022-10-22T15:29:37.026Z"
   },
   {
    "duration": 4,
    "start_time": "2022-10-22T15:29:37.041Z"
   },
   {
    "duration": 5,
    "start_time": "2022-10-22T15:29:37.047Z"
   },
   {
    "duration": 5,
    "start_time": "2022-10-22T15:29:37.053Z"
   },
   {
    "duration": 47,
    "start_time": "2022-10-22T15:29:37.059Z"
   },
   {
    "duration": 7,
    "start_time": "2022-10-22T15:29:37.107Z"
   },
   {
    "duration": 101,
    "start_time": "2022-10-22T15:31:12.011Z"
   },
   {
    "duration": 100,
    "start_time": "2022-10-22T15:31:20.831Z"
   },
   {
    "duration": 17,
    "start_time": "2022-10-22T15:41:16.611Z"
   },
   {
    "duration": 151,
    "start_time": "2022-10-22T15:42:57.910Z"
   },
   {
    "duration": 48,
    "start_time": "2022-10-22T16:16:56.534Z"
   },
   {
    "duration": 183,
    "start_time": "2022-10-22T16:17:07.134Z"
   },
   {
    "duration": 175,
    "start_time": "2022-10-22T16:17:39.173Z"
   },
   {
    "duration": 142,
    "start_time": "2022-10-22T16:20:03.042Z"
   },
   {
    "duration": 76,
    "start_time": "2022-10-22T16:20:21.823Z"
   },
   {
    "duration": 20,
    "start_time": "2022-10-22T16:23:55.853Z"
   },
   {
    "duration": 3,
    "start_time": "2022-10-22T16:24:02.131Z"
   },
   {
    "duration": 51,
    "start_time": "2022-10-22T16:24:02.135Z"
   },
   {
    "duration": 14,
    "start_time": "2022-10-22T16:24:02.188Z"
   },
   {
    "duration": 9,
    "start_time": "2022-10-22T16:24:02.203Z"
   },
   {
    "duration": 14,
    "start_time": "2022-10-22T16:24:02.215Z"
   },
   {
    "duration": 15,
    "start_time": "2022-10-22T16:24:02.231Z"
   },
   {
    "duration": 19,
    "start_time": "2022-10-22T16:24:02.248Z"
   },
   {
    "duration": 13,
    "start_time": "2022-10-22T16:24:02.269Z"
   },
   {
    "duration": 13,
    "start_time": "2022-10-22T16:24:02.283Z"
   },
   {
    "duration": 8,
    "start_time": "2022-10-22T16:24:02.297Z"
   },
   {
    "duration": 7,
    "start_time": "2022-10-22T16:24:02.307Z"
   },
   {
    "duration": 11,
    "start_time": "2022-10-22T16:24:02.315Z"
   },
   {
    "duration": 4,
    "start_time": "2022-10-22T16:24:02.327Z"
   },
   {
    "duration": 6,
    "start_time": "2022-10-22T16:24:02.333Z"
   },
   {
    "duration": 5,
    "start_time": "2022-10-22T16:24:02.340Z"
   },
   {
    "duration": 17,
    "start_time": "2022-10-22T16:24:02.346Z"
   },
   {
    "duration": 7,
    "start_time": "2022-10-22T16:24:02.364Z"
   },
   {
    "duration": 138,
    "start_time": "2022-10-22T16:24:02.372Z"
   },
   {
    "duration": 19,
    "start_time": "2022-10-22T16:24:02.511Z"
   },
   {
    "duration": 20,
    "start_time": "2022-10-22T16:24:14.676Z"
   },
   {
    "duration": 19,
    "start_time": "2022-10-22T16:28:29.884Z"
   },
   {
    "duration": 4,
    "start_time": "2022-10-22T16:29:00.213Z"
   },
   {
    "duration": 62,
    "start_time": "2022-10-22T16:29:00.219Z"
   },
   {
    "duration": 13,
    "start_time": "2022-10-22T16:29:00.283Z"
   },
   {
    "duration": 9,
    "start_time": "2022-10-22T16:29:00.298Z"
   },
   {
    "duration": 16,
    "start_time": "2022-10-22T16:29:00.309Z"
   },
   {
    "duration": 23,
    "start_time": "2022-10-22T16:29:00.326Z"
   },
   {
    "duration": 12,
    "start_time": "2022-10-22T16:29:00.351Z"
   },
   {
    "duration": 17,
    "start_time": "2022-10-22T16:29:00.364Z"
   },
   {
    "duration": 18,
    "start_time": "2022-10-22T16:29:00.382Z"
   },
   {
    "duration": 10,
    "start_time": "2022-10-22T16:29:00.404Z"
   },
   {
    "duration": 18,
    "start_time": "2022-10-22T16:29:00.416Z"
   },
   {
    "duration": 14,
    "start_time": "2022-10-22T16:29:00.436Z"
   },
   {
    "duration": 19,
    "start_time": "2022-10-22T16:29:00.452Z"
   },
   {
    "duration": 20,
    "start_time": "2022-10-22T16:29:00.472Z"
   },
   {
    "duration": 31,
    "start_time": "2022-10-22T16:29:00.493Z"
   },
   {
    "duration": 39,
    "start_time": "2022-10-22T16:29:00.527Z"
   },
   {
    "duration": 24,
    "start_time": "2022-10-22T16:29:00.568Z"
   },
   {
    "duration": 128,
    "start_time": "2022-10-22T16:29:00.594Z"
   },
   {
    "duration": 20,
    "start_time": "2022-10-22T16:29:00.724Z"
   },
   {
    "duration": 19,
    "start_time": "2022-10-22T16:35:57.554Z"
   },
   {
    "duration": 33,
    "start_time": "2022-10-22T16:40:50.236Z"
   },
   {
    "duration": 67,
    "start_time": "2022-10-22T16:41:19.114Z"
   },
   {
    "duration": 71,
    "start_time": "2022-10-22T16:42:09.453Z"
   },
   {
    "duration": 591,
    "start_time": "2022-10-22T16:42:45.294Z"
   },
   {
    "duration": 531,
    "start_time": "2022-10-22T16:43:49.596Z"
   },
   {
    "duration": 432,
    "start_time": "2022-10-22T16:44:01.453Z"
   },
   {
    "duration": 455,
    "start_time": "2022-10-22T16:44:12.277Z"
   },
   {
    "duration": 21,
    "start_time": "2022-10-22T16:47:22.776Z"
   },
   {
    "duration": 496,
    "start_time": "2022-10-22T16:47:57.101Z"
   },
   {
    "duration": 13,
    "start_time": "2022-10-22T16:48:06.674Z"
   },
   {
    "duration": 14,
    "start_time": "2022-10-22T16:48:10.653Z"
   },
   {
    "duration": 15,
    "start_time": "2022-10-22T16:48:16.953Z"
   },
   {
    "duration": 3,
    "start_time": "2022-10-22T16:48:22.814Z"
   },
   {
    "duration": 50,
    "start_time": "2022-10-22T16:48:22.818Z"
   },
   {
    "duration": 12,
    "start_time": "2022-10-22T16:48:22.870Z"
   },
   {
    "duration": 5,
    "start_time": "2022-10-22T16:48:22.884Z"
   },
   {
    "duration": 16,
    "start_time": "2022-10-22T16:48:22.891Z"
   },
   {
    "duration": 14,
    "start_time": "2022-10-22T16:48:22.909Z"
   },
   {
    "duration": 5,
    "start_time": "2022-10-22T16:48:22.925Z"
   },
   {
    "duration": 13,
    "start_time": "2022-10-22T16:48:22.931Z"
   },
   {
    "duration": 14,
    "start_time": "2022-10-22T16:48:22.946Z"
   },
   {
    "duration": 7,
    "start_time": "2022-10-22T16:48:22.961Z"
   },
   {
    "duration": 38,
    "start_time": "2022-10-22T16:48:22.969Z"
   },
   {
    "duration": 13,
    "start_time": "2022-10-22T16:48:23.009Z"
   },
   {
    "duration": 5,
    "start_time": "2022-10-22T16:48:23.023Z"
   },
   {
    "duration": 8,
    "start_time": "2022-10-22T16:48:23.030Z"
   },
   {
    "duration": 5,
    "start_time": "2022-10-22T16:48:23.040Z"
   },
   {
    "duration": 15,
    "start_time": "2022-10-22T16:48:23.047Z"
   },
   {
    "duration": 7,
    "start_time": "2022-10-22T16:48:23.064Z"
   },
   {
    "duration": 135,
    "start_time": "2022-10-22T16:48:23.072Z"
   },
   {
    "duration": 14,
    "start_time": "2022-10-22T16:48:23.209Z"
   },
   {
    "duration": 25,
    "start_time": "2022-10-22T16:48:29.895Z"
   },
   {
    "duration": 254,
    "start_time": "2022-10-22T16:56:56.418Z"
   },
   {
    "duration": 274,
    "start_time": "2022-10-22T16:57:39.122Z"
   },
   {
    "duration": 276,
    "start_time": "2022-10-22T16:58:51.235Z"
   },
   {
    "duration": 360,
    "start_time": "2022-10-22T16:59:13.981Z"
   },
   {
    "duration": 417,
    "start_time": "2022-10-22T17:00:31.314Z"
   },
   {
    "duration": 21,
    "start_time": "2022-10-22T17:20:50.732Z"
   },
   {
    "duration": 20,
    "start_time": "2022-10-22T17:21:40.920Z"
   },
   {
    "duration": 68,
    "start_time": "2022-10-22T17:23:36.575Z"
   },
   {
    "duration": 69,
    "start_time": "2022-10-22T17:30:35.853Z"
   },
   {
    "duration": 147,
    "start_time": "2022-10-22T17:30:54.133Z"
   },
   {
    "duration": 158,
    "start_time": "2022-10-22T17:31:08.772Z"
   },
   {
    "duration": 69,
    "start_time": "2022-10-22T17:31:37.071Z"
   },
   {
    "duration": 144,
    "start_time": "2022-10-22T17:31:42.395Z"
   },
   {
    "duration": 75,
    "start_time": "2022-10-22T17:32:44.653Z"
   },
   {
    "duration": 4,
    "start_time": "2022-10-22T17:33:12.613Z"
   },
   {
    "duration": 52,
    "start_time": "2022-10-22T17:33:12.619Z"
   },
   {
    "duration": 12,
    "start_time": "2022-10-22T17:33:12.672Z"
   },
   {
    "duration": 4,
    "start_time": "2022-10-22T17:33:12.686Z"
   },
   {
    "duration": 20,
    "start_time": "2022-10-22T17:33:12.692Z"
   },
   {
    "duration": 24,
    "start_time": "2022-10-22T17:33:12.714Z"
   },
   {
    "duration": 4,
    "start_time": "2022-10-22T17:33:12.740Z"
   },
   {
    "duration": 12,
    "start_time": "2022-10-22T17:33:12.745Z"
   },
   {
    "duration": 15,
    "start_time": "2022-10-22T17:33:12.758Z"
   },
   {
    "duration": 8,
    "start_time": "2022-10-22T17:33:12.774Z"
   },
   {
    "duration": 13,
    "start_time": "2022-10-22T17:33:12.806Z"
   },
   {
    "duration": 19,
    "start_time": "2022-10-22T17:33:12.822Z"
   },
   {
    "duration": 5,
    "start_time": "2022-10-22T17:33:12.842Z"
   },
   {
    "duration": 5,
    "start_time": "2022-10-22T17:33:12.849Z"
   },
   {
    "duration": 5,
    "start_time": "2022-10-22T17:33:12.856Z"
   },
   {
    "duration": 15,
    "start_time": "2022-10-22T17:33:12.862Z"
   },
   {
    "duration": 45,
    "start_time": "2022-10-22T17:33:12.879Z"
   },
   {
    "duration": 104,
    "start_time": "2022-10-22T17:33:12.936Z"
   },
   {
    "duration": 92,
    "start_time": "2022-10-22T17:33:13.042Z"
   },
   {
    "duration": 3,
    "start_time": "2022-10-22T17:33:56.932Z"
   },
   {
    "duration": 45,
    "start_time": "2022-10-22T17:33:56.940Z"
   },
   {
    "duration": 13,
    "start_time": "2022-10-22T17:33:56.987Z"
   },
   {
    "duration": 6,
    "start_time": "2022-10-22T17:33:57.001Z"
   },
   {
    "duration": 15,
    "start_time": "2022-10-22T17:33:57.008Z"
   },
   {
    "duration": 13,
    "start_time": "2022-10-22T17:33:57.025Z"
   },
   {
    "duration": 4,
    "start_time": "2022-10-22T17:33:57.039Z"
   },
   {
    "duration": 14,
    "start_time": "2022-10-22T17:33:57.044Z"
   },
   {
    "duration": 12,
    "start_time": "2022-10-22T17:33:57.060Z"
   },
   {
    "duration": 34,
    "start_time": "2022-10-22T17:33:57.074Z"
   },
   {
    "duration": 10,
    "start_time": "2022-10-22T17:33:57.110Z"
   },
   {
    "duration": 13,
    "start_time": "2022-10-22T17:33:57.122Z"
   },
   {
    "duration": 4,
    "start_time": "2022-10-22T17:33:57.137Z"
   },
   {
    "duration": 10,
    "start_time": "2022-10-22T17:33:57.143Z"
   },
   {
    "duration": 5,
    "start_time": "2022-10-22T17:33:57.154Z"
   },
   {
    "duration": 15,
    "start_time": "2022-10-22T17:33:57.160Z"
   },
   {
    "duration": 34,
    "start_time": "2022-10-22T17:33:57.176Z"
   },
   {
    "duration": 112,
    "start_time": "2022-10-22T17:33:57.212Z"
   },
   {
    "duration": 71,
    "start_time": "2022-10-22T17:33:57.326Z"
   },
   {
    "duration": 7,
    "start_time": "2022-10-22T17:34:06.672Z"
   },
   {
    "duration": 14,
    "start_time": "2022-10-22T17:34:07.811Z"
   },
   {
    "duration": 7,
    "start_time": "2022-10-22T17:34:08.512Z"
   },
   {
    "duration": 9,
    "start_time": "2022-10-22T17:34:08.773Z"
   },
   {
    "duration": 19,
    "start_time": "2022-10-22T17:34:09.099Z"
   },
   {
    "duration": 5,
    "start_time": "2022-10-22T17:34:09.791Z"
   },
   {
    "duration": 5,
    "start_time": "2022-10-22T17:34:10.603Z"
   },
   {
    "duration": 4,
    "start_time": "2022-10-22T17:34:11.355Z"
   },
   {
    "duration": 15,
    "start_time": "2022-10-22T17:34:11.732Z"
   },
   {
    "duration": 7,
    "start_time": "2022-10-22T17:34:13.075Z"
   },
   {
    "duration": 99,
    "start_time": "2022-10-22T17:34:13.652Z"
   },
   {
    "duration": 88,
    "start_time": "2022-10-22T17:34:15.672Z"
   },
   {
    "duration": 62,
    "start_time": "2022-10-22T17:34:18.813Z"
   },
   {
    "duration": 20,
    "start_time": "2022-10-22T17:52:42.489Z"
   },
   {
    "duration": 15,
    "start_time": "2022-10-22T17:53:11.630Z"
   },
   {
    "duration": 20,
    "start_time": "2022-10-22T17:53:18.969Z"
   },
   {
    "duration": 461,
    "start_time": "2022-10-22T17:53:41.509Z"
   },
   {
    "duration": 527,
    "start_time": "2022-10-22T17:53:56.830Z"
   },
   {
    "duration": 244,
    "start_time": "2022-10-22T17:54:23.969Z"
   },
   {
    "duration": 272,
    "start_time": "2022-10-22T17:54:32.109Z"
   },
   {
    "duration": 5,
    "start_time": "2022-10-22T18:08:54.768Z"
   },
   {
    "duration": 13,
    "start_time": "2022-10-22T18:10:38.569Z"
   },
   {
    "duration": 273,
    "start_time": "2022-10-22T18:10:44.529Z"
   },
   {
    "duration": 14,
    "start_time": "2022-10-22T18:11:01.909Z"
   },
   {
    "duration": 264,
    "start_time": "2022-10-22T18:11:03.269Z"
   },
   {
    "duration": 2,
    "start_time": "2022-10-22T18:11:23.071Z"
   },
   {
    "duration": 55,
    "start_time": "2022-10-22T18:11:23.075Z"
   },
   {
    "duration": 13,
    "start_time": "2022-10-22T18:11:23.131Z"
   },
   {
    "duration": 13,
    "start_time": "2022-10-22T18:11:23.145Z"
   },
   {
    "duration": 22,
    "start_time": "2022-10-22T18:11:23.160Z"
   },
   {
    "duration": 14,
    "start_time": "2022-10-22T18:11:23.184Z"
   },
   {
    "duration": 19,
    "start_time": "2022-10-22T18:11:23.200Z"
   },
   {
    "duration": 16,
    "start_time": "2022-10-22T18:11:23.221Z"
   },
   {
    "duration": 24,
    "start_time": "2022-10-22T18:11:23.238Z"
   },
   {
    "duration": 8,
    "start_time": "2022-10-22T18:11:23.264Z"
   },
   {
    "duration": 12,
    "start_time": "2022-10-22T18:11:23.274Z"
   },
   {
    "duration": 32,
    "start_time": "2022-10-22T18:11:23.288Z"
   },
   {
    "duration": 8,
    "start_time": "2022-10-22T18:11:23.322Z"
   },
   {
    "duration": 12,
    "start_time": "2022-10-22T18:11:23.332Z"
   },
   {
    "duration": 14,
    "start_time": "2022-10-22T18:11:23.346Z"
   },
   {
    "duration": 35,
    "start_time": "2022-10-22T18:11:23.361Z"
   },
   {
    "duration": 47,
    "start_time": "2022-10-22T18:11:23.397Z"
   },
   {
    "duration": 120,
    "start_time": "2022-10-22T18:11:23.446Z"
   },
   {
    "duration": 13,
    "start_time": "2022-10-22T18:11:23.568Z"
   },
   {
    "duration": 299,
    "start_time": "2022-10-22T18:11:23.582Z"
   },
   {
    "duration": 5,
    "start_time": "2022-10-22T18:11:23.883Z"
   },
   {
    "duration": 22,
    "start_time": "2022-10-22T18:11:23.889Z"
   },
   {
    "duration": 5,
    "start_time": "2022-10-22T18:11:31.128Z"
   },
   {
    "duration": 17,
    "start_time": "2022-10-22T18:11:32.110Z"
   },
   {
    "duration": 247,
    "start_time": "2022-10-22T18:12:04.209Z"
   },
   {
    "duration": 14,
    "start_time": "2022-10-22T18:12:36.569Z"
   },
   {
    "duration": 254,
    "start_time": "2022-10-22T18:12:44.918Z"
   },
   {
    "duration": 3,
    "start_time": "2022-10-22T18:13:19.898Z"
   },
   {
    "duration": 48,
    "start_time": "2022-10-22T18:13:19.903Z"
   },
   {
    "duration": 12,
    "start_time": "2022-10-22T18:13:19.953Z"
   },
   {
    "duration": 5,
    "start_time": "2022-10-22T18:13:19.967Z"
   },
   {
    "duration": 14,
    "start_time": "2022-10-22T18:13:19.973Z"
   },
   {
    "duration": 13,
    "start_time": "2022-10-22T18:13:19.988Z"
   },
   {
    "duration": 5,
    "start_time": "2022-10-22T18:13:20.003Z"
   },
   {
    "duration": 11,
    "start_time": "2022-10-22T18:13:20.009Z"
   },
   {
    "duration": 12,
    "start_time": "2022-10-22T18:13:20.021Z"
   },
   {
    "duration": 6,
    "start_time": "2022-10-22T18:13:20.035Z"
   },
   {
    "duration": 9,
    "start_time": "2022-10-22T18:13:20.042Z"
   },
   {
    "duration": 13,
    "start_time": "2022-10-22T18:13:20.053Z"
   },
   {
    "duration": 38,
    "start_time": "2022-10-22T18:13:20.068Z"
   },
   {
    "duration": 6,
    "start_time": "2022-10-22T18:13:20.185Z"
   },
   {
    "duration": 7,
    "start_time": "2022-10-22T18:13:20.192Z"
   },
   {
    "duration": 21,
    "start_time": "2022-10-22T18:13:20.201Z"
   },
   {
    "duration": 14,
    "start_time": "2022-10-22T18:13:20.223Z"
   },
   {
    "duration": 123,
    "start_time": "2022-10-22T18:13:20.240Z"
   },
   {
    "duration": 14,
    "start_time": "2022-10-22T18:13:20.365Z"
   },
   {
    "duration": 381,
    "start_time": "2022-10-22T18:13:20.380Z"
   },
   {
    "duration": 5,
    "start_time": "2022-10-22T18:13:20.763Z"
   },
   {
    "duration": 22,
    "start_time": "2022-10-22T18:13:20.769Z"
   },
   {
    "duration": 258,
    "start_time": "2022-10-22T18:13:20.793Z"
   },
   {
    "duration": 14,
    "start_time": "2022-10-22T18:13:39.149Z"
   },
   {
    "duration": 19,
    "start_time": "2022-10-22T18:14:09.337Z"
   },
   {
    "duration": 11,
    "start_time": "2022-10-22T18:16:53.490Z"
   },
   {
    "duration": 22,
    "start_time": "2022-10-22T18:17:09.748Z"
   },
   {
    "duration": 7,
    "start_time": "2022-10-22T18:18:16.848Z"
   },
   {
    "duration": 7,
    "start_time": "2022-10-22T18:20:48.298Z"
   },
   {
    "duration": 8,
    "start_time": "2022-10-22T18:21:19.849Z"
   },
   {
    "duration": 9,
    "start_time": "2022-10-22T18:22:11.148Z"
   },
   {
    "duration": 3,
    "start_time": "2022-10-22T18:22:17.871Z"
   },
   {
    "duration": 58,
    "start_time": "2022-10-22T18:22:17.875Z"
   },
   {
    "duration": 13,
    "start_time": "2022-10-22T18:22:17.935Z"
   },
   {
    "duration": 26,
    "start_time": "2022-10-22T18:22:17.949Z"
   },
   {
    "duration": 21,
    "start_time": "2022-10-22T18:22:17.977Z"
   },
   {
    "duration": 27,
    "start_time": "2022-10-22T18:22:18.000Z"
   },
   {
    "duration": 20,
    "start_time": "2022-10-22T18:22:18.029Z"
   },
   {
    "duration": 30,
    "start_time": "2022-10-22T18:22:18.051Z"
   },
   {
    "duration": 16,
    "start_time": "2022-10-22T18:22:18.083Z"
   },
   {
    "duration": 7,
    "start_time": "2022-10-22T18:22:18.101Z"
   },
   {
    "duration": 11,
    "start_time": "2022-10-22T18:22:18.110Z"
   },
   {
    "duration": 12,
    "start_time": "2022-10-22T18:22:18.123Z"
   },
   {
    "duration": 4,
    "start_time": "2022-10-22T18:22:18.137Z"
   },
   {
    "duration": 7,
    "start_time": "2022-10-22T18:22:18.143Z"
   },
   {
    "duration": 13,
    "start_time": "2022-10-22T18:22:18.151Z"
   },
   {
    "duration": 16,
    "start_time": "2022-10-22T18:22:18.165Z"
   },
   {
    "duration": 28,
    "start_time": "2022-10-22T18:22:18.183Z"
   },
   {
    "duration": 118,
    "start_time": "2022-10-22T18:22:18.213Z"
   },
   {
    "duration": 15,
    "start_time": "2022-10-22T18:22:18.332Z"
   },
   {
    "duration": 280,
    "start_time": "2022-10-22T18:22:18.349Z"
   },
   {
    "duration": 5,
    "start_time": "2022-10-22T18:22:18.631Z"
   },
   {
    "duration": 15,
    "start_time": "2022-10-22T18:22:18.637Z"
   },
   {
    "duration": 286,
    "start_time": "2022-10-22T18:22:18.653Z"
   },
   {
    "duration": 8,
    "start_time": "2022-10-22T18:22:18.941Z"
   },
   {
    "duration": 3,
    "start_time": "2022-10-22T18:22:37.940Z"
   },
   {
    "duration": 51,
    "start_time": "2022-10-22T18:22:37.945Z"
   },
   {
    "duration": 16,
    "start_time": "2022-10-22T18:22:37.998Z"
   },
   {
    "duration": 10,
    "start_time": "2022-10-22T18:22:38.016Z"
   },
   {
    "duration": 22,
    "start_time": "2022-10-22T18:22:38.029Z"
   },
   {
    "duration": 14,
    "start_time": "2022-10-22T18:22:38.053Z"
   },
   {
    "duration": 6,
    "start_time": "2022-10-22T18:22:38.069Z"
   },
   {
    "duration": 29,
    "start_time": "2022-10-22T18:22:38.077Z"
   },
   {
    "duration": 12,
    "start_time": "2022-10-22T18:22:38.107Z"
   },
   {
    "duration": 6,
    "start_time": "2022-10-22T18:22:38.121Z"
   },
   {
    "duration": 15,
    "start_time": "2022-10-22T18:22:38.129Z"
   },
   {
    "duration": 14,
    "start_time": "2022-10-22T18:22:38.145Z"
   },
   {
    "duration": 4,
    "start_time": "2022-10-22T18:22:38.160Z"
   },
   {
    "duration": 38,
    "start_time": "2022-10-22T18:22:38.167Z"
   },
   {
    "duration": 5,
    "start_time": "2022-10-22T18:22:38.206Z"
   },
   {
    "duration": 17,
    "start_time": "2022-10-22T18:22:38.212Z"
   },
   {
    "duration": 9,
    "start_time": "2022-10-22T18:22:38.230Z"
   },
   {
    "duration": 135,
    "start_time": "2022-10-22T18:22:38.240Z"
   },
   {
    "duration": 14,
    "start_time": "2022-10-22T18:22:38.376Z"
   },
   {
    "duration": 292,
    "start_time": "2022-10-22T18:22:38.391Z"
   },
   {
    "duration": 3,
    "start_time": "2022-10-22T18:22:38.684Z"
   },
   {
    "duration": 21,
    "start_time": "2022-10-22T18:22:38.688Z"
   },
   {
    "duration": 295,
    "start_time": "2022-10-22T18:22:38.710Z"
   },
   {
    "duration": 7,
    "start_time": "2022-10-22T18:22:39.007Z"
   },
   {
    "duration": 16,
    "start_time": "2022-10-22T18:23:22.588Z"
   },
   {
    "duration": 354,
    "start_time": "2022-10-22T18:23:24.769Z"
   },
   {
    "duration": 14,
    "start_time": "2022-10-22T18:24:13.108Z"
   },
   {
    "duration": 369,
    "start_time": "2022-10-22T18:24:14.289Z"
   },
   {
    "duration": 2,
    "start_time": "2022-10-22T18:24:16.970Z"
   },
   {
    "duration": 10,
    "start_time": "2022-10-22T18:24:17.409Z"
   },
   {
    "duration": 376,
    "start_time": "2022-10-22T18:24:22.489Z"
   },
   {
    "duration": 13,
    "start_time": "2022-10-22T18:24:57.149Z"
   },
   {
    "duration": 258,
    "start_time": "2022-10-22T18:24:58.524Z"
   },
   {
    "duration": 272,
    "start_time": "2022-10-22T18:25:38.049Z"
   },
   {
    "duration": 3,
    "start_time": "2022-10-22T18:25:51.896Z"
   },
   {
    "duration": 11,
    "start_time": "2022-10-22T18:25:52.248Z"
   },
   {
    "duration": 8,
    "start_time": "2022-10-22T18:26:13.712Z"
   },
   {
    "duration": 8,
    "start_time": "2022-10-22T18:26:34.937Z"
   },
   {
    "duration": 8,
    "start_time": "2022-10-22T18:26:51.092Z"
   },
   {
    "duration": 5,
    "start_time": "2022-10-22T18:27:07.168Z"
   },
   {
    "duration": 11,
    "start_time": "2022-10-22T18:27:07.669Z"
   },
   {
    "duration": 273,
    "start_time": "2022-10-22T18:27:41.778Z"
   },
   {
    "duration": 5,
    "start_time": "2022-10-22T18:28:10.928Z"
   },
   {
    "duration": 8,
    "start_time": "2022-10-22T18:28:11.428Z"
   },
   {
    "duration": 287,
    "start_time": "2022-10-22T18:28:12.329Z"
   },
   {
    "duration": 287,
    "start_time": "2022-10-22T18:28:54.869Z"
   },
   {
    "duration": 10,
    "start_time": "2022-10-22T18:37:05.389Z"
   },
   {
    "duration": 22,
    "start_time": "2022-10-22T18:43:25.219Z"
   },
   {
    "duration": 20,
    "start_time": "2022-10-22T18:44:42.392Z"
   },
   {
    "duration": 23,
    "start_time": "2022-10-22T18:45:22.429Z"
   },
   {
    "duration": 24,
    "start_time": "2022-10-22T18:45:25.168Z"
   },
   {
    "duration": 37,
    "start_time": "2022-10-22T18:45:42.389Z"
   },
   {
    "duration": 5,
    "start_time": "2022-10-22T19:12:26.151Z"
   },
   {
    "duration": 7,
    "start_time": "2022-10-22T19:12:27.009Z"
   },
   {
    "duration": 283,
    "start_time": "2022-10-22T19:12:28.050Z"
   },
   {
    "duration": 2801,
    "start_time": "2022-10-22T19:20:41.057Z"
   },
   {
    "duration": 12,
    "start_time": "2022-10-22T19:25:57.849Z"
   },
   {
    "duration": 50,
    "start_time": "2022-10-22T19:27:32.410Z"
   },
   {
    "duration": 46,
    "start_time": "2022-10-22T19:27:32.462Z"
   },
   {
    "duration": 12,
    "start_time": "2022-10-22T19:27:32.510Z"
   },
   {
    "duration": 5,
    "start_time": "2022-10-22T19:27:32.524Z"
   },
   {
    "duration": 16,
    "start_time": "2022-10-22T19:27:32.530Z"
   },
   {
    "duration": 14,
    "start_time": "2022-10-22T19:27:32.547Z"
   },
   {
    "duration": 5,
    "start_time": "2022-10-22T19:27:32.563Z"
   },
   {
    "duration": 36,
    "start_time": "2022-10-22T19:27:32.569Z"
   },
   {
    "duration": 11,
    "start_time": "2022-10-22T19:27:32.607Z"
   },
   {
    "duration": 6,
    "start_time": "2022-10-22T19:27:32.620Z"
   },
   {
    "duration": 10,
    "start_time": "2022-10-22T19:27:32.627Z"
   },
   {
    "duration": 15,
    "start_time": "2022-10-22T19:27:32.638Z"
   },
   {
    "duration": 4,
    "start_time": "2022-10-22T19:27:32.654Z"
   },
   {
    "duration": 5,
    "start_time": "2022-10-22T19:27:32.661Z"
   },
   {
    "duration": 5,
    "start_time": "2022-10-22T19:27:32.668Z"
   },
   {
    "duration": 17,
    "start_time": "2022-10-22T19:27:32.704Z"
   },
   {
    "duration": 8,
    "start_time": "2022-10-22T19:27:32.723Z"
   },
   {
    "duration": 119,
    "start_time": "2022-10-22T19:27:32.733Z"
   },
   {
    "duration": 14,
    "start_time": "2022-10-22T19:27:32.853Z"
   },
   {
    "duration": 283,
    "start_time": "2022-10-22T19:27:32.868Z"
   },
   {
    "duration": 25,
    "start_time": "2022-10-22T19:27:33.153Z"
   },
   {
    "duration": 4,
    "start_time": "2022-10-22T19:27:33.179Z"
   },
   {
    "duration": 24,
    "start_time": "2022-10-22T19:27:33.185Z"
   },
   {
    "duration": 282,
    "start_time": "2022-10-22T19:27:33.211Z"
   },
   {
    "duration": 21,
    "start_time": "2022-10-22T19:27:33.495Z"
   },
   {
    "duration": 0,
    "start_time": "2022-10-22T19:27:33.517Z"
   },
   {
    "duration": 0,
    "start_time": "2022-10-22T19:27:33.518Z"
   },
   {
    "duration": 688,
    "start_time": "2022-10-22T19:30:49.430Z"
   },
   {
    "duration": 906,
    "start_time": "2022-10-22T19:33:17.137Z"
   },
   {
    "duration": 679,
    "start_time": "2022-10-22T19:34:15.973Z"
   },
   {
    "duration": 106,
    "start_time": "2022-10-22T19:38:04.938Z"
   },
   {
    "duration": 730,
    "start_time": "2022-10-22T19:38:16.289Z"
   },
   {
    "duration": 18,
    "start_time": "2022-10-22T19:38:58.818Z"
   },
   {
    "duration": 631,
    "start_time": "2022-10-22T19:39:09.690Z"
   },
   {
    "duration": 602,
    "start_time": "2022-10-22T19:40:35.830Z"
   },
   {
    "duration": 607,
    "start_time": "2022-10-22T19:40:44.810Z"
   },
   {
    "duration": 1253,
    "start_time": "2022-10-23T08:27:31.012Z"
   },
   {
    "duration": 190,
    "start_time": "2022-10-23T08:27:32.267Z"
   },
   {
    "duration": 18,
    "start_time": "2022-10-23T08:27:32.458Z"
   },
   {
    "duration": 4,
    "start_time": "2022-10-23T08:27:32.477Z"
   },
   {
    "duration": 14,
    "start_time": "2022-10-23T08:27:32.483Z"
   },
   {
    "duration": 15,
    "start_time": "2022-10-23T08:27:32.499Z"
   },
   {
    "duration": 4,
    "start_time": "2022-10-23T08:27:32.515Z"
   },
   {
    "duration": 14,
    "start_time": "2022-10-23T08:27:32.521Z"
   },
   {
    "duration": 13,
    "start_time": "2022-10-23T08:27:32.536Z"
   },
   {
    "duration": 6,
    "start_time": "2022-10-23T08:27:32.551Z"
   },
   {
    "duration": 40,
    "start_time": "2022-10-23T08:27:32.559Z"
   },
   {
    "duration": 48,
    "start_time": "2022-10-23T08:27:32.600Z"
   },
   {
    "duration": 6,
    "start_time": "2022-10-23T08:27:32.649Z"
   },
   {
    "duration": 7,
    "start_time": "2022-10-23T08:27:32.657Z"
   },
   {
    "duration": 5,
    "start_time": "2022-10-23T08:27:32.665Z"
   },
   {
    "duration": 36,
    "start_time": "2022-10-23T08:27:32.671Z"
   },
   {
    "duration": 7,
    "start_time": "2022-10-23T08:27:32.708Z"
   },
   {
    "duration": 144,
    "start_time": "2022-10-23T08:27:32.717Z"
   },
   {
    "duration": 16,
    "start_time": "2022-10-23T08:27:32.863Z"
   },
   {
    "duration": 325,
    "start_time": "2022-10-23T08:27:32.891Z"
   },
   {
    "duration": 111,
    "start_time": "2022-10-23T08:27:33.218Z"
   },
   {
    "duration": 0,
    "start_time": "2022-10-23T08:27:33.331Z"
   },
   {
    "duration": 0,
    "start_time": "2022-10-23T08:27:33.332Z"
   },
   {
    "duration": 0,
    "start_time": "2022-10-23T08:27:33.333Z"
   },
   {
    "duration": 0,
    "start_time": "2022-10-23T08:27:33.334Z"
   },
   {
    "duration": 0,
    "start_time": "2022-10-23T08:27:33.335Z"
   },
   {
    "duration": 1,
    "start_time": "2022-10-23T08:27:33.335Z"
   },
   {
    "duration": 2,
    "start_time": "2022-10-23T08:27:47.820Z"
   },
   {
    "duration": 50,
    "start_time": "2022-10-23T08:27:47.824Z"
   },
   {
    "duration": 13,
    "start_time": "2022-10-23T08:27:47.876Z"
   },
   {
    "duration": 5,
    "start_time": "2022-10-23T08:27:47.890Z"
   },
   {
    "duration": 13,
    "start_time": "2022-10-23T08:27:47.898Z"
   },
   {
    "duration": 12,
    "start_time": "2022-10-23T08:27:47.913Z"
   },
   {
    "duration": 4,
    "start_time": "2022-10-23T08:27:47.927Z"
   },
   {
    "duration": 12,
    "start_time": "2022-10-23T08:27:47.933Z"
   },
   {
    "duration": 11,
    "start_time": "2022-10-23T08:27:47.946Z"
   },
   {
    "duration": 34,
    "start_time": "2022-10-23T08:27:47.959Z"
   },
   {
    "duration": 9,
    "start_time": "2022-10-23T08:27:47.995Z"
   },
   {
    "duration": 13,
    "start_time": "2022-10-23T08:27:48.006Z"
   },
   {
    "duration": 5,
    "start_time": "2022-10-23T08:27:48.020Z"
   },
   {
    "duration": 8,
    "start_time": "2022-10-23T08:27:48.027Z"
   },
   {
    "duration": 6,
    "start_time": "2022-10-23T08:27:48.036Z"
   },
   {
    "duration": 56,
    "start_time": "2022-10-23T08:27:48.043Z"
   },
   {
    "duration": 8,
    "start_time": "2022-10-23T08:27:48.101Z"
   },
   {
    "duration": 136,
    "start_time": "2022-10-23T08:27:48.111Z"
   },
   {
    "duration": 17,
    "start_time": "2022-10-23T08:27:48.249Z"
   },
   {
    "duration": 312,
    "start_time": "2022-10-23T08:27:48.268Z"
   },
   {
    "duration": 27,
    "start_time": "2022-10-23T08:27:48.581Z"
   },
   {
    "duration": 0,
    "start_time": "2022-10-23T08:27:48.610Z"
   },
   {
    "duration": 0,
    "start_time": "2022-10-23T08:27:48.611Z"
   },
   {
    "duration": 0,
    "start_time": "2022-10-23T08:27:48.612Z"
   },
   {
    "duration": 0,
    "start_time": "2022-10-23T08:27:48.613Z"
   },
   {
    "duration": 0,
    "start_time": "2022-10-23T08:27:48.614Z"
   },
   {
    "duration": 0,
    "start_time": "2022-10-23T08:27:48.615Z"
   },
   {
    "duration": 8,
    "start_time": "2022-10-23T08:27:52.311Z"
   },
   {
    "duration": 9,
    "start_time": "2022-10-23T08:27:53.272Z"
   },
   {
    "duration": 9,
    "start_time": "2022-10-23T08:39:24.392Z"
   },
   {
    "duration": 4,
    "start_time": "2022-10-23T08:43:44.939Z"
   },
   {
    "duration": 49,
    "start_time": "2022-10-23T08:43:44.945Z"
   },
   {
    "duration": 15,
    "start_time": "2022-10-23T08:43:44.997Z"
   },
   {
    "duration": 26,
    "start_time": "2022-10-23T08:43:45.013Z"
   },
   {
    "duration": 33,
    "start_time": "2022-10-23T08:43:45.041Z"
   },
   {
    "duration": 21,
    "start_time": "2022-10-23T08:43:45.076Z"
   },
   {
    "duration": 9,
    "start_time": "2022-10-23T08:43:45.099Z"
   },
   {
    "duration": 14,
    "start_time": "2022-10-23T08:43:45.109Z"
   },
   {
    "duration": 22,
    "start_time": "2022-10-23T08:43:45.124Z"
   },
   {
    "duration": 9,
    "start_time": "2022-10-23T08:43:45.148Z"
   },
   {
    "duration": 20,
    "start_time": "2022-10-23T08:43:45.159Z"
   },
   {
    "duration": 22,
    "start_time": "2022-10-23T08:43:45.181Z"
   },
   {
    "duration": 6,
    "start_time": "2022-10-23T08:43:45.204Z"
   },
   {
    "duration": 17,
    "start_time": "2022-10-23T08:43:45.214Z"
   },
   {
    "duration": 8,
    "start_time": "2022-10-23T08:43:45.232Z"
   },
   {
    "duration": 27,
    "start_time": "2022-10-23T08:43:45.241Z"
   },
   {
    "duration": 8,
    "start_time": "2022-10-23T08:43:45.269Z"
   },
   {
    "duration": 143,
    "start_time": "2022-10-23T08:43:45.291Z"
   },
   {
    "duration": 20,
    "start_time": "2022-10-23T08:43:45.436Z"
   },
   {
    "duration": 318,
    "start_time": "2022-10-23T08:43:45.458Z"
   },
   {
    "duration": 28,
    "start_time": "2022-10-23T08:43:45.778Z"
   },
   {
    "duration": 0,
    "start_time": "2022-10-23T08:43:45.808Z"
   },
   {
    "duration": 0,
    "start_time": "2022-10-23T08:43:45.809Z"
   },
   {
    "duration": 0,
    "start_time": "2022-10-23T08:43:45.810Z"
   },
   {
    "duration": 0,
    "start_time": "2022-10-23T08:43:45.812Z"
   },
   {
    "duration": 0,
    "start_time": "2022-10-23T08:43:45.813Z"
   },
   {
    "duration": 0,
    "start_time": "2022-10-23T08:43:45.815Z"
   },
   {
    "duration": 0,
    "start_time": "2022-10-23T08:43:45.816Z"
   },
   {
    "duration": 0,
    "start_time": "2022-10-23T08:43:45.818Z"
   },
   {
    "duration": 0,
    "start_time": "2022-10-23T08:43:45.819Z"
   },
   {
    "duration": 0,
    "start_time": "2022-10-23T08:43:45.820Z"
   },
   {
    "duration": 0,
    "start_time": "2022-10-23T08:43:45.822Z"
   },
   {
    "duration": 0,
    "start_time": "2022-10-23T08:43:45.823Z"
   },
   {
    "duration": 3,
    "start_time": "2022-10-23T08:44:29.959Z"
   },
   {
    "duration": 48,
    "start_time": "2022-10-23T08:44:30.672Z"
   },
   {
    "duration": 16,
    "start_time": "2022-10-23T08:44:31.740Z"
   },
   {
    "duration": 4,
    "start_time": "2022-10-23T08:44:32.232Z"
   },
   {
    "duration": 14,
    "start_time": "2022-10-23T08:44:32.638Z"
   },
   {
    "duration": 14,
    "start_time": "2022-10-23T08:44:33.555Z"
   },
   {
    "duration": 6,
    "start_time": "2022-10-23T08:44:33.951Z"
   },
   {
    "duration": 9,
    "start_time": "2022-10-23T08:44:34.834Z"
   },
   {
    "duration": 16,
    "start_time": "2022-10-23T08:44:35.759Z"
   },
   {
    "duration": 10,
    "start_time": "2022-10-23T08:44:36.552Z"
   },
   {
    "duration": 11,
    "start_time": "2022-10-23T08:44:37.001Z"
   },
   {
    "duration": 15,
    "start_time": "2022-10-23T08:44:37.431Z"
   },
   {
    "duration": 5,
    "start_time": "2022-10-23T08:44:38.350Z"
   },
   {
    "duration": 6,
    "start_time": "2022-10-23T08:44:39.211Z"
   },
   {
    "duration": 4,
    "start_time": "2022-10-23T08:44:40.040Z"
   },
   {
    "duration": 17,
    "start_time": "2022-10-23T08:44:40.432Z"
   },
   {
    "duration": 8,
    "start_time": "2022-10-23T08:44:41.691Z"
   },
   {
    "duration": 134,
    "start_time": "2022-10-23T08:44:42.133Z"
   },
   {
    "duration": 16,
    "start_time": "2022-10-23T08:44:43.451Z"
   },
   {
    "duration": 298,
    "start_time": "2022-10-23T08:44:43.920Z"
   },
   {
    "duration": 25,
    "start_time": "2022-10-23T08:44:44.351Z"
   },
   {
    "duration": 5,
    "start_time": "2022-10-23T08:44:46.032Z"
   },
   {
    "duration": 12,
    "start_time": "2022-10-23T08:44:46.631Z"
   },
   {
    "duration": 384,
    "start_time": "2022-10-23T08:44:47.699Z"
   },
   {
    "duration": 29,
    "start_time": "2022-10-23T08:44:48.811Z"
   },
   {
    "duration": 9,
    "start_time": "2022-10-23T08:44:52.047Z"
   },
   {
    "duration": 12,
    "start_time": "2022-10-23T08:44:53.352Z"
   },
   {
    "duration": 300,
    "start_time": "2022-10-23T08:44:54.291Z"
   },
   {
    "duration": 9,
    "start_time": "2022-10-23T08:44:59.032Z"
   },
   {
    "duration": 220,
    "start_time": "2022-10-23T08:45:00.032Z"
   },
   {
    "duration": 224,
    "start_time": "2022-10-23T08:45:01.492Z"
   },
   {
    "duration": 15,
    "start_time": "2022-10-23T08:45:04.251Z"
   },
   {
    "duration": 19,
    "start_time": "2022-10-23T08:45:07.460Z"
   },
   {
    "duration": 99,
    "start_time": "2022-10-23T09:00:53.711Z"
   },
   {
    "duration": 39,
    "start_time": "2022-10-23T09:02:40.432Z"
   },
   {
    "duration": 29,
    "start_time": "2022-10-23T09:05:48.672Z"
   },
   {
    "duration": 13,
    "start_time": "2022-10-23T09:06:19.952Z"
   },
   {
    "duration": 747,
    "start_time": "2022-10-23T09:07:32.860Z"
   },
   {
    "duration": 18,
    "start_time": "2022-10-23T09:07:43.851Z"
   },
   {
    "duration": 17,
    "start_time": "2022-10-23T09:09:58.360Z"
   },
   {
    "duration": 50,
    "start_time": "2022-10-23T09:10:16.657Z"
   },
   {
    "duration": 34,
    "start_time": "2022-10-23T09:10:42.720Z"
   },
   {
    "duration": 38,
    "start_time": "2022-10-23T09:10:47.803Z"
   },
   {
    "duration": 548,
    "start_time": "2022-10-23T09:11:10.518Z"
   },
   {
    "duration": 708,
    "start_time": "2022-10-23T09:12:11.790Z"
   },
   {
    "duration": 201,
    "start_time": "2022-10-23T09:20:53.690Z"
   },
   {
    "duration": 4,
    "start_time": "2022-10-23T09:24:54.318Z"
   },
   {
    "duration": 36,
    "start_time": "2022-10-23T09:24:57.734Z"
   },
   {
    "duration": 38,
    "start_time": "2022-10-23T09:27:30.800Z"
   },
   {
    "duration": 27,
    "start_time": "2022-10-23T09:28:34.591Z"
   },
   {
    "duration": 16,
    "start_time": "2022-10-23T09:28:36.091Z"
   },
   {
    "duration": 35,
    "start_time": "2022-10-23T09:30:07.690Z"
   },
   {
    "duration": 21,
    "start_time": "2022-10-23T09:47:50.410Z"
   },
   {
    "duration": 17,
    "start_time": "2022-10-23T09:48:23.132Z"
   },
   {
    "duration": 41,
    "start_time": "2022-10-23T09:50:02.470Z"
   },
   {
    "duration": 37,
    "start_time": "2022-10-23T09:50:13.990Z"
   },
   {
    "duration": 1262,
    "start_time": "2022-10-23T13:28:37.079Z"
   },
   {
    "duration": 214,
    "start_time": "2022-10-23T13:28:38.344Z"
   },
   {
    "duration": 18,
    "start_time": "2022-10-23T13:28:38.560Z"
   },
   {
    "duration": 25,
    "start_time": "2022-10-23T13:28:38.579Z"
   },
   {
    "duration": 40,
    "start_time": "2022-10-23T13:28:38.606Z"
   },
   {
    "duration": 34,
    "start_time": "2022-10-23T13:28:38.648Z"
   },
   {
    "duration": 16,
    "start_time": "2022-10-23T13:28:38.684Z"
   },
   {
    "duration": 29,
    "start_time": "2022-10-23T13:28:38.701Z"
   },
   {
    "duration": 17,
    "start_time": "2022-10-23T13:28:38.732Z"
   },
   {
    "duration": 19,
    "start_time": "2022-10-23T13:28:38.750Z"
   },
   {
    "duration": 28,
    "start_time": "2022-10-23T13:28:38.770Z"
   },
   {
    "duration": 61,
    "start_time": "2022-10-23T13:28:38.799Z"
   },
   {
    "duration": 5,
    "start_time": "2022-10-23T13:28:38.861Z"
   },
   {
    "duration": 24,
    "start_time": "2022-10-23T13:28:38.868Z"
   },
   {
    "duration": 31,
    "start_time": "2022-10-23T13:28:38.894Z"
   },
   {
    "duration": 34,
    "start_time": "2022-10-23T13:28:38.926Z"
   },
   {
    "duration": 26,
    "start_time": "2022-10-23T13:28:38.962Z"
   },
   {
    "duration": 152,
    "start_time": "2022-10-23T13:28:38.990Z"
   },
   {
    "duration": 15,
    "start_time": "2022-10-23T13:28:39.144Z"
   },
   {
    "duration": 358,
    "start_time": "2022-10-23T13:28:39.161Z"
   },
   {
    "duration": 118,
    "start_time": "2022-10-23T13:28:39.520Z"
   },
   {
    "duration": 0,
    "start_time": "2022-10-23T13:28:39.640Z"
   },
   {
    "duration": 0,
    "start_time": "2022-10-23T13:28:39.641Z"
   },
   {
    "duration": 0,
    "start_time": "2022-10-23T13:28:39.642Z"
   },
   {
    "duration": 0,
    "start_time": "2022-10-23T13:28:39.643Z"
   },
   {
    "duration": 0,
    "start_time": "2022-10-23T13:28:39.644Z"
   },
   {
    "duration": 0,
    "start_time": "2022-10-23T13:28:39.645Z"
   },
   {
    "duration": 0,
    "start_time": "2022-10-23T13:28:39.646Z"
   },
   {
    "duration": 0,
    "start_time": "2022-10-23T13:28:39.647Z"
   },
   {
    "duration": 0,
    "start_time": "2022-10-23T13:28:39.648Z"
   },
   {
    "duration": 0,
    "start_time": "2022-10-23T13:28:39.650Z"
   },
   {
    "duration": 1,
    "start_time": "2022-10-23T13:28:39.650Z"
   },
   {
    "duration": 0,
    "start_time": "2022-10-23T13:28:39.652Z"
   },
   {
    "duration": 0,
    "start_time": "2022-10-23T13:28:39.653Z"
   },
   {
    "duration": 0,
    "start_time": "2022-10-23T13:28:39.654Z"
   },
   {
    "duration": 0,
    "start_time": "2022-10-23T13:28:39.655Z"
   },
   {
    "duration": 0,
    "start_time": "2022-10-23T13:28:39.685Z"
   },
   {
    "duration": 273,
    "start_time": "2022-10-23T13:29:00.851Z"
   },
   {
    "duration": 23,
    "start_time": "2022-10-23T13:29:01.338Z"
   },
   {
    "duration": 4,
    "start_time": "2022-10-23T13:29:04.210Z"
   },
   {
    "duration": 8,
    "start_time": "2022-10-23T13:29:05.490Z"
   },
   {
    "duration": 299,
    "start_time": "2022-10-23T13:29:06.271Z"
   },
   {
    "duration": 734,
    "start_time": "2022-10-23T13:29:06.869Z"
   },
   {
    "duration": 9,
    "start_time": "2022-10-23T13:29:08.935Z"
   },
   {
    "duration": 16,
    "start_time": "2022-10-23T13:29:09.626Z"
   },
   {
    "duration": 248,
    "start_time": "2022-10-23T13:29:10.270Z"
   },
   {
    "duration": 8,
    "start_time": "2022-10-23T13:29:12.250Z"
   },
   {
    "duration": 278,
    "start_time": "2022-10-23T13:29:12.870Z"
   },
   {
    "duration": 237,
    "start_time": "2022-10-23T13:29:13.929Z"
   },
   {
    "duration": 15,
    "start_time": "2022-10-23T13:29:15.249Z"
   },
   {
    "duration": 18,
    "start_time": "2022-10-23T13:29:18.706Z"
   },
   {
    "duration": 39,
    "start_time": "2022-10-23T13:29:20.830Z"
   },
   {
    "duration": 498,
    "start_time": "2022-10-23T13:29:21.632Z"
   },
   {
    "duration": 184,
    "start_time": "2022-10-23T13:29:23.209Z"
   },
   {
    "duration": 38,
    "start_time": "2022-10-23T13:29:24.929Z"
   },
   {
    "duration": 38,
    "start_time": "2022-10-23T13:32:11.738Z"
   },
   {
    "duration": 48,
    "start_time": "2022-10-23T13:32:17.110Z"
   },
   {
    "duration": 37,
    "start_time": "2022-10-23T13:35:38.691Z"
   },
   {
    "duration": 33,
    "start_time": "2022-10-23T13:35:52.834Z"
   },
   {
    "duration": 36,
    "start_time": "2022-10-23T13:36:29.199Z"
   },
   {
    "duration": 39,
    "start_time": "2022-10-23T13:39:10.278Z"
   },
   {
    "duration": 35,
    "start_time": "2022-10-23T13:39:24.510Z"
   },
   {
    "duration": 36,
    "start_time": "2022-10-23T13:39:54.810Z"
   },
   {
    "duration": 37,
    "start_time": "2022-10-23T13:47:04.274Z"
   },
   {
    "duration": 66,
    "start_time": "2022-10-23T13:48:54.310Z"
   },
   {
    "duration": 400,
    "start_time": "2022-10-23T13:50:37.272Z"
   },
   {
    "duration": 397,
    "start_time": "2022-10-23T13:54:24.910Z"
   },
   {
    "duration": 464,
    "start_time": "2022-10-23T13:54:45.291Z"
   },
   {
    "duration": 41,
    "start_time": "2022-10-23T13:55:08.235Z"
   },
   {
    "duration": 376,
    "start_time": "2022-10-23T13:55:40.230Z"
   },
   {
    "duration": 41,
    "start_time": "2022-10-23T13:55:45.334Z"
   },
   {
    "duration": 42,
    "start_time": "2022-10-23T14:04:24.630Z"
   },
   {
    "duration": 29,
    "start_time": "2022-10-23T14:05:56.727Z"
   },
   {
    "duration": 304,
    "start_time": "2022-10-23T14:06:20.870Z"
   },
   {
    "duration": 31,
    "start_time": "2022-10-23T14:06:24.609Z"
   },
   {
    "duration": 13,
    "start_time": "2022-10-23T14:07:35.490Z"
   },
   {
    "duration": 15,
    "start_time": "2022-10-23T14:07:51.050Z"
   },
   {
    "duration": 79,
    "start_time": "2022-10-23T14:10:19.110Z"
   },
   {
    "duration": 22,
    "start_time": "2022-10-23T14:10:37.918Z"
   },
   {
    "duration": 381,
    "start_time": "2022-10-23T14:11:12.449Z"
   },
   {
    "duration": 16,
    "start_time": "2022-10-23T14:11:32.630Z"
   },
   {
    "duration": 15,
    "start_time": "2022-10-23T14:11:48.590Z"
   },
   {
    "duration": 14,
    "start_time": "2022-10-23T14:12:12.450Z"
   },
   {
    "duration": 21,
    "start_time": "2022-10-23T14:13:04.651Z"
   },
   {
    "duration": 15,
    "start_time": "2022-10-23T14:13:16.990Z"
   },
   {
    "duration": 14,
    "start_time": "2022-10-23T14:15:14.071Z"
   },
   {
    "duration": 14,
    "start_time": "2022-10-23T14:15:23.351Z"
   },
   {
    "duration": 15,
    "start_time": "2022-10-23T14:15:33.970Z"
   },
   {
    "duration": 19,
    "start_time": "2022-10-23T14:15:51.116Z"
   },
   {
    "duration": 16,
    "start_time": "2022-10-23T14:18:06.109Z"
   },
   {
    "duration": 17,
    "start_time": "2022-10-23T14:20:19.509Z"
   },
   {
    "duration": 11,
    "start_time": "2022-10-23T14:21:04.250Z"
   },
   {
    "duration": 17,
    "start_time": "2022-10-23T14:21:07.972Z"
   },
   {
    "duration": 19,
    "start_time": "2022-10-23T14:22:12.472Z"
   },
   {
    "duration": 23,
    "start_time": "2022-10-23T14:23:37.030Z"
   },
   {
    "duration": 17,
    "start_time": "2022-10-23T14:23:54.130Z"
   },
   {
    "duration": 17,
    "start_time": "2022-10-23T14:24:58.753Z"
   },
   {
    "duration": 24,
    "start_time": "2022-10-23T14:26:14.797Z"
   },
   {
    "duration": 279,
    "start_time": "2022-10-23T14:26:19.350Z"
   },
   {
    "duration": 23,
    "start_time": "2022-10-23T14:26:19.831Z"
   },
   {
    "duration": 16,
    "start_time": "2022-10-23T14:30:10.392Z"
   },
   {
    "duration": 17,
    "start_time": "2022-10-23T14:31:44.484Z"
   },
   {
    "duration": 290,
    "start_time": "2022-10-23T14:43:57.377Z"
   },
   {
    "duration": 270,
    "start_time": "2022-10-23T14:44:32.101Z"
   },
   {
    "duration": 20,
    "start_time": "2022-10-23T14:44:41.350Z"
   },
   {
    "duration": 21,
    "start_time": "2022-10-23T14:45:11.330Z"
   },
   {
    "duration": 293,
    "start_time": "2022-10-23T14:45:55.130Z"
   },
   {
    "duration": 28,
    "start_time": "2022-10-23T14:46:03.631Z"
   },
   {
    "duration": 328,
    "start_time": "2022-10-23T14:50:45.367Z"
   },
   {
    "duration": 16,
    "start_time": "2022-10-23T14:50:59.711Z"
   },
   {
    "duration": 17,
    "start_time": "2022-10-23T14:51:17.070Z"
   },
   {
    "duration": 3,
    "start_time": "2022-10-23T14:51:27.830Z"
   },
   {
    "duration": 55,
    "start_time": "2022-10-23T14:51:27.834Z"
   },
   {
    "duration": 12,
    "start_time": "2022-10-23T14:51:27.891Z"
   },
   {
    "duration": 12,
    "start_time": "2022-10-23T14:51:27.905Z"
   },
   {
    "duration": 23,
    "start_time": "2022-10-23T14:51:27.918Z"
   },
   {
    "duration": 13,
    "start_time": "2022-10-23T14:51:27.943Z"
   },
   {
    "duration": 10,
    "start_time": "2022-10-23T14:51:27.957Z"
   },
   {
    "duration": 10,
    "start_time": "2022-10-23T14:51:27.969Z"
   },
   {
    "duration": 15,
    "start_time": "2022-10-23T14:51:27.980Z"
   },
   {
    "duration": 6,
    "start_time": "2022-10-23T14:51:27.997Z"
   },
   {
    "duration": 22,
    "start_time": "2022-10-23T14:51:28.004Z"
   },
   {
    "duration": 13,
    "start_time": "2022-10-23T14:51:28.028Z"
   },
   {
    "duration": 4,
    "start_time": "2022-10-23T14:51:28.042Z"
   },
   {
    "duration": 8,
    "start_time": "2022-10-23T14:51:28.048Z"
   },
   {
    "duration": 6,
    "start_time": "2022-10-23T14:51:28.057Z"
   },
   {
    "duration": 15,
    "start_time": "2022-10-23T14:51:28.085Z"
   },
   {
    "duration": 8,
    "start_time": "2022-10-23T14:51:28.102Z"
   },
   {
    "duration": 134,
    "start_time": "2022-10-23T14:51:28.112Z"
   },
   {
    "duration": 16,
    "start_time": "2022-10-23T14:51:28.247Z"
   },
   {
    "duration": 306,
    "start_time": "2022-10-23T14:51:28.264Z"
   },
   {
    "duration": 14,
    "start_time": "2022-10-23T14:51:28.571Z"
   },
   {
    "duration": 8,
    "start_time": "2022-10-23T14:51:28.586Z"
   },
   {
    "duration": 301,
    "start_time": "2022-10-23T14:51:28.596Z"
   },
   {
    "duration": 767,
    "start_time": "2022-10-23T14:51:28.899Z"
   },
   {
    "duration": 19,
    "start_time": "2022-10-23T14:51:29.668Z"
   },
   {
    "duration": 10,
    "start_time": "2022-10-23T14:51:29.688Z"
   },
   {
    "duration": 276,
    "start_time": "2022-10-23T14:51:29.700Z"
   },
   {
    "duration": 12,
    "start_time": "2022-10-23T14:51:29.979Z"
   },
   {
    "duration": 223,
    "start_time": "2022-10-23T14:51:29.992Z"
   },
   {
    "duration": 223,
    "start_time": "2022-10-23T14:51:30.216Z"
   },
   {
    "duration": 15,
    "start_time": "2022-10-23T14:51:30.440Z"
   },
   {
    "duration": 34,
    "start_time": "2022-10-23T14:51:30.457Z"
   },
   {
    "duration": 38,
    "start_time": "2022-10-23T14:51:30.493Z"
   },
   {
    "duration": 534,
    "start_time": "2022-10-23T14:51:30.533Z"
   },
   {
    "duration": 192,
    "start_time": "2022-10-23T14:51:31.069Z"
   },
   {
    "duration": 47,
    "start_time": "2022-10-23T14:51:31.263Z"
   },
   {
    "duration": 4,
    "start_time": "2022-10-23T14:51:31.312Z"
   },
   {
    "duration": 18,
    "start_time": "2022-10-23T14:51:31.318Z"
   },
   {
    "duration": 17,
    "start_time": "2022-10-23T14:53:27.590Z"
   },
   {
    "duration": 18,
    "start_time": "2022-10-23T14:55:52.198Z"
   },
   {
    "duration": 27,
    "start_time": "2022-10-23T14:56:17.166Z"
   },
   {
    "duration": 20,
    "start_time": "2022-10-23T14:56:27.770Z"
   },
   {
    "duration": 18,
    "start_time": "2022-10-23T15:04:06.810Z"
   },
   {
    "duration": 17,
    "start_time": "2022-10-23T15:04:31.005Z"
   },
   {
    "duration": 14,
    "start_time": "2022-10-23T15:05:48.911Z"
   },
   {
    "duration": 20,
    "start_time": "2022-10-23T15:08:07.079Z"
   },
   {
    "duration": 20,
    "start_time": "2022-10-23T15:09:58.741Z"
   },
   {
    "duration": 19,
    "start_time": "2022-10-23T15:11:07.992Z"
   },
   {
    "duration": 20,
    "start_time": "2022-10-23T15:11:10.758Z"
   },
   {
    "duration": 20,
    "start_time": "2022-10-23T15:12:10.598Z"
   },
   {
    "duration": 314,
    "start_time": "2022-10-23T15:22:26.990Z"
   },
   {
    "duration": 19,
    "start_time": "2022-10-23T15:22:42.769Z"
   },
   {
    "duration": 22,
    "start_time": "2022-10-23T15:22:55.373Z"
   },
   {
    "duration": 1640,
    "start_time": "2022-10-23T15:25:02.092Z"
   },
   {
    "duration": 142,
    "start_time": "2022-10-23T15:26:03.497Z"
   },
   {
    "duration": 21,
    "start_time": "2022-10-23T15:27:50.951Z"
   },
   {
    "duration": 245,
    "start_time": "2022-10-23T15:28:44.749Z"
   },
   {
    "duration": 163,
    "start_time": "2022-10-23T15:29:05.011Z"
   },
   {
    "duration": 144,
    "start_time": "2022-10-23T15:29:30.078Z"
   },
   {
    "duration": 130,
    "start_time": "2022-10-23T15:30:15.851Z"
   },
   {
    "duration": 213,
    "start_time": "2022-10-23T15:30:49.543Z"
   },
   {
    "duration": 211,
    "start_time": "2022-10-23T15:31:12.796Z"
   },
   {
    "duration": 233,
    "start_time": "2022-10-23T15:32:40.691Z"
   },
   {
    "duration": 219,
    "start_time": "2022-10-23T15:34:46.810Z"
   },
   {
    "duration": 229,
    "start_time": "2022-10-23T15:35:35.725Z"
   },
   {
    "duration": 271,
    "start_time": "2022-10-23T15:35:39.698Z"
   },
   {
    "duration": 214,
    "start_time": "2022-10-23T15:38:16.230Z"
   },
   {
    "duration": 316,
    "start_time": "2022-10-23T15:38:44.991Z"
   },
   {
    "duration": 164,
    "start_time": "2022-10-23T15:42:44.672Z"
   },
   {
    "duration": 174,
    "start_time": "2022-10-23T15:43:11.170Z"
   },
   {
    "duration": 14,
    "start_time": "2022-10-23T15:46:08.550Z"
   },
   {
    "duration": 2,
    "start_time": "2022-10-23T15:46:49.112Z"
   },
   {
    "duration": 69,
    "start_time": "2022-10-23T15:46:49.117Z"
   },
   {
    "duration": 13,
    "start_time": "2022-10-23T15:46:49.188Z"
   },
   {
    "duration": 28,
    "start_time": "2022-10-23T15:46:49.203Z"
   },
   {
    "duration": 22,
    "start_time": "2022-10-23T15:46:49.233Z"
   },
   {
    "duration": 31,
    "start_time": "2022-10-23T15:46:49.257Z"
   },
   {
    "duration": 5,
    "start_time": "2022-10-23T15:46:49.289Z"
   },
   {
    "duration": 32,
    "start_time": "2022-10-23T15:46:49.296Z"
   },
   {
    "duration": 37,
    "start_time": "2022-10-23T15:46:49.329Z"
   },
   {
    "duration": 28,
    "start_time": "2022-10-23T15:46:49.368Z"
   },
   {
    "duration": 35,
    "start_time": "2022-10-23T15:46:49.397Z"
   },
   {
    "duration": 20,
    "start_time": "2022-10-23T15:46:49.434Z"
   },
   {
    "duration": 24,
    "start_time": "2022-10-23T15:46:49.455Z"
   },
   {
    "duration": 23,
    "start_time": "2022-10-23T15:46:49.481Z"
   },
   {
    "duration": 19,
    "start_time": "2022-10-23T15:46:49.505Z"
   },
   {
    "duration": 36,
    "start_time": "2022-10-23T15:46:49.526Z"
   },
   {
    "duration": 21,
    "start_time": "2022-10-23T15:46:49.563Z"
   },
   {
    "duration": 131,
    "start_time": "2022-10-23T15:46:49.585Z"
   },
   {
    "duration": 14,
    "start_time": "2022-10-23T15:46:49.717Z"
   },
   {
    "duration": 296,
    "start_time": "2022-10-23T15:46:49.732Z"
   },
   {
    "duration": 5,
    "start_time": "2022-10-23T15:46:50.030Z"
   },
   {
    "duration": 39,
    "start_time": "2022-10-23T15:46:50.036Z"
   },
   {
    "duration": 297,
    "start_time": "2022-10-23T15:46:50.077Z"
   },
   {
    "duration": 645,
    "start_time": "2022-10-23T15:46:50.375Z"
   },
   {
    "duration": 7,
    "start_time": "2022-10-23T15:46:51.022Z"
   },
   {
    "duration": 17,
    "start_time": "2022-10-23T15:46:51.032Z"
   },
   {
    "duration": 278,
    "start_time": "2022-10-23T15:46:51.051Z"
   },
   {
    "duration": 9,
    "start_time": "2022-10-23T15:46:51.330Z"
   },
   {
    "duration": 300,
    "start_time": "2022-10-23T15:46:51.340Z"
   },
   {
    "duration": 210,
    "start_time": "2022-10-23T15:46:51.642Z"
   },
   {
    "duration": 14,
    "start_time": "2022-10-23T15:46:51.854Z"
   },
   {
    "duration": 31,
    "start_time": "2022-10-23T15:46:51.870Z"
   },
   {
    "duration": 45,
    "start_time": "2022-10-23T15:46:51.903Z"
   },
   {
    "duration": 538,
    "start_time": "2022-10-23T15:46:51.950Z"
   },
   {
    "duration": 222,
    "start_time": "2022-10-23T15:46:52.489Z"
   },
   {
    "duration": 40,
    "start_time": "2022-10-23T15:46:52.713Z"
   },
   {
    "duration": 5,
    "start_time": "2022-10-23T15:46:52.755Z"
   },
   {
    "duration": 45,
    "start_time": "2022-10-23T15:46:52.761Z"
   },
   {
    "duration": 20,
    "start_time": "2022-10-23T15:46:52.808Z"
   },
   {
    "duration": 21,
    "start_time": "2022-10-23T15:46:52.830Z"
   },
   {
    "duration": 41,
    "start_time": "2022-10-23T15:46:52.855Z"
   },
   {
    "duration": 27,
    "start_time": "2022-10-23T15:46:52.897Z"
   },
   {
    "duration": 165,
    "start_time": "2022-10-23T15:46:52.926Z"
   },
   {
    "duration": 0,
    "start_time": "2022-10-23T15:46:53.092Z"
   },
   {
    "duration": 13,
    "start_time": "2022-10-23T15:46:58.732Z"
   },
   {
    "duration": 3,
    "start_time": "2022-10-23T15:47:50.871Z"
   },
   {
    "duration": 49,
    "start_time": "2022-10-23T15:47:50.876Z"
   },
   {
    "duration": 13,
    "start_time": "2022-10-23T15:47:50.927Z"
   },
   {
    "duration": 13,
    "start_time": "2022-10-23T15:47:50.941Z"
   },
   {
    "duration": 19,
    "start_time": "2022-10-23T15:47:50.955Z"
   },
   {
    "duration": 17,
    "start_time": "2022-10-23T15:47:50.976Z"
   },
   {
    "duration": 4,
    "start_time": "2022-10-23T15:47:50.995Z"
   },
   {
    "duration": 9,
    "start_time": "2022-10-23T15:47:51.001Z"
   },
   {
    "duration": 10,
    "start_time": "2022-10-23T15:47:51.012Z"
   },
   {
    "duration": 6,
    "start_time": "2022-10-23T15:47:51.024Z"
   },
   {
    "duration": 8,
    "start_time": "2022-10-23T15:47:51.031Z"
   },
   {
    "duration": 12,
    "start_time": "2022-10-23T15:47:51.041Z"
   },
   {
    "duration": 32,
    "start_time": "2022-10-23T15:47:51.055Z"
   },
   {
    "duration": 9,
    "start_time": "2022-10-23T15:47:51.089Z"
   },
   {
    "duration": 5,
    "start_time": "2022-10-23T15:47:51.099Z"
   },
   {
    "duration": 16,
    "start_time": "2022-10-23T15:47:51.105Z"
   },
   {
    "duration": 19,
    "start_time": "2022-10-23T15:47:51.122Z"
   },
   {
    "duration": 116,
    "start_time": "2022-10-23T15:47:51.142Z"
   },
   {
    "duration": 26,
    "start_time": "2022-10-23T15:47:51.260Z"
   },
   {
    "duration": 289,
    "start_time": "2022-10-23T15:47:51.287Z"
   },
   {
    "duration": 4,
    "start_time": "2022-10-23T15:47:51.584Z"
   },
   {
    "duration": 9,
    "start_time": "2022-10-23T15:47:51.590Z"
   },
   {
    "duration": 304,
    "start_time": "2022-10-23T15:47:51.600Z"
   },
   {
    "duration": 652,
    "start_time": "2022-10-23T15:47:51.906Z"
   },
   {
    "duration": 9,
    "start_time": "2022-10-23T15:47:52.560Z"
   },
   {
    "duration": 24,
    "start_time": "2022-10-23T15:47:52.571Z"
   },
   {
    "duration": 369,
    "start_time": "2022-10-23T15:47:52.597Z"
   },
   {
    "duration": 8,
    "start_time": "2022-10-23T15:47:52.968Z"
   },
   {
    "duration": 209,
    "start_time": "2022-10-23T15:47:52.984Z"
   },
   {
    "duration": 217,
    "start_time": "2022-10-23T15:47:53.195Z"
   },
   {
    "duration": 14,
    "start_time": "2022-10-23T15:47:53.413Z"
   },
   {
    "duration": 18,
    "start_time": "2022-10-23T15:47:53.429Z"
   },
   {
    "duration": 61,
    "start_time": "2022-10-23T15:47:53.449Z"
   },
   {
    "duration": 567,
    "start_time": "2022-10-23T15:47:53.512Z"
   },
   {
    "duration": 196,
    "start_time": "2022-10-23T15:47:54.081Z"
   },
   {
    "duration": 36,
    "start_time": "2022-10-23T15:47:54.279Z"
   },
   {
    "duration": 4,
    "start_time": "2022-10-23T15:47:54.317Z"
   },
   {
    "duration": 20,
    "start_time": "2022-10-23T15:47:54.323Z"
   },
   {
    "duration": 42,
    "start_time": "2022-10-23T15:47:54.344Z"
   },
   {
    "duration": 21,
    "start_time": "2022-10-23T15:47:54.388Z"
   },
   {
    "duration": 19,
    "start_time": "2022-10-23T15:47:54.413Z"
   },
   {
    "duration": 21,
    "start_time": "2022-10-23T15:47:54.434Z"
   },
   {
    "duration": 189,
    "start_time": "2022-10-23T15:47:54.456Z"
   },
   {
    "duration": 0,
    "start_time": "2022-10-23T15:47:54.646Z"
   },
   {
    "duration": 1586,
    "start_time": "2022-10-23T15:47:57.591Z"
   },
   {
    "duration": 2427,
    "start_time": "2022-10-23T15:49:39.958Z"
   },
   {
    "duration": 314,
    "start_time": "2022-10-23T15:50:15.951Z"
   },
   {
    "duration": 23,
    "start_time": "2022-10-23T15:50:24.484Z"
   },
   {
    "duration": 2315,
    "start_time": "2022-10-23T15:50:43.541Z"
   },
   {
    "duration": 224,
    "start_time": "2022-10-23T15:51:07.751Z"
   },
   {
    "duration": 320,
    "start_time": "2022-10-23T15:51:32.350Z"
   },
   {
    "duration": 9,
    "start_time": "2022-10-23T15:59:07.670Z"
   },
   {
    "duration": 227,
    "start_time": "2022-10-23T15:59:15.210Z"
   },
   {
    "duration": 5,
    "start_time": "2022-10-23T18:57:48.245Z"
   },
   {
    "duration": 91,
    "start_time": "2022-10-23T18:57:48.253Z"
   },
   {
    "duration": 14,
    "start_time": "2022-10-23T18:57:48.346Z"
   },
   {
    "duration": 6,
    "start_time": "2022-10-23T18:57:48.362Z"
   },
   {
    "duration": 18,
    "start_time": "2022-10-23T18:57:48.370Z"
   },
   {
    "duration": 37,
    "start_time": "2022-10-23T18:57:48.391Z"
   },
   {
    "duration": 5,
    "start_time": "2022-10-23T18:57:48.430Z"
   },
   {
    "duration": 10,
    "start_time": "2022-10-23T18:57:48.437Z"
   },
   {
    "duration": 13,
    "start_time": "2022-10-23T18:57:48.448Z"
   },
   {
    "duration": 34,
    "start_time": "2022-10-23T18:57:48.463Z"
   },
   {
    "duration": 11,
    "start_time": "2022-10-23T18:57:48.499Z"
   },
   {
    "duration": 14,
    "start_time": "2022-10-23T18:57:48.511Z"
   },
   {
    "duration": 4,
    "start_time": "2022-10-23T18:57:48.526Z"
   },
   {
    "duration": 7,
    "start_time": "2022-10-23T18:57:48.533Z"
   },
   {
    "duration": 5,
    "start_time": "2022-10-23T18:57:48.542Z"
   },
   {
    "duration": 37,
    "start_time": "2022-10-23T18:57:48.548Z"
   },
   {
    "duration": 9,
    "start_time": "2022-10-23T18:57:48.586Z"
   },
   {
    "duration": 129,
    "start_time": "2022-10-23T18:57:48.597Z"
   },
   {
    "duration": 15,
    "start_time": "2022-10-23T18:57:48.727Z"
   },
   {
    "duration": 311,
    "start_time": "2022-10-23T18:57:48.743Z"
   },
   {
    "duration": 5,
    "start_time": "2022-10-23T18:57:49.055Z"
   },
   {
    "duration": 34,
    "start_time": "2022-10-23T18:57:49.061Z"
   },
   {
    "duration": 313,
    "start_time": "2022-10-23T18:57:49.096Z"
   },
   {
    "duration": 688,
    "start_time": "2022-10-23T18:57:49.411Z"
   },
   {
    "duration": 8,
    "start_time": "2022-10-23T18:57:50.100Z"
   },
   {
    "duration": 11,
    "start_time": "2022-10-23T18:57:50.110Z"
   },
   {
    "duration": 290,
    "start_time": "2022-10-23T18:57:50.122Z"
   },
   {
    "duration": 9,
    "start_time": "2022-10-23T18:57:50.413Z"
   },
   {
    "duration": 234,
    "start_time": "2022-10-23T18:57:50.423Z"
   },
   {
    "duration": 245,
    "start_time": "2022-10-23T18:57:50.658Z"
   },
   {
    "duration": 15,
    "start_time": "2022-10-23T18:57:50.905Z"
   },
   {
    "duration": 38,
    "start_time": "2022-10-23T18:57:50.921Z"
   },
   {
    "duration": 46,
    "start_time": "2022-10-23T18:57:50.961Z"
   },
   {
    "duration": 561,
    "start_time": "2022-10-23T18:57:51.009Z"
   },
   {
    "duration": 348,
    "start_time": "2022-10-23T18:57:51.571Z"
   },
   {
    "duration": 37,
    "start_time": "2022-10-23T18:57:51.921Z"
   },
   {
    "duration": 4,
    "start_time": "2022-10-23T18:57:51.960Z"
   },
   {
    "duration": 39,
    "start_time": "2022-10-23T18:57:51.965Z"
   },
   {
    "duration": 20,
    "start_time": "2022-10-23T18:57:52.005Z"
   },
   {
    "duration": 18,
    "start_time": "2022-10-23T18:57:52.027Z"
   },
   {
    "duration": 54,
    "start_time": "2022-10-23T18:57:52.048Z"
   },
   {
    "duration": 21,
    "start_time": "2022-10-23T18:57:52.103Z"
   },
   {
    "duration": 238,
    "start_time": "2022-10-23T18:57:52.125Z"
   },
   {
    "duration": 234,
    "start_time": "2022-10-23T18:58:22.324Z"
   },
   {
    "duration": 505,
    "start_time": "2022-10-23T19:11:10.103Z"
   },
   {
    "duration": 40,
    "start_time": "2022-10-23T19:12:51.966Z"
   },
   {
    "duration": 31,
    "start_time": "2022-10-23T19:13:10.708Z"
   },
   {
    "duration": 199,
    "start_time": "2022-10-23T19:13:49.427Z"
   },
   {
    "duration": 641,
    "start_time": "2022-10-23T19:14:26.827Z"
   },
   {
    "duration": 29,
    "start_time": "2022-10-23T19:14:48.567Z"
   },
   {
    "duration": 27,
    "start_time": "2022-10-23T19:14:51.903Z"
   },
   {
    "duration": 225,
    "start_time": "2022-10-23T19:15:33.568Z"
   },
   {
    "duration": 257,
    "start_time": "2022-10-23T19:17:04.804Z"
   },
   {
    "duration": 11,
    "start_time": "2022-10-23T19:17:42.500Z"
   },
   {
    "duration": 273,
    "start_time": "2022-10-23T19:19:13.168Z"
   },
   {
    "duration": 277,
    "start_time": "2022-10-23T19:19:31.528Z"
   },
   {
    "duration": 437,
    "start_time": "2022-10-23T19:22:57.408Z"
   },
   {
    "duration": 259,
    "start_time": "2022-10-23T19:23:34.200Z"
   },
   {
    "duration": 266,
    "start_time": "2022-10-23T19:31:07.869Z"
   },
   {
    "duration": 251,
    "start_time": "2022-10-23T19:31:27.331Z"
   },
   {
    "duration": 279,
    "start_time": "2022-10-23T19:31:49.574Z"
   },
   {
    "duration": 267,
    "start_time": "2022-10-23T19:31:58.088Z"
   },
   {
    "duration": 252,
    "start_time": "2022-10-23T19:32:22.847Z"
   },
   {
    "duration": 265,
    "start_time": "2022-10-23T19:34:32.247Z"
   },
   {
    "duration": 255,
    "start_time": "2022-10-23T19:36:14.325Z"
   },
   {
    "duration": 24,
    "start_time": "2022-10-23T19:36:24.185Z"
   },
   {
    "duration": 287,
    "start_time": "2022-10-23T19:36:32.719Z"
   },
   {
    "duration": 97,
    "start_time": "2022-10-23T19:47:44.674Z"
   },
   {
    "duration": 228,
    "start_time": "2022-10-23T19:48:00.204Z"
   },
   {
    "duration": 12,
    "start_time": "2022-10-23T20:05:38.424Z"
   },
   {
    "duration": 4,
    "start_time": "2022-10-23T20:05:43.764Z"
   },
   {
    "duration": 65,
    "start_time": "2022-10-23T20:05:43.769Z"
   },
   {
    "duration": 13,
    "start_time": "2022-10-23T20:05:43.836Z"
   },
   {
    "duration": 7,
    "start_time": "2022-10-23T20:05:43.850Z"
   },
   {
    "duration": 20,
    "start_time": "2022-10-23T20:05:43.859Z"
   },
   {
    "duration": 33,
    "start_time": "2022-10-23T20:05:43.880Z"
   },
   {
    "duration": 10,
    "start_time": "2022-10-23T20:05:43.914Z"
   },
   {
    "duration": 130,
    "start_time": "2022-10-23T20:05:43.926Z"
   },
   {
    "duration": 34,
    "start_time": "2022-10-23T20:05:44.060Z"
   },
   {
    "duration": 9,
    "start_time": "2022-10-23T20:05:44.095Z"
   },
   {
    "duration": 11,
    "start_time": "2022-10-23T20:05:44.106Z"
   },
   {
    "duration": 14,
    "start_time": "2022-10-23T20:05:44.119Z"
   },
   {
    "duration": 5,
    "start_time": "2022-10-23T20:05:44.136Z"
   },
   {
    "duration": 6,
    "start_time": "2022-10-23T20:05:44.144Z"
   },
   {
    "duration": 39,
    "start_time": "2022-10-23T20:05:44.152Z"
   },
   {
    "duration": 48,
    "start_time": "2022-10-23T20:05:44.194Z"
   },
   {
    "duration": 21,
    "start_time": "2022-10-23T20:05:44.244Z"
   },
   {
    "duration": 161,
    "start_time": "2022-10-23T20:05:44.267Z"
   },
   {
    "duration": 16,
    "start_time": "2022-10-23T20:05:44.430Z"
   },
   {
    "duration": 329,
    "start_time": "2022-10-23T20:05:44.447Z"
   },
   {
    "duration": 12,
    "start_time": "2022-10-23T20:05:44.788Z"
   },
   {
    "duration": 13,
    "start_time": "2022-10-23T20:05:44.801Z"
   },
   {
    "duration": 384,
    "start_time": "2022-10-23T20:05:44.816Z"
   },
   {
    "duration": 757,
    "start_time": "2022-10-23T20:05:45.202Z"
   },
   {
    "duration": 8,
    "start_time": "2022-10-23T20:05:45.961Z"
   },
   {
    "duration": 42,
    "start_time": "2022-10-23T20:05:45.970Z"
   },
   {
    "duration": 303,
    "start_time": "2022-10-23T20:05:46.014Z"
   },
   {
    "duration": 10,
    "start_time": "2022-10-23T20:05:46.319Z"
   },
   {
    "duration": 254,
    "start_time": "2022-10-23T20:05:46.331Z"
   },
   {
    "duration": 226,
    "start_time": "2022-10-23T20:05:46.589Z"
   },
   {
    "duration": 14,
    "start_time": "2022-10-23T20:05:46.817Z"
   },
   {
    "duration": 31,
    "start_time": "2022-10-23T20:05:46.833Z"
   },
   {
    "duration": 46,
    "start_time": "2022-10-23T20:05:46.865Z"
   },
   {
    "duration": 608,
    "start_time": "2022-10-23T20:05:46.913Z"
   },
   {
    "duration": 209,
    "start_time": "2022-10-23T20:05:47.523Z"
   },
   {
    "duration": 37,
    "start_time": "2022-10-23T20:05:47.734Z"
   },
   {
    "duration": 17,
    "start_time": "2022-10-23T20:05:47.785Z"
   },
   {
    "duration": 25,
    "start_time": "2022-10-23T20:05:47.804Z"
   },
   {
    "duration": 133,
    "start_time": "2022-10-23T20:05:47.832Z"
   },
   {
    "duration": 36,
    "start_time": "2022-10-23T20:05:47.967Z"
   },
   {
    "duration": 20,
    "start_time": "2022-10-23T20:05:48.006Z"
   },
   {
    "duration": 288,
    "start_time": "2022-10-23T20:05:48.027Z"
   },
   {
    "duration": 227,
    "start_time": "2022-10-23T20:05:48.316Z"
   },
   {
    "duration": 11,
    "start_time": "2022-10-23T20:05:48.545Z"
   },
   {
    "duration": 20,
    "start_time": "2022-10-23T20:07:05.024Z"
   },
   {
    "duration": 58,
    "start_time": "2022-10-23T20:07:40.264Z"
   },
   {
    "duration": 80,
    "start_time": "2022-10-23T20:15:31.567Z"
   },
   {
    "duration": 79,
    "start_time": "2022-10-23T20:15:39.005Z"
   },
   {
    "duration": 20,
    "start_time": "2022-10-23T20:16:12.835Z"
   },
   {
    "duration": 39,
    "start_time": "2022-10-23T20:17:37.086Z"
   },
   {
    "duration": 12,
    "start_time": "2022-10-23T20:19:13.946Z"
   },
   {
    "duration": 17,
    "start_time": "2022-10-23T20:19:33.885Z"
   },
   {
    "duration": 47,
    "start_time": "2022-10-23T20:19:49.070Z"
   },
   {
    "duration": 20,
    "start_time": "2022-10-23T20:39:42.006Z"
   },
   {
    "duration": 20,
    "start_time": "2022-10-23T20:39:42.927Z"
   },
   {
    "duration": 19,
    "start_time": "2022-10-23T20:39:43.406Z"
   },
   {
    "duration": 21,
    "start_time": "2022-10-23T20:39:44.045Z"
   },
   {
    "duration": 335,
    "start_time": "2022-10-23T20:39:44.627Z"
   },
   {
    "duration": 399,
    "start_time": "2022-10-23T20:39:59.005Z"
   },
   {
    "duration": 314,
    "start_time": "2022-10-23T20:43:24.600Z"
   },
   {
    "duration": 321,
    "start_time": "2022-10-23T20:44:16.264Z"
   },
   {
    "duration": 354,
    "start_time": "2022-10-23T20:44:33.485Z"
   },
   {
    "duration": 436,
    "start_time": "2022-10-23T20:45:49.487Z"
   },
   {
    "duration": 266,
    "start_time": "2022-10-23T20:48:04.184Z"
   },
   {
    "duration": 327,
    "start_time": "2022-10-23T20:49:49.847Z"
   },
   {
    "duration": 1281,
    "start_time": "2022-10-24T17:03:00.852Z"
   },
   {
    "duration": 3,
    "start_time": "2022-10-24T17:04:09.379Z"
   },
   {
    "duration": 126,
    "start_time": "2022-10-24T17:04:09.384Z"
   },
   {
    "duration": 16,
    "start_time": "2022-10-24T17:04:09.512Z"
   },
   {
    "duration": 3,
    "start_time": "2022-10-24T17:04:09.530Z"
   },
   {
    "duration": 16,
    "start_time": "2022-10-24T17:04:09.535Z"
   },
   {
    "duration": 16,
    "start_time": "2022-10-24T17:04:09.552Z"
   },
   {
    "duration": 5,
    "start_time": "2022-10-24T17:04:09.569Z"
   },
   {
    "duration": 37,
    "start_time": "2022-10-24T17:04:09.575Z"
   },
   {
    "duration": 12,
    "start_time": "2022-10-24T17:04:09.613Z"
   },
   {
    "duration": 6,
    "start_time": "2022-10-24T17:04:09.627Z"
   },
   {
    "duration": 12,
    "start_time": "2022-10-24T17:04:09.634Z"
   },
   {
    "duration": 80,
    "start_time": "2022-10-24T17:04:09.647Z"
   },
   {
    "duration": 6,
    "start_time": "2022-10-24T17:04:09.730Z"
   },
   {
    "duration": 10,
    "start_time": "2022-10-24T17:04:09.738Z"
   },
   {
    "duration": 7,
    "start_time": "2022-10-24T17:04:09.749Z"
   },
   {
    "duration": 16,
    "start_time": "2022-10-24T17:04:09.758Z"
   },
   {
    "duration": 33,
    "start_time": "2022-10-24T17:04:09.776Z"
   },
   {
    "duration": 152,
    "start_time": "2022-10-24T17:04:09.811Z"
   },
   {
    "duration": 18,
    "start_time": "2022-10-24T17:04:09.965Z"
   },
   {
    "duration": 392,
    "start_time": "2022-10-24T17:04:09.985Z"
   },
   {
    "duration": 6,
    "start_time": "2022-10-24T17:04:10.379Z"
   },
   {
    "duration": 18,
    "start_time": "2022-10-24T17:04:10.386Z"
   },
   {
    "duration": 313,
    "start_time": "2022-10-24T17:04:10.406Z"
   },
   {
    "duration": 693,
    "start_time": "2022-10-24T17:04:10.721Z"
   },
   {
    "duration": 8,
    "start_time": "2022-10-24T17:04:11.416Z"
   },
   {
    "duration": 26,
    "start_time": "2022-10-24T17:04:11.425Z"
   },
   {
    "duration": 343,
    "start_time": "2022-10-24T17:04:11.453Z"
   },
   {
    "duration": 14,
    "start_time": "2022-10-24T17:04:11.797Z"
   },
   {
    "duration": 290,
    "start_time": "2022-10-24T17:04:11.812Z"
   },
   {
    "duration": 291,
    "start_time": "2022-10-24T17:04:12.103Z"
   },
   {
    "duration": 19,
    "start_time": "2022-10-24T17:04:12.395Z"
   },
   {
    "duration": 35,
    "start_time": "2022-10-24T17:04:12.416Z"
   },
   {
    "duration": 48,
    "start_time": "2022-10-24T17:04:12.453Z"
   },
   {
    "duration": 635,
    "start_time": "2022-10-24T17:04:12.502Z"
   },
   {
    "duration": 203,
    "start_time": "2022-10-24T17:04:13.138Z"
   },
   {
    "duration": 35,
    "start_time": "2022-10-24T17:04:13.343Z"
   },
   {
    "duration": 3,
    "start_time": "2022-10-24T17:04:13.382Z"
   },
   {
    "duration": 39,
    "start_time": "2022-10-24T17:04:13.386Z"
   },
   {
    "duration": 20,
    "start_time": "2022-10-24T17:04:13.427Z"
   },
   {
    "duration": 35,
    "start_time": "2022-10-24T17:04:13.449Z"
   },
   {
    "duration": 28,
    "start_time": "2022-10-24T17:04:13.485Z"
   },
   {
    "duration": 270,
    "start_time": "2022-10-24T17:04:13.515Z"
   },
   {
    "duration": 34,
    "start_time": "2022-10-24T17:04:13.786Z"
   },
   {
    "duration": 23,
    "start_time": "2022-10-24T17:04:13.822Z"
   },
   {
    "duration": 24,
    "start_time": "2022-10-24T17:04:13.846Z"
   },
   {
    "duration": 48,
    "start_time": "2022-10-24T17:04:13.872Z"
   },
   {
    "duration": 327,
    "start_time": "2022-10-24T17:04:13.922Z"
   },
   {
    "duration": 228,
    "start_time": "2022-10-24T17:04:14.250Z"
   },
   {
    "duration": 41,
    "start_time": "2022-10-24T17:04:14.479Z"
   },
   {
    "duration": 34,
    "start_time": "2022-10-24T17:04:14.522Z"
   },
   {
    "duration": 53,
    "start_time": "2022-10-25T13:27:41.544Z"
   },
   {
    "duration": 1462,
    "start_time": "2022-10-25T13:27:46.149Z"
   },
   {
    "duration": 198,
    "start_time": "2022-10-25T13:27:47.613Z"
   },
   {
    "duration": 20,
    "start_time": "2022-10-25T13:27:47.813Z"
   },
   {
    "duration": 3,
    "start_time": "2022-10-25T13:27:47.836Z"
   },
   {
    "duration": 16,
    "start_time": "2022-10-25T13:27:47.841Z"
   },
   {
    "duration": 16,
    "start_time": "2022-10-25T13:27:47.858Z"
   },
   {
    "duration": 8,
    "start_time": "2022-10-25T13:27:47.876Z"
   },
   {
    "duration": 10,
    "start_time": "2022-10-25T13:27:47.886Z"
   },
   {
    "duration": 35,
    "start_time": "2022-10-25T13:27:47.898Z"
   },
   {
    "duration": 9,
    "start_time": "2022-10-25T13:27:47.937Z"
   },
   {
    "duration": 13,
    "start_time": "2022-10-25T13:27:47.948Z"
   },
   {
    "duration": 81,
    "start_time": "2022-10-25T13:27:47.963Z"
   },
   {
    "duration": 5,
    "start_time": "2022-10-25T13:27:48.046Z"
   },
   {
    "duration": 8,
    "start_time": "2022-10-25T13:27:48.052Z"
   },
   {
    "duration": 12,
    "start_time": "2022-10-25T13:27:48.061Z"
   },
   {
    "duration": 20,
    "start_time": "2022-10-25T13:27:48.075Z"
   },
   {
    "duration": 8,
    "start_time": "2022-10-25T13:27:48.097Z"
   },
   {
    "duration": 197,
    "start_time": "2022-10-25T13:27:48.130Z"
   },
   {
    "duration": 21,
    "start_time": "2022-10-25T13:27:48.329Z"
   },
   {
    "duration": 388,
    "start_time": "2022-10-25T13:27:48.353Z"
   },
   {
    "duration": 5,
    "start_time": "2022-10-25T13:27:48.743Z"
   },
   {
    "duration": 10,
    "start_time": "2022-10-25T13:27:48.750Z"
   },
   {
    "duration": 72,
    "start_time": "2022-10-25T13:27:48.762Z"
   },
   {
    "duration": 0,
    "start_time": "2022-10-25T13:27:48.836Z"
   },
   {
    "duration": 0,
    "start_time": "2022-10-25T13:27:48.837Z"
   },
   {
    "duration": 0,
    "start_time": "2022-10-25T13:27:48.838Z"
   },
   {
    "duration": 0,
    "start_time": "2022-10-25T13:27:48.839Z"
   },
   {
    "duration": 0,
    "start_time": "2022-10-25T13:27:48.841Z"
   },
   {
    "duration": 0,
    "start_time": "2022-10-25T13:27:48.842Z"
   },
   {
    "duration": 0,
    "start_time": "2022-10-25T13:27:48.843Z"
   },
   {
    "duration": 0,
    "start_time": "2022-10-25T13:27:48.844Z"
   },
   {
    "duration": 0,
    "start_time": "2022-10-25T13:27:48.845Z"
   },
   {
    "duration": 0,
    "start_time": "2022-10-25T13:27:48.846Z"
   },
   {
    "duration": 0,
    "start_time": "2022-10-25T13:27:48.847Z"
   },
   {
    "duration": 0,
    "start_time": "2022-10-25T13:27:48.848Z"
   },
   {
    "duration": 0,
    "start_time": "2022-10-25T13:27:48.849Z"
   },
   {
    "duration": 0,
    "start_time": "2022-10-25T13:27:48.851Z"
   },
   {
    "duration": 0,
    "start_time": "2022-10-25T13:27:48.852Z"
   },
   {
    "duration": 0,
    "start_time": "2022-10-25T13:27:48.852Z"
   },
   {
    "duration": 0,
    "start_time": "2022-10-25T13:27:48.853Z"
   },
   {
    "duration": 0,
    "start_time": "2022-10-25T13:27:48.854Z"
   },
   {
    "duration": 0,
    "start_time": "2022-10-25T13:27:48.855Z"
   },
   {
    "duration": 0,
    "start_time": "2022-10-25T13:27:48.857Z"
   },
   {
    "duration": 0,
    "start_time": "2022-10-25T13:27:48.858Z"
   },
   {
    "duration": 0,
    "start_time": "2022-10-25T13:27:48.859Z"
   },
   {
    "duration": 0,
    "start_time": "2022-10-25T13:27:48.860Z"
   },
   {
    "duration": 0,
    "start_time": "2022-10-25T13:27:48.861Z"
   },
   {
    "duration": 0,
    "start_time": "2022-10-25T13:27:48.862Z"
   },
   {
    "duration": 0,
    "start_time": "2022-10-25T13:27:48.863Z"
   },
   {
    "duration": 0,
    "start_time": "2022-10-25T13:27:48.864Z"
   },
   {
    "duration": 7,
    "start_time": "2022-10-25T13:34:46.707Z"
   },
   {
    "duration": 10,
    "start_time": "2022-10-25T13:38:19.536Z"
   },
   {
    "duration": 3,
    "start_time": "2022-10-25T13:38:22.653Z"
   },
   {
    "duration": 62,
    "start_time": "2022-10-25T13:38:22.658Z"
   },
   {
    "duration": 16,
    "start_time": "2022-10-25T13:38:22.723Z"
   },
   {
    "duration": 5,
    "start_time": "2022-10-25T13:38:22.741Z"
   },
   {
    "duration": 18,
    "start_time": "2022-10-25T13:38:22.749Z"
   },
   {
    "duration": 22,
    "start_time": "2022-10-25T13:38:22.768Z"
   },
   {
    "duration": 6,
    "start_time": "2022-10-25T13:38:22.792Z"
   },
   {
    "duration": 35,
    "start_time": "2022-10-25T13:38:22.799Z"
   },
   {
    "duration": 14,
    "start_time": "2022-10-25T13:38:22.836Z"
   },
   {
    "duration": 8,
    "start_time": "2022-10-25T13:38:22.852Z"
   },
   {
    "duration": 11,
    "start_time": "2022-10-25T13:38:22.863Z"
   },
   {
    "duration": 53,
    "start_time": "2022-10-25T13:38:22.876Z"
   },
   {
    "duration": 6,
    "start_time": "2022-10-25T13:38:22.931Z"
   },
   {
    "duration": 10,
    "start_time": "2022-10-25T13:38:22.939Z"
   },
   {
    "duration": 6,
    "start_time": "2022-10-25T13:38:22.952Z"
   },
   {
    "duration": 22,
    "start_time": "2022-10-25T13:38:22.959Z"
   },
   {
    "duration": 12,
    "start_time": "2022-10-25T13:38:22.983Z"
   },
   {
    "duration": 153,
    "start_time": "2022-10-25T13:38:23.029Z"
   },
   {
    "duration": 17,
    "start_time": "2022-10-25T13:38:23.185Z"
   },
   {
    "duration": 345,
    "start_time": "2022-10-25T13:38:23.204Z"
   },
   {
    "duration": 5,
    "start_time": "2022-10-25T13:38:23.551Z"
   },
   {
    "duration": 10,
    "start_time": "2022-10-25T13:38:23.557Z"
   },
   {
    "duration": 349,
    "start_time": "2022-10-25T13:38:23.569Z"
   },
   {
    "duration": 28,
    "start_time": "2022-10-25T13:38:23.920Z"
   },
   {
    "duration": 0,
    "start_time": "2022-10-25T13:38:23.952Z"
   },
   {
    "duration": 0,
    "start_time": "2022-10-25T13:38:23.954Z"
   },
   {
    "duration": 0,
    "start_time": "2022-10-25T13:38:23.956Z"
   },
   {
    "duration": 0,
    "start_time": "2022-10-25T13:38:23.957Z"
   },
   {
    "duration": 0,
    "start_time": "2022-10-25T13:38:23.959Z"
   },
   {
    "duration": 0,
    "start_time": "2022-10-25T13:38:23.960Z"
   },
   {
    "duration": 0,
    "start_time": "2022-10-25T13:38:23.961Z"
   },
   {
    "duration": 0,
    "start_time": "2022-10-25T13:38:23.963Z"
   },
   {
    "duration": 0,
    "start_time": "2022-10-25T13:38:23.965Z"
   },
   {
    "duration": 0,
    "start_time": "2022-10-25T13:38:23.967Z"
   },
   {
    "duration": 0,
    "start_time": "2022-10-25T13:38:23.969Z"
   },
   {
    "duration": 0,
    "start_time": "2022-10-25T13:38:23.971Z"
   },
   {
    "duration": 0,
    "start_time": "2022-10-25T13:38:23.973Z"
   },
   {
    "duration": 0,
    "start_time": "2022-10-25T13:38:23.975Z"
   },
   {
    "duration": 0,
    "start_time": "2022-10-25T13:38:23.978Z"
   },
   {
    "duration": 0,
    "start_time": "2022-10-25T13:38:23.980Z"
   },
   {
    "duration": 0,
    "start_time": "2022-10-25T13:38:24.029Z"
   },
   {
    "duration": 0,
    "start_time": "2022-10-25T13:38:24.031Z"
   },
   {
    "duration": 0,
    "start_time": "2022-10-25T13:38:24.032Z"
   },
   {
    "duration": 0,
    "start_time": "2022-10-25T13:38:24.034Z"
   },
   {
    "duration": 0,
    "start_time": "2022-10-25T13:38:24.035Z"
   },
   {
    "duration": 0,
    "start_time": "2022-10-25T13:38:24.036Z"
   },
   {
    "duration": 0,
    "start_time": "2022-10-25T13:38:24.037Z"
   },
   {
    "duration": 0,
    "start_time": "2022-10-25T13:38:24.038Z"
   },
   {
    "duration": 0,
    "start_time": "2022-10-25T13:38:24.039Z"
   },
   {
    "duration": 0,
    "start_time": "2022-10-25T13:38:24.041Z"
   },
   {
    "duration": 19,
    "start_time": "2022-10-25T13:39:13.756Z"
   },
   {
    "duration": 3,
    "start_time": "2022-10-25T13:39:18.915Z"
   },
   {
    "duration": 61,
    "start_time": "2022-10-25T13:39:18.920Z"
   },
   {
    "duration": 15,
    "start_time": "2022-10-25T13:39:18.983Z"
   },
   {
    "duration": 4,
    "start_time": "2022-10-25T13:39:19.000Z"
   },
   {
    "duration": 15,
    "start_time": "2022-10-25T13:39:19.006Z"
   },
   {
    "duration": 16,
    "start_time": "2022-10-25T13:39:19.022Z"
   },
   {
    "duration": 6,
    "start_time": "2022-10-25T13:39:19.040Z"
   },
   {
    "duration": 15,
    "start_time": "2022-10-25T13:39:19.048Z"
   },
   {
    "duration": 15,
    "start_time": "2022-10-25T13:39:19.064Z"
   },
   {
    "duration": 8,
    "start_time": "2022-10-25T13:39:19.081Z"
   },
   {
    "duration": 14,
    "start_time": "2022-10-25T13:39:19.129Z"
   },
   {
    "duration": 17,
    "start_time": "2022-10-25T13:39:19.145Z"
   },
   {
    "duration": 5,
    "start_time": "2022-10-25T13:39:19.165Z"
   },
   {
    "duration": 8,
    "start_time": "2022-10-25T13:39:19.171Z"
   },
   {
    "duration": 6,
    "start_time": "2022-10-25T13:39:19.181Z"
   },
   {
    "duration": 56,
    "start_time": "2022-10-25T13:39:19.188Z"
   },
   {
    "duration": 8,
    "start_time": "2022-10-25T13:39:19.246Z"
   },
   {
    "duration": 160,
    "start_time": "2022-10-25T13:39:19.256Z"
   },
   {
    "duration": 26,
    "start_time": "2022-10-25T13:39:19.418Z"
   },
   {
    "duration": 350,
    "start_time": "2022-10-25T13:39:19.446Z"
   },
   {
    "duration": 5,
    "start_time": "2022-10-25T13:39:19.798Z"
   },
   {
    "duration": 26,
    "start_time": "2022-10-25T13:39:19.805Z"
   },
   {
    "duration": 434,
    "start_time": "2022-10-25T13:39:19.833Z"
   },
   {
    "duration": 23,
    "start_time": "2022-10-25T13:39:20.269Z"
   },
   {
    "duration": 0,
    "start_time": "2022-10-25T13:39:20.294Z"
   },
   {
    "duration": 0,
    "start_time": "2022-10-25T13:39:20.296Z"
   },
   {
    "duration": 0,
    "start_time": "2022-10-25T13:39:20.297Z"
   },
   {
    "duration": 0,
    "start_time": "2022-10-25T13:39:20.299Z"
   },
   {
    "duration": 0,
    "start_time": "2022-10-25T13:39:20.300Z"
   },
   {
    "duration": 0,
    "start_time": "2022-10-25T13:39:20.301Z"
   },
   {
    "duration": 0,
    "start_time": "2022-10-25T13:39:20.330Z"
   },
   {
    "duration": 0,
    "start_time": "2022-10-25T13:39:20.331Z"
   },
   {
    "duration": 0,
    "start_time": "2022-10-25T13:39:20.332Z"
   },
   {
    "duration": 0,
    "start_time": "2022-10-25T13:39:20.334Z"
   },
   {
    "duration": 0,
    "start_time": "2022-10-25T13:39:20.335Z"
   },
   {
    "duration": 0,
    "start_time": "2022-10-25T13:39:20.336Z"
   },
   {
    "duration": 0,
    "start_time": "2022-10-25T13:39:20.337Z"
   },
   {
    "duration": 0,
    "start_time": "2022-10-25T13:39:20.338Z"
   },
   {
    "duration": 0,
    "start_time": "2022-10-25T13:39:20.339Z"
   },
   {
    "duration": 0,
    "start_time": "2022-10-25T13:39:20.340Z"
   },
   {
    "duration": 0,
    "start_time": "2022-10-25T13:39:20.342Z"
   },
   {
    "duration": 0,
    "start_time": "2022-10-25T13:39:20.343Z"
   },
   {
    "duration": 0,
    "start_time": "2022-10-25T13:39:20.344Z"
   },
   {
    "duration": 0,
    "start_time": "2022-10-25T13:39:20.345Z"
   },
   {
    "duration": 0,
    "start_time": "2022-10-25T13:39:20.347Z"
   },
   {
    "duration": 0,
    "start_time": "2022-10-25T13:39:20.348Z"
   },
   {
    "duration": 0,
    "start_time": "2022-10-25T13:39:20.349Z"
   },
   {
    "duration": 0,
    "start_time": "2022-10-25T13:39:20.350Z"
   },
   {
    "duration": 0,
    "start_time": "2022-10-25T13:39:20.352Z"
   },
   {
    "duration": 0,
    "start_time": "2022-10-25T13:39:20.353Z"
   },
   {
    "duration": 452,
    "start_time": "2022-10-25T13:39:37.187Z"
   },
   {
    "duration": 350,
    "start_time": "2022-10-25T13:40:14.563Z"
   },
   {
    "duration": 345,
    "start_time": "2022-10-25T13:40:22.340Z"
   },
   {
    "duration": 303,
    "start_time": "2022-10-25T13:40:27.566Z"
   },
   {
    "duration": 317,
    "start_time": "2022-10-25T13:40:32.651Z"
   },
   {
    "duration": 291,
    "start_time": "2022-10-25T13:40:55.566Z"
   },
   {
    "duration": 341,
    "start_time": "2022-10-25T13:41:00.615Z"
   },
   {
    "duration": 73,
    "start_time": "2022-10-25T13:44:15.616Z"
   },
   {
    "duration": 11,
    "start_time": "2022-10-25T13:44:24.636Z"
   },
   {
    "duration": 9,
    "start_time": "2022-10-25T13:44:54.917Z"
   },
   {
    "duration": 14,
    "start_time": "2022-10-25T13:44:59.062Z"
   },
   {
    "duration": 323,
    "start_time": "2022-10-25T13:45:00.704Z"
   },
   {
    "duration": 67,
    "start_time": "2022-10-25T13:45:45.981Z"
   },
   {
    "duration": 69,
    "start_time": "2022-10-25T13:46:34.239Z"
   },
   {
    "duration": 115,
    "start_time": "2022-10-25T13:47:01.472Z"
   },
   {
    "duration": 256,
    "start_time": "2022-10-25T13:48:42.184Z"
   },
   {
    "duration": 316,
    "start_time": "2022-10-25T13:49:11.519Z"
   },
   {
    "duration": 291,
    "start_time": "2022-10-25T13:49:35.019Z"
   },
   {
    "duration": 289,
    "start_time": "2022-10-25T13:49:53.206Z"
   },
   {
    "duration": 4,
    "start_time": "2022-10-25T13:54:02.550Z"
   },
   {
    "duration": 60,
    "start_time": "2022-10-25T13:54:02.556Z"
   },
   {
    "duration": 15,
    "start_time": "2022-10-25T13:54:02.618Z"
   },
   {
    "duration": 3,
    "start_time": "2022-10-25T13:54:02.634Z"
   },
   {
    "duration": 14,
    "start_time": "2022-10-25T13:54:02.640Z"
   },
   {
    "duration": 15,
    "start_time": "2022-10-25T13:54:02.655Z"
   },
   {
    "duration": 5,
    "start_time": "2022-10-25T13:54:02.671Z"
   },
   {
    "duration": 11,
    "start_time": "2022-10-25T13:54:02.677Z"
   },
   {
    "duration": 52,
    "start_time": "2022-10-25T13:54:02.690Z"
   },
   {
    "duration": 10,
    "start_time": "2022-10-25T13:54:02.744Z"
   },
   {
    "duration": 12,
    "start_time": "2022-10-25T13:54:02.756Z"
   },
   {
    "duration": 17,
    "start_time": "2022-10-25T13:54:02.769Z"
   },
   {
    "duration": 41,
    "start_time": "2022-10-25T13:54:02.788Z"
   },
   {
    "duration": 6,
    "start_time": "2022-10-25T13:54:02.831Z"
   },
   {
    "duration": 6,
    "start_time": "2022-10-25T13:54:02.839Z"
   },
   {
    "duration": 17,
    "start_time": "2022-10-25T13:54:02.847Z"
   },
   {
    "duration": 10,
    "start_time": "2022-10-25T13:54:02.866Z"
   },
   {
    "duration": 156,
    "start_time": "2022-10-25T13:54:02.877Z"
   },
   {
    "duration": 16,
    "start_time": "2022-10-25T13:54:03.034Z"
   },
   {
    "duration": 329,
    "start_time": "2022-10-25T13:54:03.052Z"
   },
   {
    "duration": 5,
    "start_time": "2022-10-25T13:54:03.383Z"
   },
   {
    "duration": 8,
    "start_time": "2022-10-25T13:54:03.390Z"
   },
   {
    "duration": 333,
    "start_time": "2022-10-25T13:54:03.400Z"
   },
   {
    "duration": 320,
    "start_time": "2022-10-25T13:54:03.735Z"
   },
   {
    "duration": 8,
    "start_time": "2022-10-25T13:54:04.058Z"
   },
   {
    "duration": 14,
    "start_time": "2022-10-25T13:54:04.067Z"
   },
   {
    "duration": 434,
    "start_time": "2022-10-25T13:54:04.083Z"
   },
   {
    "duration": 14,
    "start_time": "2022-10-25T13:54:04.519Z"
   },
   {
    "duration": 254,
    "start_time": "2022-10-25T13:54:04.535Z"
   },
   {
    "duration": 233,
    "start_time": "2022-10-25T13:54:04.791Z"
   },
   {
    "duration": 19,
    "start_time": "2022-10-25T13:54:05.026Z"
   },
   {
    "duration": 20,
    "start_time": "2022-10-25T13:54:05.046Z"
   },
   {
    "duration": 60,
    "start_time": "2022-10-25T13:54:05.068Z"
   },
   {
    "duration": 528,
    "start_time": "2022-10-25T13:54:05.130Z"
   },
   {
    "duration": 187,
    "start_time": "2022-10-25T13:54:05.659Z"
   },
   {
    "duration": 38,
    "start_time": "2022-10-25T13:54:05.848Z"
   },
   {
    "duration": 5,
    "start_time": "2022-10-25T13:54:05.888Z"
   },
   {
    "duration": 44,
    "start_time": "2022-10-25T13:54:05.894Z"
   },
   {
    "duration": 21,
    "start_time": "2022-10-25T13:54:05.940Z"
   },
   {
    "duration": 21,
    "start_time": "2022-10-25T13:54:05.963Z"
   },
   {
    "duration": 44,
    "start_time": "2022-10-25T13:54:05.985Z"
   },
   {
    "duration": 298,
    "start_time": "2022-10-25T13:54:06.031Z"
   },
   {
    "duration": 22,
    "start_time": "2022-10-25T13:54:06.331Z"
   },
   {
    "duration": 21,
    "start_time": "2022-10-25T13:54:06.354Z"
   },
   {
    "duration": 53,
    "start_time": "2022-10-25T13:54:06.377Z"
   },
   {
    "duration": 22,
    "start_time": "2022-10-25T13:54:06.433Z"
   },
   {
    "duration": 339,
    "start_time": "2022-10-25T13:54:06.457Z"
   },
   {
    "duration": 236,
    "start_time": "2022-10-25T13:54:06.797Z"
   },
   {
    "duration": 34,
    "start_time": "2022-10-25T13:54:07.034Z"
   },
   {
    "duration": 33,
    "start_time": "2022-10-25T13:54:07.069Z"
   },
   {
    "duration": 18,
    "start_time": "2022-10-25T14:12:32.964Z"
   },
   {
    "duration": 1150,
    "start_time": "2022-10-25T14:14:26.355Z"
   },
   {
    "duration": 233,
    "start_time": "2022-10-25T14:14:37.097Z"
   },
   {
    "duration": 346,
    "start_time": "2022-10-25T14:14:39.840Z"
   },
   {
    "duration": 235,
    "start_time": "2022-10-25T14:14:49.046Z"
   },
   {
    "duration": 110,
    "start_time": "2022-10-25T14:17:12.937Z"
   },
   {
    "duration": 116,
    "start_time": "2022-10-25T14:18:19.751Z"
   },
   {
    "duration": 130,
    "start_time": "2022-10-25T14:18:27.550Z"
   },
   {
    "duration": 17,
    "start_time": "2022-10-25T14:21:39.828Z"
   },
   {
    "duration": 13,
    "start_time": "2022-10-25T14:21:53.196Z"
   },
   {
    "duration": 318,
    "start_time": "2022-10-25T14:23:47.046Z"
   },
   {
    "duration": 885,
    "start_time": "2022-10-26T05:49:07.674Z"
   },
   {
    "duration": 10,
    "start_time": "2022-10-26T05:52:51.151Z"
   },
   {
    "duration": 729,
    "start_time": "2022-10-26T05:52:54.356Z"
   },
   {
    "duration": 97,
    "start_time": "2022-10-26T05:52:55.087Z"
   },
   {
    "duration": 16,
    "start_time": "2022-10-26T05:52:55.186Z"
   },
   {
    "duration": 3,
    "start_time": "2022-10-26T05:52:55.204Z"
   },
   {
    "duration": 15,
    "start_time": "2022-10-26T05:52:55.208Z"
   },
   {
    "duration": 13,
    "start_time": "2022-10-26T05:52:55.226Z"
   },
   {
    "duration": 5,
    "start_time": "2022-10-26T05:52:55.241Z"
   },
   {
    "duration": 15,
    "start_time": "2022-10-26T05:52:55.247Z"
   },
   {
    "duration": 13,
    "start_time": "2022-10-26T05:52:55.263Z"
   },
   {
    "duration": 33,
    "start_time": "2022-10-26T05:52:55.279Z"
   },
   {
    "duration": 13,
    "start_time": "2022-10-26T05:52:55.314Z"
   },
   {
    "duration": 52,
    "start_time": "2022-10-26T05:52:55.328Z"
   },
   {
    "duration": 30,
    "start_time": "2022-10-26T05:52:55.381Z"
   },
   {
    "duration": 8,
    "start_time": "2022-10-26T05:52:55.413Z"
   },
   {
    "duration": 5,
    "start_time": "2022-10-26T05:52:55.423Z"
   },
   {
    "duration": 23,
    "start_time": "2022-10-26T05:52:55.430Z"
   },
   {
    "duration": 16,
    "start_time": "2022-10-26T05:52:55.455Z"
   },
   {
    "duration": 144,
    "start_time": "2022-10-26T05:52:55.473Z"
   },
   {
    "duration": 16,
    "start_time": "2022-10-26T05:52:55.619Z"
   },
   {
    "duration": 347,
    "start_time": "2022-10-26T05:52:55.637Z"
   },
   {
    "duration": 4,
    "start_time": "2022-10-26T05:52:55.986Z"
   },
   {
    "duration": 12,
    "start_time": "2022-10-26T05:52:55.991Z"
   },
   {
    "duration": 318,
    "start_time": "2022-10-26T05:52:56.004Z"
   },
   {
    "duration": 370,
    "start_time": "2022-10-26T05:52:56.324Z"
   },
   {
    "duration": 13,
    "start_time": "2022-10-26T05:52:56.696Z"
   },
   {
    "duration": 11,
    "start_time": "2022-10-26T05:52:56.711Z"
   },
   {
    "duration": 289,
    "start_time": "2022-10-26T05:52:56.723Z"
   },
   {
    "duration": 8,
    "start_time": "2022-10-26T05:52:57.015Z"
   },
   {
    "duration": 292,
    "start_time": "2022-10-26T05:52:57.025Z"
   },
   {
    "duration": 242,
    "start_time": "2022-10-26T05:52:57.319Z"
   },
   {
    "duration": 13,
    "start_time": "2022-10-26T05:52:57.563Z"
   },
   {
    "duration": 35,
    "start_time": "2022-10-26T05:52:57.578Z"
   },
   {
    "duration": 36,
    "start_time": "2022-10-26T05:52:57.615Z"
   },
   {
    "duration": 444,
    "start_time": "2022-10-26T05:52:57.653Z"
   },
   {
    "duration": 188,
    "start_time": "2022-10-26T05:52:58.099Z"
   },
   {
    "duration": 45,
    "start_time": "2022-10-26T05:52:58.289Z"
   },
   {
    "duration": 4,
    "start_time": "2022-10-26T05:52:58.336Z"
   },
   {
    "duration": 26,
    "start_time": "2022-10-26T05:52:58.341Z"
   },
   {
    "duration": 42,
    "start_time": "2022-10-26T05:52:58.369Z"
   },
   {
    "duration": 21,
    "start_time": "2022-10-26T05:52:58.413Z"
   },
   {
    "duration": 21,
    "start_time": "2022-10-26T05:52:58.436Z"
   },
   {
    "duration": 293,
    "start_time": "2022-10-26T05:52:58.458Z"
   },
   {
    "duration": 21,
    "start_time": "2022-10-26T05:52:58.753Z"
   },
   {
    "duration": 38,
    "start_time": "2022-10-26T05:52:58.776Z"
   },
   {
    "duration": 20,
    "start_time": "2022-10-26T05:52:58.815Z"
   },
   {
    "duration": 18,
    "start_time": "2022-10-26T05:52:58.837Z"
   },
   {
    "duration": 328,
    "start_time": "2022-10-26T05:52:58.857Z"
   },
   {
    "duration": 246,
    "start_time": "2022-10-26T05:52:59.186Z"
   },
   {
    "duration": 10,
    "start_time": "2022-10-26T05:52:59.434Z"
   },
   {
    "duration": 952,
    "start_time": "2022-10-26T05:52:59.445Z"
   },
   {
    "duration": 38,
    "start_time": "2022-10-26T05:53:00.399Z"
   },
   {
    "duration": 44,
    "start_time": "2022-10-26T05:53:00.439Z"
   },
   {
    "duration": 903,
    "start_time": "2022-10-26T05:55:22.321Z"
   },
   {
    "duration": 622,
    "start_time": "2022-10-26T05:56:24.457Z"
   },
   {
    "duration": 3,
    "start_time": "2022-10-26T06:14:56.950Z"
   },
   {
    "duration": 52,
    "start_time": "2022-10-26T06:14:56.955Z"
   },
   {
    "duration": 12,
    "start_time": "2022-10-26T06:14:57.009Z"
   },
   {
    "duration": 6,
    "start_time": "2022-10-26T06:14:57.023Z"
   },
   {
    "duration": 14,
    "start_time": "2022-10-26T06:14:57.031Z"
   },
   {
    "duration": 14,
    "start_time": "2022-10-26T06:14:57.046Z"
   },
   {
    "duration": 4,
    "start_time": "2022-10-26T06:14:57.062Z"
   },
   {
    "duration": 10,
    "start_time": "2022-10-26T06:14:57.067Z"
   },
   {
    "duration": 13,
    "start_time": "2022-10-26T06:14:57.109Z"
   },
   {
    "duration": 7,
    "start_time": "2022-10-26T06:14:57.123Z"
   },
   {
    "duration": 12,
    "start_time": "2022-10-26T06:14:57.132Z"
   },
   {
    "duration": 13,
    "start_time": "2022-10-26T06:14:57.146Z"
   },
   {
    "duration": 5,
    "start_time": "2022-10-26T06:14:57.161Z"
   },
   {
    "duration": 7,
    "start_time": "2022-10-26T06:14:57.168Z"
   },
   {
    "duration": 35,
    "start_time": "2022-10-26T06:14:57.176Z"
   },
   {
    "duration": 16,
    "start_time": "2022-10-26T06:14:57.212Z"
   },
   {
    "duration": 8,
    "start_time": "2022-10-26T06:14:57.230Z"
   },
   {
    "duration": 133,
    "start_time": "2022-10-26T06:14:57.239Z"
   },
   {
    "duration": 15,
    "start_time": "2022-10-26T06:14:57.373Z"
   },
   {
    "duration": 310,
    "start_time": "2022-10-26T06:14:57.389Z"
   },
   {
    "duration": 8,
    "start_time": "2022-10-26T06:14:57.701Z"
   },
   {
    "duration": 10,
    "start_time": "2022-10-26T06:14:57.710Z"
   },
   {
    "duration": 311,
    "start_time": "2022-10-26T06:14:57.721Z"
   },
   {
    "duration": 284,
    "start_time": "2022-10-26T06:14:58.034Z"
   },
   {
    "duration": 7,
    "start_time": "2022-10-26T06:14:58.320Z"
   },
   {
    "duration": 13,
    "start_time": "2022-10-26T06:14:58.328Z"
   },
   {
    "duration": 301,
    "start_time": "2022-10-26T06:14:58.343Z"
   },
   {
    "duration": 8,
    "start_time": "2022-10-26T06:14:58.646Z"
   },
   {
    "duration": 230,
    "start_time": "2022-10-26T06:14:58.657Z"
   },
   {
    "duration": 252,
    "start_time": "2022-10-26T06:14:58.888Z"
   },
   {
    "duration": 14,
    "start_time": "2022-10-26T06:14:59.141Z"
   },
   {
    "duration": 25,
    "start_time": "2022-10-26T06:14:59.156Z"
   },
   {
    "duration": 230,
    "start_time": "2022-10-26T06:14:59.183Z"
   },
   {
    "duration": 478,
    "start_time": "2022-10-26T06:14:59.415Z"
   },
   {
    "duration": 178,
    "start_time": "2022-10-26T06:14:59.895Z"
   },
   {
    "duration": 49,
    "start_time": "2022-10-26T06:15:00.075Z"
   },
   {
    "duration": 4,
    "start_time": "2022-10-26T06:15:00.125Z"
   },
   {
    "duration": 23,
    "start_time": "2022-10-26T06:15:00.130Z"
   },
   {
    "duration": 21,
    "start_time": "2022-10-26T06:15:00.154Z"
   },
   {
    "duration": 49,
    "start_time": "2022-10-26T06:15:00.176Z"
   },
   {
    "duration": 25,
    "start_time": "2022-10-26T06:15:00.227Z"
   },
   {
    "duration": 288,
    "start_time": "2022-10-26T06:15:00.253Z"
   },
   {
    "duration": 26,
    "start_time": "2022-10-26T06:15:00.543Z"
   },
   {
    "duration": 19,
    "start_time": "2022-10-26T06:15:00.570Z"
   },
   {
    "duration": 36,
    "start_time": "2022-10-26T06:15:00.590Z"
   },
   {
    "duration": 19,
    "start_time": "2022-10-26T06:15:00.628Z"
   },
   {
    "duration": 341,
    "start_time": "2022-10-26T06:15:00.648Z"
   },
   {
    "duration": 242,
    "start_time": "2022-10-26T06:15:00.991Z"
   },
   {
    "duration": 10,
    "start_time": "2022-10-26T06:15:01.235Z"
   },
   {
    "duration": 501,
    "start_time": "2022-10-26T06:15:01.247Z"
   },
   {
    "duration": 33,
    "start_time": "2022-10-26T06:15:01.749Z"
   },
   {
    "duration": 51,
    "start_time": "2022-10-26T06:15:01.784Z"
   },
   {
    "duration": 198,
    "start_time": "2022-10-26T06:16:30.426Z"
   },
   {
    "duration": 207,
    "start_time": "2022-10-26T06:16:34.083Z"
   },
   {
    "duration": 9,
    "start_time": "2022-10-26T06:16:35.118Z"
   },
   {
    "duration": 529,
    "start_time": "2022-10-26T06:16:36.137Z"
   },
   {
    "duration": 34,
    "start_time": "2022-10-26T06:49:13.178Z"
   },
   {
    "duration": 33,
    "start_time": "2022-10-26T06:49:22.655Z"
   }
  ],
  "kernelspec": {
   "display_name": "Python 3 (ipykernel)",
   "language": "python",
   "name": "python3"
  },
  "language_info": {
   "codemirror_mode": {
    "name": "ipython",
    "version": 3
   },
   "file_extension": ".py",
   "mimetype": "text/x-python",
   "name": "python",
   "nbconvert_exporter": "python",
   "pygments_lexer": "ipython3",
   "version": "3.9.5"
  },
  "toc": {
   "base_numbering": 1,
   "nav_menu": {},
   "number_sections": true,
   "sideBar": true,
   "skip_h1_title": true,
   "title_cell": "Table of Contents",
   "title_sidebar": "Contents",
   "toc_cell": false,
   "toc_position": {},
   "toc_section_display": true,
   "toc_window_display": false
  }
 },
 "nbformat": 4,
 "nbformat_minor": 2
}
